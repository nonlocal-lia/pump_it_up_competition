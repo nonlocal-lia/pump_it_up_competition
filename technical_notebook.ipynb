{
 "cells": [
  {
   "cell_type": "markdown",
   "metadata": {},
   "source": [
    "# Notebook"
   ]
  },
  {
   "cell_type": "markdown",
   "metadata": {},
   "source": [
    "## Cleaning the Data"
   ]
  },
  {
   "cell_type": "code",
   "execution_count": 1,
   "metadata": {},
   "outputs": [],
   "source": [
    "%load_ext autoreload\n",
    "%autoreload 2"
   ]
  },
  {
   "cell_type": "code",
   "execution_count": 2,
   "metadata": {},
   "outputs": [],
   "source": [
    "import pandas as pd\n",
    "import numpy as np\n",
    "import code.data_preparation as dp\n",
    "import code.visualizations as viz\n",
    "from geopy.geocoders import Nominatim\n",
    "from sklearn.model_selection import train_test_split\n",
    "from sklearn.preprocessing import StandardScaler, LabelEncoder, OneHotEncoder, OrdinalEncoder\n",
    "from sklearn.linear_model import LogisticRegression\n",
    "from sklearn.compose import ColumnTransformer\n",
    "from sklearn.pipeline import Pipeline\n",
    "from sklearn.metrics import accuracy_score, recall_score, f1_score, precision_score\n",
    "from sklearn.metrics import confusion_matrix, ConfusionMatrixDisplay\n",
    "from imblearn.over_sampling import SMOTE, ADASYN\n",
    "import missingno as msno\n",
    "import pickle\n",
    "import matplotlib.pyplot as plt\n",
    "plt.style.use('seaborn')"
   ]
  },
  {
   "cell_type": "markdown",
   "metadata": {},
   "source": [
    "Here is the data provided."
   ]
  },
  {
   "cell_type": "code",
   "execution_count": 3,
   "metadata": {},
   "outputs": [
    {
     "data": {
      "text/html": [
       "<div>\n",
       "<style scoped>\n",
       "    .dataframe tbody tr th:only-of-type {\n",
       "        vertical-align: middle;\n",
       "    }\n",
       "\n",
       "    .dataframe tbody tr th {\n",
       "        vertical-align: top;\n",
       "    }\n",
       "\n",
       "    .dataframe thead th {\n",
       "        text-align: right;\n",
       "    }\n",
       "</style>\n",
       "<table border=\"1\" class=\"dataframe\">\n",
       "  <thead>\n",
       "    <tr style=\"text-align: right;\">\n",
       "      <th></th>\n",
       "      <th>id</th>\n",
       "      <th>amount_tsh</th>\n",
       "      <th>date_recorded</th>\n",
       "      <th>funder</th>\n",
       "      <th>gps_height</th>\n",
       "      <th>installer</th>\n",
       "      <th>longitude</th>\n",
       "      <th>latitude</th>\n",
       "      <th>wpt_name</th>\n",
       "      <th>num_private</th>\n",
       "      <th>...</th>\n",
       "      <th>payment_type</th>\n",
       "      <th>water_quality</th>\n",
       "      <th>quality_group</th>\n",
       "      <th>quantity</th>\n",
       "      <th>quantity_group</th>\n",
       "      <th>source</th>\n",
       "      <th>source_type</th>\n",
       "      <th>source_class</th>\n",
       "      <th>waterpoint_type</th>\n",
       "      <th>waterpoint_type_group</th>\n",
       "    </tr>\n",
       "  </thead>\n",
       "  <tbody>\n",
       "    <tr>\n",
       "      <th>0</th>\n",
       "      <td>69572</td>\n",
       "      <td>6000.0</td>\n",
       "      <td>2011-03-14</td>\n",
       "      <td>Roman</td>\n",
       "      <td>1390</td>\n",
       "      <td>Roman</td>\n",
       "      <td>34.938093</td>\n",
       "      <td>-9.856322</td>\n",
       "      <td>none</td>\n",
       "      <td>0</td>\n",
       "      <td>...</td>\n",
       "      <td>annually</td>\n",
       "      <td>soft</td>\n",
       "      <td>good</td>\n",
       "      <td>enough</td>\n",
       "      <td>enough</td>\n",
       "      <td>spring</td>\n",
       "      <td>spring</td>\n",
       "      <td>groundwater</td>\n",
       "      <td>communal standpipe</td>\n",
       "      <td>communal standpipe</td>\n",
       "    </tr>\n",
       "    <tr>\n",
       "      <th>1</th>\n",
       "      <td>8776</td>\n",
       "      <td>0.0</td>\n",
       "      <td>2013-03-06</td>\n",
       "      <td>Grumeti</td>\n",
       "      <td>1399</td>\n",
       "      <td>GRUMETI</td>\n",
       "      <td>34.698766</td>\n",
       "      <td>-2.147466</td>\n",
       "      <td>Zahanati</td>\n",
       "      <td>0</td>\n",
       "      <td>...</td>\n",
       "      <td>never pay</td>\n",
       "      <td>soft</td>\n",
       "      <td>good</td>\n",
       "      <td>insufficient</td>\n",
       "      <td>insufficient</td>\n",
       "      <td>rainwater harvesting</td>\n",
       "      <td>rainwater harvesting</td>\n",
       "      <td>surface</td>\n",
       "      <td>communal standpipe</td>\n",
       "      <td>communal standpipe</td>\n",
       "    </tr>\n",
       "    <tr>\n",
       "      <th>2</th>\n",
       "      <td>34310</td>\n",
       "      <td>25.0</td>\n",
       "      <td>2013-02-25</td>\n",
       "      <td>Lottery Club</td>\n",
       "      <td>686</td>\n",
       "      <td>World vision</td>\n",
       "      <td>37.460664</td>\n",
       "      <td>-3.821329</td>\n",
       "      <td>Kwa Mahundi</td>\n",
       "      <td>0</td>\n",
       "      <td>...</td>\n",
       "      <td>per bucket</td>\n",
       "      <td>soft</td>\n",
       "      <td>good</td>\n",
       "      <td>enough</td>\n",
       "      <td>enough</td>\n",
       "      <td>dam</td>\n",
       "      <td>dam</td>\n",
       "      <td>surface</td>\n",
       "      <td>communal standpipe multiple</td>\n",
       "      <td>communal standpipe</td>\n",
       "    </tr>\n",
       "    <tr>\n",
       "      <th>3</th>\n",
       "      <td>67743</td>\n",
       "      <td>0.0</td>\n",
       "      <td>2013-01-28</td>\n",
       "      <td>Unicef</td>\n",
       "      <td>263</td>\n",
       "      <td>UNICEF</td>\n",
       "      <td>38.486161</td>\n",
       "      <td>-11.155298</td>\n",
       "      <td>Zahanati Ya Nanyumbu</td>\n",
       "      <td>0</td>\n",
       "      <td>...</td>\n",
       "      <td>never pay</td>\n",
       "      <td>soft</td>\n",
       "      <td>good</td>\n",
       "      <td>dry</td>\n",
       "      <td>dry</td>\n",
       "      <td>machine dbh</td>\n",
       "      <td>borehole</td>\n",
       "      <td>groundwater</td>\n",
       "      <td>communal standpipe multiple</td>\n",
       "      <td>communal standpipe</td>\n",
       "    </tr>\n",
       "    <tr>\n",
       "      <th>4</th>\n",
       "      <td>19728</td>\n",
       "      <td>0.0</td>\n",
       "      <td>2011-07-13</td>\n",
       "      <td>Action In A</td>\n",
       "      <td>0</td>\n",
       "      <td>Artisan</td>\n",
       "      <td>31.130847</td>\n",
       "      <td>-1.825359</td>\n",
       "      <td>Shuleni</td>\n",
       "      <td>0</td>\n",
       "      <td>...</td>\n",
       "      <td>never pay</td>\n",
       "      <td>soft</td>\n",
       "      <td>good</td>\n",
       "      <td>seasonal</td>\n",
       "      <td>seasonal</td>\n",
       "      <td>rainwater harvesting</td>\n",
       "      <td>rainwater harvesting</td>\n",
       "      <td>surface</td>\n",
       "      <td>communal standpipe</td>\n",
       "      <td>communal standpipe</td>\n",
       "    </tr>\n",
       "  </tbody>\n",
       "</table>\n",
       "<p>5 rows × 40 columns</p>\n",
       "</div>"
      ],
      "text/plain": [
       "      id  amount_tsh date_recorded        funder  gps_height     installer  \\\n",
       "0  69572      6000.0    2011-03-14         Roman        1390         Roman   \n",
       "1   8776         0.0    2013-03-06       Grumeti        1399       GRUMETI   \n",
       "2  34310        25.0    2013-02-25  Lottery Club         686  World vision   \n",
       "3  67743         0.0    2013-01-28        Unicef         263        UNICEF   \n",
       "4  19728         0.0    2011-07-13   Action In A           0       Artisan   \n",
       "\n",
       "   longitude   latitude              wpt_name  num_private  ... payment_type  \\\n",
       "0  34.938093  -9.856322                  none            0  ...     annually   \n",
       "1  34.698766  -2.147466              Zahanati            0  ...    never pay   \n",
       "2  37.460664  -3.821329           Kwa Mahundi            0  ...   per bucket   \n",
       "3  38.486161 -11.155298  Zahanati Ya Nanyumbu            0  ...    never pay   \n",
       "4  31.130847  -1.825359               Shuleni            0  ...    never pay   \n",
       "\n",
       "  water_quality quality_group      quantity  quantity_group  \\\n",
       "0          soft          good        enough          enough   \n",
       "1          soft          good  insufficient    insufficient   \n",
       "2          soft          good        enough          enough   \n",
       "3          soft          good           dry             dry   \n",
       "4          soft          good      seasonal        seasonal   \n",
       "\n",
       "                 source           source_type  source_class  \\\n",
       "0                spring                spring   groundwater   \n",
       "1  rainwater harvesting  rainwater harvesting       surface   \n",
       "2                   dam                   dam       surface   \n",
       "3           machine dbh              borehole   groundwater   \n",
       "4  rainwater harvesting  rainwater harvesting       surface   \n",
       "\n",
       "               waterpoint_type waterpoint_type_group  \n",
       "0           communal standpipe    communal standpipe  \n",
       "1           communal standpipe    communal standpipe  \n",
       "2  communal standpipe multiple    communal standpipe  \n",
       "3  communal standpipe multiple    communal standpipe  \n",
       "4           communal standpipe    communal standpipe  \n",
       "\n",
       "[5 rows x 40 columns]"
      ]
     },
     "execution_count": 3,
     "metadata": {},
     "output_type": "execute_result"
    }
   ],
   "source": [
    "train_values = pd.read_csv('data/training_set_values.csv', parse_dates=['date_recorded'])\n",
    "train_values.head()"
   ]
  },
  {
   "cell_type": "code",
   "execution_count": 4,
   "metadata": {},
   "outputs": [
    {
     "name": "stdout",
     "output_type": "stream",
     "text": [
      "<class 'pandas.core.frame.DataFrame'>\n",
      "RangeIndex: 59400 entries, 0 to 59399\n",
      "Data columns (total 40 columns):\n",
      " #   Column                 Non-Null Count  Dtype         \n",
      "---  ------                 --------------  -----         \n",
      " 0   id                     59400 non-null  int64         \n",
      " 1   amount_tsh             59400 non-null  float64       \n",
      " 2   date_recorded          59400 non-null  datetime64[ns]\n",
      " 3   funder                 55765 non-null  object        \n",
      " 4   gps_height             59400 non-null  int64         \n",
      " 5   installer              55745 non-null  object        \n",
      " 6   longitude              59400 non-null  float64       \n",
      " 7   latitude               59400 non-null  float64       \n",
      " 8   wpt_name               59400 non-null  object        \n",
      " 9   num_private            59400 non-null  int64         \n",
      " 10  basin                  59400 non-null  object        \n",
      " 11  subvillage             59029 non-null  object        \n",
      " 12  region                 59400 non-null  object        \n",
      " 13  region_code            59400 non-null  int64         \n",
      " 14  district_code          59400 non-null  int64         \n",
      " 15  lga                    59400 non-null  object        \n",
      " 16  ward                   59400 non-null  object        \n",
      " 17  population             59400 non-null  int64         \n",
      " 18  public_meeting         56066 non-null  object        \n",
      " 19  recorded_by            59400 non-null  object        \n",
      " 20  scheme_management      55523 non-null  object        \n",
      " 21  scheme_name            31234 non-null  object        \n",
      " 22  permit                 56344 non-null  object        \n",
      " 23  construction_year      59400 non-null  int64         \n",
      " 24  extraction_type        59400 non-null  object        \n",
      " 25  extraction_type_group  59400 non-null  object        \n",
      " 26  extraction_type_class  59400 non-null  object        \n",
      " 27  management             59400 non-null  object        \n",
      " 28  management_group       59400 non-null  object        \n",
      " 29  payment                59400 non-null  object        \n",
      " 30  payment_type           59400 non-null  object        \n",
      " 31  water_quality          59400 non-null  object        \n",
      " 32  quality_group          59400 non-null  object        \n",
      " 33  quantity               59400 non-null  object        \n",
      " 34  quantity_group         59400 non-null  object        \n",
      " 35  source                 59400 non-null  object        \n",
      " 36  source_type            59400 non-null  object        \n",
      " 37  source_class           59400 non-null  object        \n",
      " 38  waterpoint_type        59400 non-null  object        \n",
      " 39  waterpoint_type_group  59400 non-null  object        \n",
      "dtypes: datetime64[ns](1), float64(3), int64(7), object(29)\n",
      "memory usage: 18.1+ MB\n"
     ]
    }
   ],
   "source": [
    "train_values.info()"
   ]
  },
  {
   "cell_type": "markdown",
   "metadata": {},
   "source": [
    "### Missing Values"
   ]
  },
  {
   "cell_type": "markdown",
   "metadata": {},
   "source": [
    "As we can see there are a number of columns with missing values, all of them are object datatypes, which makes deciding what to do with them more complex."
   ]
  },
  {
   "cell_type": "code",
   "execution_count": 5,
   "metadata": {},
   "outputs": [
    {
     "data": {
      "text/plain": [
       "id                           0\n",
       "amount_tsh                   0\n",
       "date_recorded                0\n",
       "funder                    3635\n",
       "gps_height                   0\n",
       "installer                 3655\n",
       "longitude                    0\n",
       "latitude                     0\n",
       "wpt_name                     0\n",
       "num_private                  0\n",
       "basin                        0\n",
       "subvillage                 371\n",
       "region                       0\n",
       "region_code                  0\n",
       "district_code                0\n",
       "lga                          0\n",
       "ward                         0\n",
       "population                   0\n",
       "public_meeting            3334\n",
       "recorded_by                  0\n",
       "scheme_management         3877\n",
       "scheme_name              28166\n",
       "permit                    3056\n",
       "construction_year            0\n",
       "extraction_type              0\n",
       "extraction_type_group        0\n",
       "extraction_type_class        0\n",
       "management                   0\n",
       "management_group             0\n",
       "payment                      0\n",
       "payment_type                 0\n",
       "water_quality                0\n",
       "quality_group                0\n",
       "quantity                     0\n",
       "quantity_group               0\n",
       "source                       0\n",
       "source_type                  0\n",
       "source_class                 0\n",
       "waterpoint_type              0\n",
       "waterpoint_type_group        0\n",
       "dtype: int64"
      ]
     },
     "execution_count": 5,
     "metadata": {},
     "output_type": "execute_result"
    }
   ],
   "source": [
    "train_values.isna().sum()"
   ]
  },
  {
   "cell_type": "markdown",
   "metadata": {},
   "source": [
    "Using missing no to visualize the nan values, there is no apparent underlying pattern to the missing values."
   ]
  },
  {
   "cell_type": "code",
   "execution_count": 6,
   "metadata": {},
   "outputs": [
    {
     "data": {
      "text/plain": [
       "<AxesSubplot:>"
      ]
     },
     "execution_count": 6,
     "metadata": {},
     "output_type": "execute_result"
    },
    {
     "data": {
      "image/png": "[encoded data removed]",
      "text/plain": [
       "<Figure size 1800x720 with 2 Axes>"
      ]
     },
     "metadata": {},
     "output_type": "display_data"
    }
   ],
   "source": [
    "msno.matrix(train_values)"
   ]
  },
  {
   "cell_type": "markdown",
   "metadata": {},
   "source": [
    "Let's take a closer look at these values to see if there is a reasonable value to imput for the missing values, or whether we should just label them unknown."
   ]
  },
  {
   "cell_type": "markdown",
   "metadata": {},
   "source": [
    "### *Funder and Installer*"
   ]
  },
  {
   "cell_type": "code",
   "execution_count": 7,
   "metadata": {},
   "outputs": [
    {
     "data": {
      "text/plain": [
       "Government Of Tanzania    9084\n",
       "Danida                    3114\n",
       "Hesawa                    2202\n",
       "Rwssp                     1374\n",
       "World Bank                1349\n",
       "Kkkt                      1287\n",
       "World Vision              1246\n",
       "Unicef                    1057\n",
       "Tasaf                      877\n",
       "District Council           843\n",
       "Dhv                        829\n",
       "Private Individual         826\n",
       "Dwsp                       811\n",
       "0                          777\n",
       "Norad                      765\n",
       "Germany Republi            610\n",
       "Tcrs                       602\n",
       "Ministry Of Water          590\n",
       "Water                      583\n",
       "Dwe                        484\n",
       "Netherlands                470\n",
       "Hifab                      450\n",
       "Adb                        448\n",
       "Lga                        442\n",
       "Amref                      425\n",
       "Fini Water                 393\n",
       "Oxfam                      359\n",
       "Wateraid                   333\n",
       "Rc Church                  321\n",
       "Isf                        316\n",
       "Name: funder, dtype: int64"
      ]
     },
     "execution_count": 7,
     "metadata": {},
     "output_type": "execute_result"
    }
   ],
   "source": [
    "train_values.funder.value_counts().head(30)"
   ]
  },
  {
   "cell_type": "code",
   "execution_count": 8,
   "metadata": {},
   "outputs": [
    {
     "data": {
      "text/plain": [
       "B.A.P                          1\n",
       "Sagaswe                        1\n",
       "Tkc                            1\n",
       "Bhws                           1\n",
       "Cvs Miss                       1\n",
       "Tgt                            1\n",
       "Padri K                        1\n",
       "Hesswa                         1\n",
       "Afya Department Lindi Rural    1\n",
       "Ramadhani M. Mvugalo           1\n",
       "Tlc/thimotheo Masunga          1\n",
       "Quick Wins Scheme              1\n",
       "Mnyama                         1\n",
       "Thomasi Busigaye               1\n",
       "Samweli                        1\n",
       "Dqnida                         1\n",
       "Artisan                        1\n",
       "Nmdc India                     1\n",
       "Rural                          1\n",
       "Hesawwa                        1\n",
       "Name: funder, dtype: int64"
      ]
     },
     "execution_count": 8,
     "metadata": {},
     "output_type": "execute_result"
    }
   ],
   "source": [
    "train_values.funder.value_counts().tail(20)"
   ]
  },
  {
   "cell_type": "markdown",
   "metadata": {},
   "source": [
    "Let's take a closer look at the '0' value in funder."
   ]
  },
  {
   "cell_type": "code",
   "execution_count": 9,
   "metadata": {},
   "outputs": [
    {
     "data": {
      "text/html": [
       "<div>\n",
       "<style scoped>\n",
       "    .dataframe tbody tr th:only-of-type {\n",
       "        vertical-align: middle;\n",
       "    }\n",
       "\n",
       "    .dataframe tbody tr th {\n",
       "        vertical-align: top;\n",
       "    }\n",
       "\n",
       "    .dataframe thead th {\n",
       "        text-align: right;\n",
       "    }\n",
       "</style>\n",
       "<table border=\"1\" class=\"dataframe\">\n",
       "  <thead>\n",
       "    <tr style=\"text-align: right;\">\n",
       "      <th></th>\n",
       "      <th>id</th>\n",
       "      <th>amount_tsh</th>\n",
       "      <th>date_recorded</th>\n",
       "      <th>funder</th>\n",
       "      <th>gps_height</th>\n",
       "      <th>installer</th>\n",
       "      <th>longitude</th>\n",
       "      <th>latitude</th>\n",
       "      <th>wpt_name</th>\n",
       "      <th>num_private</th>\n",
       "      <th>...</th>\n",
       "      <th>payment_type</th>\n",
       "      <th>water_quality</th>\n",
       "      <th>quality_group</th>\n",
       "      <th>quantity</th>\n",
       "      <th>quantity_group</th>\n",
       "      <th>source</th>\n",
       "      <th>source_type</th>\n",
       "      <th>source_class</th>\n",
       "      <th>waterpoint_type</th>\n",
       "      <th>waterpoint_type_group</th>\n",
       "    </tr>\n",
       "  </thead>\n",
       "  <tbody>\n",
       "    <tr>\n",
       "      <th>145</th>\n",
       "      <td>28669</td>\n",
       "      <td>50.0</td>\n",
       "      <td>2013-03-21</td>\n",
       "      <td>0</td>\n",
       "      <td>12</td>\n",
       "      <td>0</td>\n",
       "      <td>39.185710</td>\n",
       "      <td>-6.892593</td>\n",
       "      <td>Chekanao</td>\n",
       "      <td>0</td>\n",
       "      <td>...</td>\n",
       "      <td>per bucket</td>\n",
       "      <td>soft</td>\n",
       "      <td>good</td>\n",
       "      <td>enough</td>\n",
       "      <td>enough</td>\n",
       "      <td>machine dbh</td>\n",
       "      <td>borehole</td>\n",
       "      <td>groundwater</td>\n",
       "      <td>communal standpipe</td>\n",
       "      <td>communal standpipe</td>\n",
       "    </tr>\n",
       "    <tr>\n",
       "      <th>152</th>\n",
       "      <td>60983</td>\n",
       "      <td>0.0</td>\n",
       "      <td>2013-03-16</td>\n",
       "      <td>0</td>\n",
       "      <td>-15</td>\n",
       "      <td>0</td>\n",
       "      <td>39.527114</td>\n",
       "      <td>-6.988748</td>\n",
       "      <td>Msikitini</td>\n",
       "      <td>0</td>\n",
       "      <td>...</td>\n",
       "      <td>never pay</td>\n",
       "      <td>salty</td>\n",
       "      <td>salty</td>\n",
       "      <td>dry</td>\n",
       "      <td>dry</td>\n",
       "      <td>machine dbh</td>\n",
       "      <td>borehole</td>\n",
       "      <td>groundwater</td>\n",
       "      <td>other</td>\n",
       "      <td>other</td>\n",
       "    </tr>\n",
       "    <tr>\n",
       "      <th>393</th>\n",
       "      <td>39749</td>\n",
       "      <td>0.0</td>\n",
       "      <td>2013-03-18</td>\n",
       "      <td>0</td>\n",
       "      <td>28</td>\n",
       "      <td>0</td>\n",
       "      <td>39.159887</td>\n",
       "      <td>-6.902548</td>\n",
       "      <td>Kwa Chambuso</td>\n",
       "      <td>0</td>\n",
       "      <td>...</td>\n",
       "      <td>unknown</td>\n",
       "      <td>unknown</td>\n",
       "      <td>unknown</td>\n",
       "      <td>unknown</td>\n",
       "      <td>unknown</td>\n",
       "      <td>machine dbh</td>\n",
       "      <td>borehole</td>\n",
       "      <td>groundwater</td>\n",
       "      <td>other</td>\n",
       "      <td>other</td>\n",
       "    </tr>\n",
       "    <tr>\n",
       "      <th>417</th>\n",
       "      <td>15832</td>\n",
       "      <td>50.0</td>\n",
       "      <td>2013-03-22</td>\n",
       "      <td>0</td>\n",
       "      <td>30</td>\n",
       "      <td>0</td>\n",
       "      <td>39.178404</td>\n",
       "      <td>-6.938013</td>\n",
       "      <td>Ccm Kivule</td>\n",
       "      <td>0</td>\n",
       "      <td>...</td>\n",
       "      <td>per bucket</td>\n",
       "      <td>soft</td>\n",
       "      <td>good</td>\n",
       "      <td>enough</td>\n",
       "      <td>enough</td>\n",
       "      <td>machine dbh</td>\n",
       "      <td>borehole</td>\n",
       "      <td>groundwater</td>\n",
       "      <td>communal standpipe</td>\n",
       "      <td>communal standpipe</td>\n",
       "    </tr>\n",
       "    <tr>\n",
       "      <th>428</th>\n",
       "      <td>50233</td>\n",
       "      <td>0.0</td>\n",
       "      <td>2013-03-12</td>\n",
       "      <td>0</td>\n",
       "      <td>30</td>\n",
       "      <td>0</td>\n",
       "      <td>39.178849</td>\n",
       "      <td>-6.973206</td>\n",
       "      <td>Ofisi Ya Kata</td>\n",
       "      <td>0</td>\n",
       "      <td>...</td>\n",
       "      <td>never pay</td>\n",
       "      <td>unknown</td>\n",
       "      <td>unknown</td>\n",
       "      <td>dry</td>\n",
       "      <td>dry</td>\n",
       "      <td>shallow well</td>\n",
       "      <td>shallow well</td>\n",
       "      <td>groundwater</td>\n",
       "      <td>other</td>\n",
       "      <td>other</td>\n",
       "    </tr>\n",
       "    <tr>\n",
       "      <th>503</th>\n",
       "      <td>26293</td>\n",
       "      <td>0.0</td>\n",
       "      <td>2013-03-18</td>\n",
       "      <td>0</td>\n",
       "      <td>-17</td>\n",
       "      <td>0</td>\n",
       "      <td>39.433715</td>\n",
       "      <td>-7.096279</td>\n",
       "      <td>Shuleni</td>\n",
       "      <td>0</td>\n",
       "      <td>...</td>\n",
       "      <td>never pay</td>\n",
       "      <td>salty</td>\n",
       "      <td>salty</td>\n",
       "      <td>dry</td>\n",
       "      <td>dry</td>\n",
       "      <td>machine dbh</td>\n",
       "      <td>borehole</td>\n",
       "      <td>groundwater</td>\n",
       "      <td>other</td>\n",
       "      <td>other</td>\n",
       "    </tr>\n",
       "    <tr>\n",
       "      <th>567</th>\n",
       "      <td>69018</td>\n",
       "      <td>100.0</td>\n",
       "      <td>2013-03-18</td>\n",
       "      <td>0</td>\n",
       "      <td>58</td>\n",
       "      <td>0</td>\n",
       "      <td>39.135409</td>\n",
       "      <td>-6.913908</td>\n",
       "      <td>none</td>\n",
       "      <td>0</td>\n",
       "      <td>...</td>\n",
       "      <td>per bucket</td>\n",
       "      <td>salty abandoned</td>\n",
       "      <td>salty</td>\n",
       "      <td>enough</td>\n",
       "      <td>enough</td>\n",
       "      <td>machine dbh</td>\n",
       "      <td>borehole</td>\n",
       "      <td>groundwater</td>\n",
       "      <td>communal standpipe</td>\n",
       "      <td>communal standpipe</td>\n",
       "    </tr>\n",
       "    <tr>\n",
       "      <th>636</th>\n",
       "      <td>54848</td>\n",
       "      <td>0.0</td>\n",
       "      <td>2013-03-14</td>\n",
       "      <td>0</td>\n",
       "      <td>-17</td>\n",
       "      <td>0</td>\n",
       "      <td>39.441638</td>\n",
       "      <td>-6.901908</td>\n",
       "      <td>Kwa Weso</td>\n",
       "      <td>0</td>\n",
       "      <td>...</td>\n",
       "      <td>per bucket</td>\n",
       "      <td>salty</td>\n",
       "      <td>salty</td>\n",
       "      <td>dry</td>\n",
       "      <td>dry</td>\n",
       "      <td>machine dbh</td>\n",
       "      <td>borehole</td>\n",
       "      <td>groundwater</td>\n",
       "      <td>communal standpipe</td>\n",
       "      <td>communal standpipe</td>\n",
       "    </tr>\n",
       "    <tr>\n",
       "      <th>702</th>\n",
       "      <td>6002</td>\n",
       "      <td>50.0</td>\n",
       "      <td>2013-03-19</td>\n",
       "      <td>0</td>\n",
       "      <td>84</td>\n",
       "      <td>0</td>\n",
       "      <td>39.116554</td>\n",
       "      <td>-6.890041</td>\n",
       "      <td>Kwa Mzee Iddy</td>\n",
       "      <td>0</td>\n",
       "      <td>...</td>\n",
       "      <td>per bucket</td>\n",
       "      <td>soft</td>\n",
       "      <td>good</td>\n",
       "      <td>enough</td>\n",
       "      <td>enough</td>\n",
       "      <td>machine dbh</td>\n",
       "      <td>borehole</td>\n",
       "      <td>groundwater</td>\n",
       "      <td>communal standpipe</td>\n",
       "      <td>communal standpipe</td>\n",
       "    </tr>\n",
       "    <tr>\n",
       "      <th>797</th>\n",
       "      <td>72237</td>\n",
       "      <td>0.0</td>\n",
       "      <td>2013-03-15</td>\n",
       "      <td>0</td>\n",
       "      <td>62</td>\n",
       "      <td>0</td>\n",
       "      <td>39.080763</td>\n",
       "      <td>-7.000181</td>\n",
       "      <td>Office</td>\n",
       "      <td>0</td>\n",
       "      <td>...</td>\n",
       "      <td>unknown</td>\n",
       "      <td>unknown</td>\n",
       "      <td>unknown</td>\n",
       "      <td>unknown</td>\n",
       "      <td>unknown</td>\n",
       "      <td>shallow well</td>\n",
       "      <td>shallow well</td>\n",
       "      <td>groundwater</td>\n",
       "      <td>other</td>\n",
       "      <td>other</td>\n",
       "    </tr>\n",
       "  </tbody>\n",
       "</table>\n",
       "<p>10 rows × 40 columns</p>\n",
       "</div>"
      ],
      "text/plain": [
       "        id  amount_tsh date_recorded funder  gps_height installer  longitude  \\\n",
       "145  28669        50.0    2013-03-21      0          12         0  39.185710   \n",
       "152  60983         0.0    2013-03-16      0         -15         0  39.527114   \n",
       "393  39749         0.0    2013-03-18      0          28         0  39.159887   \n",
       "417  15832        50.0    2013-03-22      0          30         0  39.178404   \n",
       "428  50233         0.0    2013-03-12      0          30         0  39.178849   \n",
       "503  26293         0.0    2013-03-18      0         -17         0  39.433715   \n",
       "567  69018       100.0    2013-03-18      0          58         0  39.135409   \n",
       "636  54848         0.0    2013-03-14      0         -17         0  39.441638   \n",
       "702   6002        50.0    2013-03-19      0          84         0  39.116554   \n",
       "797  72237         0.0    2013-03-15      0          62         0  39.080763   \n",
       "\n",
       "     latitude       wpt_name  num_private  ... payment_type    water_quality  \\\n",
       "145 -6.892593       Chekanao            0  ...   per bucket             soft   \n",
       "152 -6.988748      Msikitini            0  ...    never pay            salty   \n",
       "393 -6.902548   Kwa Chambuso            0  ...      unknown          unknown   \n",
       "417 -6.938013     Ccm Kivule            0  ...   per bucket             soft   \n",
       "428 -6.973206  Ofisi Ya Kata            0  ...    never pay          unknown   \n",
       "503 -7.096279        Shuleni            0  ...    never pay            salty   \n",
       "567 -6.913908           none            0  ...   per bucket  salty abandoned   \n",
       "636 -6.901908       Kwa Weso            0  ...   per bucket            salty   \n",
       "702 -6.890041  Kwa Mzee Iddy            0  ...   per bucket             soft   \n",
       "797 -7.000181         Office            0  ...      unknown          unknown   \n",
       "\n",
       "    quality_group  quantity  quantity_group        source   source_type  \\\n",
       "145          good    enough          enough   machine dbh      borehole   \n",
       "152         salty       dry             dry   machine dbh      borehole   \n",
       "393       unknown   unknown         unknown   machine dbh      borehole   \n",
       "417          good    enough          enough   machine dbh      borehole   \n",
       "428       unknown       dry             dry  shallow well  shallow well   \n",
       "503         salty       dry             dry   machine dbh      borehole   \n",
       "567         salty    enough          enough   machine dbh      borehole   \n",
       "636         salty       dry             dry   machine dbh      borehole   \n",
       "702          good    enough          enough   machine dbh      borehole   \n",
       "797       unknown   unknown         unknown  shallow well  shallow well   \n",
       "\n",
       "     source_class     waterpoint_type waterpoint_type_group  \n",
       "145   groundwater  communal standpipe    communal standpipe  \n",
       "152   groundwater               other                 other  \n",
       "393   groundwater               other                 other  \n",
       "417   groundwater  communal standpipe    communal standpipe  \n",
       "428   groundwater               other                 other  \n",
       "503   groundwater               other                 other  \n",
       "567   groundwater  communal standpipe    communal standpipe  \n",
       "636   groundwater  communal standpipe    communal standpipe  \n",
       "702   groundwater  communal standpipe    communal standpipe  \n",
       "797   groundwater               other                 other  \n",
       "\n",
       "[10 rows x 40 columns]"
      ]
     },
     "execution_count": 9,
     "metadata": {},
     "output_type": "execute_result"
    }
   ],
   "source": [
    "train_values[train_values['funder']=='0'].head(10)"
   ]
  },
  {
   "cell_type": "markdown",
   "metadata": {},
   "source": [
    "Let's check to see if they have commonalities in region, management, or installer."
   ]
  },
  {
   "cell_type": "code",
   "execution_count": 10,
   "metadata": {},
   "outputs": [
    {
     "data": {
      "text/html": [
       "<div>\n",
       "<style scoped>\n",
       "    .dataframe tbody tr th:only-of-type {\n",
       "        vertical-align: middle;\n",
       "    }\n",
       "\n",
       "    .dataframe tbody tr th {\n",
       "        vertical-align: top;\n",
       "    }\n",
       "\n",
       "    .dataframe thead th {\n",
       "        text-align: right;\n",
       "    }\n",
       "</style>\n",
       "<table border=\"1\" class=\"dataframe\">\n",
       "  <thead>\n",
       "    <tr style=\"text-align: right;\">\n",
       "      <th></th>\n",
       "      <th></th>\n",
       "      <th></th>\n",
       "      <th>id</th>\n",
       "      <th>amount_tsh</th>\n",
       "      <th>date_recorded</th>\n",
       "      <th>funder</th>\n",
       "      <th>gps_height</th>\n",
       "      <th>longitude</th>\n",
       "      <th>latitude</th>\n",
       "      <th>wpt_name</th>\n",
       "      <th>num_private</th>\n",
       "      <th>basin</th>\n",
       "      <th>...</th>\n",
       "      <th>payment_type</th>\n",
       "      <th>water_quality</th>\n",
       "      <th>quality_group</th>\n",
       "      <th>quantity</th>\n",
       "      <th>quantity_group</th>\n",
       "      <th>source</th>\n",
       "      <th>source_type</th>\n",
       "      <th>source_class</th>\n",
       "      <th>waterpoint_type</th>\n",
       "      <th>waterpoint_type_group</th>\n",
       "    </tr>\n",
       "    <tr>\n",
       "      <th>region</th>\n",
       "      <th>management</th>\n",
       "      <th>installer</th>\n",
       "      <th></th>\n",
       "      <th></th>\n",
       "      <th></th>\n",
       "      <th></th>\n",
       "      <th></th>\n",
       "      <th></th>\n",
       "      <th></th>\n",
       "      <th></th>\n",
       "      <th></th>\n",
       "      <th></th>\n",
       "      <th></th>\n",
       "      <th></th>\n",
       "      <th></th>\n",
       "      <th></th>\n",
       "      <th></th>\n",
       "      <th></th>\n",
       "      <th></th>\n",
       "      <th></th>\n",
       "      <th></th>\n",
       "      <th></th>\n",
       "      <th></th>\n",
       "    </tr>\n",
       "  </thead>\n",
       "  <tbody>\n",
       "    <tr>\n",
       "      <th rowspan=\"9\" valign=\"top\">Dar es Salaam</th>\n",
       "      <th>company</th>\n",
       "      <th>0</th>\n",
       "      <td>1</td>\n",
       "      <td>1</td>\n",
       "      <td>1</td>\n",
       "      <td>1</td>\n",
       "      <td>1</td>\n",
       "      <td>1</td>\n",
       "      <td>1</td>\n",
       "      <td>1</td>\n",
       "      <td>1</td>\n",
       "      <td>1</td>\n",
       "      <td>...</td>\n",
       "      <td>1</td>\n",
       "      <td>1</td>\n",
       "      <td>1</td>\n",
       "      <td>1</td>\n",
       "      <td>1</td>\n",
       "      <td>1</td>\n",
       "      <td>1</td>\n",
       "      <td>1</td>\n",
       "      <td>1</td>\n",
       "      <td>1</td>\n",
       "    </tr>\n",
       "    <tr>\n",
       "      <th>other</th>\n",
       "      <th>0</th>\n",
       "      <td>1</td>\n",
       "      <td>1</td>\n",
       "      <td>1</td>\n",
       "      <td>1</td>\n",
       "      <td>1</td>\n",
       "      <td>1</td>\n",
       "      <td>1</td>\n",
       "      <td>1</td>\n",
       "      <td>1</td>\n",
       "      <td>1</td>\n",
       "      <td>...</td>\n",
       "      <td>1</td>\n",
       "      <td>1</td>\n",
       "      <td>1</td>\n",
       "      <td>1</td>\n",
       "      <td>1</td>\n",
       "      <td>1</td>\n",
       "      <td>1</td>\n",
       "      <td>1</td>\n",
       "      <td>1</td>\n",
       "      <td>1</td>\n",
       "    </tr>\n",
       "    <tr>\n",
       "      <th>other - school</th>\n",
       "      <th>0</th>\n",
       "      <td>99</td>\n",
       "      <td>99</td>\n",
       "      <td>99</td>\n",
       "      <td>99</td>\n",
       "      <td>99</td>\n",
       "      <td>99</td>\n",
       "      <td>99</td>\n",
       "      <td>99</td>\n",
       "      <td>99</td>\n",
       "      <td>99</td>\n",
       "      <td>...</td>\n",
       "      <td>99</td>\n",
       "      <td>99</td>\n",
       "      <td>99</td>\n",
       "      <td>99</td>\n",
       "      <td>99</td>\n",
       "      <td>99</td>\n",
       "      <td>99</td>\n",
       "      <td>99</td>\n",
       "      <td>99</td>\n",
       "      <td>99</td>\n",
       "    </tr>\n",
       "    <tr>\n",
       "      <th>parastatal</th>\n",
       "      <th>0</th>\n",
       "      <td>67</td>\n",
       "      <td>67</td>\n",
       "      <td>67</td>\n",
       "      <td>67</td>\n",
       "      <td>67</td>\n",
       "      <td>67</td>\n",
       "      <td>67</td>\n",
       "      <td>67</td>\n",
       "      <td>67</td>\n",
       "      <td>67</td>\n",
       "      <td>...</td>\n",
       "      <td>67</td>\n",
       "      <td>67</td>\n",
       "      <td>67</td>\n",
       "      <td>67</td>\n",
       "      <td>67</td>\n",
       "      <td>67</td>\n",
       "      <td>67</td>\n",
       "      <td>67</td>\n",
       "      <td>67</td>\n",
       "      <td>67</td>\n",
       "    </tr>\n",
       "    <tr>\n",
       "      <th>private operator</th>\n",
       "      <th>0</th>\n",
       "      <td>211</td>\n",
       "      <td>211</td>\n",
       "      <td>211</td>\n",
       "      <td>211</td>\n",
       "      <td>211</td>\n",
       "      <td>211</td>\n",
       "      <td>211</td>\n",
       "      <td>211</td>\n",
       "      <td>211</td>\n",
       "      <td>211</td>\n",
       "      <td>...</td>\n",
       "      <td>211</td>\n",
       "      <td>211</td>\n",
       "      <td>211</td>\n",
       "      <td>211</td>\n",
       "      <td>211</td>\n",
       "      <td>211</td>\n",
       "      <td>211</td>\n",
       "      <td>211</td>\n",
       "      <td>211</td>\n",
       "      <td>211</td>\n",
       "    </tr>\n",
       "    <tr>\n",
       "      <th>unknown</th>\n",
       "      <th>0</th>\n",
       "      <td>6</td>\n",
       "      <td>6</td>\n",
       "      <td>6</td>\n",
       "      <td>6</td>\n",
       "      <td>6</td>\n",
       "      <td>6</td>\n",
       "      <td>6</td>\n",
       "      <td>6</td>\n",
       "      <td>6</td>\n",
       "      <td>6</td>\n",
       "      <td>...</td>\n",
       "      <td>6</td>\n",
       "      <td>6</td>\n",
       "      <td>6</td>\n",
       "      <td>6</td>\n",
       "      <td>6</td>\n",
       "      <td>6</td>\n",
       "      <td>6</td>\n",
       "      <td>6</td>\n",
       "      <td>6</td>\n",
       "      <td>6</td>\n",
       "    </tr>\n",
       "    <tr>\n",
       "      <th>vwc</th>\n",
       "      <th>0</th>\n",
       "      <td>169</td>\n",
       "      <td>169</td>\n",
       "      <td>169</td>\n",
       "      <td>169</td>\n",
       "      <td>169</td>\n",
       "      <td>169</td>\n",
       "      <td>169</td>\n",
       "      <td>169</td>\n",
       "      <td>169</td>\n",
       "      <td>169</td>\n",
       "      <td>...</td>\n",
       "      <td>169</td>\n",
       "      <td>169</td>\n",
       "      <td>169</td>\n",
       "      <td>169</td>\n",
       "      <td>169</td>\n",
       "      <td>169</td>\n",
       "      <td>169</td>\n",
       "      <td>169</td>\n",
       "      <td>169</td>\n",
       "      <td>169</td>\n",
       "    </tr>\n",
       "    <tr>\n",
       "      <th>wua</th>\n",
       "      <th>0</th>\n",
       "      <td>1</td>\n",
       "      <td>1</td>\n",
       "      <td>1</td>\n",
       "      <td>1</td>\n",
       "      <td>1</td>\n",
       "      <td>1</td>\n",
       "      <td>1</td>\n",
       "      <td>1</td>\n",
       "      <td>1</td>\n",
       "      <td>1</td>\n",
       "      <td>...</td>\n",
       "      <td>1</td>\n",
       "      <td>1</td>\n",
       "      <td>1</td>\n",
       "      <td>1</td>\n",
       "      <td>1</td>\n",
       "      <td>1</td>\n",
       "      <td>1</td>\n",
       "      <td>1</td>\n",
       "      <td>1</td>\n",
       "      <td>1</td>\n",
       "    </tr>\n",
       "    <tr>\n",
       "      <th>wug</th>\n",
       "      <th>0</th>\n",
       "      <td>222</td>\n",
       "      <td>222</td>\n",
       "      <td>222</td>\n",
       "      <td>222</td>\n",
       "      <td>222</td>\n",
       "      <td>222</td>\n",
       "      <td>222</td>\n",
       "      <td>222</td>\n",
       "      <td>222</td>\n",
       "      <td>222</td>\n",
       "      <td>...</td>\n",
       "      <td>222</td>\n",
       "      <td>222</td>\n",
       "      <td>222</td>\n",
       "      <td>222</td>\n",
       "      <td>222</td>\n",
       "      <td>222</td>\n",
       "      <td>222</td>\n",
       "      <td>222</td>\n",
       "      <td>222</td>\n",
       "      <td>222</td>\n",
       "    </tr>\n",
       "  </tbody>\n",
       "</table>\n",
       "<p>9 rows × 37 columns</p>\n",
       "</div>"
      ],
      "text/plain": [
       "                                           id  amount_tsh  date_recorded  \\\n",
       "region        management       installer                                   \n",
       "Dar es Salaam company          0            1           1              1   \n",
       "              other            0            1           1              1   \n",
       "              other - school   0           99          99             99   \n",
       "              parastatal       0           67          67             67   \n",
       "              private operator 0          211         211            211   \n",
       "              unknown          0            6           6              6   \n",
       "              vwc              0          169         169            169   \n",
       "              wua              0            1           1              1   \n",
       "              wug              0          222         222            222   \n",
       "\n",
       "                                          funder  gps_height  longitude  \\\n",
       "region        management       installer                                  \n",
       "Dar es Salaam company          0               1           1          1   \n",
       "              other            0               1           1          1   \n",
       "              other - school   0              99          99         99   \n",
       "              parastatal       0              67          67         67   \n",
       "              private operator 0             211         211        211   \n",
       "              unknown          0               6           6          6   \n",
       "              vwc              0             169         169        169   \n",
       "              wua              0               1           1          1   \n",
       "              wug              0             222         222        222   \n",
       "\n",
       "                                          latitude  wpt_name  num_private  \\\n",
       "region        management       installer                                    \n",
       "Dar es Salaam company          0                 1         1            1   \n",
       "              other            0                 1         1            1   \n",
       "              other - school   0                99        99           99   \n",
       "              parastatal       0                67        67           67   \n",
       "              private operator 0               211       211          211   \n",
       "              unknown          0                 6         6            6   \n",
       "              vwc              0               169       169          169   \n",
       "              wua              0                 1         1            1   \n",
       "              wug              0               222       222          222   \n",
       "\n",
       "                                          basin  ...  payment_type  \\\n",
       "region        management       installer         ...                 \n",
       "Dar es Salaam company          0              1  ...             1   \n",
       "              other            0              1  ...             1   \n",
       "              other - school   0             99  ...            99   \n",
       "              parastatal       0             67  ...            67   \n",
       "              private operator 0            211  ...           211   \n",
       "              unknown          0              6  ...             6   \n",
       "              vwc              0            169  ...           169   \n",
       "              wua              0              1  ...             1   \n",
       "              wug              0            222  ...           222   \n",
       "\n",
       "                                          water_quality  quality_group  \\\n",
       "region        management       installer                                 \n",
       "Dar es Salaam company          0                      1              1   \n",
       "              other            0                      1              1   \n",
       "              other - school   0                     99             99   \n",
       "              parastatal       0                     67             67   \n",
       "              private operator 0                    211            211   \n",
       "              unknown          0                      6              6   \n",
       "              vwc              0                    169            169   \n",
       "              wua              0                      1              1   \n",
       "              wug              0                    222            222   \n",
       "\n",
       "                                          quantity  quantity_group  source  \\\n",
       "region        management       installer                                     \n",
       "Dar es Salaam company          0                 1               1       1   \n",
       "              other            0                 1               1       1   \n",
       "              other - school   0                99              99      99   \n",
       "              parastatal       0                67              67      67   \n",
       "              private operator 0               211             211     211   \n",
       "              unknown          0                 6               6       6   \n",
       "              vwc              0               169             169     169   \n",
       "              wua              0                 1               1       1   \n",
       "              wug              0               222             222     222   \n",
       "\n",
       "                                          source_type  source_class  \\\n",
       "region        management       installer                              \n",
       "Dar es Salaam company          0                    1             1   \n",
       "              other            0                    1             1   \n",
       "              other - school   0                   99            99   \n",
       "              parastatal       0                   67            67   \n",
       "              private operator 0                  211           211   \n",
       "              unknown          0                    6             6   \n",
       "              vwc              0                  169           169   \n",
       "              wua              0                    1             1   \n",
       "              wug              0                  222           222   \n",
       "\n",
       "                                          waterpoint_type  \\\n",
       "region        management       installer                    \n",
       "Dar es Salaam company          0                        1   \n",
       "              other            0                        1   \n",
       "              other - school   0                       99   \n",
       "              parastatal       0                       67   \n",
       "              private operator 0                      211   \n",
       "              unknown          0                        6   \n",
       "              vwc              0                      169   \n",
       "              wua              0                        1   \n",
       "              wug              0                      222   \n",
       "\n",
       "                                          waterpoint_type_group  \n",
       "region        management       installer                         \n",
       "Dar es Salaam company          0                              1  \n",
       "              other            0                              1  \n",
       "              other - school   0                             99  \n",
       "              parastatal       0                             67  \n",
       "              private operator 0                            211  \n",
       "              unknown          0                              6  \n",
       "              vwc              0                            169  \n",
       "              wua              0                              1  \n",
       "              wug              0                            222  \n",
       "\n",
       "[9 rows x 37 columns]"
      ]
     },
     "execution_count": 10,
     "metadata": {},
     "output_type": "execute_result"
    }
   ],
   "source": [
    "zero_funder = train_values[train_values['funder']=='0']\n",
    "zero_funder.groupby(['region', 'management', 'installer']).count()"
   ]
  },
  {
   "cell_type": "markdown",
   "metadata": {},
   "source": [
    "All the 0 values are in a single region. There seems to be a correlation between 0s in the funder column and installer column, so before deciding what to do let's look more closely at the installer data."
   ]
  },
  {
   "cell_type": "code",
   "execution_count": 11,
   "metadata": {},
   "outputs": [
    {
     "data": {
      "text/html": [
       "<div>\n",
       "<style scoped>\n",
       "    .dataframe tbody tr th:only-of-type {\n",
       "        vertical-align: middle;\n",
       "    }\n",
       "\n",
       "    .dataframe tbody tr th {\n",
       "        vertical-align: top;\n",
       "    }\n",
       "\n",
       "    .dataframe thead th {\n",
       "        text-align: right;\n",
       "    }\n",
       "</style>\n",
       "<table border=\"1\" class=\"dataframe\">\n",
       "  <thead>\n",
       "    <tr style=\"text-align: right;\">\n",
       "      <th></th>\n",
       "      <th></th>\n",
       "      <th></th>\n",
       "      <th>id</th>\n",
       "      <th>amount_tsh</th>\n",
       "      <th>date_recorded</th>\n",
       "      <th>gps_height</th>\n",
       "      <th>installer</th>\n",
       "      <th>longitude</th>\n",
       "      <th>latitude</th>\n",
       "      <th>wpt_name</th>\n",
       "      <th>num_private</th>\n",
       "      <th>basin</th>\n",
       "      <th>...</th>\n",
       "      <th>payment_type</th>\n",
       "      <th>water_quality</th>\n",
       "      <th>quality_group</th>\n",
       "      <th>quantity</th>\n",
       "      <th>quantity_group</th>\n",
       "      <th>source</th>\n",
       "      <th>source_type</th>\n",
       "      <th>source_class</th>\n",
       "      <th>waterpoint_type</th>\n",
       "      <th>waterpoint_type_group</th>\n",
       "    </tr>\n",
       "    <tr>\n",
       "      <th>region</th>\n",
       "      <th>management</th>\n",
       "      <th>funder</th>\n",
       "      <th></th>\n",
       "      <th></th>\n",
       "      <th></th>\n",
       "      <th></th>\n",
       "      <th></th>\n",
       "      <th></th>\n",
       "      <th></th>\n",
       "      <th></th>\n",
       "      <th></th>\n",
       "      <th></th>\n",
       "      <th></th>\n",
       "      <th></th>\n",
       "      <th></th>\n",
       "      <th></th>\n",
       "      <th></th>\n",
       "      <th></th>\n",
       "      <th></th>\n",
       "      <th></th>\n",
       "      <th></th>\n",
       "      <th></th>\n",
       "      <th></th>\n",
       "    </tr>\n",
       "  </thead>\n",
       "  <tbody>\n",
       "    <tr>\n",
       "      <th rowspan=\"9\" valign=\"top\">Dar es Salaam</th>\n",
       "      <th>company</th>\n",
       "      <th>0</th>\n",
       "      <td>1</td>\n",
       "      <td>1</td>\n",
       "      <td>1</td>\n",
       "      <td>1</td>\n",
       "      <td>1</td>\n",
       "      <td>1</td>\n",
       "      <td>1</td>\n",
       "      <td>1</td>\n",
       "      <td>1</td>\n",
       "      <td>1</td>\n",
       "      <td>...</td>\n",
       "      <td>1</td>\n",
       "      <td>1</td>\n",
       "      <td>1</td>\n",
       "      <td>1</td>\n",
       "      <td>1</td>\n",
       "      <td>1</td>\n",
       "      <td>1</td>\n",
       "      <td>1</td>\n",
       "      <td>1</td>\n",
       "      <td>1</td>\n",
       "    </tr>\n",
       "    <tr>\n",
       "      <th>other</th>\n",
       "      <th>0</th>\n",
       "      <td>1</td>\n",
       "      <td>1</td>\n",
       "      <td>1</td>\n",
       "      <td>1</td>\n",
       "      <td>1</td>\n",
       "      <td>1</td>\n",
       "      <td>1</td>\n",
       "      <td>1</td>\n",
       "      <td>1</td>\n",
       "      <td>1</td>\n",
       "      <td>...</td>\n",
       "      <td>1</td>\n",
       "      <td>1</td>\n",
       "      <td>1</td>\n",
       "      <td>1</td>\n",
       "      <td>1</td>\n",
       "      <td>1</td>\n",
       "      <td>1</td>\n",
       "      <td>1</td>\n",
       "      <td>1</td>\n",
       "      <td>1</td>\n",
       "    </tr>\n",
       "    <tr>\n",
       "      <th>other - school</th>\n",
       "      <th>0</th>\n",
       "      <td>99</td>\n",
       "      <td>99</td>\n",
       "      <td>99</td>\n",
       "      <td>99</td>\n",
       "      <td>99</td>\n",
       "      <td>99</td>\n",
       "      <td>99</td>\n",
       "      <td>99</td>\n",
       "      <td>99</td>\n",
       "      <td>99</td>\n",
       "      <td>...</td>\n",
       "      <td>99</td>\n",
       "      <td>99</td>\n",
       "      <td>99</td>\n",
       "      <td>99</td>\n",
       "      <td>99</td>\n",
       "      <td>99</td>\n",
       "      <td>99</td>\n",
       "      <td>99</td>\n",
       "      <td>99</td>\n",
       "      <td>99</td>\n",
       "    </tr>\n",
       "    <tr>\n",
       "      <th>parastatal</th>\n",
       "      <th>0</th>\n",
       "      <td>67</td>\n",
       "      <td>67</td>\n",
       "      <td>67</td>\n",
       "      <td>67</td>\n",
       "      <td>67</td>\n",
       "      <td>67</td>\n",
       "      <td>67</td>\n",
       "      <td>67</td>\n",
       "      <td>67</td>\n",
       "      <td>67</td>\n",
       "      <td>...</td>\n",
       "      <td>67</td>\n",
       "      <td>67</td>\n",
       "      <td>67</td>\n",
       "      <td>67</td>\n",
       "      <td>67</td>\n",
       "      <td>67</td>\n",
       "      <td>67</td>\n",
       "      <td>67</td>\n",
       "      <td>67</td>\n",
       "      <td>67</td>\n",
       "    </tr>\n",
       "    <tr>\n",
       "      <th>private operator</th>\n",
       "      <th>0</th>\n",
       "      <td>211</td>\n",
       "      <td>211</td>\n",
       "      <td>211</td>\n",
       "      <td>211</td>\n",
       "      <td>211</td>\n",
       "      <td>211</td>\n",
       "      <td>211</td>\n",
       "      <td>211</td>\n",
       "      <td>211</td>\n",
       "      <td>211</td>\n",
       "      <td>...</td>\n",
       "      <td>211</td>\n",
       "      <td>211</td>\n",
       "      <td>211</td>\n",
       "      <td>211</td>\n",
       "      <td>211</td>\n",
       "      <td>211</td>\n",
       "      <td>211</td>\n",
       "      <td>211</td>\n",
       "      <td>211</td>\n",
       "      <td>211</td>\n",
       "    </tr>\n",
       "    <tr>\n",
       "      <th>unknown</th>\n",
       "      <th>0</th>\n",
       "      <td>6</td>\n",
       "      <td>6</td>\n",
       "      <td>6</td>\n",
       "      <td>6</td>\n",
       "      <td>6</td>\n",
       "      <td>6</td>\n",
       "      <td>6</td>\n",
       "      <td>6</td>\n",
       "      <td>6</td>\n",
       "      <td>6</td>\n",
       "      <td>...</td>\n",
       "      <td>6</td>\n",
       "      <td>6</td>\n",
       "      <td>6</td>\n",
       "      <td>6</td>\n",
       "      <td>6</td>\n",
       "      <td>6</td>\n",
       "      <td>6</td>\n",
       "      <td>6</td>\n",
       "      <td>6</td>\n",
       "      <td>6</td>\n",
       "    </tr>\n",
       "    <tr>\n",
       "      <th>vwc</th>\n",
       "      <th>0</th>\n",
       "      <td>169</td>\n",
       "      <td>169</td>\n",
       "      <td>169</td>\n",
       "      <td>169</td>\n",
       "      <td>169</td>\n",
       "      <td>169</td>\n",
       "      <td>169</td>\n",
       "      <td>169</td>\n",
       "      <td>169</td>\n",
       "      <td>169</td>\n",
       "      <td>...</td>\n",
       "      <td>169</td>\n",
       "      <td>169</td>\n",
       "      <td>169</td>\n",
       "      <td>169</td>\n",
       "      <td>169</td>\n",
       "      <td>169</td>\n",
       "      <td>169</td>\n",
       "      <td>169</td>\n",
       "      <td>169</td>\n",
       "      <td>169</td>\n",
       "    </tr>\n",
       "    <tr>\n",
       "      <th>wua</th>\n",
       "      <th>0</th>\n",
       "      <td>1</td>\n",
       "      <td>1</td>\n",
       "      <td>1</td>\n",
       "      <td>1</td>\n",
       "      <td>1</td>\n",
       "      <td>1</td>\n",
       "      <td>1</td>\n",
       "      <td>1</td>\n",
       "      <td>1</td>\n",
       "      <td>1</td>\n",
       "      <td>...</td>\n",
       "      <td>1</td>\n",
       "      <td>1</td>\n",
       "      <td>1</td>\n",
       "      <td>1</td>\n",
       "      <td>1</td>\n",
       "      <td>1</td>\n",
       "      <td>1</td>\n",
       "      <td>1</td>\n",
       "      <td>1</td>\n",
       "      <td>1</td>\n",
       "    </tr>\n",
       "    <tr>\n",
       "      <th>wug</th>\n",
       "      <th>0</th>\n",
       "      <td>222</td>\n",
       "      <td>222</td>\n",
       "      <td>222</td>\n",
       "      <td>222</td>\n",
       "      <td>222</td>\n",
       "      <td>222</td>\n",
       "      <td>222</td>\n",
       "      <td>222</td>\n",
       "      <td>222</td>\n",
       "      <td>222</td>\n",
       "      <td>...</td>\n",
       "      <td>222</td>\n",
       "      <td>222</td>\n",
       "      <td>222</td>\n",
       "      <td>222</td>\n",
       "      <td>222</td>\n",
       "      <td>222</td>\n",
       "      <td>222</td>\n",
       "      <td>222</td>\n",
       "      <td>222</td>\n",
       "      <td>222</td>\n",
       "    </tr>\n",
       "  </tbody>\n",
       "</table>\n",
       "<p>9 rows × 37 columns</p>\n",
       "</div>"
      ],
      "text/plain": [
       "                                        id  amount_tsh  date_recorded  \\\n",
       "region        management       funder                                   \n",
       "Dar es Salaam company          0         1           1              1   \n",
       "              other            0         1           1              1   \n",
       "              other - school   0        99          99             99   \n",
       "              parastatal       0        67          67             67   \n",
       "              private operator 0       211         211            211   \n",
       "              unknown          0         6           6              6   \n",
       "              vwc              0       169         169            169   \n",
       "              wua              0         1           1              1   \n",
       "              wug              0       222         222            222   \n",
       "\n",
       "                                       gps_height  installer  longitude  \\\n",
       "region        management       funder                                     \n",
       "Dar es Salaam company          0                1          1          1   \n",
       "              other            0                1          1          1   \n",
       "              other - school   0               99         99         99   \n",
       "              parastatal       0               67         67         67   \n",
       "              private operator 0              211        211        211   \n",
       "              unknown          0                6          6          6   \n",
       "              vwc              0              169        169        169   \n",
       "              wua              0                1          1          1   \n",
       "              wug              0              222        222        222   \n",
       "\n",
       "                                       latitude  wpt_name  num_private  basin  \\\n",
       "region        management       funder                                           \n",
       "Dar es Salaam company          0              1         1            1      1   \n",
       "              other            0              1         1            1      1   \n",
       "              other - school   0             99        99           99     99   \n",
       "              parastatal       0             67        67           67     67   \n",
       "              private operator 0            211       211          211    211   \n",
       "              unknown          0              6         6            6      6   \n",
       "              vwc              0            169       169          169    169   \n",
       "              wua              0              1         1            1      1   \n",
       "              wug              0            222       222          222    222   \n",
       "\n",
       "                                       ...  payment_type  water_quality  \\\n",
       "region        management       funder  ...                                \n",
       "Dar es Salaam company          0       ...             1              1   \n",
       "              other            0       ...             1              1   \n",
       "              other - school   0       ...            99             99   \n",
       "              parastatal       0       ...            67             67   \n",
       "              private operator 0       ...           211            211   \n",
       "              unknown          0       ...             6              6   \n",
       "              vwc              0       ...           169            169   \n",
       "              wua              0       ...             1              1   \n",
       "              wug              0       ...           222            222   \n",
       "\n",
       "                                       quality_group  quantity  \\\n",
       "region        management       funder                            \n",
       "Dar es Salaam company          0                   1         1   \n",
       "              other            0                   1         1   \n",
       "              other - school   0                  99        99   \n",
       "              parastatal       0                  67        67   \n",
       "              private operator 0                 211       211   \n",
       "              unknown          0                   6         6   \n",
       "              vwc              0                 169       169   \n",
       "              wua              0                   1         1   \n",
       "              wug              0                 222       222   \n",
       "\n",
       "                                       quantity_group  source  source_type  \\\n",
       "region        management       funder                                        \n",
       "Dar es Salaam company          0                    1       1            1   \n",
       "              other            0                    1       1            1   \n",
       "              other - school   0                   99      99           99   \n",
       "              parastatal       0                   67      67           67   \n",
       "              private operator 0                  211     211          211   \n",
       "              unknown          0                    6       6            6   \n",
       "              vwc              0                  169     169          169   \n",
       "              wua              0                    1       1            1   \n",
       "              wug              0                  222     222          222   \n",
       "\n",
       "                                       source_class  waterpoint_type  \\\n",
       "region        management       funder                                  \n",
       "Dar es Salaam company          0                  1                1   \n",
       "              other            0                  1                1   \n",
       "              other - school   0                 99               99   \n",
       "              parastatal       0                 67               67   \n",
       "              private operator 0                211              211   \n",
       "              unknown          0                  6                6   \n",
       "              vwc              0                169              169   \n",
       "              wua              0                  1                1   \n",
       "              wug              0                222              222   \n",
       "\n",
       "                                       waterpoint_type_group  \n",
       "region        management       funder                         \n",
       "Dar es Salaam company          0                           1  \n",
       "              other            0                           1  \n",
       "              other - school   0                          99  \n",
       "              parastatal       0                          67  \n",
       "              private operator 0                         211  \n",
       "              unknown          0                           6  \n",
       "              vwc              0                         169  \n",
       "              wua              0                           1  \n",
       "              wug              0                         222  \n",
       "\n",
       "[9 rows x 37 columns]"
      ]
     },
     "execution_count": 11,
     "metadata": {},
     "output_type": "execute_result"
    }
   ],
   "source": [
    "zero_installer = train_values[train_values['installer']=='0']\n",
    "zero_installer.groupby(['region', 'management', 'funder']).count()"
   ]
  },
  {
   "cell_type": "code",
   "execution_count": 12,
   "metadata": {},
   "outputs": [
    {
     "data": {
      "text/plain": [
       "DWE                   17402\n",
       "Government             1825\n",
       "RWE                    1206\n",
       "Commu                  1060\n",
       "DANIDA                 1050\n",
       "KKKT                    898\n",
       "Hesawa                  840\n",
       "0                       777\n",
       "TCRS                    707\n",
       "Central government      622\n",
       "CES                     610\n",
       "Community               553\n",
       "DANID                   552\n",
       "District Council        551\n",
       "HESAWA                  539\n",
       "LGA                     408\n",
       "World vision            408\n",
       "WEDECO                  397\n",
       "TASAF                   396\n",
       "District council        392\n",
       "Gover                   383\n",
       "AMREF                   329\n",
       "TWESA                   316\n",
       "WU                      301\n",
       "Dmdd                    287\n",
       "ACRA                    278\n",
       "World Vision            270\n",
       "SEMA                    249\n",
       "DW                      246\n",
       "OXFAM                   234\n",
       "Name: installer, dtype: int64"
      ]
     },
     "execution_count": 12,
     "metadata": {},
     "output_type": "execute_result"
    }
   ],
   "source": [
    "train_values.installer.value_counts().head(30)"
   ]
  },
  {
   "cell_type": "markdown",
   "metadata": {},
   "source": [
    "There are the same number of 0s for installer and funder. There also seem to be repeat entries due to data entry problems for example 'Commu' and 'Community' or 'District Council and 'District council' and 'Gover', 'Government' and 'Central Government'.\n",
    "\n",
    "Before dealing with that issue let's first look at the null values in more detail to decide what to do with them before cleaning up the data entry issues."
   ]
  },
  {
   "cell_type": "code",
   "execution_count": 13,
   "metadata": {},
   "outputs": [
    {
     "data": {
      "text/html": [
       "<div>\n",
       "<style scoped>\n",
       "    .dataframe tbody tr th:only-of-type {\n",
       "        vertical-align: middle;\n",
       "    }\n",
       "\n",
       "    .dataframe tbody tr th {\n",
       "        vertical-align: top;\n",
       "    }\n",
       "\n",
       "    .dataframe thead th {\n",
       "        text-align: right;\n",
       "    }\n",
       "</style>\n",
       "<table border=\"1\" class=\"dataframe\">\n",
       "  <thead>\n",
       "    <tr style=\"text-align: right;\">\n",
       "      <th></th>\n",
       "      <th></th>\n",
       "      <th></th>\n",
       "      <th>id</th>\n",
       "      <th>amount_tsh</th>\n",
       "      <th>date_recorded</th>\n",
       "      <th>funder</th>\n",
       "      <th>gps_height</th>\n",
       "      <th>longitude</th>\n",
       "      <th>latitude</th>\n",
       "      <th>wpt_name</th>\n",
       "      <th>num_private</th>\n",
       "      <th>basin</th>\n",
       "      <th>...</th>\n",
       "      <th>payment_type</th>\n",
       "      <th>water_quality</th>\n",
       "      <th>quality_group</th>\n",
       "      <th>quantity</th>\n",
       "      <th>quantity_group</th>\n",
       "      <th>source</th>\n",
       "      <th>source_type</th>\n",
       "      <th>source_class</th>\n",
       "      <th>waterpoint_type</th>\n",
       "      <th>waterpoint_type_group</th>\n",
       "    </tr>\n",
       "    <tr>\n",
       "      <th>region</th>\n",
       "      <th>management</th>\n",
       "      <th>installer</th>\n",
       "      <th></th>\n",
       "      <th></th>\n",
       "      <th></th>\n",
       "      <th></th>\n",
       "      <th></th>\n",
       "      <th></th>\n",
       "      <th></th>\n",
       "      <th></th>\n",
       "      <th></th>\n",
       "      <th></th>\n",
       "      <th></th>\n",
       "      <th></th>\n",
       "      <th></th>\n",
       "      <th></th>\n",
       "      <th></th>\n",
       "      <th></th>\n",
       "      <th></th>\n",
       "      <th></th>\n",
       "      <th></th>\n",
       "      <th></th>\n",
       "      <th></th>\n",
       "    </tr>\n",
       "  </thead>\n",
       "  <tbody>\n",
       "    <tr>\n",
       "      <th rowspan=\"7\" valign=\"top\">Arusha</th>\n",
       "      <th rowspan=\"4\" valign=\"top\">parastatal</th>\n",
       "      <th>ISSAC MOLLEL</th>\n",
       "      <td>3</td>\n",
       "      <td>3</td>\n",
       "      <td>3</td>\n",
       "      <td>0</td>\n",
       "      <td>3</td>\n",
       "      <td>3</td>\n",
       "      <td>3</td>\n",
       "      <td>3</td>\n",
       "      <td>3</td>\n",
       "      <td>3</td>\n",
       "      <td>...</td>\n",
       "      <td>3</td>\n",
       "      <td>3</td>\n",
       "      <td>3</td>\n",
       "      <td>3</td>\n",
       "      <td>3</td>\n",
       "      <td>3</td>\n",
       "      <td>3</td>\n",
       "      <td>3</td>\n",
       "      <td>3</td>\n",
       "      <td>3</td>\n",
       "    </tr>\n",
       "    <tr>\n",
       "      <th>ISSAC MOLLEl</th>\n",
       "      <td>1</td>\n",
       "      <td>1</td>\n",
       "      <td>1</td>\n",
       "      <td>0</td>\n",
       "      <td>1</td>\n",
       "      <td>1</td>\n",
       "      <td>1</td>\n",
       "      <td>1</td>\n",
       "      <td>1</td>\n",
       "      <td>1</td>\n",
       "      <td>...</td>\n",
       "      <td>1</td>\n",
       "      <td>1</td>\n",
       "      <td>1</td>\n",
       "      <td>1</td>\n",
       "      <td>1</td>\n",
       "      <td>1</td>\n",
       "      <td>1</td>\n",
       "      <td>1</td>\n",
       "      <td>1</td>\n",
       "      <td>1</td>\n",
       "    </tr>\n",
       "    <tr>\n",
       "      <th>VWC</th>\n",
       "      <td>1</td>\n",
       "      <td>1</td>\n",
       "      <td>1</td>\n",
       "      <td>0</td>\n",
       "      <td>1</td>\n",
       "      <td>1</td>\n",
       "      <td>1</td>\n",
       "      <td>1</td>\n",
       "      <td>1</td>\n",
       "      <td>1</td>\n",
       "      <td>...</td>\n",
       "      <td>1</td>\n",
       "      <td>1</td>\n",
       "      <td>1</td>\n",
       "      <td>1</td>\n",
       "      <td>1</td>\n",
       "      <td>1</td>\n",
       "      <td>1</td>\n",
       "      <td>1</td>\n",
       "      <td>1</td>\n",
       "      <td>1</td>\n",
       "    </tr>\n",
       "    <tr>\n",
       "      <th>WORLD VISION</th>\n",
       "      <td>1</td>\n",
       "      <td>1</td>\n",
       "      <td>1</td>\n",
       "      <td>0</td>\n",
       "      <td>1</td>\n",
       "      <td>1</td>\n",
       "      <td>1</td>\n",
       "      <td>1</td>\n",
       "      <td>1</td>\n",
       "      <td>1</td>\n",
       "      <td>...</td>\n",
       "      <td>1</td>\n",
       "      <td>1</td>\n",
       "      <td>1</td>\n",
       "      <td>1</td>\n",
       "      <td>1</td>\n",
       "      <td>1</td>\n",
       "      <td>1</td>\n",
       "      <td>1</td>\n",
       "      <td>1</td>\n",
       "      <td>1</td>\n",
       "    </tr>\n",
       "    <tr>\n",
       "      <th>unknown</th>\n",
       "      <th>DWE</th>\n",
       "      <td>2</td>\n",
       "      <td>2</td>\n",
       "      <td>2</td>\n",
       "      <td>0</td>\n",
       "      <td>2</td>\n",
       "      <td>2</td>\n",
       "      <td>2</td>\n",
       "      <td>2</td>\n",
       "      <td>2</td>\n",
       "      <td>2</td>\n",
       "      <td>...</td>\n",
       "      <td>2</td>\n",
       "      <td>2</td>\n",
       "      <td>2</td>\n",
       "      <td>2</td>\n",
       "      <td>2</td>\n",
       "      <td>2</td>\n",
       "      <td>2</td>\n",
       "      <td>2</td>\n",
       "      <td>2</td>\n",
       "      <td>2</td>\n",
       "    </tr>\n",
       "    <tr>\n",
       "      <th rowspan=\"2\" valign=\"top\">vwc</th>\n",
       "      <th>DWE</th>\n",
       "      <td>2</td>\n",
       "      <td>2</td>\n",
       "      <td>2</td>\n",
       "      <td>0</td>\n",
       "      <td>2</td>\n",
       "      <td>2</td>\n",
       "      <td>2</td>\n",
       "      <td>2</td>\n",
       "      <td>2</td>\n",
       "      <td>2</td>\n",
       "      <td>...</td>\n",
       "      <td>2</td>\n",
       "      <td>2</td>\n",
       "      <td>2</td>\n",
       "      <td>2</td>\n",
       "      <td>2</td>\n",
       "      <td>2</td>\n",
       "      <td>2</td>\n",
       "      <td>2</td>\n",
       "      <td>2</td>\n",
       "      <td>2</td>\n",
       "    </tr>\n",
       "    <tr>\n",
       "      <th>VWC</th>\n",
       "      <td>1</td>\n",
       "      <td>1</td>\n",
       "      <td>1</td>\n",
       "      <td>0</td>\n",
       "      <td>1</td>\n",
       "      <td>1</td>\n",
       "      <td>1</td>\n",
       "      <td>1</td>\n",
       "      <td>1</td>\n",
       "      <td>1</td>\n",
       "      <td>...</td>\n",
       "      <td>1</td>\n",
       "      <td>1</td>\n",
       "      <td>1</td>\n",
       "      <td>1</td>\n",
       "      <td>1</td>\n",
       "      <td>1</td>\n",
       "      <td>1</td>\n",
       "      <td>1</td>\n",
       "      <td>1</td>\n",
       "      <td>1</td>\n",
       "    </tr>\n",
       "    <tr>\n",
       "      <th rowspan=\"2\" valign=\"top\">Dodoma</th>\n",
       "      <th rowspan=\"2\" valign=\"top\">vwc</th>\n",
       "      <th>GOVER</th>\n",
       "      <td>1</td>\n",
       "      <td>1</td>\n",
       "      <td>1</td>\n",
       "      <td>0</td>\n",
       "      <td>1</td>\n",
       "      <td>1</td>\n",
       "      <td>1</td>\n",
       "      <td>1</td>\n",
       "      <td>1</td>\n",
       "      <td>1</td>\n",
       "      <td>...</td>\n",
       "      <td>1</td>\n",
       "      <td>1</td>\n",
       "      <td>1</td>\n",
       "      <td>1</td>\n",
       "      <td>1</td>\n",
       "      <td>1</td>\n",
       "      <td>1</td>\n",
       "      <td>1</td>\n",
       "      <td>1</td>\n",
       "      <td>1</td>\n",
       "    </tr>\n",
       "    <tr>\n",
       "      <th>Gove</th>\n",
       "      <td>2</td>\n",
       "      <td>2</td>\n",
       "      <td>2</td>\n",
       "      <td>0</td>\n",
       "      <td>2</td>\n",
       "      <td>2</td>\n",
       "      <td>2</td>\n",
       "      <td>2</td>\n",
       "      <td>2</td>\n",
       "      <td>2</td>\n",
       "      <td>...</td>\n",
       "      <td>2</td>\n",
       "      <td>2</td>\n",
       "      <td>2</td>\n",
       "      <td>2</td>\n",
       "      <td>2</td>\n",
       "      <td>2</td>\n",
       "      <td>2</td>\n",
       "      <td>2</td>\n",
       "      <td>2</td>\n",
       "      <td>2</td>\n",
       "    </tr>\n",
       "    <tr>\n",
       "      <th rowspan=\"4\" valign=\"top\">Iringa</th>\n",
       "      <th rowspan=\"3\" valign=\"top\">vwc</th>\n",
       "      <th>Angli</th>\n",
       "      <td>1</td>\n",
       "      <td>1</td>\n",
       "      <td>1</td>\n",
       "      <td>0</td>\n",
       "      <td>1</td>\n",
       "      <td>1</td>\n",
       "      <td>1</td>\n",
       "      <td>1</td>\n",
       "      <td>1</td>\n",
       "      <td>1</td>\n",
       "      <td>...</td>\n",
       "      <td>1</td>\n",
       "      <td>1</td>\n",
       "      <td>1</td>\n",
       "      <td>1</td>\n",
       "      <td>1</td>\n",
       "      <td>1</td>\n",
       "      <td>1</td>\n",
       "      <td>1</td>\n",
       "      <td>1</td>\n",
       "      <td>1</td>\n",
       "    </tr>\n",
       "    <tr>\n",
       "      <th>DWE</th>\n",
       "      <td>1</td>\n",
       "      <td>1</td>\n",
       "      <td>1</td>\n",
       "      <td>0</td>\n",
       "      <td>1</td>\n",
       "      <td>1</td>\n",
       "      <td>1</td>\n",
       "      <td>1</td>\n",
       "      <td>1</td>\n",
       "      <td>1</td>\n",
       "      <td>...</td>\n",
       "      <td>1</td>\n",
       "      <td>1</td>\n",
       "      <td>1</td>\n",
       "      <td>1</td>\n",
       "      <td>1</td>\n",
       "      <td>1</td>\n",
       "      <td>1</td>\n",
       "      <td>1</td>\n",
       "      <td>1</td>\n",
       "      <td>1</td>\n",
       "    </tr>\n",
       "    <tr>\n",
       "      <th>rc ch</th>\n",
       "      <td>1</td>\n",
       "      <td>1</td>\n",
       "      <td>1</td>\n",
       "      <td>0</td>\n",
       "      <td>1</td>\n",
       "      <td>1</td>\n",
       "      <td>1</td>\n",
       "      <td>1</td>\n",
       "      <td>1</td>\n",
       "      <td>1</td>\n",
       "      <td>...</td>\n",
       "      <td>1</td>\n",
       "      <td>1</td>\n",
       "      <td>1</td>\n",
       "      <td>1</td>\n",
       "      <td>1</td>\n",
       "      <td>1</td>\n",
       "      <td>1</td>\n",
       "      <td>1</td>\n",
       "      <td>1</td>\n",
       "      <td>1</td>\n",
       "    </tr>\n",
       "    <tr>\n",
       "      <th>wua</th>\n",
       "      <th>UNICEF</th>\n",
       "      <td>1</td>\n",
       "      <td>1</td>\n",
       "      <td>1</td>\n",
       "      <td>0</td>\n",
       "      <td>1</td>\n",
       "      <td>1</td>\n",
       "      <td>1</td>\n",
       "      <td>1</td>\n",
       "      <td>1</td>\n",
       "      <td>1</td>\n",
       "      <td>...</td>\n",
       "      <td>1</td>\n",
       "      <td>1</td>\n",
       "      <td>1</td>\n",
       "      <td>1</td>\n",
       "      <td>1</td>\n",
       "      <td>1</td>\n",
       "      <td>1</td>\n",
       "      <td>1</td>\n",
       "      <td>1</td>\n",
       "      <td>1</td>\n",
       "    </tr>\n",
       "    <tr>\n",
       "      <th>Kagera</th>\n",
       "      <th>vwc</th>\n",
       "      <th>DW</th>\n",
       "      <td>18</td>\n",
       "      <td>18</td>\n",
       "      <td>18</td>\n",
       "      <td>0</td>\n",
       "      <td>18</td>\n",
       "      <td>18</td>\n",
       "      <td>18</td>\n",
       "      <td>18</td>\n",
       "      <td>18</td>\n",
       "      <td>18</td>\n",
       "      <td>...</td>\n",
       "      <td>18</td>\n",
       "      <td>18</td>\n",
       "      <td>18</td>\n",
       "      <td>18</td>\n",
       "      <td>18</td>\n",
       "      <td>18</td>\n",
       "      <td>18</td>\n",
       "      <td>18</td>\n",
       "      <td>18</td>\n",
       "      <td>18</td>\n",
       "    </tr>\n",
       "    <tr>\n",
       "      <th rowspan=\"4\" valign=\"top\">Mara</th>\n",
       "      <th rowspan=\"2\" valign=\"top\">private operator</th>\n",
       "      <th>Shule</th>\n",
       "      <td>1</td>\n",
       "      <td>1</td>\n",
       "      <td>1</td>\n",
       "      <td>0</td>\n",
       "      <td>1</td>\n",
       "      <td>1</td>\n",
       "      <td>1</td>\n",
       "      <td>1</td>\n",
       "      <td>1</td>\n",
       "      <td>1</td>\n",
       "      <td>...</td>\n",
       "      <td>1</td>\n",
       "      <td>1</td>\n",
       "      <td>1</td>\n",
       "      <td>1</td>\n",
       "      <td>1</td>\n",
       "      <td>1</td>\n",
       "      <td>1</td>\n",
       "      <td>1</td>\n",
       "      <td>1</td>\n",
       "      <td>1</td>\n",
       "    </tr>\n",
       "    <tr>\n",
       "      <th>marafip</th>\n",
       "      <td>1</td>\n",
       "      <td>1</td>\n",
       "      <td>1</td>\n",
       "      <td>0</td>\n",
       "      <td>1</td>\n",
       "      <td>1</td>\n",
       "      <td>1</td>\n",
       "      <td>1</td>\n",
       "      <td>1</td>\n",
       "      <td>1</td>\n",
       "      <td>...</td>\n",
       "      <td>1</td>\n",
       "      <td>1</td>\n",
       "      <td>1</td>\n",
       "      <td>1</td>\n",
       "      <td>1</td>\n",
       "      <td>1</td>\n",
       "      <td>1</td>\n",
       "      <td>1</td>\n",
       "      <td>1</td>\n",
       "      <td>1</td>\n",
       "    </tr>\n",
       "    <tr>\n",
       "      <th>unknown</th>\n",
       "      <th>Privat</th>\n",
       "      <td>1</td>\n",
       "      <td>1</td>\n",
       "      <td>1</td>\n",
       "      <td>0</td>\n",
       "      <td>1</td>\n",
       "      <td>1</td>\n",
       "      <td>1</td>\n",
       "      <td>1</td>\n",
       "      <td>1</td>\n",
       "      <td>1</td>\n",
       "      <td>...</td>\n",
       "      <td>1</td>\n",
       "      <td>1</td>\n",
       "      <td>1</td>\n",
       "      <td>1</td>\n",
       "      <td>1</td>\n",
       "      <td>1</td>\n",
       "      <td>1</td>\n",
       "      <td>1</td>\n",
       "      <td>1</td>\n",
       "      <td>1</td>\n",
       "    </tr>\n",
       "    <tr>\n",
       "      <th>vwc</th>\n",
       "      <th>MINISTRYOF WATER</th>\n",
       "      <td>1</td>\n",
       "      <td>1</td>\n",
       "      <td>1</td>\n",
       "      <td>0</td>\n",
       "      <td>1</td>\n",
       "      <td>1</td>\n",
       "      <td>1</td>\n",
       "      <td>1</td>\n",
       "      <td>1</td>\n",
       "      <td>1</td>\n",
       "      <td>...</td>\n",
       "      <td>1</td>\n",
       "      <td>1</td>\n",
       "      <td>1</td>\n",
       "      <td>1</td>\n",
       "      <td>1</td>\n",
       "      <td>1</td>\n",
       "      <td>1</td>\n",
       "      <td>1</td>\n",
       "      <td>1</td>\n",
       "      <td>1</td>\n",
       "    </tr>\n",
       "    <tr>\n",
       "      <th>Morogoro</th>\n",
       "      <th>vwc</th>\n",
       "      <th>DHV Moro</th>\n",
       "      <td>1</td>\n",
       "      <td>1</td>\n",
       "      <td>1</td>\n",
       "      <td>0</td>\n",
       "      <td>1</td>\n",
       "      <td>1</td>\n",
       "      <td>1</td>\n",
       "      <td>1</td>\n",
       "      <td>1</td>\n",
       "      <td>1</td>\n",
       "      <td>...</td>\n",
       "      <td>1</td>\n",
       "      <td>1</td>\n",
       "      <td>1</td>\n",
       "      <td>1</td>\n",
       "      <td>1</td>\n",
       "      <td>1</td>\n",
       "      <td>1</td>\n",
       "      <td>1</td>\n",
       "      <td>1</td>\n",
       "      <td>1</td>\n",
       "    </tr>\n",
       "    <tr>\n",
       "      <th>Mwanza</th>\n",
       "      <th>vwc</th>\n",
       "      <th>HESAWA</th>\n",
       "      <td>1</td>\n",
       "      <td>1</td>\n",
       "      <td>1</td>\n",
       "      <td>0</td>\n",
       "      <td>1</td>\n",
       "      <td>1</td>\n",
       "      <td>1</td>\n",
       "      <td>1</td>\n",
       "      <td>1</td>\n",
       "      <td>1</td>\n",
       "      <td>...</td>\n",
       "      <td>1</td>\n",
       "      <td>1</td>\n",
       "      <td>1</td>\n",
       "      <td>1</td>\n",
       "      <td>1</td>\n",
       "      <td>1</td>\n",
       "      <td>1</td>\n",
       "      <td>1</td>\n",
       "      <td>1</td>\n",
       "      <td>1</td>\n",
       "    </tr>\n",
       "    <tr>\n",
       "      <th>Rukwa</th>\n",
       "      <th>vwc</th>\n",
       "      <th>DWE</th>\n",
       "      <td>2</td>\n",
       "      <td>2</td>\n",
       "      <td>2</td>\n",
       "      <td>0</td>\n",
       "      <td>2</td>\n",
       "      <td>2</td>\n",
       "      <td>2</td>\n",
       "      <td>2</td>\n",
       "      <td>2</td>\n",
       "      <td>2</td>\n",
       "      <td>...</td>\n",
       "      <td>2</td>\n",
       "      <td>2</td>\n",
       "      <td>2</td>\n",
       "      <td>2</td>\n",
       "      <td>2</td>\n",
       "      <td>2</td>\n",
       "      <td>2</td>\n",
       "      <td>2</td>\n",
       "      <td>2</td>\n",
       "      <td>2</td>\n",
       "    </tr>\n",
       "    <tr>\n",
       "      <th rowspan=\"4\" valign=\"top\">Shinyanga</th>\n",
       "      <th rowspan=\"3\" valign=\"top\">parastatal</th>\n",
       "      <th>DWE</th>\n",
       "      <td>2</td>\n",
       "      <td>2</td>\n",
       "      <td>2</td>\n",
       "      <td>0</td>\n",
       "      <td>2</td>\n",
       "      <td>2</td>\n",
       "      <td>2</td>\n",
       "      <td>2</td>\n",
       "      <td>2</td>\n",
       "      <td>2</td>\n",
       "      <td>...</td>\n",
       "      <td>2</td>\n",
       "      <td>2</td>\n",
       "      <td>2</td>\n",
       "      <td>2</td>\n",
       "      <td>2</td>\n",
       "      <td>2</td>\n",
       "      <td>2</td>\n",
       "      <td>2</td>\n",
       "      <td>2</td>\n",
       "      <td>2</td>\n",
       "    </tr>\n",
       "    <tr>\n",
       "      <th>OXFAM</th>\n",
       "      <td>1</td>\n",
       "      <td>1</td>\n",
       "      <td>1</td>\n",
       "      <td>0</td>\n",
       "      <td>1</td>\n",
       "      <td>1</td>\n",
       "      <td>1</td>\n",
       "      <td>1</td>\n",
       "      <td>1</td>\n",
       "      <td>1</td>\n",
       "      <td>...</td>\n",
       "      <td>1</td>\n",
       "      <td>1</td>\n",
       "      <td>1</td>\n",
       "      <td>1</td>\n",
       "      <td>1</td>\n",
       "      <td>1</td>\n",
       "      <td>1</td>\n",
       "      <td>1</td>\n",
       "      <td>1</td>\n",
       "      <td>1</td>\n",
       "    </tr>\n",
       "    <tr>\n",
       "      <th>RWSSP</th>\n",
       "      <td>1</td>\n",
       "      <td>1</td>\n",
       "      <td>1</td>\n",
       "      <td>0</td>\n",
       "      <td>1</td>\n",
       "      <td>1</td>\n",
       "      <td>1</td>\n",
       "      <td>1</td>\n",
       "      <td>1</td>\n",
       "      <td>1</td>\n",
       "      <td>...</td>\n",
       "      <td>1</td>\n",
       "      <td>1</td>\n",
       "      <td>1</td>\n",
       "      <td>1</td>\n",
       "      <td>1</td>\n",
       "      <td>1</td>\n",
       "      <td>1</td>\n",
       "      <td>1</td>\n",
       "      <td>1</td>\n",
       "      <td>1</td>\n",
       "    </tr>\n",
       "    <tr>\n",
       "      <th>wug</th>\n",
       "      <th>DWE</th>\n",
       "      <td>3</td>\n",
       "      <td>3</td>\n",
       "      <td>3</td>\n",
       "      <td>0</td>\n",
       "      <td>3</td>\n",
       "      <td>3</td>\n",
       "      <td>3</td>\n",
       "      <td>3</td>\n",
       "      <td>3</td>\n",
       "      <td>3</td>\n",
       "      <td>...</td>\n",
       "      <td>3</td>\n",
       "      <td>3</td>\n",
       "      <td>3</td>\n",
       "      <td>3</td>\n",
       "      <td>3</td>\n",
       "      <td>3</td>\n",
       "      <td>3</td>\n",
       "      <td>3</td>\n",
       "      <td>3</td>\n",
       "      <td>3</td>\n",
       "    </tr>\n",
       "    <tr>\n",
       "      <th>Tabora</th>\n",
       "      <th>vwc</th>\n",
       "      <th>GOVERNMENT</th>\n",
       "      <td>2</td>\n",
       "      <td>2</td>\n",
       "      <td>2</td>\n",
       "      <td>0</td>\n",
       "      <td>2</td>\n",
       "      <td>2</td>\n",
       "      <td>2</td>\n",
       "      <td>2</td>\n",
       "      <td>2</td>\n",
       "      <td>2</td>\n",
       "      <td>...</td>\n",
       "      <td>2</td>\n",
       "      <td>2</td>\n",
       "      <td>2</td>\n",
       "      <td>2</td>\n",
       "      <td>2</td>\n",
       "      <td>2</td>\n",
       "      <td>2</td>\n",
       "      <td>2</td>\n",
       "      <td>2</td>\n",
       "      <td>2</td>\n",
       "    </tr>\n",
       "  </tbody>\n",
       "</table>\n",
       "<p>26 rows × 37 columns</p>\n",
       "</div>"
      ],
      "text/plain": [
       "                                             id  amount_tsh  date_recorded  \\\n",
       "region    management       installer                                         \n",
       "Arusha    parastatal       ISSAC MOLLEL       3           3              3   \n",
       "                           ISSAC MOLLEl       1           1              1   \n",
       "                           VWC                1           1              1   \n",
       "                           WORLD VISION       1           1              1   \n",
       "          unknown          DWE                2           2              2   \n",
       "          vwc              DWE                2           2              2   \n",
       "                           VWC                1           1              1   \n",
       "Dodoma    vwc              GOVER              1           1              1   \n",
       "                           Gove               2           2              2   \n",
       "Iringa    vwc              Angli              1           1              1   \n",
       "                           DWE                1           1              1   \n",
       "                           rc ch              1           1              1   \n",
       "          wua              UNICEF             1           1              1   \n",
       "Kagera    vwc              DW                18          18             18   \n",
       "Mara      private operator Shule              1           1              1   \n",
       "                           marafip            1           1              1   \n",
       "          unknown          Privat             1           1              1   \n",
       "          vwc              MINISTRYOF WATER   1           1              1   \n",
       "Morogoro  vwc              DHV Moro           1           1              1   \n",
       "Mwanza    vwc              HESAWA             1           1              1   \n",
       "Rukwa     vwc              DWE                2           2              2   \n",
       "Shinyanga parastatal       DWE                2           2              2   \n",
       "                           OXFAM              1           1              1   \n",
       "                           RWSSP              1           1              1   \n",
       "          wug              DWE                3           3              3   \n",
       "Tabora    vwc              GOVERNMENT         2           2              2   \n",
       "\n",
       "                                             funder  gps_height  longitude  \\\n",
       "region    management       installer                                         \n",
       "Arusha    parastatal       ISSAC MOLLEL           0           3          3   \n",
       "                           ISSAC MOLLEl           0           1          1   \n",
       "                           VWC                    0           1          1   \n",
       "                           WORLD VISION           0           1          1   \n",
       "          unknown          DWE                    0           2          2   \n",
       "          vwc              DWE                    0           2          2   \n",
       "                           VWC                    0           1          1   \n",
       "Dodoma    vwc              GOVER                  0           1          1   \n",
       "                           Gove                   0           2          2   \n",
       "Iringa    vwc              Angli                  0           1          1   \n",
       "                           DWE                    0           1          1   \n",
       "                           rc ch                  0           1          1   \n",
       "          wua              UNICEF                 0           1          1   \n",
       "Kagera    vwc              DW                     0          18         18   \n",
       "Mara      private operator Shule                  0           1          1   \n",
       "                           marafip                0           1          1   \n",
       "          unknown          Privat                 0           1          1   \n",
       "          vwc              MINISTRYOF WATER       0           1          1   \n",
       "Morogoro  vwc              DHV Moro               0           1          1   \n",
       "Mwanza    vwc              HESAWA                 0           1          1   \n",
       "Rukwa     vwc              DWE                    0           2          2   \n",
       "Shinyanga parastatal       DWE                    0           2          2   \n",
       "                           OXFAM                  0           1          1   \n",
       "                           RWSSP                  0           1          1   \n",
       "          wug              DWE                    0           3          3   \n",
       "Tabora    vwc              GOVERNMENT             0           2          2   \n",
       "\n",
       "                                             latitude  wpt_name  num_private  \\\n",
       "region    management       installer                                           \n",
       "Arusha    parastatal       ISSAC MOLLEL             3         3            3   \n",
       "                           ISSAC MOLLEl             1         1            1   \n",
       "                           VWC                      1         1            1   \n",
       "                           WORLD VISION             1         1            1   \n",
       "          unknown          DWE                      2         2            2   \n",
       "          vwc              DWE                      2         2            2   \n",
       "                           VWC                      1         1            1   \n",
       "Dodoma    vwc              GOVER                    1         1            1   \n",
       "                           Gove                     2         2            2   \n",
       "Iringa    vwc              Angli                    1         1            1   \n",
       "                           DWE                      1         1            1   \n",
       "                           rc ch                    1         1            1   \n",
       "          wua              UNICEF                   1         1            1   \n",
       "Kagera    vwc              DW                      18        18           18   \n",
       "Mara      private operator Shule                    1         1            1   \n",
       "                           marafip                  1         1            1   \n",
       "          unknown          Privat                   1         1            1   \n",
       "          vwc              MINISTRYOF WATER         1         1            1   \n",
       "Morogoro  vwc              DHV Moro                 1         1            1   \n",
       "Mwanza    vwc              HESAWA                   1         1            1   \n",
       "Rukwa     vwc              DWE                      2         2            2   \n",
       "Shinyanga parastatal       DWE                      2         2            2   \n",
       "                           OXFAM                    1         1            1   \n",
       "                           RWSSP                    1         1            1   \n",
       "          wug              DWE                      3         3            3   \n",
       "Tabora    vwc              GOVERNMENT               2         2            2   \n",
       "\n",
       "                                             basin  ...  payment_type  \\\n",
       "region    management       installer                ...                 \n",
       "Arusha    parastatal       ISSAC MOLLEL          3  ...             3   \n",
       "                           ISSAC MOLLEl          1  ...             1   \n",
       "                           VWC                   1  ...             1   \n",
       "                           WORLD VISION          1  ...             1   \n",
       "          unknown          DWE                   2  ...             2   \n",
       "          vwc              DWE                   2  ...             2   \n",
       "                           VWC                   1  ...             1   \n",
       "Dodoma    vwc              GOVER                 1  ...             1   \n",
       "                           Gove                  2  ...             2   \n",
       "Iringa    vwc              Angli                 1  ...             1   \n",
       "                           DWE                   1  ...             1   \n",
       "                           rc ch                 1  ...             1   \n",
       "          wua              UNICEF                1  ...             1   \n",
       "Kagera    vwc              DW                   18  ...            18   \n",
       "Mara      private operator Shule                 1  ...             1   \n",
       "                           marafip               1  ...             1   \n",
       "          unknown          Privat                1  ...             1   \n",
       "          vwc              MINISTRYOF WATER      1  ...             1   \n",
       "Morogoro  vwc              DHV Moro              1  ...             1   \n",
       "Mwanza    vwc              HESAWA                1  ...             1   \n",
       "Rukwa     vwc              DWE                   2  ...             2   \n",
       "Shinyanga parastatal       DWE                   2  ...             2   \n",
       "                           OXFAM                 1  ...             1   \n",
       "                           RWSSP                 1  ...             1   \n",
       "          wug              DWE                   3  ...             3   \n",
       "Tabora    vwc              GOVERNMENT            2  ...             2   \n",
       "\n",
       "                                             water_quality  quality_group  \\\n",
       "region    management       installer                                        \n",
       "Arusha    parastatal       ISSAC MOLLEL                  3              3   \n",
       "                           ISSAC MOLLEl                  1              1   \n",
       "                           VWC                           1              1   \n",
       "                           WORLD VISION                  1              1   \n",
       "          unknown          DWE                           2              2   \n",
       "          vwc              DWE                           2              2   \n",
       "                           VWC                           1              1   \n",
       "Dodoma    vwc              GOVER                         1              1   \n",
       "                           Gove                          2              2   \n",
       "Iringa    vwc              Angli                         1              1   \n",
       "                           DWE                           1              1   \n",
       "                           rc ch                         1              1   \n",
       "          wua              UNICEF                        1              1   \n",
       "Kagera    vwc              DW                           18             18   \n",
       "Mara      private operator Shule                         1              1   \n",
       "                           marafip                       1              1   \n",
       "          unknown          Privat                        1              1   \n",
       "          vwc              MINISTRYOF WATER              1              1   \n",
       "Morogoro  vwc              DHV Moro                      1              1   \n",
       "Mwanza    vwc              HESAWA                        1              1   \n",
       "Rukwa     vwc              DWE                           2              2   \n",
       "Shinyanga parastatal       DWE                           2              2   \n",
       "                           OXFAM                         1              1   \n",
       "                           RWSSP                         1              1   \n",
       "          wug              DWE                           3              3   \n",
       "Tabora    vwc              GOVERNMENT                    2              2   \n",
       "\n",
       "                                             quantity  quantity_group  source  \\\n",
       "region    management       installer                                            \n",
       "Arusha    parastatal       ISSAC MOLLEL             3               3       3   \n",
       "                           ISSAC MOLLEl             1               1       1   \n",
       "                           VWC                      1               1       1   \n",
       "                           WORLD VISION             1               1       1   \n",
       "          unknown          DWE                      2               2       2   \n",
       "          vwc              DWE                      2               2       2   \n",
       "                           VWC                      1               1       1   \n",
       "Dodoma    vwc              GOVER                    1               1       1   \n",
       "                           Gove                     2               2       2   \n",
       "Iringa    vwc              Angli                    1               1       1   \n",
       "                           DWE                      1               1       1   \n",
       "                           rc ch                    1               1       1   \n",
       "          wua              UNICEF                   1               1       1   \n",
       "Kagera    vwc              DW                      18              18      18   \n",
       "Mara      private operator Shule                    1               1       1   \n",
       "                           marafip                  1               1       1   \n",
       "          unknown          Privat                   1               1       1   \n",
       "          vwc              MINISTRYOF WATER         1               1       1   \n",
       "Morogoro  vwc              DHV Moro                 1               1       1   \n",
       "Mwanza    vwc              HESAWA                   1               1       1   \n",
       "Rukwa     vwc              DWE                      2               2       2   \n",
       "Shinyanga parastatal       DWE                      2               2       2   \n",
       "                           OXFAM                    1               1       1   \n",
       "                           RWSSP                    1               1       1   \n",
       "          wug              DWE                      3               3       3   \n",
       "Tabora    vwc              GOVERNMENT               2               2       2   \n",
       "\n",
       "                                             source_type  source_class  \\\n",
       "region    management       installer                                     \n",
       "Arusha    parastatal       ISSAC MOLLEL                3             3   \n",
       "                           ISSAC MOLLEl                1             1   \n",
       "                           VWC                         1             1   \n",
       "                           WORLD VISION                1             1   \n",
       "          unknown          DWE                         2             2   \n",
       "          vwc              DWE                         2             2   \n",
       "                           VWC                         1             1   \n",
       "Dodoma    vwc              GOVER                       1             1   \n",
       "                           Gove                        2             2   \n",
       "Iringa    vwc              Angli                       1             1   \n",
       "                           DWE                         1             1   \n",
       "                           rc ch                       1             1   \n",
       "          wua              UNICEF                      1             1   \n",
       "Kagera    vwc              DW                         18            18   \n",
       "Mara      private operator Shule                       1             1   \n",
       "                           marafip                     1             1   \n",
       "          unknown          Privat                      1             1   \n",
       "          vwc              MINISTRYOF WATER            1             1   \n",
       "Morogoro  vwc              DHV Moro                    1             1   \n",
       "Mwanza    vwc              HESAWA                      1             1   \n",
       "Rukwa     vwc              DWE                         2             2   \n",
       "Shinyanga parastatal       DWE                         2             2   \n",
       "                           OXFAM                       1             1   \n",
       "                           RWSSP                       1             1   \n",
       "          wug              DWE                         3             3   \n",
       "Tabora    vwc              GOVERNMENT                  2             2   \n",
       "\n",
       "                                             waterpoint_type  \\\n",
       "region    management       installer                           \n",
       "Arusha    parastatal       ISSAC MOLLEL                    3   \n",
       "                           ISSAC MOLLEl                    1   \n",
       "                           VWC                             1   \n",
       "                           WORLD VISION                    1   \n",
       "          unknown          DWE                             2   \n",
       "          vwc              DWE                             2   \n",
       "                           VWC                             1   \n",
       "Dodoma    vwc              GOVER                           1   \n",
       "                           Gove                            2   \n",
       "Iringa    vwc              Angli                           1   \n",
       "                           DWE                             1   \n",
       "                           rc ch                           1   \n",
       "          wua              UNICEF                          1   \n",
       "Kagera    vwc              DW                             18   \n",
       "Mara      private operator Shule                           1   \n",
       "                           marafip                         1   \n",
       "          unknown          Privat                          1   \n",
       "          vwc              MINISTRYOF WATER                1   \n",
       "Morogoro  vwc              DHV Moro                        1   \n",
       "Mwanza    vwc              HESAWA                          1   \n",
       "Rukwa     vwc              DWE                             2   \n",
       "Shinyanga parastatal       DWE                             2   \n",
       "                           OXFAM                           1   \n",
       "                           RWSSP                           1   \n",
       "          wug              DWE                             3   \n",
       "Tabora    vwc              GOVERNMENT                      2   \n",
       "\n",
       "                                             waterpoint_type_group  \n",
       "region    management       installer                                \n",
       "Arusha    parastatal       ISSAC MOLLEL                          3  \n",
       "                           ISSAC MOLLEl                          1  \n",
       "                           VWC                                   1  \n",
       "                           WORLD VISION                          1  \n",
       "          unknown          DWE                                   2  \n",
       "          vwc              DWE                                   2  \n",
       "                           VWC                                   1  \n",
       "Dodoma    vwc              GOVER                                 1  \n",
       "                           Gove                                  2  \n",
       "Iringa    vwc              Angli                                 1  \n",
       "                           DWE                                   1  \n",
       "                           rc ch                                 1  \n",
       "          wua              UNICEF                                1  \n",
       "Kagera    vwc              DW                                   18  \n",
       "Mara      private operator Shule                                 1  \n",
       "                           marafip                               1  \n",
       "          unknown          Privat                                1  \n",
       "          vwc              MINISTRYOF WATER                      1  \n",
       "Morogoro  vwc              DHV Moro                              1  \n",
       "Mwanza    vwc              HESAWA                                1  \n",
       "Rukwa     vwc              DWE                                   2  \n",
       "Shinyanga parastatal       DWE                                   2  \n",
       "                           OXFAM                                 1  \n",
       "                           RWSSP                                 1  \n",
       "          wug              DWE                                   3  \n",
       "Tabora    vwc              GOVERNMENT                            2  \n",
       "\n",
       "[26 rows x 37 columns]"
      ]
     },
     "execution_count": 13,
     "metadata": {},
     "output_type": "execute_result"
    }
   ],
   "source": [
    "nan_funder = train_values[train_values['funder'].isna()]\n",
    "nan_funder.groupby(['region', 'management', 'installer']).count()"
   ]
  },
  {
   "cell_type": "code",
   "execution_count": 14,
   "metadata": {},
   "outputs": [
    {
     "data": {
      "text/html": [
       "<div>\n",
       "<style scoped>\n",
       "    .dataframe tbody tr th:only-of-type {\n",
       "        vertical-align: middle;\n",
       "    }\n",
       "\n",
       "    .dataframe tbody tr th {\n",
       "        vertical-align: top;\n",
       "    }\n",
       "\n",
       "    .dataframe thead th {\n",
       "        text-align: right;\n",
       "    }\n",
       "</style>\n",
       "<table border=\"1\" class=\"dataframe\">\n",
       "  <thead>\n",
       "    <tr style=\"text-align: right;\">\n",
       "      <th></th>\n",
       "      <th></th>\n",
       "      <th></th>\n",
       "      <th>id</th>\n",
       "      <th>amount_tsh</th>\n",
       "      <th>date_recorded</th>\n",
       "      <th>gps_height</th>\n",
       "      <th>installer</th>\n",
       "      <th>longitude</th>\n",
       "      <th>latitude</th>\n",
       "      <th>wpt_name</th>\n",
       "      <th>num_private</th>\n",
       "      <th>basin</th>\n",
       "      <th>...</th>\n",
       "      <th>payment_type</th>\n",
       "      <th>water_quality</th>\n",
       "      <th>quality_group</th>\n",
       "      <th>quantity</th>\n",
       "      <th>quantity_group</th>\n",
       "      <th>source</th>\n",
       "      <th>source_type</th>\n",
       "      <th>source_class</th>\n",
       "      <th>waterpoint_type</th>\n",
       "      <th>waterpoint_type_group</th>\n",
       "    </tr>\n",
       "    <tr>\n",
       "      <th>region</th>\n",
       "      <th>management</th>\n",
       "      <th>funder</th>\n",
       "      <th></th>\n",
       "      <th></th>\n",
       "      <th></th>\n",
       "      <th></th>\n",
       "      <th></th>\n",
       "      <th></th>\n",
       "      <th></th>\n",
       "      <th></th>\n",
       "      <th></th>\n",
       "      <th></th>\n",
       "      <th></th>\n",
       "      <th></th>\n",
       "      <th></th>\n",
       "      <th></th>\n",
       "      <th></th>\n",
       "      <th></th>\n",
       "      <th></th>\n",
       "      <th></th>\n",
       "      <th></th>\n",
       "      <th></th>\n",
       "      <th></th>\n",
       "    </tr>\n",
       "  </thead>\n",
       "  <tbody>\n",
       "    <tr>\n",
       "      <th rowspan=\"6\" valign=\"top\">Arusha</th>\n",
       "      <th rowspan=\"3\" valign=\"top\">parastatal</th>\n",
       "      <th>Fredked Conservation</th>\n",
       "      <td>1</td>\n",
       "      <td>1</td>\n",
       "      <td>1</td>\n",
       "      <td>1</td>\n",
       "      <td>0</td>\n",
       "      <td>1</td>\n",
       "      <td>1</td>\n",
       "      <td>1</td>\n",
       "      <td>1</td>\n",
       "      <td>1</td>\n",
       "      <td>...</td>\n",
       "      <td>1</td>\n",
       "      <td>1</td>\n",
       "      <td>1</td>\n",
       "      <td>1</td>\n",
       "      <td>1</td>\n",
       "      <td>1</td>\n",
       "      <td>1</td>\n",
       "      <td>1</td>\n",
       "      <td>1</td>\n",
       "      <td>1</td>\n",
       "    </tr>\n",
       "    <tr>\n",
       "      <th>Rc Church</th>\n",
       "      <td>1</td>\n",
       "      <td>1</td>\n",
       "      <td>1</td>\n",
       "      <td>1</td>\n",
       "      <td>0</td>\n",
       "      <td>1</td>\n",
       "      <td>1</td>\n",
       "      <td>1</td>\n",
       "      <td>1</td>\n",
       "      <td>1</td>\n",
       "      <td>...</td>\n",
       "      <td>1</td>\n",
       "      <td>1</td>\n",
       "      <td>1</td>\n",
       "      <td>1</td>\n",
       "      <td>1</td>\n",
       "      <td>1</td>\n",
       "      <td>1</td>\n",
       "      <td>1</td>\n",
       "      <td>1</td>\n",
       "      <td>1</td>\n",
       "    </tr>\n",
       "    <tr>\n",
       "      <th>Wfp</th>\n",
       "      <td>2</td>\n",
       "      <td>2</td>\n",
       "      <td>2</td>\n",
       "      <td>2</td>\n",
       "      <td>0</td>\n",
       "      <td>2</td>\n",
       "      <td>2</td>\n",
       "      <td>2</td>\n",
       "      <td>2</td>\n",
       "      <td>2</td>\n",
       "      <td>...</td>\n",
       "      <td>2</td>\n",
       "      <td>2</td>\n",
       "      <td>2</td>\n",
       "      <td>2</td>\n",
       "      <td>2</td>\n",
       "      <td>2</td>\n",
       "      <td>2</td>\n",
       "      <td>2</td>\n",
       "      <td>2</td>\n",
       "      <td>2</td>\n",
       "    </tr>\n",
       "    <tr>\n",
       "      <th rowspan=\"3\" valign=\"top\">vwc</th>\n",
       "      <th>District Council</th>\n",
       "      <td>1</td>\n",
       "      <td>1</td>\n",
       "      <td>1</td>\n",
       "      <td>1</td>\n",
       "      <td>0</td>\n",
       "      <td>1</td>\n",
       "      <td>1</td>\n",
       "      <td>1</td>\n",
       "      <td>1</td>\n",
       "      <td>1</td>\n",
       "      <td>...</td>\n",
       "      <td>1</td>\n",
       "      <td>1</td>\n",
       "      <td>1</td>\n",
       "      <td>1</td>\n",
       "      <td>1</td>\n",
       "      <td>1</td>\n",
       "      <td>1</td>\n",
       "      <td>1</td>\n",
       "      <td>1</td>\n",
       "      <td>1</td>\n",
       "    </tr>\n",
       "    <tr>\n",
       "      <th>Ministry Of Agricultura</th>\n",
       "      <td>1</td>\n",
       "      <td>1</td>\n",
       "      <td>1</td>\n",
       "      <td>1</td>\n",
       "      <td>0</td>\n",
       "      <td>1</td>\n",
       "      <td>1</td>\n",
       "      <td>1</td>\n",
       "      <td>1</td>\n",
       "      <td>1</td>\n",
       "      <td>...</td>\n",
       "      <td>1</td>\n",
       "      <td>1</td>\n",
       "      <td>1</td>\n",
       "      <td>1</td>\n",
       "      <td>1</td>\n",
       "      <td>1</td>\n",
       "      <td>1</td>\n",
       "      <td>1</td>\n",
       "      <td>1</td>\n",
       "      <td>1</td>\n",
       "    </tr>\n",
       "    <tr>\n",
       "      <th>Ministry Of Water</th>\n",
       "      <td>4</td>\n",
       "      <td>4</td>\n",
       "      <td>4</td>\n",
       "      <td>4</td>\n",
       "      <td>0</td>\n",
       "      <td>4</td>\n",
       "      <td>4</td>\n",
       "      <td>4</td>\n",
       "      <td>4</td>\n",
       "      <td>4</td>\n",
       "      <td>...</td>\n",
       "      <td>4</td>\n",
       "      <td>4</td>\n",
       "      <td>4</td>\n",
       "      <td>4</td>\n",
       "      <td>4</td>\n",
       "      <td>4</td>\n",
       "      <td>4</td>\n",
       "      <td>4</td>\n",
       "      <td>4</td>\n",
       "      <td>4</td>\n",
       "    </tr>\n",
       "    <tr>\n",
       "      <th>Iringa</th>\n",
       "      <th>vwc</th>\n",
       "      <th>Shipo</th>\n",
       "      <td>1</td>\n",
       "      <td>1</td>\n",
       "      <td>1</td>\n",
       "      <td>1</td>\n",
       "      <td>0</td>\n",
       "      <td>1</td>\n",
       "      <td>1</td>\n",
       "      <td>1</td>\n",
       "      <td>1</td>\n",
       "      <td>1</td>\n",
       "      <td>...</td>\n",
       "      <td>1</td>\n",
       "      <td>1</td>\n",
       "      <td>1</td>\n",
       "      <td>1</td>\n",
       "      <td>1</td>\n",
       "      <td>1</td>\n",
       "      <td>1</td>\n",
       "      <td>1</td>\n",
       "      <td>1</td>\n",
       "      <td>1</td>\n",
       "    </tr>\n",
       "    <tr>\n",
       "      <th rowspan=\"3\" valign=\"top\">Kagera</th>\n",
       "      <th>other</th>\n",
       "      <th>Not Known</th>\n",
       "      <td>1</td>\n",
       "      <td>1</td>\n",
       "      <td>1</td>\n",
       "      <td>1</td>\n",
       "      <td>0</td>\n",
       "      <td>1</td>\n",
       "      <td>1</td>\n",
       "      <td>1</td>\n",
       "      <td>1</td>\n",
       "      <td>1</td>\n",
       "      <td>...</td>\n",
       "      <td>1</td>\n",
       "      <td>1</td>\n",
       "      <td>1</td>\n",
       "      <td>1</td>\n",
       "      <td>1</td>\n",
       "      <td>1</td>\n",
       "      <td>1</td>\n",
       "      <td>1</td>\n",
       "      <td>1</td>\n",
       "      <td>1</td>\n",
       "    </tr>\n",
       "    <tr>\n",
       "      <th rowspan=\"2\" valign=\"top\">vwc</th>\n",
       "      <th>Aar</th>\n",
       "      <td>1</td>\n",
       "      <td>1</td>\n",
       "      <td>1</td>\n",
       "      <td>1</td>\n",
       "      <td>0</td>\n",
       "      <td>1</td>\n",
       "      <td>1</td>\n",
       "      <td>1</td>\n",
       "      <td>1</td>\n",
       "      <td>1</td>\n",
       "      <td>...</td>\n",
       "      <td>1</td>\n",
       "      <td>1</td>\n",
       "      <td>1</td>\n",
       "      <td>1</td>\n",
       "      <td>1</td>\n",
       "      <td>1</td>\n",
       "      <td>1</td>\n",
       "      <td>1</td>\n",
       "      <td>1</td>\n",
       "      <td>1</td>\n",
       "    </tr>\n",
       "    <tr>\n",
       "      <th>Hesawa</th>\n",
       "      <td>1</td>\n",
       "      <td>1</td>\n",
       "      <td>1</td>\n",
       "      <td>1</td>\n",
       "      <td>0</td>\n",
       "      <td>1</td>\n",
       "      <td>1</td>\n",
       "      <td>1</td>\n",
       "      <td>1</td>\n",
       "      <td>1</td>\n",
       "      <td>...</td>\n",
       "      <td>1</td>\n",
       "      <td>1</td>\n",
       "      <td>1</td>\n",
       "      <td>1</td>\n",
       "      <td>1</td>\n",
       "      <td>1</td>\n",
       "      <td>1</td>\n",
       "      <td>1</td>\n",
       "      <td>1</td>\n",
       "      <td>1</td>\n",
       "    </tr>\n",
       "    <tr>\n",
       "      <th>Kigoma</th>\n",
       "      <th>water board</th>\n",
       "      <th>Norad</th>\n",
       "      <td>1</td>\n",
       "      <td>1</td>\n",
       "      <td>1</td>\n",
       "      <td>1</td>\n",
       "      <td>0</td>\n",
       "      <td>1</td>\n",
       "      <td>1</td>\n",
       "      <td>1</td>\n",
       "      <td>1</td>\n",
       "      <td>1</td>\n",
       "      <td>...</td>\n",
       "      <td>1</td>\n",
       "      <td>1</td>\n",
       "      <td>1</td>\n",
       "      <td>1</td>\n",
       "      <td>1</td>\n",
       "      <td>1</td>\n",
       "      <td>1</td>\n",
       "      <td>1</td>\n",
       "      <td>1</td>\n",
       "      <td>1</td>\n",
       "    </tr>\n",
       "    <tr>\n",
       "      <th>Kilimanjaro</th>\n",
       "      <th>other</th>\n",
       "      <th>Grazie Grouppo Padre Fiorentin</th>\n",
       "      <td>1</td>\n",
       "      <td>1</td>\n",
       "      <td>1</td>\n",
       "      <td>1</td>\n",
       "      <td>0</td>\n",
       "      <td>1</td>\n",
       "      <td>1</td>\n",
       "      <td>1</td>\n",
       "      <td>1</td>\n",
       "      <td>1</td>\n",
       "      <td>...</td>\n",
       "      <td>1</td>\n",
       "      <td>1</td>\n",
       "      <td>1</td>\n",
       "      <td>1</td>\n",
       "      <td>1</td>\n",
       "      <td>1</td>\n",
       "      <td>1</td>\n",
       "      <td>1</td>\n",
       "      <td>1</td>\n",
       "      <td>1</td>\n",
       "    </tr>\n",
       "    <tr>\n",
       "      <th rowspan=\"2\" valign=\"top\">Lindi</th>\n",
       "      <th>unknown</th>\n",
       "      <th>World Bank</th>\n",
       "      <td>1</td>\n",
       "      <td>1</td>\n",
       "      <td>1</td>\n",
       "      <td>1</td>\n",
       "      <td>0</td>\n",
       "      <td>1</td>\n",
       "      <td>1</td>\n",
       "      <td>1</td>\n",
       "      <td>1</td>\n",
       "      <td>1</td>\n",
       "      <td>...</td>\n",
       "      <td>1</td>\n",
       "      <td>1</td>\n",
       "      <td>1</td>\n",
       "      <td>1</td>\n",
       "      <td>1</td>\n",
       "      <td>1</td>\n",
       "      <td>1</td>\n",
       "      <td>1</td>\n",
       "      <td>1</td>\n",
       "      <td>1</td>\n",
       "    </tr>\n",
       "    <tr>\n",
       "      <th>vwc</th>\n",
       "      <th>Government Of Tanzania</th>\n",
       "      <td>1</td>\n",
       "      <td>1</td>\n",
       "      <td>1</td>\n",
       "      <td>1</td>\n",
       "      <td>0</td>\n",
       "      <td>1</td>\n",
       "      <td>1</td>\n",
       "      <td>1</td>\n",
       "      <td>1</td>\n",
       "      <td>1</td>\n",
       "      <td>...</td>\n",
       "      <td>1</td>\n",
       "      <td>1</td>\n",
       "      <td>1</td>\n",
       "      <td>1</td>\n",
       "      <td>1</td>\n",
       "      <td>1</td>\n",
       "      <td>1</td>\n",
       "      <td>1</td>\n",
       "      <td>1</td>\n",
       "      <td>1</td>\n",
       "    </tr>\n",
       "    <tr>\n",
       "      <th rowspan=\"2\" valign=\"top\">Mara</th>\n",
       "      <th>other</th>\n",
       "      <th>Maro Kyariga</th>\n",
       "      <td>1</td>\n",
       "      <td>1</td>\n",
       "      <td>1</td>\n",
       "      <td>1</td>\n",
       "      <td>0</td>\n",
       "      <td>1</td>\n",
       "      <td>1</td>\n",
       "      <td>1</td>\n",
       "      <td>1</td>\n",
       "      <td>1</td>\n",
       "      <td>...</td>\n",
       "      <td>1</td>\n",
       "      <td>1</td>\n",
       "      <td>1</td>\n",
       "      <td>1</td>\n",
       "      <td>1</td>\n",
       "      <td>1</td>\n",
       "      <td>1</td>\n",
       "      <td>1</td>\n",
       "      <td>1</td>\n",
       "      <td>1</td>\n",
       "    </tr>\n",
       "    <tr>\n",
       "      <th>vwc</th>\n",
       "      <th>Hesawa</th>\n",
       "      <td>1</td>\n",
       "      <td>1</td>\n",
       "      <td>1</td>\n",
       "      <td>1</td>\n",
       "      <td>0</td>\n",
       "      <td>1</td>\n",
       "      <td>1</td>\n",
       "      <td>1</td>\n",
       "      <td>1</td>\n",
       "      <td>1</td>\n",
       "      <td>...</td>\n",
       "      <td>1</td>\n",
       "      <td>1</td>\n",
       "      <td>1</td>\n",
       "      <td>1</td>\n",
       "      <td>1</td>\n",
       "      <td>1</td>\n",
       "      <td>1</td>\n",
       "      <td>1</td>\n",
       "      <td>1</td>\n",
       "      <td>1</td>\n",
       "    </tr>\n",
       "    <tr>\n",
       "      <th rowspan=\"4\" valign=\"top\">Morogoro</th>\n",
       "      <th rowspan=\"3\" valign=\"top\">vwc</th>\n",
       "      <th>Donor</th>\n",
       "      <td>1</td>\n",
       "      <td>1</td>\n",
       "      <td>1</td>\n",
       "      <td>1</td>\n",
       "      <td>0</td>\n",
       "      <td>1</td>\n",
       "      <td>1</td>\n",
       "      <td>1</td>\n",
       "      <td>1</td>\n",
       "      <td>1</td>\n",
       "      <td>...</td>\n",
       "      <td>1</td>\n",
       "      <td>1</td>\n",
       "      <td>1</td>\n",
       "      <td>1</td>\n",
       "      <td>1</td>\n",
       "      <td>1</td>\n",
       "      <td>1</td>\n",
       "      <td>1</td>\n",
       "      <td>1</td>\n",
       "      <td>1</td>\n",
       "    </tr>\n",
       "    <tr>\n",
       "      <th>Government Of Tanzania</th>\n",
       "      <td>1</td>\n",
       "      <td>1</td>\n",
       "      <td>1</td>\n",
       "      <td>1</td>\n",
       "      <td>0</td>\n",
       "      <td>1</td>\n",
       "      <td>1</td>\n",
       "      <td>1</td>\n",
       "      <td>1</td>\n",
       "      <td>1</td>\n",
       "      <td>...</td>\n",
       "      <td>1</td>\n",
       "      <td>1</td>\n",
       "      <td>1</td>\n",
       "      <td>1</td>\n",
       "      <td>1</td>\n",
       "      <td>1</td>\n",
       "      <td>1</td>\n",
       "      <td>1</td>\n",
       "      <td>1</td>\n",
       "      <td>1</td>\n",
       "    </tr>\n",
       "    <tr>\n",
       "      <th>Solidarm</th>\n",
       "      <td>1</td>\n",
       "      <td>1</td>\n",
       "      <td>1</td>\n",
       "      <td>1</td>\n",
       "      <td>0</td>\n",
       "      <td>1</td>\n",
       "      <td>1</td>\n",
       "      <td>1</td>\n",
       "      <td>1</td>\n",
       "      <td>1</td>\n",
       "      <td>...</td>\n",
       "      <td>1</td>\n",
       "      <td>1</td>\n",
       "      <td>1</td>\n",
       "      <td>1</td>\n",
       "      <td>1</td>\n",
       "      <td>1</td>\n",
       "      <td>1</td>\n",
       "      <td>1</td>\n",
       "      <td>1</td>\n",
       "      <td>1</td>\n",
       "    </tr>\n",
       "    <tr>\n",
       "      <th>wug</th>\n",
       "      <th>Member O</th>\n",
       "      <td>1</td>\n",
       "      <td>1</td>\n",
       "      <td>1</td>\n",
       "      <td>1</td>\n",
       "      <td>0</td>\n",
       "      <td>1</td>\n",
       "      <td>1</td>\n",
       "      <td>1</td>\n",
       "      <td>1</td>\n",
       "      <td>1</td>\n",
       "      <td>...</td>\n",
       "      <td>1</td>\n",
       "      <td>1</td>\n",
       "      <td>1</td>\n",
       "      <td>1</td>\n",
       "      <td>1</td>\n",
       "      <td>1</td>\n",
       "      <td>1</td>\n",
       "      <td>1</td>\n",
       "      <td>1</td>\n",
       "      <td>1</td>\n",
       "    </tr>\n",
       "    <tr>\n",
       "      <th>Mtwara</th>\n",
       "      <th>vwc</th>\n",
       "      <th>Lga</th>\n",
       "      <td>1</td>\n",
       "      <td>1</td>\n",
       "      <td>1</td>\n",
       "      <td>1</td>\n",
       "      <td>0</td>\n",
       "      <td>1</td>\n",
       "      <td>1</td>\n",
       "      <td>1</td>\n",
       "      <td>1</td>\n",
       "      <td>1</td>\n",
       "      <td>...</td>\n",
       "      <td>1</td>\n",
       "      <td>1</td>\n",
       "      <td>1</td>\n",
       "      <td>1</td>\n",
       "      <td>1</td>\n",
       "      <td>1</td>\n",
       "      <td>1</td>\n",
       "      <td>1</td>\n",
       "      <td>1</td>\n",
       "      <td>1</td>\n",
       "    </tr>\n",
       "    <tr>\n",
       "      <th rowspan=\"9\" valign=\"top\">Mwanza</th>\n",
       "      <th rowspan=\"2\" valign=\"top\">other</th>\n",
       "      <th>Bgssws</th>\n",
       "      <td>1</td>\n",
       "      <td>1</td>\n",
       "      <td>1</td>\n",
       "      <td>1</td>\n",
       "      <td>0</td>\n",
       "      <td>1</td>\n",
       "      <td>1</td>\n",
       "      <td>1</td>\n",
       "      <td>1</td>\n",
       "      <td>1</td>\n",
       "      <td>...</td>\n",
       "      <td>1</td>\n",
       "      <td>1</td>\n",
       "      <td>1</td>\n",
       "      <td>1</td>\n",
       "      <td>1</td>\n",
       "      <td>1</td>\n",
       "      <td>1</td>\n",
       "      <td>1</td>\n",
       "      <td>1</td>\n",
       "      <td>1</td>\n",
       "    </tr>\n",
       "    <tr>\n",
       "      <th>Ms-danish</th>\n",
       "      <td>1</td>\n",
       "      <td>1</td>\n",
       "      <td>1</td>\n",
       "      <td>1</td>\n",
       "      <td>0</td>\n",
       "      <td>1</td>\n",
       "      <td>1</td>\n",
       "      <td>1</td>\n",
       "      <td>1</td>\n",
       "      <td>1</td>\n",
       "      <td>...</td>\n",
       "      <td>1</td>\n",
       "      <td>1</td>\n",
       "      <td>1</td>\n",
       "      <td>1</td>\n",
       "      <td>1</td>\n",
       "      <td>1</td>\n",
       "      <td>1</td>\n",
       "      <td>1</td>\n",
       "      <td>1</td>\n",
       "      <td>1</td>\n",
       "    </tr>\n",
       "    <tr>\n",
       "      <th>parastatal</th>\n",
       "      <th>Bhws</th>\n",
       "      <td>1</td>\n",
       "      <td>1</td>\n",
       "      <td>1</td>\n",
       "      <td>1</td>\n",
       "      <td>0</td>\n",
       "      <td>1</td>\n",
       "      <td>1</td>\n",
       "      <td>1</td>\n",
       "      <td>1</td>\n",
       "      <td>1</td>\n",
       "      <td>...</td>\n",
       "      <td>1</td>\n",
       "      <td>1</td>\n",
       "      <td>1</td>\n",
       "      <td>1</td>\n",
       "      <td>1</td>\n",
       "      <td>1</td>\n",
       "      <td>1</td>\n",
       "      <td>1</td>\n",
       "      <td>1</td>\n",
       "      <td>1</td>\n",
       "    </tr>\n",
       "    <tr>\n",
       "      <th rowspan=\"6\" valign=\"top\">vwc</th>\n",
       "      <th>Gg</th>\n",
       "      <td>1</td>\n",
       "      <td>1</td>\n",
       "      <td>1</td>\n",
       "      <td>1</td>\n",
       "      <td>0</td>\n",
       "      <td>1</td>\n",
       "      <td>1</td>\n",
       "      <td>1</td>\n",
       "      <td>1</td>\n",
       "      <td>1</td>\n",
       "      <td>...</td>\n",
       "      <td>1</td>\n",
       "      <td>1</td>\n",
       "      <td>1</td>\n",
       "      <td>1</td>\n",
       "      <td>1</td>\n",
       "      <td>1</td>\n",
       "      <td>1</td>\n",
       "      <td>1</td>\n",
       "      <td>1</td>\n",
       "      <td>1</td>\n",
       "    </tr>\n",
       "    <tr>\n",
       "      <th>Ggm</th>\n",
       "      <td>2</td>\n",
       "      <td>2</td>\n",
       "      <td>2</td>\n",
       "      <td>2</td>\n",
       "      <td>0</td>\n",
       "      <td>2</td>\n",
       "      <td>2</td>\n",
       "      <td>2</td>\n",
       "      <td>2</td>\n",
       "      <td>2</td>\n",
       "      <td>...</td>\n",
       "      <td>2</td>\n",
       "      <td>2</td>\n",
       "      <td>2</td>\n",
       "      <td>2</td>\n",
       "      <td>2</td>\n",
       "      <td>2</td>\n",
       "      <td>2</td>\n",
       "      <td>2</td>\n",
       "      <td>2</td>\n",
       "      <td>2</td>\n",
       "    </tr>\n",
       "    <tr>\n",
       "      <th>Government Of Tanzania</th>\n",
       "      <td>1</td>\n",
       "      <td>1</td>\n",
       "      <td>1</td>\n",
       "      <td>1</td>\n",
       "      <td>0</td>\n",
       "      <td>1</td>\n",
       "      <td>1</td>\n",
       "      <td>1</td>\n",
       "      <td>1</td>\n",
       "      <td>1</td>\n",
       "      <td>...</td>\n",
       "      <td>1</td>\n",
       "      <td>1</td>\n",
       "      <td>1</td>\n",
       "      <td>1</td>\n",
       "      <td>1</td>\n",
       "      <td>1</td>\n",
       "      <td>1</td>\n",
       "      <td>1</td>\n",
       "      <td>1</td>\n",
       "      <td>1</td>\n",
       "    </tr>\n",
       "    <tr>\n",
       "      <th>Hesawa</th>\n",
       "      <td>3</td>\n",
       "      <td>3</td>\n",
       "      <td>3</td>\n",
       "      <td>3</td>\n",
       "      <td>0</td>\n",
       "      <td>3</td>\n",
       "      <td>3</td>\n",
       "      <td>3</td>\n",
       "      <td>3</td>\n",
       "      <td>3</td>\n",
       "      <td>...</td>\n",
       "      <td>3</td>\n",
       "      <td>3</td>\n",
       "      <td>3</td>\n",
       "      <td>3</td>\n",
       "      <td>3</td>\n",
       "      <td>3</td>\n",
       "      <td>3</td>\n",
       "      <td>3</td>\n",
       "      <td>3</td>\n",
       "      <td>3</td>\n",
       "    </tr>\n",
       "    <tr>\n",
       "      <th>Jica</th>\n",
       "      <td>1</td>\n",
       "      <td>1</td>\n",
       "      <td>1</td>\n",
       "      <td>1</td>\n",
       "      <td>0</td>\n",
       "      <td>1</td>\n",
       "      <td>1</td>\n",
       "      <td>1</td>\n",
       "      <td>1</td>\n",
       "      <td>1</td>\n",
       "      <td>...</td>\n",
       "      <td>1</td>\n",
       "      <td>1</td>\n",
       "      <td>1</td>\n",
       "      <td>1</td>\n",
       "      <td>1</td>\n",
       "      <td>1</td>\n",
       "      <td>1</td>\n",
       "      <td>1</td>\n",
       "      <td>1</td>\n",
       "      <td>1</td>\n",
       "    </tr>\n",
       "    <tr>\n",
       "      <th>One Desk One Chair</th>\n",
       "      <td>1</td>\n",
       "      <td>1</td>\n",
       "      <td>1</td>\n",
       "      <td>1</td>\n",
       "      <td>0</td>\n",
       "      <td>1</td>\n",
       "      <td>1</td>\n",
       "      <td>1</td>\n",
       "      <td>1</td>\n",
       "      <td>1</td>\n",
       "      <td>...</td>\n",
       "      <td>1</td>\n",
       "      <td>1</td>\n",
       "      <td>1</td>\n",
       "      <td>1</td>\n",
       "      <td>1</td>\n",
       "      <td>1</td>\n",
       "      <td>1</td>\n",
       "      <td>1</td>\n",
       "      <td>1</td>\n",
       "      <td>1</td>\n",
       "    </tr>\n",
       "    <tr>\n",
       "      <th>Pwani</th>\n",
       "      <th>vwc</th>\n",
       "      <th>Wsdp</th>\n",
       "      <td>1</td>\n",
       "      <td>1</td>\n",
       "      <td>1</td>\n",
       "      <td>1</td>\n",
       "      <td>0</td>\n",
       "      <td>1</td>\n",
       "      <td>1</td>\n",
       "      <td>1</td>\n",
       "      <td>1</td>\n",
       "      <td>1</td>\n",
       "      <td>...</td>\n",
       "      <td>1</td>\n",
       "      <td>1</td>\n",
       "      <td>1</td>\n",
       "      <td>1</td>\n",
       "      <td>1</td>\n",
       "      <td>1</td>\n",
       "      <td>1</td>\n",
       "      <td>1</td>\n",
       "      <td>1</td>\n",
       "      <td>1</td>\n",
       "    </tr>\n",
       "    <tr>\n",
       "      <th>Rukwa</th>\n",
       "      <th>vwc</th>\n",
       "      <th>Dw</th>\n",
       "      <td>1</td>\n",
       "      <td>1</td>\n",
       "      <td>1</td>\n",
       "      <td>1</td>\n",
       "      <td>0</td>\n",
       "      <td>1</td>\n",
       "      <td>1</td>\n",
       "      <td>1</td>\n",
       "      <td>1</td>\n",
       "      <td>1</td>\n",
       "      <td>...</td>\n",
       "      <td>1</td>\n",
       "      <td>1</td>\n",
       "      <td>1</td>\n",
       "      <td>1</td>\n",
       "      <td>1</td>\n",
       "      <td>1</td>\n",
       "      <td>1</td>\n",
       "      <td>1</td>\n",
       "      <td>1</td>\n",
       "      <td>1</td>\n",
       "    </tr>\n",
       "    <tr>\n",
       "      <th rowspan=\"11\" valign=\"top\">Shinyanga</th>\n",
       "      <th rowspan=\"3\" valign=\"top\">parastatal</th>\n",
       "      <th>Government Of Tanzania</th>\n",
       "      <td>1</td>\n",
       "      <td>1</td>\n",
       "      <td>1</td>\n",
       "      <td>1</td>\n",
       "      <td>0</td>\n",
       "      <td>1</td>\n",
       "      <td>1</td>\n",
       "      <td>1</td>\n",
       "      <td>1</td>\n",
       "      <td>1</td>\n",
       "      <td>...</td>\n",
       "      <td>1</td>\n",
       "      <td>1</td>\n",
       "      <td>1</td>\n",
       "      <td>1</td>\n",
       "      <td>1</td>\n",
       "      <td>1</td>\n",
       "      <td>1</td>\n",
       "      <td>1</td>\n",
       "      <td>1</td>\n",
       "      <td>1</td>\n",
       "    </tr>\n",
       "    <tr>\n",
       "      <th>Rural Water Supply And Sanitat</th>\n",
       "      <td>1</td>\n",
       "      <td>1</td>\n",
       "      <td>1</td>\n",
       "      <td>1</td>\n",
       "      <td>0</td>\n",
       "      <td>1</td>\n",
       "      <td>1</td>\n",
       "      <td>1</td>\n",
       "      <td>1</td>\n",
       "      <td>1</td>\n",
       "      <td>...</td>\n",
       "      <td>1</td>\n",
       "      <td>1</td>\n",
       "      <td>1</td>\n",
       "      <td>1</td>\n",
       "      <td>1</td>\n",
       "      <td>1</td>\n",
       "      <td>1</td>\n",
       "      <td>1</td>\n",
       "      <td>1</td>\n",
       "      <td>1</td>\n",
       "    </tr>\n",
       "    <tr>\n",
       "      <th>Rwssp</th>\n",
       "      <td>1</td>\n",
       "      <td>1</td>\n",
       "      <td>1</td>\n",
       "      <td>1</td>\n",
       "      <td>0</td>\n",
       "      <td>1</td>\n",
       "      <td>1</td>\n",
       "      <td>1</td>\n",
       "      <td>1</td>\n",
       "      <td>1</td>\n",
       "      <td>...</td>\n",
       "      <td>1</td>\n",
       "      <td>1</td>\n",
       "      <td>1</td>\n",
       "      <td>1</td>\n",
       "      <td>1</td>\n",
       "      <td>1</td>\n",
       "      <td>1</td>\n",
       "      <td>1</td>\n",
       "      <td>1</td>\n",
       "      <td>1</td>\n",
       "    </tr>\n",
       "    <tr>\n",
       "      <th rowspan=\"3\" valign=\"top\">unknown</th>\n",
       "      <th>Community</th>\n",
       "      <td>1</td>\n",
       "      <td>1</td>\n",
       "      <td>1</td>\n",
       "      <td>1</td>\n",
       "      <td>0</td>\n",
       "      <td>1</td>\n",
       "      <td>1</td>\n",
       "      <td>1</td>\n",
       "      <td>1</td>\n",
       "      <td>1</td>\n",
       "      <td>...</td>\n",
       "      <td>1</td>\n",
       "      <td>1</td>\n",
       "      <td>1</td>\n",
       "      <td>1</td>\n",
       "      <td>1</td>\n",
       "      <td>1</td>\n",
       "      <td>1</td>\n",
       "      <td>1</td>\n",
       "      <td>1</td>\n",
       "      <td>1</td>\n",
       "    </tr>\n",
       "    <tr>\n",
       "      <th>Koica And Tanzania Government</th>\n",
       "      <td>1</td>\n",
       "      <td>1</td>\n",
       "      <td>1</td>\n",
       "      <td>1</td>\n",
       "      <td>0</td>\n",
       "      <td>1</td>\n",
       "      <td>1</td>\n",
       "      <td>1</td>\n",
       "      <td>1</td>\n",
       "      <td>1</td>\n",
       "      <td>...</td>\n",
       "      <td>1</td>\n",
       "      <td>1</td>\n",
       "      <td>1</td>\n",
       "      <td>1</td>\n",
       "      <td>1</td>\n",
       "      <td>1</td>\n",
       "      <td>1</td>\n",
       "      <td>1</td>\n",
       "      <td>1</td>\n",
       "      <td>1</td>\n",
       "    </tr>\n",
       "    <tr>\n",
       "      <th>World Bank</th>\n",
       "      <td>5</td>\n",
       "      <td>5</td>\n",
       "      <td>5</td>\n",
       "      <td>5</td>\n",
       "      <td>0</td>\n",
       "      <td>5</td>\n",
       "      <td>5</td>\n",
       "      <td>5</td>\n",
       "      <td>5</td>\n",
       "      <td>5</td>\n",
       "      <td>...</td>\n",
       "      <td>5</td>\n",
       "      <td>5</td>\n",
       "      <td>5</td>\n",
       "      <td>5</td>\n",
       "      <td>5</td>\n",
       "      <td>5</td>\n",
       "      <td>5</td>\n",
       "      <td>5</td>\n",
       "      <td>5</td>\n",
       "      <td>5</td>\n",
       "    </tr>\n",
       "    <tr>\n",
       "      <th>vwc</th>\n",
       "      <th>World Bank</th>\n",
       "      <td>4</td>\n",
       "      <td>4</td>\n",
       "      <td>4</td>\n",
       "      <td>4</td>\n",
       "      <td>0</td>\n",
       "      <td>4</td>\n",
       "      <td>4</td>\n",
       "      <td>4</td>\n",
       "      <td>4</td>\n",
       "      <td>4</td>\n",
       "      <td>...</td>\n",
       "      <td>4</td>\n",
       "      <td>4</td>\n",
       "      <td>4</td>\n",
       "      <td>4</td>\n",
       "      <td>4</td>\n",
       "      <td>4</td>\n",
       "      <td>4</td>\n",
       "      <td>4</td>\n",
       "      <td>4</td>\n",
       "      <td>4</td>\n",
       "    </tr>\n",
       "    <tr>\n",
       "      <th rowspan=\"4\" valign=\"top\">wug</th>\n",
       "      <th>Abddwe</th>\n",
       "      <td>1</td>\n",
       "      <td>1</td>\n",
       "      <td>1</td>\n",
       "      <td>1</td>\n",
       "      <td>0</td>\n",
       "      <td>1</td>\n",
       "      <td>1</td>\n",
       "      <td>1</td>\n",
       "      <td>1</td>\n",
       "      <td>1</td>\n",
       "      <td>...</td>\n",
       "      <td>1</td>\n",
       "      <td>1</td>\n",
       "      <td>1</td>\n",
       "      <td>1</td>\n",
       "      <td>1</td>\n",
       "      <td>1</td>\n",
       "      <td>1</td>\n",
       "      <td>1</td>\n",
       "      <td>1</td>\n",
       "      <td>1</td>\n",
       "    </tr>\n",
       "    <tr>\n",
       "      <th>Rural Water Supply And Sanitat</th>\n",
       "      <td>3</td>\n",
       "      <td>3</td>\n",
       "      <td>3</td>\n",
       "      <td>3</td>\n",
       "      <td>0</td>\n",
       "      <td>3</td>\n",
       "      <td>3</td>\n",
       "      <td>3</td>\n",
       "      <td>3</td>\n",
       "      <td>3</td>\n",
       "      <td>...</td>\n",
       "      <td>3</td>\n",
       "      <td>3</td>\n",
       "      <td>3</td>\n",
       "      <td>3</td>\n",
       "      <td>3</td>\n",
       "      <td>3</td>\n",
       "      <td>3</td>\n",
       "      <td>3</td>\n",
       "      <td>3</td>\n",
       "      <td>3</td>\n",
       "    </tr>\n",
       "    <tr>\n",
       "      <th>Tasaf</th>\n",
       "      <td>1</td>\n",
       "      <td>1</td>\n",
       "      <td>1</td>\n",
       "      <td>1</td>\n",
       "      <td>0</td>\n",
       "      <td>1</td>\n",
       "      <td>1</td>\n",
       "      <td>1</td>\n",
       "      <td>1</td>\n",
       "      <td>1</td>\n",
       "      <td>...</td>\n",
       "      <td>1</td>\n",
       "      <td>1</td>\n",
       "      <td>1</td>\n",
       "      <td>1</td>\n",
       "      <td>1</td>\n",
       "      <td>1</td>\n",
       "      <td>1</td>\n",
       "      <td>1</td>\n",
       "      <td>1</td>\n",
       "      <td>1</td>\n",
       "    </tr>\n",
       "    <tr>\n",
       "      <th>World Vision</th>\n",
       "      <td>7</td>\n",
       "      <td>7</td>\n",
       "      <td>7</td>\n",
       "      <td>7</td>\n",
       "      <td>0</td>\n",
       "      <td>7</td>\n",
       "      <td>7</td>\n",
       "      <td>7</td>\n",
       "      <td>7</td>\n",
       "      <td>7</td>\n",
       "      <td>...</td>\n",
       "      <td>7</td>\n",
       "      <td>7</td>\n",
       "      <td>7</td>\n",
       "      <td>7</td>\n",
       "      <td>7</td>\n",
       "      <td>7</td>\n",
       "      <td>7</td>\n",
       "      <td>7</td>\n",
       "      <td>7</td>\n",
       "      <td>7</td>\n",
       "    </tr>\n",
       "    <tr>\n",
       "      <th rowspan=\"2\" valign=\"top\">Singida</th>\n",
       "      <th>unknown</th>\n",
       "      <th>Rundu Man</th>\n",
       "      <td>1</td>\n",
       "      <td>1</td>\n",
       "      <td>1</td>\n",
       "      <td>1</td>\n",
       "      <td>0</td>\n",
       "      <td>1</td>\n",
       "      <td>1</td>\n",
       "      <td>1</td>\n",
       "      <td>1</td>\n",
       "      <td>1</td>\n",
       "      <td>...</td>\n",
       "      <td>1</td>\n",
       "      <td>1</td>\n",
       "      <td>1</td>\n",
       "      <td>1</td>\n",
       "      <td>1</td>\n",
       "      <td>1</td>\n",
       "      <td>1</td>\n",
       "      <td>1</td>\n",
       "      <td>1</td>\n",
       "      <td>1</td>\n",
       "    </tr>\n",
       "    <tr>\n",
       "      <th>vwc</th>\n",
       "      <th>Tcrs</th>\n",
       "      <td>1</td>\n",
       "      <td>1</td>\n",
       "      <td>1</td>\n",
       "      <td>1</td>\n",
       "      <td>0</td>\n",
       "      <td>1</td>\n",
       "      <td>1</td>\n",
       "      <td>1</td>\n",
       "      <td>1</td>\n",
       "      <td>1</td>\n",
       "      <td>...</td>\n",
       "      <td>1</td>\n",
       "      <td>1</td>\n",
       "      <td>1</td>\n",
       "      <td>1</td>\n",
       "      <td>1</td>\n",
       "      <td>1</td>\n",
       "      <td>1</td>\n",
       "      <td>1</td>\n",
       "      <td>1</td>\n",
       "      <td>1</td>\n",
       "    </tr>\n",
       "    <tr>\n",
       "      <th rowspan=\"4\" valign=\"top\">Tabora</th>\n",
       "      <th>other</th>\n",
       "      <th>Worldvision</th>\n",
       "      <td>1</td>\n",
       "      <td>1</td>\n",
       "      <td>1</td>\n",
       "      <td>1</td>\n",
       "      <td>0</td>\n",
       "      <td>1</td>\n",
       "      <td>1</td>\n",
       "      <td>1</td>\n",
       "      <td>1</td>\n",
       "      <td>1</td>\n",
       "      <td>...</td>\n",
       "      <td>1</td>\n",
       "      <td>1</td>\n",
       "      <td>1</td>\n",
       "      <td>1</td>\n",
       "      <td>1</td>\n",
       "      <td>1</td>\n",
       "      <td>1</td>\n",
       "      <td>1</td>\n",
       "      <td>1</td>\n",
       "      <td>1</td>\n",
       "    </tr>\n",
       "    <tr>\n",
       "      <th rowspan=\"3\" valign=\"top\">vwc</th>\n",
       "      <th>Community</th>\n",
       "      <td>2</td>\n",
       "      <td>2</td>\n",
       "      <td>2</td>\n",
       "      <td>2</td>\n",
       "      <td>0</td>\n",
       "      <td>2</td>\n",
       "      <td>2</td>\n",
       "      <td>2</td>\n",
       "      <td>2</td>\n",
       "      <td>2</td>\n",
       "      <td>...</td>\n",
       "      <td>2</td>\n",
       "      <td>2</td>\n",
       "      <td>2</td>\n",
       "      <td>2</td>\n",
       "      <td>2</td>\n",
       "      <td>2</td>\n",
       "      <td>2</td>\n",
       "      <td>2</td>\n",
       "      <td>2</td>\n",
       "      <td>2</td>\n",
       "    </tr>\n",
       "    <tr>\n",
       "      <th>None</th>\n",
       "      <td>2</td>\n",
       "      <td>2</td>\n",
       "      <td>2</td>\n",
       "      <td>2</td>\n",
       "      <td>0</td>\n",
       "      <td>2</td>\n",
       "      <td>2</td>\n",
       "      <td>2</td>\n",
       "      <td>2</td>\n",
       "      <td>2</td>\n",
       "      <td>...</td>\n",
       "      <td>2</td>\n",
       "      <td>2</td>\n",
       "      <td>2</td>\n",
       "      <td>2</td>\n",
       "      <td>2</td>\n",
       "      <td>2</td>\n",
       "      <td>2</td>\n",
       "      <td>2</td>\n",
       "      <td>2</td>\n",
       "      <td>2</td>\n",
       "    </tr>\n",
       "    <tr>\n",
       "      <th>World Bank</th>\n",
       "      <td>1</td>\n",
       "      <td>1</td>\n",
       "      <td>1</td>\n",
       "      <td>1</td>\n",
       "      <td>0</td>\n",
       "      <td>1</td>\n",
       "      <td>1</td>\n",
       "      <td>1</td>\n",
       "      <td>1</td>\n",
       "      <td>1</td>\n",
       "      <td>...</td>\n",
       "      <td>1</td>\n",
       "      <td>1</td>\n",
       "      <td>1</td>\n",
       "      <td>1</td>\n",
       "      <td>1</td>\n",
       "      <td>1</td>\n",
       "      <td>1</td>\n",
       "      <td>1</td>\n",
       "      <td>1</td>\n",
       "      <td>1</td>\n",
       "    </tr>\n",
       "  </tbody>\n",
       "</table>\n",
       "<p>49 rows × 37 columns</p>\n",
       "</div>"
      ],
      "text/plain": [
       "                                                        id  amount_tsh  \\\n",
       "region      management  funder                                           \n",
       "Arusha      parastatal  Fredked Conservation             1           1   \n",
       "                        Rc Church                        1           1   \n",
       "                        Wfp                              2           2   \n",
       "            vwc         District Council                 1           1   \n",
       "                        Ministry Of Agricultura          1           1   \n",
       "                        Ministry Of Water                4           4   \n",
       "Iringa      vwc         Shipo                            1           1   \n",
       "Kagera      other       Not Known                        1           1   \n",
       "            vwc         Aar                              1           1   \n",
       "                        Hesawa                           1           1   \n",
       "Kigoma      water board Norad                            1           1   \n",
       "Kilimanjaro other       Grazie Grouppo Padre Fiorentin   1           1   \n",
       "Lindi       unknown     World Bank                       1           1   \n",
       "            vwc         Government Of Tanzania           1           1   \n",
       "Mara        other       Maro Kyariga                     1           1   \n",
       "            vwc         Hesawa                           1           1   \n",
       "Morogoro    vwc         Donor                            1           1   \n",
       "                        Government Of Tanzania           1           1   \n",
       "                        Solidarm                         1           1   \n",
       "            wug         Member O                         1           1   \n",
       "Mtwara      vwc         Lga                              1           1   \n",
       "Mwanza      other       Bgssws                           1           1   \n",
       "                        Ms-danish                        1           1   \n",
       "            parastatal  Bhws                             1           1   \n",
       "            vwc         Gg                               1           1   \n",
       "                        Ggm                              2           2   \n",
       "                        Government Of Tanzania           1           1   \n",
       "                        Hesawa                           3           3   \n",
       "                        Jica                             1           1   \n",
       "                        One Desk One Chair               1           1   \n",
       "Pwani       vwc         Wsdp                             1           1   \n",
       "Rukwa       vwc         Dw                               1           1   \n",
       "Shinyanga   parastatal  Government Of Tanzania           1           1   \n",
       "                        Rural Water Supply And Sanitat   1           1   \n",
       "                        Rwssp                            1           1   \n",
       "            unknown     Community                        1           1   \n",
       "                        Koica And Tanzania Government    1           1   \n",
       "                        World Bank                       5           5   \n",
       "            vwc         World Bank                       4           4   \n",
       "            wug         Abddwe                           1           1   \n",
       "                        Rural Water Supply And Sanitat   3           3   \n",
       "                        Tasaf                            1           1   \n",
       "                        World Vision                     7           7   \n",
       "Singida     unknown     Rundu Man                        1           1   \n",
       "            vwc         Tcrs                             1           1   \n",
       "Tabora      other       Worldvision                      1           1   \n",
       "            vwc         Community                        2           2   \n",
       "                        None                             2           2   \n",
       "                        World Bank                       1           1   \n",
       "\n",
       "                                                        date_recorded  \\\n",
       "region      management  funder                                          \n",
       "Arusha      parastatal  Fredked Conservation                        1   \n",
       "                        Rc Church                                   1   \n",
       "                        Wfp                                         2   \n",
       "            vwc         District Council                            1   \n",
       "                        Ministry Of Agricultura                     1   \n",
       "                        Ministry Of Water                           4   \n",
       "Iringa      vwc         Shipo                                       1   \n",
       "Kagera      other       Not Known                                   1   \n",
       "            vwc         Aar                                         1   \n",
       "                        Hesawa                                      1   \n",
       "Kigoma      water board Norad                                       1   \n",
       "Kilimanjaro other       Grazie Grouppo Padre Fiorentin              1   \n",
       "Lindi       unknown     World Bank                                  1   \n",
       "            vwc         Government Of Tanzania                      1   \n",
       "Mara        other       Maro Kyariga                                1   \n",
       "            vwc         Hesawa                                      1   \n",
       "Morogoro    vwc         Donor                                       1   \n",
       "                        Government Of Tanzania                      1   \n",
       "                        Solidarm                                    1   \n",
       "            wug         Member O                                    1   \n",
       "Mtwara      vwc         Lga                                         1   \n",
       "Mwanza      other       Bgssws                                      1   \n",
       "                        Ms-danish                                   1   \n",
       "            parastatal  Bhws                                        1   \n",
       "            vwc         Gg                                          1   \n",
       "                        Ggm                                         2   \n",
       "                        Government Of Tanzania                      1   \n",
       "                        Hesawa                                      3   \n",
       "                        Jica                                        1   \n",
       "                        One Desk One Chair                          1   \n",
       "Pwani       vwc         Wsdp                                        1   \n",
       "Rukwa       vwc         Dw                                          1   \n",
       "Shinyanga   parastatal  Government Of Tanzania                      1   \n",
       "                        Rural Water Supply And Sanitat              1   \n",
       "                        Rwssp                                       1   \n",
       "            unknown     Community                                   1   \n",
       "                        Koica And Tanzania Government               1   \n",
       "                        World Bank                                  5   \n",
       "            vwc         World Bank                                  4   \n",
       "            wug         Abddwe                                      1   \n",
       "                        Rural Water Supply And Sanitat              3   \n",
       "                        Tasaf                                       1   \n",
       "                        World Vision                                7   \n",
       "Singida     unknown     Rundu Man                                   1   \n",
       "            vwc         Tcrs                                        1   \n",
       "Tabora      other       Worldvision                                 1   \n",
       "            vwc         Community                                   2   \n",
       "                        None                                        2   \n",
       "                        World Bank                                  1   \n",
       "\n",
       "                                                        gps_height  installer  \\\n",
       "region      management  funder                                                  \n",
       "Arusha      parastatal  Fredked Conservation                     1          0   \n",
       "                        Rc Church                                1          0   \n",
       "                        Wfp                                      2          0   \n",
       "            vwc         District Council                         1          0   \n",
       "                        Ministry Of Agricultura                  1          0   \n",
       "                        Ministry Of Water                        4          0   \n",
       "Iringa      vwc         Shipo                                    1          0   \n",
       "Kagera      other       Not Known                                1          0   \n",
       "            vwc         Aar                                      1          0   \n",
       "                        Hesawa                                   1          0   \n",
       "Kigoma      water board Norad                                    1          0   \n",
       "Kilimanjaro other       Grazie Grouppo Padre Fiorentin           1          0   \n",
       "Lindi       unknown     World Bank                               1          0   \n",
       "            vwc         Government Of Tanzania                   1          0   \n",
       "Mara        other       Maro Kyariga                             1          0   \n",
       "            vwc         Hesawa                                   1          0   \n",
       "Morogoro    vwc         Donor                                    1          0   \n",
       "                        Government Of Tanzania                   1          0   \n",
       "                        Solidarm                                 1          0   \n",
       "            wug         Member O                                 1          0   \n",
       "Mtwara      vwc         Lga                                      1          0   \n",
       "Mwanza      other       Bgssws                                   1          0   \n",
       "                        Ms-danish                                1          0   \n",
       "            parastatal  Bhws                                     1          0   \n",
       "            vwc         Gg                                       1          0   \n",
       "                        Ggm                                      2          0   \n",
       "                        Government Of Tanzania                   1          0   \n",
       "                        Hesawa                                   3          0   \n",
       "                        Jica                                     1          0   \n",
       "                        One Desk One Chair                       1          0   \n",
       "Pwani       vwc         Wsdp                                     1          0   \n",
       "Rukwa       vwc         Dw                                       1          0   \n",
       "Shinyanga   parastatal  Government Of Tanzania                   1          0   \n",
       "                        Rural Water Supply And Sanitat           1          0   \n",
       "                        Rwssp                                    1          0   \n",
       "            unknown     Community                                1          0   \n",
       "                        Koica And Tanzania Government            1          0   \n",
       "                        World Bank                               5          0   \n",
       "            vwc         World Bank                               4          0   \n",
       "            wug         Abddwe                                   1          0   \n",
       "                        Rural Water Supply And Sanitat           3          0   \n",
       "                        Tasaf                                    1          0   \n",
       "                        World Vision                             7          0   \n",
       "Singida     unknown     Rundu Man                                1          0   \n",
       "            vwc         Tcrs                                     1          0   \n",
       "Tabora      other       Worldvision                              1          0   \n",
       "            vwc         Community                                2          0   \n",
       "                        None                                     2          0   \n",
       "                        World Bank                               1          0   \n",
       "\n",
       "                                                        longitude  latitude  \\\n",
       "region      management  funder                                                \n",
       "Arusha      parastatal  Fredked Conservation                    1         1   \n",
       "                        Rc Church                               1         1   \n",
       "                        Wfp                                     2         2   \n",
       "            vwc         District Council                        1         1   \n",
       "                        Ministry Of Agricultura                 1         1   \n",
       "                        Ministry Of Water                       4         4   \n",
       "Iringa      vwc         Shipo                                   1         1   \n",
       "Kagera      other       Not Known                               1         1   \n",
       "            vwc         Aar                                     1         1   \n",
       "                        Hesawa                                  1         1   \n",
       "Kigoma      water board Norad                                   1         1   \n",
       "Kilimanjaro other       Grazie Grouppo Padre Fiorentin          1         1   \n",
       "Lindi       unknown     World Bank                              1         1   \n",
       "            vwc         Government Of Tanzania                  1         1   \n",
       "Mara        other       Maro Kyariga                            1         1   \n",
       "            vwc         Hesawa                                  1         1   \n",
       "Morogoro    vwc         Donor                                   1         1   \n",
       "                        Government Of Tanzania                  1         1   \n",
       "                        Solidarm                                1         1   \n",
       "            wug         Member O                                1         1   \n",
       "Mtwara      vwc         Lga                                     1         1   \n",
       "Mwanza      other       Bgssws                                  1         1   \n",
       "                        Ms-danish                               1         1   \n",
       "            parastatal  Bhws                                    1         1   \n",
       "            vwc         Gg                                      1         1   \n",
       "                        Ggm                                     2         2   \n",
       "                        Government Of Tanzania                  1         1   \n",
       "                        Hesawa                                  3         3   \n",
       "                        Jica                                    1         1   \n",
       "                        One Desk One Chair                      1         1   \n",
       "Pwani       vwc         Wsdp                                    1         1   \n",
       "Rukwa       vwc         Dw                                      1         1   \n",
       "Shinyanga   parastatal  Government Of Tanzania                  1         1   \n",
       "                        Rural Water Supply And Sanitat          1         1   \n",
       "                        Rwssp                                   1         1   \n",
       "            unknown     Community                               1         1   \n",
       "                        Koica And Tanzania Government           1         1   \n",
       "                        World Bank                              5         5   \n",
       "            vwc         World Bank                              4         4   \n",
       "            wug         Abddwe                                  1         1   \n",
       "                        Rural Water Supply And Sanitat          3         3   \n",
       "                        Tasaf                                   1         1   \n",
       "                        World Vision                            7         7   \n",
       "Singida     unknown     Rundu Man                               1         1   \n",
       "            vwc         Tcrs                                    1         1   \n",
       "Tabora      other       Worldvision                             1         1   \n",
       "            vwc         Community                               2         2   \n",
       "                        None                                    2         2   \n",
       "                        World Bank                              1         1   \n",
       "\n",
       "                                                        wpt_name  num_private  \\\n",
       "region      management  funder                                                  \n",
       "Arusha      parastatal  Fredked Conservation                   1            1   \n",
       "                        Rc Church                              1            1   \n",
       "                        Wfp                                    2            2   \n",
       "            vwc         District Council                       1            1   \n",
       "                        Ministry Of Agricultura                1            1   \n",
       "                        Ministry Of Water                      4            4   \n",
       "Iringa      vwc         Shipo                                  1            1   \n",
       "Kagera      other       Not Known                              1            1   \n",
       "            vwc         Aar                                    1            1   \n",
       "                        Hesawa                                 1            1   \n",
       "Kigoma      water board Norad                                  1            1   \n",
       "Kilimanjaro other       Grazie Grouppo Padre Fiorentin         1            1   \n",
       "Lindi       unknown     World Bank                             1            1   \n",
       "            vwc         Government Of Tanzania                 1            1   \n",
       "Mara        other       Maro Kyariga                           1            1   \n",
       "            vwc         Hesawa                                 1            1   \n",
       "Morogoro    vwc         Donor                                  1            1   \n",
       "                        Government Of Tanzania                 1            1   \n",
       "                        Solidarm                               1            1   \n",
       "            wug         Member O                               1            1   \n",
       "Mtwara      vwc         Lga                                    1            1   \n",
       "Mwanza      other       Bgssws                                 1            1   \n",
       "                        Ms-danish                              1            1   \n",
       "            parastatal  Bhws                                   1            1   \n",
       "            vwc         Gg                                     1            1   \n",
       "                        Ggm                                    2            2   \n",
       "                        Government Of Tanzania                 1            1   \n",
       "                        Hesawa                                 3            3   \n",
       "                        Jica                                   1            1   \n",
       "                        One Desk One Chair                     1            1   \n",
       "Pwani       vwc         Wsdp                                   1            1   \n",
       "Rukwa       vwc         Dw                                     1            1   \n",
       "Shinyanga   parastatal  Government Of Tanzania                 1            1   \n",
       "                        Rural Water Supply And Sanitat         1            1   \n",
       "                        Rwssp                                  1            1   \n",
       "            unknown     Community                              1            1   \n",
       "                        Koica And Tanzania Government          1            1   \n",
       "                        World Bank                             5            5   \n",
       "            vwc         World Bank                             4            4   \n",
       "            wug         Abddwe                                 1            1   \n",
       "                        Rural Water Supply And Sanitat         3            3   \n",
       "                        Tasaf                                  1            1   \n",
       "                        World Vision                           7            7   \n",
       "Singida     unknown     Rundu Man                              1            1   \n",
       "            vwc         Tcrs                                   1            1   \n",
       "Tabora      other       Worldvision                            1            1   \n",
       "            vwc         Community                              2            2   \n",
       "                        None                                   2            2   \n",
       "                        World Bank                             1            1   \n",
       "\n",
       "                                                        basin  ...  \\\n",
       "region      management  funder                                 ...   \n",
       "Arusha      parastatal  Fredked Conservation                1  ...   \n",
       "                        Rc Church                           1  ...   \n",
       "                        Wfp                                 2  ...   \n",
       "            vwc         District Council                    1  ...   \n",
       "                        Ministry Of Agricultura             1  ...   \n",
       "                        Ministry Of Water                   4  ...   \n",
       "Iringa      vwc         Shipo                               1  ...   \n",
       "Kagera      other       Not Known                           1  ...   \n",
       "            vwc         Aar                                 1  ...   \n",
       "                        Hesawa                              1  ...   \n",
       "Kigoma      water board Norad                               1  ...   \n",
       "Kilimanjaro other       Grazie Grouppo Padre Fiorentin      1  ...   \n",
       "Lindi       unknown     World Bank                          1  ...   \n",
       "            vwc         Government Of Tanzania              1  ...   \n",
       "Mara        other       Maro Kyariga                        1  ...   \n",
       "            vwc         Hesawa                              1  ...   \n",
       "Morogoro    vwc         Donor                               1  ...   \n",
       "                        Government Of Tanzania              1  ...   \n",
       "                        Solidarm                            1  ...   \n",
       "            wug         Member O                            1  ...   \n",
       "Mtwara      vwc         Lga                                 1  ...   \n",
       "Mwanza      other       Bgssws                              1  ...   \n",
       "                        Ms-danish                           1  ...   \n",
       "            parastatal  Bhws                                1  ...   \n",
       "            vwc         Gg                                  1  ...   \n",
       "                        Ggm                                 2  ...   \n",
       "                        Government Of Tanzania              1  ...   \n",
       "                        Hesawa                              3  ...   \n",
       "                        Jica                                1  ...   \n",
       "                        One Desk One Chair                  1  ...   \n",
       "Pwani       vwc         Wsdp                                1  ...   \n",
       "Rukwa       vwc         Dw                                  1  ...   \n",
       "Shinyanga   parastatal  Government Of Tanzania              1  ...   \n",
       "                        Rural Water Supply And Sanitat      1  ...   \n",
       "                        Rwssp                               1  ...   \n",
       "            unknown     Community                           1  ...   \n",
       "                        Koica And Tanzania Government       1  ...   \n",
       "                        World Bank                          5  ...   \n",
       "            vwc         World Bank                          4  ...   \n",
       "            wug         Abddwe                              1  ...   \n",
       "                        Rural Water Supply And Sanitat      3  ...   \n",
       "                        Tasaf                               1  ...   \n",
       "                        World Vision                        7  ...   \n",
       "Singida     unknown     Rundu Man                           1  ...   \n",
       "            vwc         Tcrs                                1  ...   \n",
       "Tabora      other       Worldvision                         1  ...   \n",
       "            vwc         Community                           2  ...   \n",
       "                        None                                2  ...   \n",
       "                        World Bank                          1  ...   \n",
       "\n",
       "                                                        payment_type  \\\n",
       "region      management  funder                                         \n",
       "Arusha      parastatal  Fredked Conservation                       1   \n",
       "                        Rc Church                                  1   \n",
       "                        Wfp                                        2   \n",
       "            vwc         District Council                           1   \n",
       "                        Ministry Of Agricultura                    1   \n",
       "                        Ministry Of Water                          4   \n",
       "Iringa      vwc         Shipo                                      1   \n",
       "Kagera      other       Not Known                                  1   \n",
       "            vwc         Aar                                        1   \n",
       "                        Hesawa                                     1   \n",
       "Kigoma      water board Norad                                      1   \n",
       "Kilimanjaro other       Grazie Grouppo Padre Fiorentin             1   \n",
       "Lindi       unknown     World Bank                                 1   \n",
       "            vwc         Government Of Tanzania                     1   \n",
       "Mara        other       Maro Kyariga                               1   \n",
       "            vwc         Hesawa                                     1   \n",
       "Morogoro    vwc         Donor                                      1   \n",
       "                        Government Of Tanzania                     1   \n",
       "                        Solidarm                                   1   \n",
       "            wug         Member O                                   1   \n",
       "Mtwara      vwc         Lga                                        1   \n",
       "Mwanza      other       Bgssws                                     1   \n",
       "                        Ms-danish                                  1   \n",
       "            parastatal  Bhws                                       1   \n",
       "            vwc         Gg                                         1   \n",
       "                        Ggm                                        2   \n",
       "                        Government Of Tanzania                     1   \n",
       "                        Hesawa                                     3   \n",
       "                        Jica                                       1   \n",
       "                        One Desk One Chair                         1   \n",
       "Pwani       vwc         Wsdp                                       1   \n",
       "Rukwa       vwc         Dw                                         1   \n",
       "Shinyanga   parastatal  Government Of Tanzania                     1   \n",
       "                        Rural Water Supply And Sanitat             1   \n",
       "                        Rwssp                                      1   \n",
       "            unknown     Community                                  1   \n",
       "                        Koica And Tanzania Government              1   \n",
       "                        World Bank                                 5   \n",
       "            vwc         World Bank                                 4   \n",
       "            wug         Abddwe                                     1   \n",
       "                        Rural Water Supply And Sanitat             3   \n",
       "                        Tasaf                                      1   \n",
       "                        World Vision                               7   \n",
       "Singida     unknown     Rundu Man                                  1   \n",
       "            vwc         Tcrs                                       1   \n",
       "Tabora      other       Worldvision                                1   \n",
       "            vwc         Community                                  2   \n",
       "                        None                                       2   \n",
       "                        World Bank                                 1   \n",
       "\n",
       "                                                        water_quality  \\\n",
       "region      management  funder                                          \n",
       "Arusha      parastatal  Fredked Conservation                        1   \n",
       "                        Rc Church                                   1   \n",
       "                        Wfp                                         2   \n",
       "            vwc         District Council                            1   \n",
       "                        Ministry Of Agricultura                     1   \n",
       "                        Ministry Of Water                           4   \n",
       "Iringa      vwc         Shipo                                       1   \n",
       "Kagera      other       Not Known                                   1   \n",
       "            vwc         Aar                                         1   \n",
       "                        Hesawa                                      1   \n",
       "Kigoma      water board Norad                                       1   \n",
       "Kilimanjaro other       Grazie Grouppo Padre Fiorentin              1   \n",
       "Lindi       unknown     World Bank                                  1   \n",
       "            vwc         Government Of Tanzania                      1   \n",
       "Mara        other       Maro Kyariga                                1   \n",
       "            vwc         Hesawa                                      1   \n",
       "Morogoro    vwc         Donor                                       1   \n",
       "                        Government Of Tanzania                      1   \n",
       "                        Solidarm                                    1   \n",
       "            wug         Member O                                    1   \n",
       "Mtwara      vwc         Lga                                         1   \n",
       "Mwanza      other       Bgssws                                      1   \n",
       "                        Ms-danish                                   1   \n",
       "            parastatal  Bhws                                        1   \n",
       "            vwc         Gg                                          1   \n",
       "                        Ggm                                         2   \n",
       "                        Government Of Tanzania                      1   \n",
       "                        Hesawa                                      3   \n",
       "                        Jica                                        1   \n",
       "                        One Desk One Chair                          1   \n",
       "Pwani       vwc         Wsdp                                        1   \n",
       "Rukwa       vwc         Dw                                          1   \n",
       "Shinyanga   parastatal  Government Of Tanzania                      1   \n",
       "                        Rural Water Supply And Sanitat              1   \n",
       "                        Rwssp                                       1   \n",
       "            unknown     Community                                   1   \n",
       "                        Koica And Tanzania Government               1   \n",
       "                        World Bank                                  5   \n",
       "            vwc         World Bank                                  4   \n",
       "            wug         Abddwe                                      1   \n",
       "                        Rural Water Supply And Sanitat              3   \n",
       "                        Tasaf                                       1   \n",
       "                        World Vision                                7   \n",
       "Singida     unknown     Rundu Man                                   1   \n",
       "            vwc         Tcrs                                        1   \n",
       "Tabora      other       Worldvision                                 1   \n",
       "            vwc         Community                                   2   \n",
       "                        None                                        2   \n",
       "                        World Bank                                  1   \n",
       "\n",
       "                                                        quality_group  \\\n",
       "region      management  funder                                          \n",
       "Arusha      parastatal  Fredked Conservation                        1   \n",
       "                        Rc Church                                   1   \n",
       "                        Wfp                                         2   \n",
       "            vwc         District Council                            1   \n",
       "                        Ministry Of Agricultura                     1   \n",
       "                        Ministry Of Water                           4   \n",
       "Iringa      vwc         Shipo                                       1   \n",
       "Kagera      other       Not Known                                   1   \n",
       "            vwc         Aar                                         1   \n",
       "                        Hesawa                                      1   \n",
       "Kigoma      water board Norad                                       1   \n",
       "Kilimanjaro other       Grazie Grouppo Padre Fiorentin              1   \n",
       "Lindi       unknown     World Bank                                  1   \n",
       "            vwc         Government Of Tanzania                      1   \n",
       "Mara        other       Maro Kyariga                                1   \n",
       "            vwc         Hesawa                                      1   \n",
       "Morogoro    vwc         Donor                                       1   \n",
       "                        Government Of Tanzania                      1   \n",
       "                        Solidarm                                    1   \n",
       "            wug         Member O                                    1   \n",
       "Mtwara      vwc         Lga                                         1   \n",
       "Mwanza      other       Bgssws                                      1   \n",
       "                        Ms-danish                                   1   \n",
       "            parastatal  Bhws                                        1   \n",
       "            vwc         Gg                                          1   \n",
       "                        Ggm                                         2   \n",
       "                        Government Of Tanzania                      1   \n",
       "                        Hesawa                                      3   \n",
       "                        Jica                                        1   \n",
       "                        One Desk One Chair                          1   \n",
       "Pwani       vwc         Wsdp                                        1   \n",
       "Rukwa       vwc         Dw                                          1   \n",
       "Shinyanga   parastatal  Government Of Tanzania                      1   \n",
       "                        Rural Water Supply And Sanitat              1   \n",
       "                        Rwssp                                       1   \n",
       "            unknown     Community                                   1   \n",
       "                        Koica And Tanzania Government               1   \n",
       "                        World Bank                                  5   \n",
       "            vwc         World Bank                                  4   \n",
       "            wug         Abddwe                                      1   \n",
       "                        Rural Water Supply And Sanitat              3   \n",
       "                        Tasaf                                       1   \n",
       "                        World Vision                                7   \n",
       "Singida     unknown     Rundu Man                                   1   \n",
       "            vwc         Tcrs                                        1   \n",
       "Tabora      other       Worldvision                                 1   \n",
       "            vwc         Community                                   2   \n",
       "                        None                                        2   \n",
       "                        World Bank                                  1   \n",
       "\n",
       "                                                        quantity  \\\n",
       "region      management  funder                                     \n",
       "Arusha      parastatal  Fredked Conservation                   1   \n",
       "                        Rc Church                              1   \n",
       "                        Wfp                                    2   \n",
       "            vwc         District Council                       1   \n",
       "                        Ministry Of Agricultura                1   \n",
       "                        Ministry Of Water                      4   \n",
       "Iringa      vwc         Shipo                                  1   \n",
       "Kagera      other       Not Known                              1   \n",
       "            vwc         Aar                                    1   \n",
       "                        Hesawa                                 1   \n",
       "Kigoma      water board Norad                                  1   \n",
       "Kilimanjaro other       Grazie Grouppo Padre Fiorentin         1   \n",
       "Lindi       unknown     World Bank                             1   \n",
       "            vwc         Government Of Tanzania                 1   \n",
       "Mara        other       Maro Kyariga                           1   \n",
       "            vwc         Hesawa                                 1   \n",
       "Morogoro    vwc         Donor                                  1   \n",
       "                        Government Of Tanzania                 1   \n",
       "                        Solidarm                               1   \n",
       "            wug         Member O                               1   \n",
       "Mtwara      vwc         Lga                                    1   \n",
       "Mwanza      other       Bgssws                                 1   \n",
       "                        Ms-danish                              1   \n",
       "            parastatal  Bhws                                   1   \n",
       "            vwc         Gg                                     1   \n",
       "                        Ggm                                    2   \n",
       "                        Government Of Tanzania                 1   \n",
       "                        Hesawa                                 3   \n",
       "                        Jica                                   1   \n",
       "                        One Desk One Chair                     1   \n",
       "Pwani       vwc         Wsdp                                   1   \n",
       "Rukwa       vwc         Dw                                     1   \n",
       "Shinyanga   parastatal  Government Of Tanzania                 1   \n",
       "                        Rural Water Supply And Sanitat         1   \n",
       "                        Rwssp                                  1   \n",
       "            unknown     Community                              1   \n",
       "                        Koica And Tanzania Government          1   \n",
       "                        World Bank                             5   \n",
       "            vwc         World Bank                             4   \n",
       "            wug         Abddwe                                 1   \n",
       "                        Rural Water Supply And Sanitat         3   \n",
       "                        Tasaf                                  1   \n",
       "                        World Vision                           7   \n",
       "Singida     unknown     Rundu Man                              1   \n",
       "            vwc         Tcrs                                   1   \n",
       "Tabora      other       Worldvision                            1   \n",
       "            vwc         Community                              2   \n",
       "                        None                                   2   \n",
       "                        World Bank                             1   \n",
       "\n",
       "                                                        quantity_group  \\\n",
       "region      management  funder                                           \n",
       "Arusha      parastatal  Fredked Conservation                         1   \n",
       "                        Rc Church                                    1   \n",
       "                        Wfp                                          2   \n",
       "            vwc         District Council                             1   \n",
       "                        Ministry Of Agricultura                      1   \n",
       "                        Ministry Of Water                            4   \n",
       "Iringa      vwc         Shipo                                        1   \n",
       "Kagera      other       Not Known                                    1   \n",
       "            vwc         Aar                                          1   \n",
       "                        Hesawa                                       1   \n",
       "Kigoma      water board Norad                                        1   \n",
       "Kilimanjaro other       Grazie Grouppo Padre Fiorentin               1   \n",
       "Lindi       unknown     World Bank                                   1   \n",
       "            vwc         Government Of Tanzania                       1   \n",
       "Mara        other       Maro Kyariga                                 1   \n",
       "            vwc         Hesawa                                       1   \n",
       "Morogoro    vwc         Donor                                        1   \n",
       "                        Government Of Tanzania                       1   \n",
       "                        Solidarm                                     1   \n",
       "            wug         Member O                                     1   \n",
       "Mtwara      vwc         Lga                                          1   \n",
       "Mwanza      other       Bgssws                                       1   \n",
       "                        Ms-danish                                    1   \n",
       "            parastatal  Bhws                                         1   \n",
       "            vwc         Gg                                           1   \n",
       "                        Ggm                                          2   \n",
       "                        Government Of Tanzania                       1   \n",
       "                        Hesawa                                       3   \n",
       "                        Jica                                         1   \n",
       "                        One Desk One Chair                           1   \n",
       "Pwani       vwc         Wsdp                                         1   \n",
       "Rukwa       vwc         Dw                                           1   \n",
       "Shinyanga   parastatal  Government Of Tanzania                       1   \n",
       "                        Rural Water Supply And Sanitat               1   \n",
       "                        Rwssp                                        1   \n",
       "            unknown     Community                                    1   \n",
       "                        Koica And Tanzania Government                1   \n",
       "                        World Bank                                   5   \n",
       "            vwc         World Bank                                   4   \n",
       "            wug         Abddwe                                       1   \n",
       "                        Rural Water Supply And Sanitat               3   \n",
       "                        Tasaf                                        1   \n",
       "                        World Vision                                 7   \n",
       "Singida     unknown     Rundu Man                                    1   \n",
       "            vwc         Tcrs                                         1   \n",
       "Tabora      other       Worldvision                                  1   \n",
       "            vwc         Community                                    2   \n",
       "                        None                                         2   \n",
       "                        World Bank                                   1   \n",
       "\n",
       "                                                        source  source_type  \\\n",
       "region      management  funder                                                \n",
       "Arusha      parastatal  Fredked Conservation                 1            1   \n",
       "                        Rc Church                            1            1   \n",
       "                        Wfp                                  2            2   \n",
       "            vwc         District Council                     1            1   \n",
       "                        Ministry Of Agricultura              1            1   \n",
       "                        Ministry Of Water                    4            4   \n",
       "Iringa      vwc         Shipo                                1            1   \n",
       "Kagera      other       Not Known                            1            1   \n",
       "            vwc         Aar                                  1            1   \n",
       "                        Hesawa                               1            1   \n",
       "Kigoma      water board Norad                                1            1   \n",
       "Kilimanjaro other       Grazie Grouppo Padre Fiorentin       1            1   \n",
       "Lindi       unknown     World Bank                           1            1   \n",
       "            vwc         Government Of Tanzania               1            1   \n",
       "Mara        other       Maro Kyariga                         1            1   \n",
       "            vwc         Hesawa                               1            1   \n",
       "Morogoro    vwc         Donor                                1            1   \n",
       "                        Government Of Tanzania               1            1   \n",
       "                        Solidarm                             1            1   \n",
       "            wug         Member O                             1            1   \n",
       "Mtwara      vwc         Lga                                  1            1   \n",
       "Mwanza      other       Bgssws                               1            1   \n",
       "                        Ms-danish                            1            1   \n",
       "            parastatal  Bhws                                 1            1   \n",
       "            vwc         Gg                                   1            1   \n",
       "                        Ggm                                  2            2   \n",
       "                        Government Of Tanzania               1            1   \n",
       "                        Hesawa                               3            3   \n",
       "                        Jica                                 1            1   \n",
       "                        One Desk One Chair                   1            1   \n",
       "Pwani       vwc         Wsdp                                 1            1   \n",
       "Rukwa       vwc         Dw                                   1            1   \n",
       "Shinyanga   parastatal  Government Of Tanzania               1            1   \n",
       "                        Rural Water Supply And Sanitat       1            1   \n",
       "                        Rwssp                                1            1   \n",
       "            unknown     Community                            1            1   \n",
       "                        Koica And Tanzania Government        1            1   \n",
       "                        World Bank                           5            5   \n",
       "            vwc         World Bank                           4            4   \n",
       "            wug         Abddwe                               1            1   \n",
       "                        Rural Water Supply And Sanitat       3            3   \n",
       "                        Tasaf                                1            1   \n",
       "                        World Vision                         7            7   \n",
       "Singida     unknown     Rundu Man                            1            1   \n",
       "            vwc         Tcrs                                 1            1   \n",
       "Tabora      other       Worldvision                          1            1   \n",
       "            vwc         Community                            2            2   \n",
       "                        None                                 2            2   \n",
       "                        World Bank                           1            1   \n",
       "\n",
       "                                                        source_class  \\\n",
       "region      management  funder                                         \n",
       "Arusha      parastatal  Fredked Conservation                       1   \n",
       "                        Rc Church                                  1   \n",
       "                        Wfp                                        2   \n",
       "            vwc         District Council                           1   \n",
       "                        Ministry Of Agricultura                    1   \n",
       "                        Ministry Of Water                          4   \n",
       "Iringa      vwc         Shipo                                      1   \n",
       "Kagera      other       Not Known                                  1   \n",
       "            vwc         Aar                                        1   \n",
       "                        Hesawa                                     1   \n",
       "Kigoma      water board Norad                                      1   \n",
       "Kilimanjaro other       Grazie Grouppo Padre Fiorentin             1   \n",
       "Lindi       unknown     World Bank                                 1   \n",
       "            vwc         Government Of Tanzania                     1   \n",
       "Mara        other       Maro Kyariga                               1   \n",
       "            vwc         Hesawa                                     1   \n",
       "Morogoro    vwc         Donor                                      1   \n",
       "                        Government Of Tanzania                     1   \n",
       "                        Solidarm                                   1   \n",
       "            wug         Member O                                   1   \n",
       "Mtwara      vwc         Lga                                        1   \n",
       "Mwanza      other       Bgssws                                     1   \n",
       "                        Ms-danish                                  1   \n",
       "            parastatal  Bhws                                       1   \n",
       "            vwc         Gg                                         1   \n",
       "                        Ggm                                        2   \n",
       "                        Government Of Tanzania                     1   \n",
       "                        Hesawa                                     3   \n",
       "                        Jica                                       1   \n",
       "                        One Desk One Chair                         1   \n",
       "Pwani       vwc         Wsdp                                       1   \n",
       "Rukwa       vwc         Dw                                         1   \n",
       "Shinyanga   parastatal  Government Of Tanzania                     1   \n",
       "                        Rural Water Supply And Sanitat             1   \n",
       "                        Rwssp                                      1   \n",
       "            unknown     Community                                  1   \n",
       "                        Koica And Tanzania Government              1   \n",
       "                        World Bank                                 5   \n",
       "            vwc         World Bank                                 4   \n",
       "            wug         Abddwe                                     1   \n",
       "                        Rural Water Supply And Sanitat             3   \n",
       "                        Tasaf                                      1   \n",
       "                        World Vision                               7   \n",
       "Singida     unknown     Rundu Man                                  1   \n",
       "            vwc         Tcrs                                       1   \n",
       "Tabora      other       Worldvision                                1   \n",
       "            vwc         Community                                  2   \n",
       "                        None                                       2   \n",
       "                        World Bank                                 1   \n",
       "\n",
       "                                                        waterpoint_type  \\\n",
       "region      management  funder                                            \n",
       "Arusha      parastatal  Fredked Conservation                          1   \n",
       "                        Rc Church                                     1   \n",
       "                        Wfp                                           2   \n",
       "            vwc         District Council                              1   \n",
       "                        Ministry Of Agricultura                       1   \n",
       "                        Ministry Of Water                             4   \n",
       "Iringa      vwc         Shipo                                         1   \n",
       "Kagera      other       Not Known                                     1   \n",
       "            vwc         Aar                                           1   \n",
       "                        Hesawa                                        1   \n",
       "Kigoma      water board Norad                                         1   \n",
       "Kilimanjaro other       Grazie Grouppo Padre Fiorentin                1   \n",
       "Lindi       unknown     World Bank                                    1   \n",
       "            vwc         Government Of Tanzania                        1   \n",
       "Mara        other       Maro Kyariga                                  1   \n",
       "            vwc         Hesawa                                        1   \n",
       "Morogoro    vwc         Donor                                         1   \n",
       "                        Government Of Tanzania                        1   \n",
       "                        Solidarm                                      1   \n",
       "            wug         Member O                                      1   \n",
       "Mtwara      vwc         Lga                                           1   \n",
       "Mwanza      other       Bgssws                                        1   \n",
       "                        Ms-danish                                     1   \n",
       "            parastatal  Bhws                                          1   \n",
       "            vwc         Gg                                            1   \n",
       "                        Ggm                                           2   \n",
       "                        Government Of Tanzania                        1   \n",
       "                        Hesawa                                        3   \n",
       "                        Jica                                          1   \n",
       "                        One Desk One Chair                            1   \n",
       "Pwani       vwc         Wsdp                                          1   \n",
       "Rukwa       vwc         Dw                                            1   \n",
       "Shinyanga   parastatal  Government Of Tanzania                        1   \n",
       "                        Rural Water Supply And Sanitat                1   \n",
       "                        Rwssp                                         1   \n",
       "            unknown     Community                                     1   \n",
       "                        Koica And Tanzania Government                 1   \n",
       "                        World Bank                                    5   \n",
       "            vwc         World Bank                                    4   \n",
       "            wug         Abddwe                                        1   \n",
       "                        Rural Water Supply And Sanitat                3   \n",
       "                        Tasaf                                         1   \n",
       "                        World Vision                                  7   \n",
       "Singida     unknown     Rundu Man                                     1   \n",
       "            vwc         Tcrs                                          1   \n",
       "Tabora      other       Worldvision                                   1   \n",
       "            vwc         Community                                     2   \n",
       "                        None                                          2   \n",
       "                        World Bank                                    1   \n",
       "\n",
       "                                                        waterpoint_type_group  \n",
       "region      management  funder                                                 \n",
       "Arusha      parastatal  Fredked Conservation                                1  \n",
       "                        Rc Church                                           1  \n",
       "                        Wfp                                                 2  \n",
       "            vwc         District Council                                    1  \n",
       "                        Ministry Of Agricultura                             1  \n",
       "                        Ministry Of Water                                   4  \n",
       "Iringa      vwc         Shipo                                               1  \n",
       "Kagera      other       Not Known                                           1  \n",
       "            vwc         Aar                                                 1  \n",
       "                        Hesawa                                              1  \n",
       "Kigoma      water board Norad                                               1  \n",
       "Kilimanjaro other       Grazie Grouppo Padre Fiorentin                      1  \n",
       "Lindi       unknown     World Bank                                          1  \n",
       "            vwc         Government Of Tanzania                              1  \n",
       "Mara        other       Maro Kyariga                                        1  \n",
       "            vwc         Hesawa                                              1  \n",
       "Morogoro    vwc         Donor                                               1  \n",
       "                        Government Of Tanzania                              1  \n",
       "                        Solidarm                                            1  \n",
       "            wug         Member O                                            1  \n",
       "Mtwara      vwc         Lga                                                 1  \n",
       "Mwanza      other       Bgssws                                              1  \n",
       "                        Ms-danish                                           1  \n",
       "            parastatal  Bhws                                                1  \n",
       "            vwc         Gg                                                  1  \n",
       "                        Ggm                                                 2  \n",
       "                        Government Of Tanzania                              1  \n",
       "                        Hesawa                                              3  \n",
       "                        Jica                                                1  \n",
       "                        One Desk One Chair                                  1  \n",
       "Pwani       vwc         Wsdp                                                1  \n",
       "Rukwa       vwc         Dw                                                  1  \n",
       "Shinyanga   parastatal  Government Of Tanzania                              1  \n",
       "                        Rural Water Supply And Sanitat                      1  \n",
       "                        Rwssp                                               1  \n",
       "            unknown     Community                                           1  \n",
       "                        Koica And Tanzania Government                       1  \n",
       "                        World Bank                                          5  \n",
       "            vwc         World Bank                                          4  \n",
       "            wug         Abddwe                                              1  \n",
       "                        Rural Water Supply And Sanitat                      3  \n",
       "                        Tasaf                                               1  \n",
       "                        World Vision                                        7  \n",
       "Singida     unknown     Rundu Man                                           1  \n",
       "            vwc         Tcrs                                                1  \n",
       "Tabora      other       Worldvision                                         1  \n",
       "            vwc         Community                                           2  \n",
       "                        None                                                2  \n",
       "                        World Bank                                          1  \n",
       "\n",
       "[49 rows x 37 columns]"
      ]
     },
     "execution_count": 14,
     "metadata": {},
     "output_type": "execute_result"
    }
   ],
   "source": [
    "nan_installer = train_values[train_values['installer'].isna()]\n",
    "nan_installer.groupby(['region', 'management', 'funder']).count()"
   ]
  },
  {
   "cell_type": "code",
   "execution_count": 15,
   "metadata": {},
   "outputs": [
    {
     "data": {
      "text/html": [
       "<div>\n",
       "<style scoped>\n",
       "    .dataframe tbody tr th:only-of-type {\n",
       "        vertical-align: middle;\n",
       "    }\n",
       "\n",
       "    .dataframe tbody tr th {\n",
       "        vertical-align: top;\n",
       "    }\n",
       "\n",
       "    .dataframe thead th {\n",
       "        text-align: right;\n",
       "    }\n",
       "</style>\n",
       "<table border=\"1\" class=\"dataframe\">\n",
       "  <thead>\n",
       "    <tr style=\"text-align: right;\">\n",
       "      <th></th>\n",
       "      <th>id</th>\n",
       "      <th>amount_tsh</th>\n",
       "      <th>date_recorded</th>\n",
       "      <th>funder</th>\n",
       "      <th>gps_height</th>\n",
       "      <th>installer</th>\n",
       "      <th>longitude</th>\n",
       "      <th>latitude</th>\n",
       "      <th>wpt_name</th>\n",
       "      <th>num_private</th>\n",
       "      <th>...</th>\n",
       "      <th>payment_type</th>\n",
       "      <th>water_quality</th>\n",
       "      <th>quality_group</th>\n",
       "      <th>quantity</th>\n",
       "      <th>quantity_group</th>\n",
       "      <th>source</th>\n",
       "      <th>source_type</th>\n",
       "      <th>source_class</th>\n",
       "      <th>waterpoint_type</th>\n",
       "      <th>waterpoint_type_group</th>\n",
       "    </tr>\n",
       "  </thead>\n",
       "  <tbody>\n",
       "    <tr>\n",
       "      <th>35</th>\n",
       "      <td>57355</td>\n",
       "      <td>0.0</td>\n",
       "      <td>2013-03-28</td>\n",
       "      <td>Not Known</td>\n",
       "      <td>1546</td>\n",
       "      <td>Not known</td>\n",
       "      <td>36.618699</td>\n",
       "      <td>-3.293003</td>\n",
       "      <td>Sekondari</td>\n",
       "      <td>0</td>\n",
       "      <td>...</td>\n",
       "      <td>never pay</td>\n",
       "      <td>soft</td>\n",
       "      <td>good</td>\n",
       "      <td>seasonal</td>\n",
       "      <td>seasonal</td>\n",
       "      <td>rainwater harvesting</td>\n",
       "      <td>rainwater harvesting</td>\n",
       "      <td>surface</td>\n",
       "      <td>other</td>\n",
       "      <td>other</td>\n",
       "    </tr>\n",
       "    <tr>\n",
       "      <th>1426</th>\n",
       "      <td>31672</td>\n",
       "      <td>0.0</td>\n",
       "      <td>2013-03-23</td>\n",
       "      <td>Not Known</td>\n",
       "      <td>1871</td>\n",
       "      <td>Not known</td>\n",
       "      <td>36.644556</td>\n",
       "      <td>-3.244199</td>\n",
       "      <td>Kituo Cha Afya</td>\n",
       "      <td>0</td>\n",
       "      <td>...</td>\n",
       "      <td>never pay</td>\n",
       "      <td>soft</td>\n",
       "      <td>good</td>\n",
       "      <td>seasonal</td>\n",
       "      <td>seasonal</td>\n",
       "      <td>rainwater harvesting</td>\n",
       "      <td>rainwater harvesting</td>\n",
       "      <td>surface</td>\n",
       "      <td>other</td>\n",
       "      <td>other</td>\n",
       "    </tr>\n",
       "    <tr>\n",
       "      <th>1649</th>\n",
       "      <td>52401</td>\n",
       "      <td>0.0</td>\n",
       "      <td>2013-03-21</td>\n",
       "      <td>Not Known</td>\n",
       "      <td>1650</td>\n",
       "      <td>Not known</td>\n",
       "      <td>36.720357</td>\n",
       "      <td>-3.130001</td>\n",
       "      <td>Shule Ya Msingi</td>\n",
       "      <td>0</td>\n",
       "      <td>...</td>\n",
       "      <td>never pay</td>\n",
       "      <td>soft</td>\n",
       "      <td>good</td>\n",
       "      <td>enough</td>\n",
       "      <td>enough</td>\n",
       "      <td>rainwater harvesting</td>\n",
       "      <td>rainwater harvesting</td>\n",
       "      <td>surface</td>\n",
       "      <td>communal standpipe</td>\n",
       "      <td>communal standpipe</td>\n",
       "    </tr>\n",
       "    <tr>\n",
       "      <th>2730</th>\n",
       "      <td>40815</td>\n",
       "      <td>0.0</td>\n",
       "      <td>2011-07-23</td>\n",
       "      <td>Not Known</td>\n",
       "      <td>0</td>\n",
       "      <td>not known</td>\n",
       "      <td>32.639752</td>\n",
       "      <td>-2.709872</td>\n",
       "      <td>Kwa Kali</td>\n",
       "      <td>0</td>\n",
       "      <td>...</td>\n",
       "      <td>never pay</td>\n",
       "      <td>soft</td>\n",
       "      <td>good</td>\n",
       "      <td>insufficient</td>\n",
       "      <td>insufficient</td>\n",
       "      <td>shallow well</td>\n",
       "      <td>shallow well</td>\n",
       "      <td>groundwater</td>\n",
       "      <td>hand pump</td>\n",
       "      <td>hand pump</td>\n",
       "    </tr>\n",
       "    <tr>\n",
       "      <th>5650</th>\n",
       "      <td>18845</td>\n",
       "      <td>0.0</td>\n",
       "      <td>2013-03-28</td>\n",
       "      <td>Not Known</td>\n",
       "      <td>1540</td>\n",
       "      <td>Not known</td>\n",
       "      <td>36.618545</td>\n",
       "      <td>-3.292390</td>\n",
       "      <td>Shule Ya Msingi</td>\n",
       "      <td>0</td>\n",
       "      <td>...</td>\n",
       "      <td>never pay</td>\n",
       "      <td>soft</td>\n",
       "      <td>good</td>\n",
       "      <td>seasonal</td>\n",
       "      <td>seasonal</td>\n",
       "      <td>rainwater harvesting</td>\n",
       "      <td>rainwater harvesting</td>\n",
       "      <td>surface</td>\n",
       "      <td>other</td>\n",
       "      <td>other</td>\n",
       "    </tr>\n",
       "    <tr>\n",
       "      <th>11421</th>\n",
       "      <td>25965</td>\n",
       "      <td>0.0</td>\n",
       "      <td>2011-07-21</td>\n",
       "      <td>Not Known</td>\n",
       "      <td>0</td>\n",
       "      <td>NaN</td>\n",
       "      <td>30.714453</td>\n",
       "      <td>-2.905798</td>\n",
       "      <td>Ndege</td>\n",
       "      <td>0</td>\n",
       "      <td>...</td>\n",
       "      <td>never pay</td>\n",
       "      <td>unknown</td>\n",
       "      <td>unknown</td>\n",
       "      <td>dry</td>\n",
       "      <td>dry</td>\n",
       "      <td>shallow well</td>\n",
       "      <td>shallow well</td>\n",
       "      <td>groundwater</td>\n",
       "      <td>other</td>\n",
       "      <td>other</td>\n",
       "    </tr>\n",
       "    <tr>\n",
       "      <th>16506</th>\n",
       "      <td>8481</td>\n",
       "      <td>0.0</td>\n",
       "      <td>2011-03-03</td>\n",
       "      <td>Not Known</td>\n",
       "      <td>85</td>\n",
       "      <td>not known</td>\n",
       "      <td>38.376294</td>\n",
       "      <td>-6.708447</td>\n",
       "      <td>Gwata</td>\n",
       "      <td>0</td>\n",
       "      <td>...</td>\n",
       "      <td>never pay</td>\n",
       "      <td>soft</td>\n",
       "      <td>good</td>\n",
       "      <td>enough</td>\n",
       "      <td>enough</td>\n",
       "      <td>shallow well</td>\n",
       "      <td>shallow well</td>\n",
       "      <td>groundwater</td>\n",
       "      <td>hand pump</td>\n",
       "      <td>hand pump</td>\n",
       "    </tr>\n",
       "    <tr>\n",
       "      <th>18721</th>\n",
       "      <td>50608</td>\n",
       "      <td>0.0</td>\n",
       "      <td>2011-07-10</td>\n",
       "      <td>Not Known</td>\n",
       "      <td>0</td>\n",
       "      <td>Not known</td>\n",
       "      <td>31.755311</td>\n",
       "      <td>-2.639781</td>\n",
       "      <td>Mawasiliano B</td>\n",
       "      <td>0</td>\n",
       "      <td>...</td>\n",
       "      <td>never pay</td>\n",
       "      <td>soft</td>\n",
       "      <td>good</td>\n",
       "      <td>enough</td>\n",
       "      <td>enough</td>\n",
       "      <td>machine dbh</td>\n",
       "      <td>borehole</td>\n",
       "      <td>groundwater</td>\n",
       "      <td>communal standpipe</td>\n",
       "      <td>communal standpipe</td>\n",
       "    </tr>\n",
       "    <tr>\n",
       "      <th>20352</th>\n",
       "      <td>26841</td>\n",
       "      <td>0.0</td>\n",
       "      <td>2011-07-27</td>\n",
       "      <td>Not Known</td>\n",
       "      <td>0</td>\n",
       "      <td>Sengerema Water Department</td>\n",
       "      <td>32.777487</td>\n",
       "      <td>-2.526449</td>\n",
       "      <td>Kwa Muyomba</td>\n",
       "      <td>0</td>\n",
       "      <td>...</td>\n",
       "      <td>never pay</td>\n",
       "      <td>soft</td>\n",
       "      <td>good</td>\n",
       "      <td>enough</td>\n",
       "      <td>enough</td>\n",
       "      <td>shallow well</td>\n",
       "      <td>shallow well</td>\n",
       "      <td>groundwater</td>\n",
       "      <td>hand pump</td>\n",
       "      <td>hand pump</td>\n",
       "    </tr>\n",
       "    <tr>\n",
       "      <th>23841</th>\n",
       "      <td>28739</td>\n",
       "      <td>0.0</td>\n",
       "      <td>2011-07-27</td>\n",
       "      <td>Not Known</td>\n",
       "      <td>0</td>\n",
       "      <td>Sengerema Water Department</td>\n",
       "      <td>32.793434</td>\n",
       "      <td>-2.527674</td>\n",
       "      <td>Kwa Mwilili</td>\n",
       "      <td>0</td>\n",
       "      <td>...</td>\n",
       "      <td>unknown</td>\n",
       "      <td>soft</td>\n",
       "      <td>good</td>\n",
       "      <td>enough</td>\n",
       "      <td>enough</td>\n",
       "      <td>shallow well</td>\n",
       "      <td>shallow well</td>\n",
       "      <td>groundwater</td>\n",
       "      <td>hand pump</td>\n",
       "      <td>hand pump</td>\n",
       "    </tr>\n",
       "    <tr>\n",
       "      <th>25449</th>\n",
       "      <td>19977</td>\n",
       "      <td>0.0</td>\n",
       "      <td>2011-03-03</td>\n",
       "      <td>Not Known</td>\n",
       "      <td>93</td>\n",
       "      <td>not known</td>\n",
       "      <td>38.375609</td>\n",
       "      <td>-6.708948</td>\n",
       "      <td>Gwata</td>\n",
       "      <td>0</td>\n",
       "      <td>...</td>\n",
       "      <td>never pay</td>\n",
       "      <td>soft</td>\n",
       "      <td>good</td>\n",
       "      <td>insufficient</td>\n",
       "      <td>insufficient</td>\n",
       "      <td>shallow well</td>\n",
       "      <td>shallow well</td>\n",
       "      <td>groundwater</td>\n",
       "      <td>hand pump</td>\n",
       "      <td>hand pump</td>\n",
       "    </tr>\n",
       "    <tr>\n",
       "      <th>27136</th>\n",
       "      <td>15750</td>\n",
       "      <td>0.0</td>\n",
       "      <td>2013-03-21</td>\n",
       "      <td>Not Known</td>\n",
       "      <td>1648</td>\n",
       "      <td>Not known</td>\n",
       "      <td>36.720995</td>\n",
       "      <td>-3.129200</td>\n",
       "      <td>Shule Ya Msingi</td>\n",
       "      <td>0</td>\n",
       "      <td>...</td>\n",
       "      <td>never pay</td>\n",
       "      <td>soft</td>\n",
       "      <td>good</td>\n",
       "      <td>enough</td>\n",
       "      <td>enough</td>\n",
       "      <td>rainwater harvesting</td>\n",
       "      <td>rainwater harvesting</td>\n",
       "      <td>surface</td>\n",
       "      <td>other</td>\n",
       "      <td>other</td>\n",
       "    </tr>\n",
       "    <tr>\n",
       "      <th>31148</th>\n",
       "      <td>50897</td>\n",
       "      <td>0.0</td>\n",
       "      <td>2011-03-16</td>\n",
       "      <td>Not Known</td>\n",
       "      <td>8</td>\n",
       "      <td>Not known</td>\n",
       "      <td>39.185553</td>\n",
       "      <td>-7.365037</td>\n",
       "      <td>Kwa Upangileni</td>\n",
       "      <td>0</td>\n",
       "      <td>...</td>\n",
       "      <td>never pay</td>\n",
       "      <td>soft</td>\n",
       "      <td>good</td>\n",
       "      <td>enough</td>\n",
       "      <td>enough</td>\n",
       "      <td>shallow well</td>\n",
       "      <td>shallow well</td>\n",
       "      <td>groundwater</td>\n",
       "      <td>other</td>\n",
       "      <td>other</td>\n",
       "    </tr>\n",
       "    <tr>\n",
       "      <th>35455</th>\n",
       "      <td>63334</td>\n",
       "      <td>0.0</td>\n",
       "      <td>2011-03-03</td>\n",
       "      <td>Not Known</td>\n",
       "      <td>99</td>\n",
       "      <td>not known</td>\n",
       "      <td>38.372789</td>\n",
       "      <td>-6.709759</td>\n",
       "      <td>Bondeni</td>\n",
       "      <td>0</td>\n",
       "      <td>...</td>\n",
       "      <td>never pay</td>\n",
       "      <td>soft</td>\n",
       "      <td>good</td>\n",
       "      <td>insufficient</td>\n",
       "      <td>insufficient</td>\n",
       "      <td>shallow well</td>\n",
       "      <td>shallow well</td>\n",
       "      <td>groundwater</td>\n",
       "      <td>hand pump</td>\n",
       "      <td>hand pump</td>\n",
       "    </tr>\n",
       "    <tr>\n",
       "      <th>38676</th>\n",
       "      <td>17305</td>\n",
       "      <td>0.0</td>\n",
       "      <td>2011-08-02</td>\n",
       "      <td>Not Known</td>\n",
       "      <td>0</td>\n",
       "      <td>villagers</td>\n",
       "      <td>32.425625</td>\n",
       "      <td>-2.337271</td>\n",
       "      <td>Shule Ya Msingi Bugoro</td>\n",
       "      <td>0</td>\n",
       "      <td>...</td>\n",
       "      <td>never pay</td>\n",
       "      <td>soft</td>\n",
       "      <td>good</td>\n",
       "      <td>dry</td>\n",
       "      <td>dry</td>\n",
       "      <td>shallow well</td>\n",
       "      <td>shallow well</td>\n",
       "      <td>groundwater</td>\n",
       "      <td>hand pump</td>\n",
       "      <td>hand pump</td>\n",
       "    </tr>\n",
       "    <tr>\n",
       "      <th>41431</th>\n",
       "      <td>68288</td>\n",
       "      <td>0.0</td>\n",
       "      <td>2011-07-20</td>\n",
       "      <td>Not Known</td>\n",
       "      <td>0</td>\n",
       "      <td>RIDEP</td>\n",
       "      <td>32.535942</td>\n",
       "      <td>-2.713298</td>\n",
       "      <td>Kwa Kilinga</td>\n",
       "      <td>0</td>\n",
       "      <td>...</td>\n",
       "      <td>never pay</td>\n",
       "      <td>salty</td>\n",
       "      <td>salty</td>\n",
       "      <td>enough</td>\n",
       "      <td>enough</td>\n",
       "      <td>shallow well</td>\n",
       "      <td>shallow well</td>\n",
       "      <td>groundwater</td>\n",
       "      <td>hand pump</td>\n",
       "      <td>hand pump</td>\n",
       "    </tr>\n",
       "    <tr>\n",
       "      <th>42042</th>\n",
       "      <td>5871</td>\n",
       "      <td>0.0</td>\n",
       "      <td>2013-03-21</td>\n",
       "      <td>Not Known</td>\n",
       "      <td>1633</td>\n",
       "      <td>Not known</td>\n",
       "      <td>36.719657</td>\n",
       "      <td>-3.125816</td>\n",
       "      <td>Shule Ya Msingi</td>\n",
       "      <td>0</td>\n",
       "      <td>...</td>\n",
       "      <td>never pay</td>\n",
       "      <td>soft</td>\n",
       "      <td>good</td>\n",
       "      <td>enough</td>\n",
       "      <td>enough</td>\n",
       "      <td>rainwater harvesting</td>\n",
       "      <td>rainwater harvesting</td>\n",
       "      <td>surface</td>\n",
       "      <td>other</td>\n",
       "      <td>other</td>\n",
       "    </tr>\n",
       "    <tr>\n",
       "      <th>42403</th>\n",
       "      <td>14336</td>\n",
       "      <td>0.0</td>\n",
       "      <td>2013-03-21</td>\n",
       "      <td>Not Known</td>\n",
       "      <td>1837</td>\n",
       "      <td>Not known</td>\n",
       "      <td>36.695417</td>\n",
       "      <td>-3.153203</td>\n",
       "      <td>Shule Ya Msingi</td>\n",
       "      <td>0</td>\n",
       "      <td>...</td>\n",
       "      <td>never pay</td>\n",
       "      <td>soft</td>\n",
       "      <td>good</td>\n",
       "      <td>insufficient</td>\n",
       "      <td>insufficient</td>\n",
       "      <td>rainwater harvesting</td>\n",
       "      <td>rainwater harvesting</td>\n",
       "      <td>surface</td>\n",
       "      <td>communal standpipe</td>\n",
       "      <td>communal standpipe</td>\n",
       "    </tr>\n",
       "    <tr>\n",
       "      <th>43941</th>\n",
       "      <td>40342</td>\n",
       "      <td>0.0</td>\n",
       "      <td>2013-03-23</td>\n",
       "      <td>Not Known</td>\n",
       "      <td>1872</td>\n",
       "      <td>Not known</td>\n",
       "      <td>36.644487</td>\n",
       "      <td>-3.244144</td>\n",
       "      <td>Kituo Cha Afya</td>\n",
       "      <td>0</td>\n",
       "      <td>...</td>\n",
       "      <td>never pay</td>\n",
       "      <td>soft</td>\n",
       "      <td>good</td>\n",
       "      <td>seasonal</td>\n",
       "      <td>seasonal</td>\n",
       "      <td>rainwater harvesting</td>\n",
       "      <td>rainwater harvesting</td>\n",
       "      <td>surface</td>\n",
       "      <td>other</td>\n",
       "      <td>other</td>\n",
       "    </tr>\n",
       "    <tr>\n",
       "      <th>44615</th>\n",
       "      <td>12147</td>\n",
       "      <td>0.0</td>\n",
       "      <td>2013-03-30</td>\n",
       "      <td>Not Known</td>\n",
       "      <td>1523</td>\n",
       "      <td>Not known</td>\n",
       "      <td>36.644866</td>\n",
       "      <td>-3.320243</td>\n",
       "      <td>Kwa Jackson</td>\n",
       "      <td>0</td>\n",
       "      <td>...</td>\n",
       "      <td>never pay</td>\n",
       "      <td>soft</td>\n",
       "      <td>good</td>\n",
       "      <td>enough</td>\n",
       "      <td>enough</td>\n",
       "      <td>machine dbh</td>\n",
       "      <td>borehole</td>\n",
       "      <td>groundwater</td>\n",
       "      <td>hand pump</td>\n",
       "      <td>hand pump</td>\n",
       "    </tr>\n",
       "    <tr>\n",
       "      <th>44946</th>\n",
       "      <td>373</td>\n",
       "      <td>0.0</td>\n",
       "      <td>2013-03-16</td>\n",
       "      <td>Not Known</td>\n",
       "      <td>965</td>\n",
       "      <td>Not known</td>\n",
       "      <td>36.850948</td>\n",
       "      <td>-3.493453</td>\n",
       "      <td>Shule Ya Msingi</td>\n",
       "      <td>0</td>\n",
       "      <td>...</td>\n",
       "      <td>unknown</td>\n",
       "      <td>soft</td>\n",
       "      <td>good</td>\n",
       "      <td>seasonal</td>\n",
       "      <td>seasonal</td>\n",
       "      <td>rainwater harvesting</td>\n",
       "      <td>rainwater harvesting</td>\n",
       "      <td>surface</td>\n",
       "      <td>other</td>\n",
       "      <td>other</td>\n",
       "    </tr>\n",
       "    <tr>\n",
       "      <th>46986</th>\n",
       "      <td>9180</td>\n",
       "      <td>0.0</td>\n",
       "      <td>2011-07-22</td>\n",
       "      <td>Not Known</td>\n",
       "      <td>0</td>\n",
       "      <td>not known</td>\n",
       "      <td>32.718579</td>\n",
       "      <td>-2.571346</td>\n",
       "      <td>Kwa Malimbita</td>\n",
       "      <td>0</td>\n",
       "      <td>...</td>\n",
       "      <td>monthly</td>\n",
       "      <td>soft</td>\n",
       "      <td>good</td>\n",
       "      <td>enough</td>\n",
       "      <td>enough</td>\n",
       "      <td>shallow well</td>\n",
       "      <td>shallow well</td>\n",
       "      <td>groundwater</td>\n",
       "      <td>hand pump</td>\n",
       "      <td>hand pump</td>\n",
       "    </tr>\n",
       "    <tr>\n",
       "      <th>49685</th>\n",
       "      <td>11621</td>\n",
       "      <td>0.0</td>\n",
       "      <td>2011-07-10</td>\n",
       "      <td>Not Known</td>\n",
       "      <td>0</td>\n",
       "      <td>Not known</td>\n",
       "      <td>31.751096</td>\n",
       "      <td>-2.642831</td>\n",
       "      <td>Njiapanda B</td>\n",
       "      <td>0</td>\n",
       "      <td>...</td>\n",
       "      <td>never pay</td>\n",
       "      <td>soft</td>\n",
       "      <td>good</td>\n",
       "      <td>enough</td>\n",
       "      <td>enough</td>\n",
       "      <td>machine dbh</td>\n",
       "      <td>borehole</td>\n",
       "      <td>groundwater</td>\n",
       "      <td>communal standpipe</td>\n",
       "      <td>communal standpipe</td>\n",
       "    </tr>\n",
       "    <tr>\n",
       "      <th>50612</th>\n",
       "      <td>73727</td>\n",
       "      <td>0.0</td>\n",
       "      <td>2013-03-30</td>\n",
       "      <td>Not Known</td>\n",
       "      <td>1498</td>\n",
       "      <td>Not known</td>\n",
       "      <td>36.646382</td>\n",
       "      <td>-3.321824</td>\n",
       "      <td>Sumlei</td>\n",
       "      <td>0</td>\n",
       "      <td>...</td>\n",
       "      <td>never pay</td>\n",
       "      <td>soft</td>\n",
       "      <td>good</td>\n",
       "      <td>insufficient</td>\n",
       "      <td>insufficient</td>\n",
       "      <td>shallow well</td>\n",
       "      <td>shallow well</td>\n",
       "      <td>groundwater</td>\n",
       "      <td>other</td>\n",
       "      <td>other</td>\n",
       "    </tr>\n",
       "    <tr>\n",
       "      <th>51291</th>\n",
       "      <td>35541</td>\n",
       "      <td>0.0</td>\n",
       "      <td>2013-03-28</td>\n",
       "      <td>Not Known</td>\n",
       "      <td>1559</td>\n",
       "      <td>Not known</td>\n",
       "      <td>36.618736</td>\n",
       "      <td>-3.292075</td>\n",
       "      <td>Shule Ya Msingi</td>\n",
       "      <td>0</td>\n",
       "      <td>...</td>\n",
       "      <td>never pay</td>\n",
       "      <td>soft</td>\n",
       "      <td>good</td>\n",
       "      <td>seasonal</td>\n",
       "      <td>seasonal</td>\n",
       "      <td>rainwater harvesting</td>\n",
       "      <td>rainwater harvesting</td>\n",
       "      <td>surface</td>\n",
       "      <td>other</td>\n",
       "      <td>other</td>\n",
       "    </tr>\n",
       "    <tr>\n",
       "      <th>54971</th>\n",
       "      <td>25106</td>\n",
       "      <td>0.0</td>\n",
       "      <td>2013-03-21</td>\n",
       "      <td>Not Known</td>\n",
       "      <td>1644</td>\n",
       "      <td>Not known</td>\n",
       "      <td>36.720442</td>\n",
       "      <td>-3.129696</td>\n",
       "      <td>Shule Ya Msingi</td>\n",
       "      <td>0</td>\n",
       "      <td>...</td>\n",
       "      <td>never pay</td>\n",
       "      <td>soft</td>\n",
       "      <td>good</td>\n",
       "      <td>enough</td>\n",
       "      <td>enough</td>\n",
       "      <td>rainwater harvesting</td>\n",
       "      <td>rainwater harvesting</td>\n",
       "      <td>surface</td>\n",
       "      <td>communal standpipe</td>\n",
       "      <td>communal standpipe</td>\n",
       "    </tr>\n",
       "    <tr>\n",
       "      <th>58748</th>\n",
       "      <td>41242</td>\n",
       "      <td>0.0</td>\n",
       "      <td>2011-08-08</td>\n",
       "      <td>Not Known</td>\n",
       "      <td>0</td>\n",
       "      <td>Villagers</td>\n",
       "      <td>32.147940</td>\n",
       "      <td>-2.445560</td>\n",
       "      <td>Kwa Msabaha</td>\n",
       "      <td>0</td>\n",
       "      <td>...</td>\n",
       "      <td>never pay</td>\n",
       "      <td>soft</td>\n",
       "      <td>good</td>\n",
       "      <td>enough</td>\n",
       "      <td>enough</td>\n",
       "      <td>shallow well</td>\n",
       "      <td>shallow well</td>\n",
       "      <td>groundwater</td>\n",
       "      <td>hand pump</td>\n",
       "      <td>hand pump</td>\n",
       "    </tr>\n",
       "  </tbody>\n",
       "</table>\n",
       "<p>27 rows × 40 columns</p>\n",
       "</div>"
      ],
      "text/plain": [
       "          id  amount_tsh date_recorded     funder  gps_height  \\\n",
       "35     57355         0.0    2013-03-28  Not Known        1546   \n",
       "1426   31672         0.0    2013-03-23  Not Known        1871   \n",
       "1649   52401         0.0    2013-03-21  Not Known        1650   \n",
       "2730   40815         0.0    2011-07-23  Not Known           0   \n",
       "5650   18845         0.0    2013-03-28  Not Known        1540   \n",
       "11421  25965         0.0    2011-07-21  Not Known           0   \n",
       "16506   8481         0.0    2011-03-03  Not Known          85   \n",
       "18721  50608         0.0    2011-07-10  Not Known           0   \n",
       "20352  26841         0.0    2011-07-27  Not Known           0   \n",
       "23841  28739         0.0    2011-07-27  Not Known           0   \n",
       "25449  19977         0.0    2011-03-03  Not Known          93   \n",
       "27136  15750         0.0    2013-03-21  Not Known        1648   \n",
       "31148  50897         0.0    2011-03-16  Not Known           8   \n",
       "35455  63334         0.0    2011-03-03  Not Known          99   \n",
       "38676  17305         0.0    2011-08-02  Not Known           0   \n",
       "41431  68288         0.0    2011-07-20  Not Known           0   \n",
       "42042   5871         0.0    2013-03-21  Not Known        1633   \n",
       "42403  14336         0.0    2013-03-21  Not Known        1837   \n",
       "43941  40342         0.0    2013-03-23  Not Known        1872   \n",
       "44615  12147         0.0    2013-03-30  Not Known        1523   \n",
       "44946    373         0.0    2013-03-16  Not Known         965   \n",
       "46986   9180         0.0    2011-07-22  Not Known           0   \n",
       "49685  11621         0.0    2011-07-10  Not Known           0   \n",
       "50612  73727         0.0    2013-03-30  Not Known        1498   \n",
       "51291  35541         0.0    2013-03-28  Not Known        1559   \n",
       "54971  25106         0.0    2013-03-21  Not Known        1644   \n",
       "58748  41242         0.0    2011-08-08  Not Known           0   \n",
       "\n",
       "                        installer  longitude  latitude  \\\n",
       "35                      Not known  36.618699 -3.293003   \n",
       "1426                    Not known  36.644556 -3.244199   \n",
       "1649                    Not known  36.720357 -3.130001   \n",
       "2730                    not known  32.639752 -2.709872   \n",
       "5650                    Not known  36.618545 -3.292390   \n",
       "11421                         NaN  30.714453 -2.905798   \n",
       "16506                   not known  38.376294 -6.708447   \n",
       "18721                   Not known  31.755311 -2.639781   \n",
       "20352  Sengerema Water Department  32.777487 -2.526449   \n",
       "23841  Sengerema Water Department  32.793434 -2.527674   \n",
       "25449                   not known  38.375609 -6.708948   \n",
       "27136                   Not known  36.720995 -3.129200   \n",
       "31148                   Not known  39.185553 -7.365037   \n",
       "35455                   not known  38.372789 -6.709759   \n",
       "38676                   villagers  32.425625 -2.337271   \n",
       "41431                       RIDEP  32.535942 -2.713298   \n",
       "42042                   Not known  36.719657 -3.125816   \n",
       "42403                   Not known  36.695417 -3.153203   \n",
       "43941                   Not known  36.644487 -3.244144   \n",
       "44615                   Not known  36.644866 -3.320243   \n",
       "44946                   Not known  36.850948 -3.493453   \n",
       "46986                   not known  32.718579 -2.571346   \n",
       "49685                   Not known  31.751096 -2.642831   \n",
       "50612                   Not known  36.646382 -3.321824   \n",
       "51291                   Not known  36.618736 -3.292075   \n",
       "54971                   Not known  36.720442 -3.129696   \n",
       "58748                   Villagers  32.147940 -2.445560   \n",
       "\n",
       "                     wpt_name  num_private  ... payment_type water_quality  \\\n",
       "35                  Sekondari            0  ...    never pay          soft   \n",
       "1426           Kituo Cha Afya            0  ...    never pay          soft   \n",
       "1649          Shule Ya Msingi            0  ...    never pay          soft   \n",
       "2730                 Kwa Kali            0  ...    never pay          soft   \n",
       "5650          Shule Ya Msingi            0  ...    never pay          soft   \n",
       "11421                   Ndege            0  ...    never pay       unknown   \n",
       "16506                   Gwata            0  ...    never pay          soft   \n",
       "18721           Mawasiliano B            0  ...    never pay          soft   \n",
       "20352             Kwa Muyomba            0  ...    never pay          soft   \n",
       "23841             Kwa Mwilili            0  ...      unknown          soft   \n",
       "25449                   Gwata            0  ...    never pay          soft   \n",
       "27136         Shule Ya Msingi            0  ...    never pay          soft   \n",
       "31148          Kwa Upangileni            0  ...    never pay          soft   \n",
       "35455                 Bondeni            0  ...    never pay          soft   \n",
       "38676  Shule Ya Msingi Bugoro            0  ...    never pay          soft   \n",
       "41431             Kwa Kilinga            0  ...    never pay         salty   \n",
       "42042         Shule Ya Msingi            0  ...    never pay          soft   \n",
       "42403         Shule Ya Msingi            0  ...    never pay          soft   \n",
       "43941          Kituo Cha Afya            0  ...    never pay          soft   \n",
       "44615             Kwa Jackson            0  ...    never pay          soft   \n",
       "44946         Shule Ya Msingi            0  ...      unknown          soft   \n",
       "46986           Kwa Malimbita            0  ...      monthly          soft   \n",
       "49685             Njiapanda B            0  ...    never pay          soft   \n",
       "50612                  Sumlei            0  ...    never pay          soft   \n",
       "51291         Shule Ya Msingi            0  ...    never pay          soft   \n",
       "54971         Shule Ya Msingi            0  ...    never pay          soft   \n",
       "58748             Kwa Msabaha            0  ...    never pay          soft   \n",
       "\n",
       "      quality_group      quantity  quantity_group                source  \\\n",
       "35             good      seasonal        seasonal  rainwater harvesting   \n",
       "1426           good      seasonal        seasonal  rainwater harvesting   \n",
       "1649           good        enough          enough  rainwater harvesting   \n",
       "2730           good  insufficient    insufficient          shallow well   \n",
       "5650           good      seasonal        seasonal  rainwater harvesting   \n",
       "11421       unknown           dry             dry          shallow well   \n",
       "16506          good        enough          enough          shallow well   \n",
       "18721          good        enough          enough           machine dbh   \n",
       "20352          good        enough          enough          shallow well   \n",
       "23841          good        enough          enough          shallow well   \n",
       "25449          good  insufficient    insufficient          shallow well   \n",
       "27136          good        enough          enough  rainwater harvesting   \n",
       "31148          good        enough          enough          shallow well   \n",
       "35455          good  insufficient    insufficient          shallow well   \n",
       "38676          good           dry             dry          shallow well   \n",
       "41431         salty        enough          enough          shallow well   \n",
       "42042          good        enough          enough  rainwater harvesting   \n",
       "42403          good  insufficient    insufficient  rainwater harvesting   \n",
       "43941          good      seasonal        seasonal  rainwater harvesting   \n",
       "44615          good        enough          enough           machine dbh   \n",
       "44946          good      seasonal        seasonal  rainwater harvesting   \n",
       "46986          good        enough          enough          shallow well   \n",
       "49685          good        enough          enough           machine dbh   \n",
       "50612          good  insufficient    insufficient          shallow well   \n",
       "51291          good      seasonal        seasonal  rainwater harvesting   \n",
       "54971          good        enough          enough  rainwater harvesting   \n",
       "58748          good        enough          enough          shallow well   \n",
       "\n",
       "                source_type  source_class     waterpoint_type  \\\n",
       "35     rainwater harvesting       surface               other   \n",
       "1426   rainwater harvesting       surface               other   \n",
       "1649   rainwater harvesting       surface  communal standpipe   \n",
       "2730           shallow well   groundwater           hand pump   \n",
       "5650   rainwater harvesting       surface               other   \n",
       "11421          shallow well   groundwater               other   \n",
       "16506          shallow well   groundwater           hand pump   \n",
       "18721              borehole   groundwater  communal standpipe   \n",
       "20352          shallow well   groundwater           hand pump   \n",
       "23841          shallow well   groundwater           hand pump   \n",
       "25449          shallow well   groundwater           hand pump   \n",
       "27136  rainwater harvesting       surface               other   \n",
       "31148          shallow well   groundwater               other   \n",
       "35455          shallow well   groundwater           hand pump   \n",
       "38676          shallow well   groundwater           hand pump   \n",
       "41431          shallow well   groundwater           hand pump   \n",
       "42042  rainwater harvesting       surface               other   \n",
       "42403  rainwater harvesting       surface  communal standpipe   \n",
       "43941  rainwater harvesting       surface               other   \n",
       "44615              borehole   groundwater           hand pump   \n",
       "44946  rainwater harvesting       surface               other   \n",
       "46986          shallow well   groundwater           hand pump   \n",
       "49685              borehole   groundwater  communal standpipe   \n",
       "50612          shallow well   groundwater               other   \n",
       "51291  rainwater harvesting       surface               other   \n",
       "54971  rainwater harvesting       surface  communal standpipe   \n",
       "58748          shallow well   groundwater           hand pump   \n",
       "\n",
       "      waterpoint_type_group  \n",
       "35                    other  \n",
       "1426                  other  \n",
       "1649     communal standpipe  \n",
       "2730              hand pump  \n",
       "5650                  other  \n",
       "11421                 other  \n",
       "16506             hand pump  \n",
       "18721    communal standpipe  \n",
       "20352             hand pump  \n",
       "23841             hand pump  \n",
       "25449             hand pump  \n",
       "27136                 other  \n",
       "31148                 other  \n",
       "35455             hand pump  \n",
       "38676             hand pump  \n",
       "41431             hand pump  \n",
       "42042                 other  \n",
       "42403    communal standpipe  \n",
       "43941                 other  \n",
       "44615             hand pump  \n",
       "44946                 other  \n",
       "46986             hand pump  \n",
       "49685    communal standpipe  \n",
       "50612                 other  \n",
       "51291                 other  \n",
       "54971    communal standpipe  \n",
       "58748             hand pump  \n",
       "\n",
       "[27 rows x 40 columns]"
      ]
     },
     "execution_count": 15,
     "metadata": {},
     "output_type": "execute_result"
    }
   ],
   "source": [
    "train_values[train_values['funder']=='Not Known']"
   ]
  },
  {
   "cell_type": "markdown",
   "metadata": {},
   "source": [
    "Unlike the 0 values which were correlated between each other and in a single region, the null values seem fairly random and are like just missing due to error, whereas the 0 value seems like a consistent single funder in a particular region. We will leave the 0 values as is, treating 0 as a name and label the missing values as 'not known' values.\n",
    "\n",
    "We will also lower case both columns to help with data entry issue and replace some clearly equivalent entries."
   ]
  },
  {
   "cell_type": "code",
   "execution_count": 16,
   "metadata": {},
   "outputs": [],
   "source": [
    "train_values[['funder', 'installer']] = train_values[['funder', 'installer']].fillna('not known')\n",
    "for col in ['funder', 'installer']:\n",
    "    train_values[col] = train_values[col].str.lower()"
   ]
  },
  {
   "cell_type": "code",
   "execution_count": 17,
   "metadata": {},
   "outputs": [],
   "source": [
    "replace_dict = {'commu':  'community',\n",
    "                'gover': 'government',\n",
    "                'central government': 'government',\n",
    "                'government of tanzania': 'government',\n",
    "                'gove': 'government',\n",
    "                'worldvision' : 'world vision',\n",
    "                'private individual': 'private',\n",
    "                'privat': 'private',\n",
    "                'priv': 'private'}\n",
    "                \n",
    "train_values[['funder', 'installer']] = train_values[['funder', 'installer']].replace(replace_dict)"
   ]
  },
  {
   "cell_type": "code",
   "execution_count": 18,
   "metadata": {},
   "outputs": [
    {
     "data": {
      "text/plain": [
       "dwe                 17405\n",
       "not known            3696\n",
       "government           3387\n",
       "community            1620\n",
       "hesawa               1395\n",
       "rwe                  1206\n",
       "danida               1050\n",
       "district council      961\n",
       "kkkt                  910\n",
       "0                     777\n",
       "tcrs                  707\n",
       "world vision          699\n",
       "danid                 624\n",
       "ces                   610\n",
       "amref                 443\n",
       "lga                   413\n",
       "tasaf                 411\n",
       "wedeco                398\n",
       "fini water            389\n",
       "dmdd                  376\n",
       "norad                 360\n",
       "twesa                 316\n",
       "da                    308\n",
       "wu                    301\n",
       "acra                  278\n",
       "sema                  249\n",
       "dw                    246\n",
       "jaica                 239\n",
       "unicef                234\n",
       "oxfam                 234\n",
       "Name: installer, dtype: int64"
      ]
     },
     "execution_count": 18,
     "metadata": {},
     "output_type": "execute_result"
    }
   ],
   "source": [
    "train_values.installer.value_counts().head(30)"
   ]
  },
  {
   "cell_type": "code",
   "execution_count": 19,
   "metadata": {},
   "outputs": [
    {
     "data": {
      "text/plain": [
       "government           9086\n",
       "not known            3662\n",
       "danida               3114\n",
       "hesawa               2202\n",
       "rwssp                1374\n",
       "world bank           1349\n",
       "kkkt                 1287\n",
       "world vision         1247\n",
       "private              1121\n",
       "unicef               1057\n",
       "tasaf                 877\n",
       "district council      843\n",
       "dhv                   829\n",
       "dwsp                  811\n",
       "0                     777\n",
       "norad                 765\n",
       "germany republi       610\n",
       "tcrs                  602\n",
       "ministry of water     590\n",
       "water                 583\n",
       "dwe                   484\n",
       "netherlands           470\n",
       "hifab                 450\n",
       "adb                   448\n",
       "lga                   442\n",
       "amref                 425\n",
       "fini water            393\n",
       "oxfam                 359\n",
       "wateraid              333\n",
       "rc church             321\n",
       "Name: funder, dtype: int64"
      ]
     },
     "execution_count": 19,
     "metadata": {},
     "output_type": "execute_result"
    }
   ],
   "source": [
    "train_values.funder.value_counts().head(30)"
   ]
  },
  {
   "cell_type": "markdown",
   "metadata": {},
   "source": [
    "### *Subvillage*"
   ]
  },
  {
   "cell_type": "markdown",
   "metadata": {},
   "source": [
    "Let's get a general sense of this data first"
   ]
  },
  {
   "cell_type": "code",
   "execution_count": 20,
   "metadata": {},
   "outputs": [
    {
     "data": {
      "text/plain": [
       "Madukani      508\n",
       "Shuleni       506\n",
       "Majengo       502\n",
       "Kati          373\n",
       "Mtakuja       262\n",
       "Sokoni        232\n",
       "M             187\n",
       "Muungano      172\n",
       "Mbuyuni       164\n",
       "Mlimani       152\n",
       "Songambele    147\n",
       "Msikitini     134\n",
       "Miembeni      134\n",
       "1             132\n",
       "Kibaoni       114\n",
       "Kanisani      111\n",
       "I             109\n",
       "Mapinduzi     109\n",
       "Mjini         108\n",
       "Mjimwema      108\n",
       "Mkwajuni      104\n",
       "Mwenge        102\n",
       "Azimio         98\n",
       "Mabatini       98\n",
       "Mbugani        95\n",
       "Mission        95\n",
       "Bwawani        91\n",
       "Bondeni        90\n",
       "Chang'Ombe     88\n",
       "Zahanati       86\n",
       "Name: subvillage, dtype: int64"
      ]
     },
     "execution_count": 20,
     "metadata": {},
     "output_type": "execute_result"
    }
   ],
   "source": [
    "train_values.subvillage.value_counts().head(30)"
   ]
  },
  {
   "cell_type": "code",
   "execution_count": 21,
   "metadata": {},
   "outputs": [
    {
     "data": {
      "text/plain": [
       "19288"
      ]
     },
     "execution_count": 21,
     "metadata": {},
     "output_type": "execute_result"
    }
   ],
   "source": [
    "len(train_values.subvillage.unique())"
   ]
  },
  {
   "cell_type": "code",
   "execution_count": 22,
   "metadata": {},
   "outputs": [
    {
     "data": {
      "text/plain": [
       "0"
      ]
     },
     "execution_count": 22,
     "metadata": {},
     "output_type": "execute_result"
    }
   ],
   "source": [
    "sum(train_values['subvillage']=='0')"
   ]
  },
  {
   "cell_type": "code",
   "execution_count": 23,
   "metadata": {},
   "outputs": [
    {
     "data": {
      "text/plain": [
       "0"
      ]
     },
     "execution_count": 23,
     "metadata": {},
     "output_type": "execute_result"
    }
   ],
   "source": [
    "sum(train_values['subvillage']==0)"
   ]
  },
  {
   "cell_type": "markdown",
   "metadata": {},
   "source": [
    "The data is high cardinality and there are some unusual values like '1' and 'I'. This level of detail migh cause over fitting and its information might be better captured by the lat long data, but for now we will label the missing values 'not known', and lower case the values to help with potential data entry errors."
   ]
  },
  {
   "cell_type": "code",
   "execution_count": 24,
   "metadata": {},
   "outputs": [],
   "source": [
    "train_values['subvillage'] = train_values['subvillage'].fillna('not known')\n",
    "train_values['subvillage'] = train_values['subvillage'].str.lower()"
   ]
  },
  {
   "cell_type": "markdown",
   "metadata": {},
   "source": [
    "### *Public Meeting*"
   ]
  },
  {
   "cell_type": "code",
   "execution_count": 25,
   "metadata": {},
   "outputs": [
    {
     "data": {
      "text/plain": [
       "True     51011\n",
       "False     5055\n",
       "Name: public_meeting, dtype: int64"
      ]
     },
     "execution_count": 25,
     "metadata": {},
     "output_type": "execute_result"
    }
   ],
   "source": [
    "train_values.public_meeting.value_counts()"
   ]
  },
  {
   "cell_type": "markdown",
   "metadata": {},
   "source": [
    "Given that the vast majority of the data says that there are public meetings about the pump, we will impute the mode for this value, but add column marking the missing values."
   ]
  },
  {
   "cell_type": "code",
   "execution_count": 26,
   "metadata": {},
   "outputs": [],
   "source": [
    "train_values['missing_meeting'] = dp.missing_indicator(train_values, 'public_meeting')\n",
    "train_values['public_meeting']=train_values['public_meeting'].fillna(train_values['public_meeting'].mode()[0])"
   ]
  },
  {
   "cell_type": "markdown",
   "metadata": {},
   "source": [
    "### *Permit*"
   ]
  },
  {
   "cell_type": "code",
   "execution_count": 27,
   "metadata": {},
   "outputs": [
    {
     "data": {
      "text/plain": [
       "True     38852\n",
       "False    17492\n",
       "Name: permit, dtype: int64"
      ]
     },
     "execution_count": 27,
     "metadata": {},
     "output_type": "execute_result"
    }
   ],
   "source": [
    "train_values.permit.value_counts()"
   ]
  },
  {
   "cell_type": "markdown",
   "metadata": {},
   "source": [
    "This is must less overwhelming in the ratio of true to false, so let's dig a bit deeper. Perhaps different types of managers are more likely to permit the pump."
   ]
  },
  {
   "cell_type": "code",
   "execution_count": 28,
   "metadata": {},
   "outputs": [
    {
     "data": {
      "text/html": [
       "<div>\n",
       "<style scoped>\n",
       "    .dataframe tbody tr th:only-of-type {\n",
       "        vertical-align: middle;\n",
       "    }\n",
       "\n",
       "    .dataframe tbody tr th {\n",
       "        vertical-align: top;\n",
       "    }\n",
       "\n",
       "    .dataframe thead th {\n",
       "        text-align: right;\n",
       "    }\n",
       "</style>\n",
       "<table border=\"1\" class=\"dataframe\">\n",
       "  <thead>\n",
       "    <tr style=\"text-align: right;\">\n",
       "      <th></th>\n",
       "      <th></th>\n",
       "      <th>id</th>\n",
       "      <th>amount_tsh</th>\n",
       "      <th>date_recorded</th>\n",
       "      <th>funder</th>\n",
       "      <th>gps_height</th>\n",
       "      <th>installer</th>\n",
       "      <th>longitude</th>\n",
       "      <th>latitude</th>\n",
       "      <th>wpt_name</th>\n",
       "      <th>num_private</th>\n",
       "      <th>...</th>\n",
       "      <th>water_quality</th>\n",
       "      <th>quality_group</th>\n",
       "      <th>quantity</th>\n",
       "      <th>quantity_group</th>\n",
       "      <th>source</th>\n",
       "      <th>source_type</th>\n",
       "      <th>source_class</th>\n",
       "      <th>waterpoint_type</th>\n",
       "      <th>waterpoint_type_group</th>\n",
       "      <th>missing_meeting</th>\n",
       "    </tr>\n",
       "    <tr>\n",
       "      <th>management_group</th>\n",
       "      <th>permit</th>\n",
       "      <th></th>\n",
       "      <th></th>\n",
       "      <th></th>\n",
       "      <th></th>\n",
       "      <th></th>\n",
       "      <th></th>\n",
       "      <th></th>\n",
       "      <th></th>\n",
       "      <th></th>\n",
       "      <th></th>\n",
       "      <th></th>\n",
       "      <th></th>\n",
       "      <th></th>\n",
       "      <th></th>\n",
       "      <th></th>\n",
       "      <th></th>\n",
       "      <th></th>\n",
       "      <th></th>\n",
       "      <th></th>\n",
       "      <th></th>\n",
       "      <th></th>\n",
       "    </tr>\n",
       "  </thead>\n",
       "  <tbody>\n",
       "    <tr>\n",
       "      <th rowspan=\"2\" valign=\"top\">commercial</th>\n",
       "      <th>False</th>\n",
       "      <td>968</td>\n",
       "      <td>968</td>\n",
       "      <td>968</td>\n",
       "      <td>968</td>\n",
       "      <td>968</td>\n",
       "      <td>968</td>\n",
       "      <td>968</td>\n",
       "      <td>968</td>\n",
       "      <td>968</td>\n",
       "      <td>968</td>\n",
       "      <td>...</td>\n",
       "      <td>968</td>\n",
       "      <td>968</td>\n",
       "      <td>968</td>\n",
       "      <td>968</td>\n",
       "      <td>968</td>\n",
       "      <td>968</td>\n",
       "      <td>968</td>\n",
       "      <td>968</td>\n",
       "      <td>968</td>\n",
       "      <td>968</td>\n",
       "    </tr>\n",
       "    <tr>\n",
       "      <th>True</th>\n",
       "      <td>2485</td>\n",
       "      <td>2485</td>\n",
       "      <td>2485</td>\n",
       "      <td>2485</td>\n",
       "      <td>2485</td>\n",
       "      <td>2485</td>\n",
       "      <td>2485</td>\n",
       "      <td>2485</td>\n",
       "      <td>2485</td>\n",
       "      <td>2485</td>\n",
       "      <td>...</td>\n",
       "      <td>2485</td>\n",
       "      <td>2485</td>\n",
       "      <td>2485</td>\n",
       "      <td>2485</td>\n",
       "      <td>2485</td>\n",
       "      <td>2485</td>\n",
       "      <td>2485</td>\n",
       "      <td>2485</td>\n",
       "      <td>2485</td>\n",
       "      <td>2485</td>\n",
       "    </tr>\n",
       "    <tr>\n",
       "      <th rowspan=\"2\" valign=\"top\">other</th>\n",
       "      <th>False</th>\n",
       "      <td>186</td>\n",
       "      <td>186</td>\n",
       "      <td>186</td>\n",
       "      <td>186</td>\n",
       "      <td>186</td>\n",
       "      <td>186</td>\n",
       "      <td>186</td>\n",
       "      <td>186</td>\n",
       "      <td>186</td>\n",
       "      <td>186</td>\n",
       "      <td>...</td>\n",
       "      <td>186</td>\n",
       "      <td>186</td>\n",
       "      <td>186</td>\n",
       "      <td>186</td>\n",
       "      <td>186</td>\n",
       "      <td>186</td>\n",
       "      <td>186</td>\n",
       "      <td>186</td>\n",
       "      <td>186</td>\n",
       "      <td>186</td>\n",
       "    </tr>\n",
       "    <tr>\n",
       "      <th>True</th>\n",
       "      <td>657</td>\n",
       "      <td>657</td>\n",
       "      <td>657</td>\n",
       "      <td>657</td>\n",
       "      <td>657</td>\n",
       "      <td>657</td>\n",
       "      <td>657</td>\n",
       "      <td>657</td>\n",
       "      <td>657</td>\n",
       "      <td>657</td>\n",
       "      <td>...</td>\n",
       "      <td>657</td>\n",
       "      <td>657</td>\n",
       "      <td>657</td>\n",
       "      <td>657</td>\n",
       "      <td>657</td>\n",
       "      <td>657</td>\n",
       "      <td>657</td>\n",
       "      <td>657</td>\n",
       "      <td>657</td>\n",
       "      <td>657</td>\n",
       "    </tr>\n",
       "    <tr>\n",
       "      <th rowspan=\"2\" valign=\"top\">parastatal</th>\n",
       "      <th>False</th>\n",
       "      <td>647</td>\n",
       "      <td>647</td>\n",
       "      <td>647</td>\n",
       "      <td>647</td>\n",
       "      <td>647</td>\n",
       "      <td>647</td>\n",
       "      <td>647</td>\n",
       "      <td>647</td>\n",
       "      <td>647</td>\n",
       "      <td>647</td>\n",
       "      <td>...</td>\n",
       "      <td>647</td>\n",
       "      <td>647</td>\n",
       "      <td>647</td>\n",
       "      <td>647</td>\n",
       "      <td>647</td>\n",
       "      <td>647</td>\n",
       "      <td>647</td>\n",
       "      <td>647</td>\n",
       "      <td>647</td>\n",
       "      <td>647</td>\n",
       "    </tr>\n",
       "    <tr>\n",
       "      <th>True</th>\n",
       "      <td>948</td>\n",
       "      <td>948</td>\n",
       "      <td>948</td>\n",
       "      <td>948</td>\n",
       "      <td>948</td>\n",
       "      <td>948</td>\n",
       "      <td>948</td>\n",
       "      <td>948</td>\n",
       "      <td>948</td>\n",
       "      <td>948</td>\n",
       "      <td>...</td>\n",
       "      <td>948</td>\n",
       "      <td>948</td>\n",
       "      <td>948</td>\n",
       "      <td>948</td>\n",
       "      <td>948</td>\n",
       "      <td>948</td>\n",
       "      <td>948</td>\n",
       "      <td>948</td>\n",
       "      <td>948</td>\n",
       "      <td>948</td>\n",
       "    </tr>\n",
       "    <tr>\n",
       "      <th rowspan=\"2\" valign=\"top\">unknown</th>\n",
       "      <th>False</th>\n",
       "      <td>173</td>\n",
       "      <td>173</td>\n",
       "      <td>173</td>\n",
       "      <td>173</td>\n",
       "      <td>173</td>\n",
       "      <td>173</td>\n",
       "      <td>173</td>\n",
       "      <td>173</td>\n",
       "      <td>173</td>\n",
       "      <td>173</td>\n",
       "      <td>...</td>\n",
       "      <td>173</td>\n",
       "      <td>173</td>\n",
       "      <td>173</td>\n",
       "      <td>173</td>\n",
       "      <td>173</td>\n",
       "      <td>173</td>\n",
       "      <td>173</td>\n",
       "      <td>173</td>\n",
       "      <td>173</td>\n",
       "      <td>173</td>\n",
       "    </tr>\n",
       "    <tr>\n",
       "      <th>True</th>\n",
       "      <td>346</td>\n",
       "      <td>346</td>\n",
       "      <td>346</td>\n",
       "      <td>346</td>\n",
       "      <td>346</td>\n",
       "      <td>346</td>\n",
       "      <td>346</td>\n",
       "      <td>346</td>\n",
       "      <td>346</td>\n",
       "      <td>346</td>\n",
       "      <td>...</td>\n",
       "      <td>346</td>\n",
       "      <td>346</td>\n",
       "      <td>346</td>\n",
       "      <td>346</td>\n",
       "      <td>346</td>\n",
       "      <td>346</td>\n",
       "      <td>346</td>\n",
       "      <td>346</td>\n",
       "      <td>346</td>\n",
       "      <td>346</td>\n",
       "    </tr>\n",
       "    <tr>\n",
       "      <th rowspan=\"2\" valign=\"top\">user-group</th>\n",
       "      <th>False</th>\n",
       "      <td>15518</td>\n",
       "      <td>15518</td>\n",
       "      <td>15518</td>\n",
       "      <td>15518</td>\n",
       "      <td>15518</td>\n",
       "      <td>15518</td>\n",
       "      <td>15518</td>\n",
       "      <td>15518</td>\n",
       "      <td>15518</td>\n",
       "      <td>15518</td>\n",
       "      <td>...</td>\n",
       "      <td>15518</td>\n",
       "      <td>15518</td>\n",
       "      <td>15518</td>\n",
       "      <td>15518</td>\n",
       "      <td>15518</td>\n",
       "      <td>15518</td>\n",
       "      <td>15518</td>\n",
       "      <td>15518</td>\n",
       "      <td>15518</td>\n",
       "      <td>15518</td>\n",
       "    </tr>\n",
       "    <tr>\n",
       "      <th>True</th>\n",
       "      <td>34416</td>\n",
       "      <td>34416</td>\n",
       "      <td>34416</td>\n",
       "      <td>34416</td>\n",
       "      <td>34416</td>\n",
       "      <td>34416</td>\n",
       "      <td>34416</td>\n",
       "      <td>34416</td>\n",
       "      <td>34416</td>\n",
       "      <td>34416</td>\n",
       "      <td>...</td>\n",
       "      <td>34416</td>\n",
       "      <td>34416</td>\n",
       "      <td>34416</td>\n",
       "      <td>34416</td>\n",
       "      <td>34416</td>\n",
       "      <td>34416</td>\n",
       "      <td>34416</td>\n",
       "      <td>34416</td>\n",
       "      <td>34416</td>\n",
       "      <td>34416</td>\n",
       "    </tr>\n",
       "  </tbody>\n",
       "</table>\n",
       "<p>10 rows × 39 columns</p>\n",
       "</div>"
      ],
      "text/plain": [
       "                            id  amount_tsh  date_recorded  funder  gps_height  \\\n",
       "management_group permit                                                         \n",
       "commercial       False     968         968            968     968         968   \n",
       "                 True     2485        2485           2485    2485        2485   \n",
       "other            False     186         186            186     186         186   \n",
       "                 True      657         657            657     657         657   \n",
       "parastatal       False     647         647            647     647         647   \n",
       "                 True      948         948            948     948         948   \n",
       "unknown          False     173         173            173     173         173   \n",
       "                 True      346         346            346     346         346   \n",
       "user-group       False   15518       15518          15518   15518       15518   \n",
       "                 True    34416       34416          34416   34416       34416   \n",
       "\n",
       "                         installer  longitude  latitude  wpt_name  \\\n",
       "management_group permit                                             \n",
       "commercial       False         968        968       968       968   \n",
       "                 True         2485       2485      2485      2485   \n",
       "other            False         186        186       186       186   \n",
       "                 True          657        657       657       657   \n",
       "parastatal       False         647        647       647       647   \n",
       "                 True          948        948       948       948   \n",
       "unknown          False         173        173       173       173   \n",
       "                 True          346        346       346       346   \n",
       "user-group       False       15518      15518     15518     15518   \n",
       "                 True        34416      34416     34416     34416   \n",
       "\n",
       "                         num_private  ...  water_quality  quality_group  \\\n",
       "management_group permit               ...                                 \n",
       "commercial       False           968  ...            968            968   \n",
       "                 True           2485  ...           2485           2485   \n",
       "other            False           186  ...            186            186   \n",
       "                 True            657  ...            657            657   \n",
       "parastatal       False           647  ...            647            647   \n",
       "                 True            948  ...            948            948   \n",
       "unknown          False           173  ...            173            173   \n",
       "                 True            346  ...            346            346   \n",
       "user-group       False         15518  ...          15518          15518   \n",
       "                 True          34416  ...          34416          34416   \n",
       "\n",
       "                         quantity  quantity_group  source  source_type  \\\n",
       "management_group permit                                                  \n",
       "commercial       False        968             968     968          968   \n",
       "                 True        2485            2485    2485         2485   \n",
       "other            False        186             186     186          186   \n",
       "                 True         657             657     657          657   \n",
       "parastatal       False        647             647     647          647   \n",
       "                 True         948             948     948          948   \n",
       "unknown          False        173             173     173          173   \n",
       "                 True         346             346     346          346   \n",
       "user-group       False      15518           15518   15518        15518   \n",
       "                 True       34416           34416   34416        34416   \n",
       "\n",
       "                         source_class  waterpoint_type  waterpoint_type_group  \\\n",
       "management_group permit                                                         \n",
       "commercial       False            968              968                    968   \n",
       "                 True            2485             2485                   2485   \n",
       "other            False            186              186                    186   \n",
       "                 True             657              657                    657   \n",
       "parastatal       False            647              647                    647   \n",
       "                 True             948              948                    948   \n",
       "unknown          False            173              173                    173   \n",
       "                 True             346              346                    346   \n",
       "user-group       False          15518            15518                  15518   \n",
       "                 True           34416            34416                  34416   \n",
       "\n",
       "                         missing_meeting  \n",
       "management_group permit                   \n",
       "commercial       False               968  \n",
       "                 True               2485  \n",
       "other            False               186  \n",
       "                 True                657  \n",
       "parastatal       False               647  \n",
       "                 True                948  \n",
       "unknown          False               173  \n",
       "                 True                346  \n",
       "user-group       False             15518  \n",
       "                 True              34416  \n",
       "\n",
       "[10 rows x 39 columns]"
      ]
     },
     "execution_count": 28,
     "metadata": {},
     "output_type": "execute_result"
    }
   ],
   "source": [
    "train_values.groupby(['management_group','permit']).count()"
   ]
  },
  {
   "cell_type": "markdown",
   "metadata": {},
   "source": [
    "The modal status for any of the management groups is that they are permitted, so we will impute the mode and add a column marking the missing data."
   ]
  },
  {
   "cell_type": "code",
   "execution_count": 29,
   "metadata": {},
   "outputs": [],
   "source": [
    "train_values['missing_permit'] = dp.missing_indicator(train_values, 'permit')\n",
    "train_values['permit']=train_values['permit'].fillna(train_values['permit'].mode()[0])"
   ]
  },
  {
   "cell_type": "markdown",
   "metadata": {},
   "source": [
    "### *Scheme Name and Managment*"
   ]
  },
  {
   "cell_type": "markdown",
   "metadata": {},
   "source": [
    "Let's look at the clearly related scheme name and managment data more closely"
   ]
  },
  {
   "cell_type": "code",
   "execution_count": 30,
   "metadata": {},
   "outputs": [
    {
     "data": {
      "text/plain": [
       "K                                        682\n",
       "None                                     644\n",
       "Borehole                                 546\n",
       "Chalinze wate                            405\n",
       "M                                        400\n",
       "DANIDA                                   379\n",
       "Government                               320\n",
       "Ngana water supplied scheme              270\n",
       "wanging'ombe water supply s              261\n",
       "wanging'ombe supply scheme               234\n",
       "I                                        229\n",
       "Bagamoyo wate                            229\n",
       "Uroki-Bomang'ombe water sup              209\n",
       "N                                        204\n",
       "Kirua kahe gravity water supply trust    193\n",
       "Machumba estate pipe line                185\n",
       "Makwale water supplied sche              166\n",
       "Kijiji                                   161\n",
       "S                                        154\n",
       "Handeni Trunk Main(H                     152\n",
       "mtwango water supply scheme              152\n",
       "Losaa-Kia water supply                   152\n",
       "Mkongoro Two                             147\n",
       "Roman                                    139\n",
       "Mkongoro One                             128\n",
       "Maambreni gravity water supply           125\n",
       "Lyamungo umbwe water supply              120\n",
       "Kirua kahe pumping water trust           113\n",
       "Ki                                       107\n",
       "Nabaiye pipe line                        107\n",
       "Name: scheme_name, dtype: int64"
      ]
     },
     "execution_count": 30,
     "metadata": {},
     "output_type": "execute_result"
    }
   ],
   "source": [
    "train_values.scheme_name.value_counts().head(30)"
   ]
  },
  {
   "cell_type": "code",
   "execution_count": 31,
   "metadata": {},
   "outputs": [
    {
     "data": {
      "text/plain": [
       "VWC                 36793\n",
       "WUG                  5206\n",
       "Water authority      3153\n",
       "WUA                  2883\n",
       "Water Board          2748\n",
       "Parastatal           1680\n",
       "Private operator     1063\n",
       "Company              1061\n",
       "Other                 766\n",
       "SWC                    97\n",
       "Trust                  72\n",
       "None                    1\n",
       "Name: scheme_management, dtype: int64"
      ]
     },
     "execution_count": 31,
     "metadata": {},
     "output_type": "execute_result"
    }
   ],
   "source": [
    "train_values.scheme_management.value_counts().head(30)"
   ]
  },
  {
   "cell_type": "code",
   "execution_count": 32,
   "metadata": {},
   "outputs": [
    {
     "data": {
      "text/plain": [
       "28166"
      ]
     },
     "execution_count": 32,
     "metadata": {},
     "output_type": "execute_result"
    }
   ],
   "source": [
    "train_values.scheme_name.isna().sum()"
   ]
  },
  {
   "cell_type": "code",
   "execution_count": 33,
   "metadata": {},
   "outputs": [
    {
     "data": {
      "text/plain": [
       "2697"
      ]
     },
     "execution_count": 33,
     "metadata": {},
     "output_type": "execute_result"
    }
   ],
   "source": [
    "len(train_values.scheme_name.unique())"
   ]
  },
  {
   "cell_type": "markdown",
   "metadata": {},
   "source": [
    "Scheme name is high cardinality with a large numbe rof simply missing values, and what seem to be tons of data entry issues, we will drop is and only keep the scheme management values, since they are the sort of valueswe might be expecting are more likely and more easily correlated with the functioning of the pumps."
   ]
  },
  {
   "cell_type": "code",
   "execution_count": 34,
   "metadata": {},
   "outputs": [],
   "source": [
    "train_values = train_values.drop(columns=['scheme_name'])"
   ]
  },
  {
   "cell_type": "markdown",
   "metadata": {},
   "source": [
    "Let's look more closely at the null values in the scheme management data to see if there is any pattern to help us possibly impute the data."
   ]
  },
  {
   "cell_type": "code",
   "execution_count": 35,
   "metadata": {},
   "outputs": [
    {
     "data": {
      "text/html": [
       "<div>\n",
       "<style scoped>\n",
       "    .dataframe tbody tr th:only-of-type {\n",
       "        vertical-align: middle;\n",
       "    }\n",
       "\n",
       "    .dataframe tbody tr th {\n",
       "        vertical-align: top;\n",
       "    }\n",
       "\n",
       "    .dataframe thead th {\n",
       "        text-align: right;\n",
       "    }\n",
       "</style>\n",
       "<table border=\"1\" class=\"dataframe\">\n",
       "  <thead>\n",
       "    <tr style=\"text-align: right;\">\n",
       "      <th></th>\n",
       "      <th>id</th>\n",
       "      <th>amount_tsh</th>\n",
       "      <th>date_recorded</th>\n",
       "      <th>funder</th>\n",
       "      <th>gps_height</th>\n",
       "      <th>installer</th>\n",
       "      <th>longitude</th>\n",
       "      <th>latitude</th>\n",
       "      <th>wpt_name</th>\n",
       "      <th>num_private</th>\n",
       "      <th>...</th>\n",
       "      <th>quality_group</th>\n",
       "      <th>quantity</th>\n",
       "      <th>quantity_group</th>\n",
       "      <th>source</th>\n",
       "      <th>source_type</th>\n",
       "      <th>source_class</th>\n",
       "      <th>waterpoint_type</th>\n",
       "      <th>waterpoint_type_group</th>\n",
       "      <th>missing_meeting</th>\n",
       "      <th>missing_permit</th>\n",
       "    </tr>\n",
       "    <tr>\n",
       "      <th>management</th>\n",
       "      <th></th>\n",
       "      <th></th>\n",
       "      <th></th>\n",
       "      <th></th>\n",
       "      <th></th>\n",
       "      <th></th>\n",
       "      <th></th>\n",
       "      <th></th>\n",
       "      <th></th>\n",
       "      <th></th>\n",
       "      <th></th>\n",
       "      <th></th>\n",
       "      <th></th>\n",
       "      <th></th>\n",
       "      <th></th>\n",
       "      <th></th>\n",
       "      <th></th>\n",
       "      <th></th>\n",
       "      <th></th>\n",
       "      <th></th>\n",
       "      <th></th>\n",
       "    </tr>\n",
       "  </thead>\n",
       "  <tbody>\n",
       "    <tr>\n",
       "      <th>company</th>\n",
       "      <td>1</td>\n",
       "      <td>1</td>\n",
       "      <td>1</td>\n",
       "      <td>1</td>\n",
       "      <td>1</td>\n",
       "      <td>1</td>\n",
       "      <td>1</td>\n",
       "      <td>1</td>\n",
       "      <td>1</td>\n",
       "      <td>1</td>\n",
       "      <td>...</td>\n",
       "      <td>1</td>\n",
       "      <td>1</td>\n",
       "      <td>1</td>\n",
       "      <td>1</td>\n",
       "      <td>1</td>\n",
       "      <td>1</td>\n",
       "      <td>1</td>\n",
       "      <td>1</td>\n",
       "      <td>1</td>\n",
       "      <td>1</td>\n",
       "    </tr>\n",
       "    <tr>\n",
       "      <th>other</th>\n",
       "      <td>186</td>\n",
       "      <td>186</td>\n",
       "      <td>186</td>\n",
       "      <td>186</td>\n",
       "      <td>186</td>\n",
       "      <td>186</td>\n",
       "      <td>186</td>\n",
       "      <td>186</td>\n",
       "      <td>186</td>\n",
       "      <td>186</td>\n",
       "      <td>...</td>\n",
       "      <td>186</td>\n",
       "      <td>186</td>\n",
       "      <td>186</td>\n",
       "      <td>186</td>\n",
       "      <td>186</td>\n",
       "      <td>186</td>\n",
       "      <td>186</td>\n",
       "      <td>186</td>\n",
       "      <td>186</td>\n",
       "      <td>186</td>\n",
       "    </tr>\n",
       "    <tr>\n",
       "      <th>parastatal</th>\n",
       "      <td>11</td>\n",
       "      <td>11</td>\n",
       "      <td>11</td>\n",
       "      <td>11</td>\n",
       "      <td>11</td>\n",
       "      <td>11</td>\n",
       "      <td>11</td>\n",
       "      <td>11</td>\n",
       "      <td>11</td>\n",
       "      <td>11</td>\n",
       "      <td>...</td>\n",
       "      <td>11</td>\n",
       "      <td>11</td>\n",
       "      <td>11</td>\n",
       "      <td>11</td>\n",
       "      <td>11</td>\n",
       "      <td>11</td>\n",
       "      <td>11</td>\n",
       "      <td>11</td>\n",
       "      <td>11</td>\n",
       "      <td>11</td>\n",
       "    </tr>\n",
       "    <tr>\n",
       "      <th>private operator</th>\n",
       "      <td>119</td>\n",
       "      <td>119</td>\n",
       "      <td>119</td>\n",
       "      <td>119</td>\n",
       "      <td>119</td>\n",
       "      <td>119</td>\n",
       "      <td>119</td>\n",
       "      <td>119</td>\n",
       "      <td>119</td>\n",
       "      <td>119</td>\n",
       "      <td>...</td>\n",
       "      <td>119</td>\n",
       "      <td>119</td>\n",
       "      <td>119</td>\n",
       "      <td>119</td>\n",
       "      <td>119</td>\n",
       "      <td>119</td>\n",
       "      <td>119</td>\n",
       "      <td>119</td>\n",
       "      <td>119</td>\n",
       "      <td>119</td>\n",
       "    </tr>\n",
       "    <tr>\n",
       "      <th>trust</th>\n",
       "      <td>1</td>\n",
       "      <td>1</td>\n",
       "      <td>1</td>\n",
       "      <td>1</td>\n",
       "      <td>1</td>\n",
       "      <td>1</td>\n",
       "      <td>1</td>\n",
       "      <td>1</td>\n",
       "      <td>1</td>\n",
       "      <td>1</td>\n",
       "      <td>...</td>\n",
       "      <td>1</td>\n",
       "      <td>1</td>\n",
       "      <td>1</td>\n",
       "      <td>1</td>\n",
       "      <td>1</td>\n",
       "      <td>1</td>\n",
       "      <td>1</td>\n",
       "      <td>1</td>\n",
       "      <td>1</td>\n",
       "      <td>1</td>\n",
       "    </tr>\n",
       "    <tr>\n",
       "      <th>unknown</th>\n",
       "      <td>468</td>\n",
       "      <td>468</td>\n",
       "      <td>468</td>\n",
       "      <td>468</td>\n",
       "      <td>468</td>\n",
       "      <td>468</td>\n",
       "      <td>468</td>\n",
       "      <td>468</td>\n",
       "      <td>468</td>\n",
       "      <td>468</td>\n",
       "      <td>...</td>\n",
       "      <td>468</td>\n",
       "      <td>468</td>\n",
       "      <td>468</td>\n",
       "      <td>468</td>\n",
       "      <td>468</td>\n",
       "      <td>468</td>\n",
       "      <td>468</td>\n",
       "      <td>468</td>\n",
       "      <td>468</td>\n",
       "      <td>468</td>\n",
       "    </tr>\n",
       "    <tr>\n",
       "      <th>vwc</th>\n",
       "      <td>2450</td>\n",
       "      <td>2450</td>\n",
       "      <td>2450</td>\n",
       "      <td>2450</td>\n",
       "      <td>2450</td>\n",
       "      <td>2450</td>\n",
       "      <td>2450</td>\n",
       "      <td>2450</td>\n",
       "      <td>2450</td>\n",
       "      <td>2450</td>\n",
       "      <td>...</td>\n",
       "      <td>2450</td>\n",
       "      <td>2450</td>\n",
       "      <td>2450</td>\n",
       "      <td>2450</td>\n",
       "      <td>2450</td>\n",
       "      <td>2450</td>\n",
       "      <td>2450</td>\n",
       "      <td>2450</td>\n",
       "      <td>2450</td>\n",
       "      <td>2450</td>\n",
       "    </tr>\n",
       "    <tr>\n",
       "      <th>water authority</th>\n",
       "      <td>2</td>\n",
       "      <td>2</td>\n",
       "      <td>2</td>\n",
       "      <td>2</td>\n",
       "      <td>2</td>\n",
       "      <td>2</td>\n",
       "      <td>2</td>\n",
       "      <td>2</td>\n",
       "      <td>2</td>\n",
       "      <td>2</td>\n",
       "      <td>...</td>\n",
       "      <td>2</td>\n",
       "      <td>2</td>\n",
       "      <td>2</td>\n",
       "      <td>2</td>\n",
       "      <td>2</td>\n",
       "      <td>2</td>\n",
       "      <td>2</td>\n",
       "      <td>2</td>\n",
       "      <td>2</td>\n",
       "      <td>2</td>\n",
       "    </tr>\n",
       "    <tr>\n",
       "      <th>wua</th>\n",
       "      <td>6</td>\n",
       "      <td>6</td>\n",
       "      <td>6</td>\n",
       "      <td>6</td>\n",
       "      <td>6</td>\n",
       "      <td>6</td>\n",
       "      <td>6</td>\n",
       "      <td>6</td>\n",
       "      <td>6</td>\n",
       "      <td>6</td>\n",
       "      <td>...</td>\n",
       "      <td>6</td>\n",
       "      <td>6</td>\n",
       "      <td>6</td>\n",
       "      <td>6</td>\n",
       "      <td>6</td>\n",
       "      <td>6</td>\n",
       "      <td>6</td>\n",
       "      <td>6</td>\n",
       "      <td>6</td>\n",
       "      <td>6</td>\n",
       "    </tr>\n",
       "    <tr>\n",
       "      <th>wug</th>\n",
       "      <td>633</td>\n",
       "      <td>633</td>\n",
       "      <td>633</td>\n",
       "      <td>633</td>\n",
       "      <td>633</td>\n",
       "      <td>633</td>\n",
       "      <td>633</td>\n",
       "      <td>633</td>\n",
       "      <td>633</td>\n",
       "      <td>633</td>\n",
       "      <td>...</td>\n",
       "      <td>633</td>\n",
       "      <td>633</td>\n",
       "      <td>633</td>\n",
       "      <td>633</td>\n",
       "      <td>633</td>\n",
       "      <td>633</td>\n",
       "      <td>633</td>\n",
       "      <td>633</td>\n",
       "      <td>633</td>\n",
       "      <td>633</td>\n",
       "    </tr>\n",
       "  </tbody>\n",
       "</table>\n",
       "<p>10 rows × 40 columns</p>\n",
       "</div>"
      ],
      "text/plain": [
       "                    id  amount_tsh  date_recorded  funder  gps_height  \\\n",
       "management                                                              \n",
       "company              1           1              1       1           1   \n",
       "other              186         186            186     186         186   \n",
       "parastatal          11          11             11      11          11   \n",
       "private operator   119         119            119     119         119   \n",
       "trust                1           1              1       1           1   \n",
       "unknown            468         468            468     468         468   \n",
       "vwc               2450        2450           2450    2450        2450   \n",
       "water authority      2           2              2       2           2   \n",
       "wua                  6           6              6       6           6   \n",
       "wug                633         633            633     633         633   \n",
       "\n",
       "                  installer  longitude  latitude  wpt_name  num_private  ...  \\\n",
       "management                                                               ...   \n",
       "company                   1          1         1         1            1  ...   \n",
       "other                   186        186       186       186          186  ...   \n",
       "parastatal               11         11        11        11           11  ...   \n",
       "private operator        119        119       119       119          119  ...   \n",
       "trust                     1          1         1         1            1  ...   \n",
       "unknown                 468        468       468       468          468  ...   \n",
       "vwc                    2450       2450      2450      2450         2450  ...   \n",
       "water authority           2          2         2         2            2  ...   \n",
       "wua                       6          6         6         6            6  ...   \n",
       "wug                     633        633       633       633          633  ...   \n",
       "\n",
       "                  quality_group  quantity  quantity_group  source  \\\n",
       "management                                                          \n",
       "company                       1         1               1       1   \n",
       "other                       186       186             186     186   \n",
       "parastatal                   11        11              11      11   \n",
       "private operator            119       119             119     119   \n",
       "trust                         1         1               1       1   \n",
       "unknown                     468       468             468     468   \n",
       "vwc                        2450      2450            2450    2450   \n",
       "water authority               2         2               2       2   \n",
       "wua                           6         6               6       6   \n",
       "wug                         633       633             633     633   \n",
       "\n",
       "                  source_type  source_class  waterpoint_type  \\\n",
       "management                                                     \n",
       "company                     1             1                1   \n",
       "other                     186           186              186   \n",
       "parastatal                 11            11               11   \n",
       "private operator          119           119              119   \n",
       "trust                       1             1                1   \n",
       "unknown                   468           468              468   \n",
       "vwc                      2450          2450             2450   \n",
       "water authority             2             2                2   \n",
       "wua                         6             6                6   \n",
       "wug                       633           633              633   \n",
       "\n",
       "                  waterpoint_type_group  missing_meeting  missing_permit  \n",
       "management                                                                \n",
       "company                               1                1               1  \n",
       "other                               186              186             186  \n",
       "parastatal                           11               11              11  \n",
       "private operator                    119              119             119  \n",
       "trust                                 1                1               1  \n",
       "unknown                             468              468             468  \n",
       "vwc                                2450             2450            2450  \n",
       "water authority                       2                2               2  \n",
       "wua                                   6                6               6  \n",
       "wug                                 633              633             633  \n",
       "\n",
       "[10 rows x 40 columns]"
      ]
     },
     "execution_count": 35,
     "metadata": {},
     "output_type": "execute_result"
    }
   ],
   "source": [
    "nan_scheme_man = train_values[train_values['scheme_management'].isna()]\n",
    "nan_scheme_man.groupby(['management']).count()"
   ]
  },
  {
   "cell_type": "markdown",
   "metadata": {},
   "source": [
    "There is a correlation between the management values and the scheme management values with ther being many similar categories accross the two columns. We will impute that the missing values are the same between the two columns."
   ]
  },
  {
   "cell_type": "code",
   "execution_count": 36,
   "metadata": {},
   "outputs": [],
   "source": [
    "# lower casing so the scheme management values will align with those in the management column\n",
    "train_values['scheme_management'] = train_values['scheme_management'].str.lower()\n",
    "idx = train_values[train_values['scheme_management'].isna()].index\n",
    "sm_column_num = train_values.columns.get_loc('scheme_management')\n",
    "man_column_num = train_values.columns.get_loc('management')\n",
    "train_values.iloc[idx, sm_column_num] = train_values.iloc[idx, man_column_num]"
   ]
  },
  {
   "cell_type": "code",
   "execution_count": 37,
   "metadata": {},
   "outputs": [
    {
     "data": {
      "text/plain": [
       "vwc                 39243\n",
       "wug                  5839\n",
       "water authority      3155\n",
       "wua                  2889\n",
       "water board          2748\n",
       "parastatal           1691\n",
       "private operator     1182\n",
       "company              1062\n",
       "other                 952\n",
       "unknown               468\n",
       "swc                    97\n",
       "trust                  73\n",
       "none                    1\n",
       "Name: scheme_management, dtype: int64"
      ]
     },
     "execution_count": 37,
     "metadata": {},
     "output_type": "execute_result"
    }
   ],
   "source": [
    "train_values.scheme_management.value_counts().head(15)"
   ]
  },
  {
   "cell_type": "code",
   "execution_count": 38,
   "metadata": {},
   "outputs": [
    {
     "data": {
      "text/plain": [
       "id                       0\n",
       "amount_tsh               0\n",
       "date_recorded            0\n",
       "funder                   0\n",
       "gps_height               0\n",
       "installer                0\n",
       "longitude                0\n",
       "latitude                 0\n",
       "wpt_name                 0\n",
       "num_private              0\n",
       "basin                    0\n",
       "subvillage               0\n",
       "region                   0\n",
       "region_code              0\n",
       "district_code            0\n",
       "lga                      0\n",
       "ward                     0\n",
       "population               0\n",
       "public_meeting           0\n",
       "recorded_by              0\n",
       "scheme_management        0\n",
       "permit                   0\n",
       "construction_year        0\n",
       "extraction_type          0\n",
       "extraction_type_group    0\n",
       "extraction_type_class    0\n",
       "management               0\n",
       "management_group         0\n",
       "payment                  0\n",
       "payment_type             0\n",
       "water_quality            0\n",
       "quality_group            0\n",
       "quantity                 0\n",
       "quantity_group           0\n",
       "source                   0\n",
       "source_type              0\n",
       "source_class             0\n",
       "waterpoint_type          0\n",
       "waterpoint_type_group    0\n",
       "missing_meeting          0\n",
       "missing_permit           0\n",
       "dtype: int64"
      ]
     },
     "execution_count": 38,
     "metadata": {},
     "output_type": "execute_result"
    }
   ],
   "source": [
    "train_values.isna().sum()"
   ]
  },
  {
   "cell_type": "markdown",
   "metadata": {},
   "source": [
    "### Duplicate Columns or Values"
   ]
  },
  {
   "cell_type": "markdown",
   "metadata": {},
   "source": [
    "There are no duplicate id numbers, so there are not obvious duplicate rows."
   ]
  },
  {
   "cell_type": "code",
   "execution_count": 39,
   "metadata": {},
   "outputs": [
    {
     "data": {
      "text/plain": [
       "1"
      ]
     },
     "execution_count": 39,
     "metadata": {},
     "output_type": "execute_result"
    }
   ],
   "source": [
    "train_values.id.value_counts().max()"
   ]
  },
  {
   "cell_type": "markdown",
   "metadata": {},
   "source": [
    "Many columns seem to contain very similar information."
   ]
  },
  {
   "cell_type": "markdown",
   "metadata": {},
   "source": [
    "#### *Potential Duplicate Columns: Extraction Type*"
   ]
  },
  {
   "cell_type": "code",
   "execution_count": 40,
   "metadata": {},
   "outputs": [
    {
     "data": {
      "text/plain": [
       "gravity                      26780\n",
       "nira/tanira                   8154\n",
       "other                         6430\n",
       "submersible                   4764\n",
       "swn 80                        3670\n",
       "mono                          2865\n",
       "india mark ii                 2400\n",
       "afridev                       1770\n",
       "ksb                           1415\n",
       "other - rope pump              451\n",
       "other - swn 81                 229\n",
       "windmill                       117\n",
       "india mark iii                  98\n",
       "cemo                            90\n",
       "other - play pump               85\n",
       "walimi                          48\n",
       "climax                          32\n",
       "other - mkulima/shinyanga        2\n",
       "Name: extraction_type, dtype: int64"
      ]
     },
     "execution_count": 40,
     "metadata": {},
     "output_type": "execute_result"
    }
   ],
   "source": [
    "train_values.extraction_type.value_counts()"
   ]
  },
  {
   "cell_type": "code",
   "execution_count": 41,
   "metadata": {},
   "outputs": [
    {
     "data": {
      "text/plain": [
       "gravity         26780\n",
       "handpump        16456\n",
       "other            6430\n",
       "submersible      6179\n",
       "motorpump        2987\n",
       "rope pump         451\n",
       "wind-powered      117\n",
       "Name: extraction_type_class, dtype: int64"
      ]
     },
     "execution_count": 41,
     "metadata": {},
     "output_type": "execute_result"
    }
   ],
   "source": [
    "train_values.extraction_type_class.value_counts()"
   ]
  },
  {
   "cell_type": "code",
   "execution_count": 42,
   "metadata": {},
   "outputs": [
    {
     "data": {
      "text/plain": [
       "gravity            26780\n",
       "nira/tanira         8154\n",
       "other               6430\n",
       "submersible         6179\n",
       "swn 80              3670\n",
       "mono                2865\n",
       "india mark ii       2400\n",
       "afridev             1770\n",
       "rope pump            451\n",
       "other handpump       364\n",
       "other motorpump      122\n",
       "wind-powered         117\n",
       "india mark iii        98\n",
       "Name: extraction_type_group, dtype: int64"
      ]
     },
     "execution_count": 42,
     "metadata": {},
     "output_type": "execute_result"
    }
   ],
   "source": [
    "train_values.extraction_type_group.value_counts()"
   ]
  },
  {
   "cell_type": "markdown",
   "metadata": {},
   "source": [
    "Of these three we will keep the most fine grained and the least and drop the type_group since we will likely get enough grouping information from the more general class."
   ]
  },
  {
   "cell_type": "markdown",
   "metadata": {},
   "source": [
    "#### *Potential Duplicate Columns: Management*"
   ]
  },
  {
   "cell_type": "code",
   "execution_count": 43,
   "metadata": {},
   "outputs": [
    {
     "data": {
      "text/plain": [
       "vwc                 40507\n",
       "wug                  6515\n",
       "water board          2933\n",
       "wua                  2535\n",
       "private operator     1971\n",
       "parastatal           1768\n",
       "water authority       904\n",
       "other                 844\n",
       "company               685\n",
       "unknown               561\n",
       "other - school         99\n",
       "trust                  78\n",
       "Name: management, dtype: int64"
      ]
     },
     "execution_count": 43,
     "metadata": {},
     "output_type": "execute_result"
    }
   ],
   "source": [
    "train_values.management.value_counts()"
   ]
  },
  {
   "cell_type": "code",
   "execution_count": 44,
   "metadata": {},
   "outputs": [
    {
     "data": {
      "text/plain": [
       "user-group    52490\n",
       "commercial     3638\n",
       "parastatal     1768\n",
       "other           943\n",
       "unknown         561\n",
       "Name: management_group, dtype: int64"
      ]
     },
     "execution_count": 44,
     "metadata": {},
     "output_type": "execute_result"
    }
   ],
   "source": [
    "train_values.management_group.value_counts()"
   ]
  },
  {
   "cell_type": "markdown",
   "metadata": {},
   "source": [
    "These contain fairly similar info, but the grouped data is more general and might capture patterns that only appear at that level of detail. Obviously this will increase the dimension and collinearity to some degree."
   ]
  },
  {
   "cell_type": "markdown",
   "metadata": {},
   "source": [
    "#### *Potential Duplicate Columns: Payment*"
   ]
  },
  {
   "cell_type": "code",
   "execution_count": 45,
   "metadata": {},
   "outputs": [
    {
     "data": {
      "text/plain": [
       "never pay                25348\n",
       "pay per bucket            8985\n",
       "pay monthly               8300\n",
       "unknown                   8157\n",
       "pay when scheme fails     3914\n",
       "pay annually              3642\n",
       "other                     1054\n",
       "Name: payment, dtype: int64"
      ]
     },
     "execution_count": 45,
     "metadata": {},
     "output_type": "execute_result"
    }
   ],
   "source": [
    "train_values.payment.value_counts()"
   ]
  },
  {
   "cell_type": "code",
   "execution_count": 46,
   "metadata": {},
   "outputs": [
    {
     "data": {
      "text/plain": [
       "never pay     25348\n",
       "per bucket     8985\n",
       "monthly        8300\n",
       "unknown        8157\n",
       "on failure     3914\n",
       "annually       3642\n",
       "other          1054\n",
       "Name: payment_type, dtype: int64"
      ]
     },
     "execution_count": 46,
     "metadata": {},
     "output_type": "execute_result"
    }
   ],
   "source": [
    "train_values.payment_type.value_counts()"
   ]
  },
  {
   "cell_type": "markdown",
   "metadata": {},
   "source": [
    "These are literally identical other than the wording for the categories, we will drop the type column."
   ]
  },
  {
   "cell_type": "markdown",
   "metadata": {},
   "source": [
    "#### *Potential Duplicate Columns: Water Quality*"
   ]
  },
  {
   "cell_type": "code",
   "execution_count": 47,
   "metadata": {},
   "outputs": [
    {
     "data": {
      "text/plain": [
       "soft                  50818\n",
       "salty                  4856\n",
       "unknown                1876\n",
       "milky                   804\n",
       "coloured                490\n",
       "salty abandoned         339\n",
       "fluoride                200\n",
       "fluoride abandoned       17\n",
       "Name: water_quality, dtype: int64"
      ]
     },
     "execution_count": 47,
     "metadata": {},
     "output_type": "execute_result"
    }
   ],
   "source": [
    "train_values.water_quality.value_counts()"
   ]
  },
  {
   "cell_type": "code",
   "execution_count": 48,
   "metadata": {},
   "outputs": [
    {
     "data": {
      "text/plain": [
       "good        50818\n",
       "salty        5195\n",
       "unknown      1876\n",
       "milky         804\n",
       "colored       490\n",
       "fluoride      217\n",
       "Name: quality_group, dtype: int64"
      ]
     },
     "execution_count": 48,
     "metadata": {},
     "output_type": "execute_result"
    }
   ],
   "source": [
    "train_values.quality_group.value_counts()"
   ]
  },
  {
   "cell_type": "markdown",
   "metadata": {},
   "source": [
    "These are at very similar level of detail with the none grouped data simply including extra info on if the source is abandoned. So, we will drop the group values."
   ]
  },
  {
   "cell_type": "markdown",
   "metadata": {},
   "source": [
    "#### *Potential Duplicate Columns: Water Quantity*"
   ]
  },
  {
   "cell_type": "code",
   "execution_count": 49,
   "metadata": {},
   "outputs": [
    {
     "data": {
      "text/plain": [
       "enough          33186\n",
       "insufficient    15129\n",
       "dry              6246\n",
       "seasonal         4050\n",
       "unknown           789\n",
       "Name: quantity, dtype: int64"
      ]
     },
     "execution_count": 49,
     "metadata": {},
     "output_type": "execute_result"
    }
   ],
   "source": [
    "train_values.quantity.value_counts()"
   ]
  },
  {
   "cell_type": "code",
   "execution_count": 50,
   "metadata": {},
   "outputs": [
    {
     "data": {
      "text/plain": [
       "enough          33186\n",
       "insufficient    15129\n",
       "dry              6246\n",
       "seasonal         4050\n",
       "unknown           789\n",
       "Name: quantity_group, dtype: int64"
      ]
     },
     "execution_count": 50,
     "metadata": {},
     "output_type": "execute_result"
    }
   ],
   "source": [
    "train_values.quantity_group.value_counts()"
   ]
  },
  {
   "cell_type": "markdown",
   "metadata": {},
   "source": [
    "These columns are literally the same, so we will drop the group column."
   ]
  },
  {
   "cell_type": "markdown",
   "metadata": {},
   "source": [
    "#### *Potential Duplicate Columns: Source*"
   ]
  },
  {
   "cell_type": "code",
   "execution_count": 51,
   "metadata": {},
   "outputs": [
    {
     "data": {
      "text/plain": [
       "spring                  17021\n",
       "shallow well            16824\n",
       "machine dbh             11075\n",
       "river                    9612\n",
       "rainwater harvesting     2295\n",
       "hand dtw                  874\n",
       "lake                      765\n",
       "dam                       656\n",
       "other                     212\n",
       "unknown                    66\n",
       "Name: source, dtype: int64"
      ]
     },
     "execution_count": 51,
     "metadata": {},
     "output_type": "execute_result"
    }
   ],
   "source": [
    "train_values.source.value_counts()"
   ]
  },
  {
   "cell_type": "code",
   "execution_count": 52,
   "metadata": {},
   "outputs": [
    {
     "data": {
      "text/plain": [
       "groundwater    45794\n",
       "surface        13328\n",
       "unknown          278\n",
       "Name: source_class, dtype: int64"
      ]
     },
     "execution_count": 52,
     "metadata": {},
     "output_type": "execute_result"
    }
   ],
   "source": [
    "train_values.source_class.value_counts()"
   ]
  },
  {
   "cell_type": "code",
   "execution_count": 53,
   "metadata": {},
   "outputs": [
    {
     "data": {
      "text/plain": [
       "spring                  17021\n",
       "shallow well            16824\n",
       "borehole                11949\n",
       "river/lake              10377\n",
       "rainwater harvesting     2295\n",
       "dam                       656\n",
       "other                     278\n",
       "Name: source_type, dtype: int64"
      ]
     },
     "execution_count": 53,
     "metadata": {},
     "output_type": "execute_result"
    }
   ],
   "source": [
    "train_values.source_type.value_counts()"
   ]
  },
  {
   "cell_type": "markdown",
   "metadata": {},
   "source": [
    "The source type and values are at a very similar level of detail with only minor differences, such as spliting river and lake or calling 'borehole' 'machine dbh', so keeping both doesn't really make sense. We will drop the type column, but keep the class and source columns, since the source contains some information on the similarities of the types of sources that could be useful."
   ]
  },
  {
   "cell_type": "markdown",
   "metadata": {},
   "source": [
    "#### *Potential Duplicate Columns: Waterpoint*"
   ]
  },
  {
   "cell_type": "code",
   "execution_count": 54,
   "metadata": {},
   "outputs": [
    {
     "data": {
      "text/plain": [
       "communal standpipe             28522\n",
       "hand pump                      17488\n",
       "other                           6380\n",
       "communal standpipe multiple     6103\n",
       "improved spring                  784\n",
       "cattle trough                    116\n",
       "dam                                7\n",
       "Name: waterpoint_type, dtype: int64"
      ]
     },
     "execution_count": 54,
     "metadata": {},
     "output_type": "execute_result"
    }
   ],
   "source": [
    "train_values.waterpoint_type.value_counts()"
   ]
  },
  {
   "cell_type": "code",
   "execution_count": 55,
   "metadata": {},
   "outputs": [
    {
     "data": {
      "text/plain": [
       "communal standpipe    34625\n",
       "hand pump             17488\n",
       "other                  6380\n",
       "improved spring         784\n",
       "cattle trough           116\n",
       "dam                       7\n",
       "Name: waterpoint_type_group, dtype: int64"
      ]
     },
     "execution_count": 55,
     "metadata": {},
     "output_type": "execute_result"
    }
   ],
   "source": [
    "train_values.waterpoint_type_group.value_counts()"
   ]
  },
  {
   "cell_type": "markdown",
   "metadata": {},
   "source": [
    "Since group contains all the information in type plus an extra category, we will drop the type column and keep the group."
   ]
  },
  {
   "cell_type": "markdown",
   "metadata": {},
   "source": [
    "Let's drop all the duplicates it made sense to drop. We left some in since removing them would likely reduce the models predictiveness, even if leaving them in does add some collinearity."
   ]
  },
  {
   "cell_type": "code",
   "execution_count": 56,
   "metadata": {},
   "outputs": [],
   "source": [
    "columns_dropped = ['extraction_type_group',\n",
    "                   'payment_type',\n",
    "                   'quality_group',\n",
    "                   'quantity_group',\n",
    "                   'source_type',\n",
    "                   'waterpoint_type_group']\n",
    "rm_duplicate_df = train_values.drop(columns = columns_dropped)"
   ]
  },
  {
   "cell_type": "code",
   "execution_count": 57,
   "metadata": {},
   "outputs": [
    {
     "name": "stdout",
     "output_type": "stream",
     "text": [
      "<class 'pandas.core.frame.DataFrame'>\n",
      "RangeIndex: 59400 entries, 0 to 59399\n",
      "Data columns (total 35 columns):\n",
      " #   Column                 Non-Null Count  Dtype         \n",
      "---  ------                 --------------  -----         \n",
      " 0   id                     59400 non-null  int64         \n",
      " 1   amount_tsh             59400 non-null  float64       \n",
      " 2   date_recorded          59400 non-null  datetime64[ns]\n",
      " 3   funder                 59400 non-null  object        \n",
      " 4   gps_height             59400 non-null  int64         \n",
      " 5   installer              59400 non-null  object        \n",
      " 6   longitude              59400 non-null  float64       \n",
      " 7   latitude               59400 non-null  float64       \n",
      " 8   wpt_name               59400 non-null  object        \n",
      " 9   num_private            59400 non-null  int64         \n",
      " 10  basin                  59400 non-null  object        \n",
      " 11  subvillage             59400 non-null  object        \n",
      " 12  region                 59400 non-null  object        \n",
      " 13  region_code            59400 non-null  int64         \n",
      " 14  district_code          59400 non-null  int64         \n",
      " 15  lga                    59400 non-null  object        \n",
      " 16  ward                   59400 non-null  object        \n",
      " 17  population             59400 non-null  int64         \n",
      " 18  public_meeting         59400 non-null  bool          \n",
      " 19  recorded_by            59400 non-null  object        \n",
      " 20  scheme_management      59400 non-null  object        \n",
      " 21  permit                 59400 non-null  bool          \n",
      " 22  construction_year      59400 non-null  int64         \n",
      " 23  extraction_type        59400 non-null  object        \n",
      " 24  extraction_type_class  59400 non-null  object        \n",
      " 25  management             59400 non-null  object        \n",
      " 26  management_group       59400 non-null  object        \n",
      " 27  payment                59400 non-null  object        \n",
      " 28  water_quality          59400 non-null  object        \n",
      " 29  quantity               59400 non-null  object        \n",
      " 30  source                 59400 non-null  object        \n",
      " 31  source_class           59400 non-null  object        \n",
      " 32  waterpoint_type        59400 non-null  object        \n",
      " 33  missing_meeting        59400 non-null  bool          \n",
      " 34  missing_permit         59400 non-null  bool          \n",
      "dtypes: bool(4), datetime64[ns](1), float64(3), int64(7), object(20)\n",
      "memory usage: 14.3+ MB\n"
     ]
    }
   ],
   "source": [
    "rm_duplicate_df.info()"
   ]
  },
  {
   "cell_type": "markdown",
   "metadata": {},
   "source": [
    "## Location Data"
   ]
  },
  {
   "cell_type": "markdown",
   "metadata": {},
   "source": [
    "Beyond lat-long there are a number of location data columns, let's look through them a bit to decide how to proceed."
   ]
  },
  {
   "cell_type": "code",
   "execution_count": 58,
   "metadata": {},
   "outputs": [
    {
     "data": {
      "text/plain": [
       "Lake Victoria              10248\n",
       "Pangani                     8940\n",
       "Rufiji                      7976\n",
       "Internal                    7785\n",
       "Lake Tanganyika             6432\n",
       "Wami / Ruvu                 5987\n",
       "Lake Nyasa                  5085\n",
       "Ruvuma / Southern Coast     4493\n",
       "Lake Rukwa                  2454\n",
       "Name: basin, dtype: int64"
      ]
     },
     "execution_count": 58,
     "metadata": {},
     "output_type": "execute_result"
    }
   ],
   "source": [
    "train_values.basin.value_counts()"
   ]
  },
  {
   "cell_type": "markdown",
   "metadata": {},
   "source": [
    "This particular grouping will likely be useful since it affects water quality."
   ]
  },
  {
   "cell_type": "code",
   "execution_count": 59,
   "metadata": {},
   "outputs": [
    {
     "data": {
      "text/plain": [
       "madukani          508\n",
       "shuleni           506\n",
       "majengo           502\n",
       "kati              373\n",
       "not known         371\n",
       "                 ... \n",
       "mahoha bondeni      1\n",
       "ikukula             1\n",
       "usandawi            1\n",
       "kisaseni            1\n",
       "kafika              1\n",
       "Name: subvillage, Length: 19288, dtype: int64"
      ]
     },
     "execution_count": 59,
     "metadata": {},
     "output_type": "execute_result"
    }
   ],
   "source": [
    "train_values.subvillage.value_counts()"
   ]
  },
  {
   "cell_type": "code",
   "execution_count": 60,
   "metadata": {},
   "outputs": [
    {
     "data": {
      "text/plain": [
       "9424"
      ]
     },
     "execution_count": 60,
     "metadata": {},
     "output_type": "execute_result"
    }
   ],
   "source": [
    "(train_values.subvillage.value_counts()==1).sum()"
   ]
  },
  {
   "cell_type": "code",
   "execution_count": 61,
   "metadata": {},
   "outputs": [
    {
     "data": {
      "text/plain": [
       "Iringa           5294\n",
       "Shinyanga        4982\n",
       "Mbeya            4639\n",
       "Kilimanjaro      4379\n",
       "Morogoro         4006\n",
       "Arusha           3350\n",
       "Kagera           3316\n",
       "Mwanza           3102\n",
       "Kigoma           2816\n",
       "Ruvuma           2640\n",
       "Pwani            2635\n",
       "Tanga            2547\n",
       "Dodoma           2201\n",
       "Singida          2093\n",
       "Mara             1969\n",
       "Tabora           1959\n",
       "Rukwa            1808\n",
       "Mtwara           1730\n",
       "Manyara          1583\n",
       "Lindi            1546\n",
       "Dar es Salaam     805\n",
       "Name: region, dtype: int64"
      ]
     },
     "execution_count": 61,
     "metadata": {},
     "output_type": "execute_result"
    }
   ],
   "source": [
    "train_values.region.value_counts()"
   ]
  },
  {
   "cell_type": "code",
   "execution_count": 62,
   "metadata": {},
   "outputs": [
    {
     "data": {
      "text/plain": [
       "11    5300\n",
       "17    5011\n",
       "12    4639\n",
       "3     4379\n",
       "5     4040\n",
       "18    3324\n",
       "19    3047\n",
       "2     3024\n",
       "16    2816\n",
       "10    2640\n",
       "4     2513\n",
       "1     2201\n",
       "13    2093\n",
       "14    1979\n",
       "20    1969\n",
       "15    1808\n",
       "6     1609\n",
       "21    1583\n",
       "80    1238\n",
       "60    1025\n",
       "90     917\n",
       "7      805\n",
       "99     423\n",
       "9      390\n",
       "24     326\n",
       "8      300\n",
       "40       1\n",
       "Name: region_code, dtype: int64"
      ]
     },
     "execution_count": 62,
     "metadata": {},
     "output_type": "execute_result"
    }
   ],
   "source": [
    "train_values.region_code.value_counts()"
   ]
  },
  {
   "cell_type": "code",
   "execution_count": 63,
   "metadata": {},
   "outputs": [
    {
     "data": {
      "text/plain": [
       "1     12203\n",
       "2     11173\n",
       "3      9998\n",
       "4      8999\n",
       "5      4356\n",
       "6      4074\n",
       "7      3343\n",
       "8      1043\n",
       "30      995\n",
       "33      874\n",
       "53      745\n",
       "43      505\n",
       "13      391\n",
       "23      293\n",
       "63      195\n",
       "62      109\n",
       "60       63\n",
       "0        23\n",
       "80       12\n",
       "67        6\n",
       "Name: district_code, dtype: int64"
      ]
     },
     "execution_count": 63,
     "metadata": {},
     "output_type": "execute_result"
    }
   ],
   "source": [
    "train_values.district_code.value_counts()"
   ]
  },
  {
   "cell_type": "code",
   "execution_count": 64,
   "metadata": {},
   "outputs": [
    {
     "data": {
      "text/plain": [
       "Njombe          2503\n",
       "Arusha Rural    1252\n",
       "Moshi Rural     1251\n",
       "Bariadi         1177\n",
       "Rungwe          1106\n",
       "                ... \n",
       "Moshi Urban       79\n",
       "Kigoma Urban      71\n",
       "Arusha Urban      63\n",
       "Lindi Urban       21\n",
       "Nyamagana          1\n",
       "Name: lga, Length: 125, dtype: int64"
      ]
     },
     "execution_count": 64,
     "metadata": {},
     "output_type": "execute_result"
    }
   ],
   "source": [
    "train_values.lga.value_counts()"
   ]
  },
  {
   "cell_type": "code",
   "execution_count": 65,
   "metadata": {},
   "outputs": [
    {
     "data": {
      "text/plain": [
       "Igosi        307\n",
       "Imalinyi     252\n",
       "Siha Kati    232\n",
       "Mdandu       231\n",
       "Nduruma      217\n",
       "            ... \n",
       "Thawi          1\n",
       "Mawenzi        1\n",
       "Sungwisi       1\n",
       "Kinungu        1\n",
       "Rasbura        1\n",
       "Name: ward, Length: 2092, dtype: int64"
      ]
     },
     "execution_count": 65,
     "metadata": {},
     "output_type": "execute_result"
    }
   ],
   "source": [
    "train_values.ward.value_counts()"
   ]
  },
  {
   "cell_type": "code",
   "execution_count": 66,
   "metadata": {},
   "outputs": [
    {
     "data": {
      "text/plain": [
       "30"
      ]
     },
     "execution_count": 66,
     "metadata": {},
     "output_type": "execute_result"
    }
   ],
   "source": [
    "(train_values.ward.value_counts()==1).sum()"
   ]
  },
  {
   "cell_type": "markdown",
   "metadata": {},
   "source": [
    "It appears that in level of detail, it goes, region > district > lga > ward > subvillage > lat-long"
   ]
  },
  {
   "cell_type": "markdown",
   "metadata": {},
   "source": [
    "We will drop the region columns since that data seems to be captured in the region codes, but will otherwise keep the others since they seem to be location groupings at different scales which might be useful for having information about different scales of geographic effects."
   ]
  },
  {
   "cell_type": "code",
   "execution_count": 67,
   "metadata": {},
   "outputs": [],
   "source": [
    "rm_duplicate_df = rm_duplicate_df.drop(columns = ['region'])"
   ]
  },
  {
   "cell_type": "markdown",
   "metadata": {},
   "source": [
    "##### Unique Identifier info and Random Data"
   ]
  },
  {
   "cell_type": "markdown",
   "metadata": {},
   "source": [
    "The id number and wpt_name which is the name of the individual waterpump shouldn't be used in predictions, since the whole point is to potentially make prediction about pumps not named in the data, and thus will be dropped. The num_private is a column that there is no info on what it represents and is filled with zero values. The 'recorded_by' column only has one value and thus will be useless. We will drop these as well."
   ]
  },
  {
   "cell_type": "code",
   "execution_count": 68,
   "metadata": {},
   "outputs": [
    {
     "data": {
      "text/plain": [
       "0      58643\n",
       "6         81\n",
       "1         73\n",
       "5         46\n",
       "8         46\n",
       "       ...  \n",
       "180        1\n",
       "213        1\n",
       "23         1\n",
       "55         1\n",
       "94         1\n",
       "Name: num_private, Length: 65, dtype: int64"
      ]
     },
     "execution_count": 68,
     "metadata": {},
     "output_type": "execute_result"
    }
   ],
   "source": [
    "rm_duplicate_df.num_private.value_counts()"
   ]
  },
  {
   "cell_type": "code",
   "execution_count": 69,
   "metadata": {},
   "outputs": [],
   "source": [
    "clean_train_values = rm_duplicate_df.drop(columns = ['id', 'wpt_name', 'num_private', 'recorded_by'])"
   ]
  },
  {
   "cell_type": "code",
   "execution_count": 70,
   "metadata": {},
   "outputs": [
    {
     "name": "stdout",
     "output_type": "stream",
     "text": [
      "<class 'pandas.core.frame.DataFrame'>\n",
      "RangeIndex: 59400 entries, 0 to 59399\n",
      "Data columns (total 30 columns):\n",
      " #   Column                 Non-Null Count  Dtype         \n",
      "---  ------                 --------------  -----         \n",
      " 0   amount_tsh             59400 non-null  float64       \n",
      " 1   date_recorded          59400 non-null  datetime64[ns]\n",
      " 2   funder                 59400 non-null  object        \n",
      " 3   gps_height             59400 non-null  int64         \n",
      " 4   installer              59400 non-null  object        \n",
      " 5   longitude              59400 non-null  float64       \n",
      " 6   latitude               59400 non-null  float64       \n",
      " 7   basin                  59400 non-null  object        \n",
      " 8   subvillage             59400 non-null  object        \n",
      " 9   region_code            59400 non-null  int64         \n",
      " 10  district_code          59400 non-null  int64         \n",
      " 11  lga                    59400 non-null  object        \n",
      " 12  ward                   59400 non-null  object        \n",
      " 13  population             59400 non-null  int64         \n",
      " 14  public_meeting         59400 non-null  bool          \n",
      " 15  scheme_management      59400 non-null  object        \n",
      " 16  permit                 59400 non-null  bool          \n",
      " 17  construction_year      59400 non-null  int64         \n",
      " 18  extraction_type        59400 non-null  object        \n",
      " 19  extraction_type_class  59400 non-null  object        \n",
      " 20  management             59400 non-null  object        \n",
      " 21  management_group       59400 non-null  object        \n",
      " 22  payment                59400 non-null  object        \n",
      " 23  water_quality          59400 non-null  object        \n",
      " 24  quantity               59400 non-null  object        \n",
      " 25  source                 59400 non-null  object        \n",
      " 26  source_class           59400 non-null  object        \n",
      " 27  waterpoint_type        59400 non-null  object        \n",
      " 28  missing_meeting        59400 non-null  bool          \n",
      " 29  missing_permit         59400 non-null  bool          \n",
      "dtypes: bool(4), datetime64[ns](1), float64(3), int64(5), object(17)\n",
      "memory usage: 12.0+ MB\n"
     ]
    }
   ],
   "source": [
    "clean_train_values.info()"
   ]
  },
  {
   "cell_type": "markdown",
   "metadata": {},
   "source": [
    "## Looking at the Numerical Data"
   ]
  },
  {
   "cell_type": "markdown",
   "metadata": {},
   "source": [
    "The numerical data is filled with zeros which are likely hidden missing values."
   ]
  },
  {
   "cell_type": "code",
   "execution_count": 71,
   "metadata": {},
   "outputs": [
    {
     "data": {
      "image/png": "[encoded data removed]",
      "text/plain": [
       "<Figure size 1080x576 with 9 Axes>"
      ]
     },
     "metadata": {},
     "output_type": "display_data"
    }
   ],
   "source": [
    "clean_train_values.select_dtypes(exclude=['object', 'bool']).hist(figsize = (15,8));"
   ]
  },
  {
   "cell_type": "code",
   "execution_count": 72,
   "metadata": {},
   "outputs": [
    {
     "data": {
      "image/png": "[encoded data removed]",
      "text/plain": [
       "<Figure size 720x432 with 1 Axes>"
      ]
     },
     "metadata": {},
     "output_type": "display_data"
    }
   ],
   "source": [
    "clean_train_values['date_recorded'].hist(figsize = (10,6));"
   ]
  },
  {
   "cell_type": "markdown",
   "metadata": {},
   "source": [
    "### Dates and Construction Year"
   ]
  },
  {
   "cell_type": "markdown",
   "metadata": {},
   "source": [
    "There are clearly many missing construction year values."
   ]
  },
  {
   "cell_type": "code",
   "execution_count": 73,
   "metadata": {},
   "outputs": [
    {
     "data": {
      "text/plain": [
       "0       20709\n",
       "2010     2645\n",
       "2008     2613\n",
       "2009     2533\n",
       "2000     2091\n",
       "2007     1587\n",
       "2006     1471\n",
       "2003     1286\n",
       "2011     1256\n",
       "2004     1123\n",
       "Name: construction_year, dtype: int64"
      ]
     },
     "execution_count": 73,
     "metadata": {},
     "output_type": "execute_result"
    }
   ],
   "source": [
    "clean_train_values.construction_year.value_counts().head(10)"
   ]
  },
  {
   "cell_type": "markdown",
   "metadata": {},
   "source": [
    "Here is what the distribution looks like not includeing the 0 values."
   ]
  },
  {
   "cell_type": "code",
   "execution_count": 74,
   "metadata": {},
   "outputs": [
    {
     "data": {
      "image/png": "[encoded data removed]",
      "text/plain": [
       "<Figure size 720x432 with 1 Axes>"
      ]
     },
     "metadata": {},
     "output_type": "display_data"
    }
   ],
   "source": [
    "clean_train_values[clean_train_values != 0]['construction_year'].hist(figsize = (10,6));"
   ]
  },
  {
   "cell_type": "markdown",
   "metadata": {},
   "source": [
    "There is no obvious way to impute these values and the pump's age will likely be a large factor in whether it is functional, so an naive approachcould really hurt the predictions of the model. So let's try something more sophisticated and use the sklearn imperative imputer function to impute the values. It is roughly based on the MICE method for imputing values."
   ]
  },
  {
   "cell_type": "code",
   "execution_count": 75,
   "metadata": {},
   "outputs": [],
   "source": [
    "from sklearn.experimental import enable_iterative_imputer\n",
    "from sklearn.impute import IterativeImputer"
   ]
  },
  {
   "cell_type": "code",
   "execution_count": 76,
   "metadata": {},
   "outputs": [],
   "source": [
    "# Imputer uses a regression on the data to impute the data, so the data must all be numerical\n",
    "# We will ordinal encode every object type column for this purpose.\n",
    "encoded_df = clean_train_values.copy()\n",
    "categorical_cols = clean_train_values.select_dtypes(include = ['object', 'datetime64']).columns\n",
    "encoded_df[categorical_cols] = encoded_df[categorical_cols].apply(LabelEncoder().fit_transform)"
   ]
  },
  {
   "cell_type": "code",
   "execution_count": 77,
   "metadata": {},
   "outputs": [],
   "source": [
    "# Turning zeros to nan for the imputer to recognize them as missing\n",
    "encoded_df['construction_year'] = encoded_df['construction_year'].replace(0, np.nan)"
   ]
  },
  {
   "cell_type": "code",
   "execution_count": 78,
   "metadata": {},
   "outputs": [],
   "source": [
    "imp = IterativeImputer(random_state=42)\n",
    "imp.fit(encoded_df)\n",
    "encoded_df = imp.transform(encoded_df)"
   ]
  },
  {
   "cell_type": "code",
   "execution_count": 79,
   "metadata": {},
   "outputs": [
    {
     "data": {
      "text/plain": [
       "array([1999.        , 2010.        , 2009.        , ..., 2002.14321575,\n",
       "       1996.00851017, 2002.        ])"
      ]
     },
     "execution_count": 79,
     "metadata": {},
     "output_type": "execute_result"
    }
   ],
   "source": [
    "encoded_df[:, clean_train_values.columns.get_loc('construction_year')]"
   ]
  },
  {
   "cell_type": "code",
   "execution_count": 80,
   "metadata": {},
   "outputs": [],
   "source": [
    "clean_train_values.loc[:,'construction_year'] = encoded_df[:, clean_train_values.columns.get_loc('construction_year')]"
   ]
  },
  {
   "cell_type": "code",
   "execution_count": 81,
   "metadata": {},
   "outputs": [
    {
     "data": {
      "text/plain": [
       "2010.0    2645\n",
       "2008.0    2613\n",
       "2009.0    2533\n",
       "2000.0    2091\n",
       "2007.0    1587\n",
       "2006.0    1471\n",
       "2003.0    1286\n",
       "2011.0    1256\n",
       "2004.0    1123\n",
       "2012.0    1084\n",
       "Name: construction_year, dtype: int64"
      ]
     },
     "execution_count": 81,
     "metadata": {},
     "output_type": "execute_result"
    }
   ],
   "source": [
    "clean_train_values.construction_year.value_counts().head(10)"
   ]
  },
  {
   "cell_type": "markdown",
   "metadata": {},
   "source": [
    "As we can see the imputer somehwat changed the distribution shape and added most of the missing values around the median value, though the effect is less extreme than if we simply imputed that they were all exactly the median value."
   ]
  },
  {
   "cell_type": "code",
   "execution_count": 82,
   "metadata": {},
   "outputs": [
    {
     "data": {
      "image/png": "[encoded data removed]",
      "text/plain": [
       "<Figure size 720x432 with 1 Axes>"
      ]
     },
     "metadata": {},
     "output_type": "display_data"
    }
   ],
   "source": [
    "clean_train_values['construction_year'].hist(figsize = (10,6));"
   ]
  },
  {
   "cell_type": "markdown",
   "metadata": {},
   "source": [
    "Although the construction year and the time that the pump was observed may havesome value as is. It is far more likely that the age of the pump at the time it was inspected and the time of year that it was inspected will be much more predictive. So, we will use the data to engineer a pump_age column and season column before dropping the date and construction year. "
   ]
  },
  {
   "cell_type": "markdown",
   "metadata": {},
   "source": [
    "Before we do that though lets look at the recorded years more closely. It is unusual that 2004 and 2002 are in the data, it is possible that they are data entry errors. Maybe they were meant to be 2012 and 2014?"
   ]
  },
  {
   "cell_type": "code",
   "execution_count": 83,
   "metadata": {},
   "outputs": [
    {
     "data": {
      "text/plain": [
       "2011    28674\n",
       "2013    24271\n",
       "2012     6424\n",
       "2004       30\n",
       "2002        1\n",
       "Name: date_recorded, dtype: int64"
      ]
     },
     "execution_count": 83,
     "metadata": {},
     "output_type": "execute_result"
    }
   ],
   "source": [
    "pd.DatetimeIndex(clean_train_values['date_recorded']).year.value_counts()"
   ]
  },
  {
   "cell_type": "markdown",
   "metadata": {},
   "source": [
    "There are a small number of these though so let's proceed."
   ]
  },
  {
   "cell_type": "code",
   "execution_count": 84,
   "metadata": {},
   "outputs": [],
   "source": [
    "import datetime\n",
    "clean_train_values['recorded_year'] = pd.DatetimeIndex(clean_train_values['date_recorded']).year"
   ]
  },
  {
   "cell_type": "code",
   "execution_count": 85,
   "metadata": {},
   "outputs": [],
   "source": [
    "clean_train_values['pump_age'] = clean_train_values['recorded_year'] - clean_train_values['construction_year']"
   ]
  },
  {
   "cell_type": "code",
   "execution_count": 86,
   "metadata": {},
   "outputs": [
    {
     "data": {
      "image/png": "[encoded data removed]",
      "text/plain": [
       "<Figure size 720x432 with 1 Axes>"
      ]
     },
     "metadata": {},
     "output_type": "display_data"
    }
   ],
   "source": [
    "clean_train_values['pump_age'].hist(figsize = (10,6));"
   ]
  },
  {
   "cell_type": "markdown",
   "metadata": {},
   "source": [
    "We can see that some of out imputed values, or the values for the date_recorded have errors, since some pump ages are negative"
   ]
  },
  {
   "cell_type": "code",
   "execution_count": 87,
   "metadata": {},
   "outputs": [
    {
     "data": {
      "text/plain": [
       "-7.0"
      ]
     },
     "execution_count": 87,
     "metadata": {},
     "output_type": "execute_result"
    }
   ],
   "source": [
    "clean_train_values['pump_age'].min()"
   ]
  },
  {
   "cell_type": "markdown",
   "metadata": {},
   "source": [
    "Let's assume that the error is in the recorded dates and see how that changes things."
   ]
  },
  {
   "cell_type": "code",
   "execution_count": 88,
   "metadata": {},
   "outputs": [
    {
     "data": {
      "image/png": "[encoded data removed]",
      "text/plain": [
       "<Figure size 720x432 with 1 Axes>"
      ]
     },
     "metadata": {},
     "output_type": "display_data"
    }
   ],
   "source": [
    "clean_train_values['recorded_year'] = clean_train_values['recorded_year'].replace({2002: 2012, 2004: 2014})\n",
    "clean_train_values['pump_age'] = clean_train_values['recorded_year'] - clean_train_values['construction_year']\n",
    "clean_train_values['pump_age'].hist(figsize = (10,6));"
   ]
  },
  {
   "cell_type": "code",
   "execution_count": 89,
   "metadata": {},
   "outputs": [
    {
     "data": {
      "text/plain": [
       "-1.731546586140439"
      ]
     },
     "execution_count": 89,
     "metadata": {},
     "output_type": "execute_result"
    }
   ],
   "source": [
    "clean_train_values['pump_age'].min()"
   ]
  },
  {
   "cell_type": "code",
   "execution_count": 90,
   "metadata": {},
   "outputs": [
    {
     "data": {
      "text/plain": [
       "2011    28674\n",
       "2013    24271\n",
       "2012     6425\n",
       "2014       30\n",
       "Name: recorded_year, dtype: int64"
      ]
     },
     "execution_count": 90,
     "metadata": {},
     "output_type": "execute_result"
    }
   ],
   "source": [
    "clean_train_values['recorded_year'].value_counts()"
   ]
  },
  {
   "cell_type": "markdown",
   "metadata": {},
   "source": [
    "The issue is reduced, but not eliminated with this change. Let's leave it as is and proceed to making the season feature. Tanzania has four seasons, a short dry season, a long rainy season, a long dry season and a short rainy season, and the functioning of pumps may be better or worse in these different seasons."
   ]
  },
  {
   "cell_type": "code",
   "execution_count": 91,
   "metadata": {},
   "outputs": [],
   "source": [
    "clean_train_values['month'] = pd.DatetimeIndex(clean_train_values['date_recorded']).month\n",
    "\n",
    "season_dict = {1: 'short dry', 2:'short dry', 3: 'long rain', \n",
    "                 4: 'long rain', 5: 'long rain',6: 'long dry', \n",
    "                 7: 'long dry', 8: 'long dry', 9: 'long dry', \n",
    "                 10: 'long dry', 11:'short rain', 12:'short rain'}\n",
    "clean_train_values['season'] = clean_train_values['month'].replace(season_dict)"
   ]
  },
  {
   "cell_type": "code",
   "execution_count": 92,
   "metadata": {},
   "outputs": [],
   "source": [
    "clean_train_values = clean_train_values.drop(columns=['month', 'recorded_year', 'construction_year', 'date_recorded'])"
   ]
  },
  {
   "cell_type": "code",
   "execution_count": 93,
   "metadata": {},
   "outputs": [
    {
     "name": "stdout",
     "output_type": "stream",
     "text": [
      "<class 'pandas.core.frame.DataFrame'>\n",
      "RangeIndex: 59400 entries, 0 to 59399\n",
      "Data columns (total 30 columns):\n",
      " #   Column                 Non-Null Count  Dtype  \n",
      "---  ------                 --------------  -----  \n",
      " 0   amount_tsh             59400 non-null  float64\n",
      " 1   funder                 59400 non-null  object \n",
      " 2   gps_height             59400 non-null  int64  \n",
      " 3   installer              59400 non-null  object \n",
      " 4   longitude              59400 non-null  float64\n",
      " 5   latitude               59400 non-null  float64\n",
      " 6   basin                  59400 non-null  object \n",
      " 7   subvillage             59400 non-null  object \n",
      " 8   region_code            59400 non-null  int64  \n",
      " 9   district_code          59400 non-null  int64  \n",
      " 10  lga                    59400 non-null  object \n",
      " 11  ward                   59400 non-null  object \n",
      " 12  population             59400 non-null  int64  \n",
      " 13  public_meeting         59400 non-null  bool   \n",
      " 14  scheme_management      59400 non-null  object \n",
      " 15  permit                 59400 non-null  bool   \n",
      " 16  extraction_type        59400 non-null  object \n",
      " 17  extraction_type_class  59400 non-null  object \n",
      " 18  management             59400 non-null  object \n",
      " 19  management_group       59400 non-null  object \n",
      " 20  payment                59400 non-null  object \n",
      " 21  water_quality          59400 non-null  object \n",
      " 22  quantity               59400 non-null  object \n",
      " 23  source                 59400 non-null  object \n",
      " 24  source_class           59400 non-null  object \n",
      " 25  waterpoint_type        59400 non-null  object \n",
      " 26  missing_meeting        59400 non-null  bool   \n",
      " 27  missing_permit         59400 non-null  bool   \n",
      " 28  pump_age               59400 non-null  float64\n",
      " 29  season                 59400 non-null  object \n",
      "dtypes: bool(4), float64(4), int64(4), object(18)\n",
      "memory usage: 12.0+ MB\n"
     ]
    }
   ],
   "source": [
    "clean_train_values.info()"
   ]
  },
  {
   "cell_type": "markdown",
   "metadata": {},
   "source": [
    "### Total Static Head"
   ]
  },
  {
   "cell_type": "markdown",
   "metadata": {},
   "source": [
    "Total static head is a measure of how many feet a pump can lift water. It is hard to tell if zero values are missing or if they represent systems that don't lift water. We won't impute any values for this for now, but may impute this value in the future and see if it impact the model performance."
   ]
  },
  {
   "cell_type": "code",
   "execution_count": 94,
   "metadata": {},
   "outputs": [
    {
     "data": {
      "text/plain": [
       "0.0         41639\n",
       "500.0        3102\n",
       "50.0         2472\n",
       "1000.0       1488\n",
       "20.0         1463\n",
       "            ...  \n",
       "8500.0          1\n",
       "6300.0          1\n",
       "220.0           1\n",
       "138000.0        1\n",
       "12.0            1\n",
       "Name: amount_tsh, Length: 98, dtype: int64"
      ]
     },
     "execution_count": 94,
     "metadata": {},
     "output_type": "execute_result"
    }
   ],
   "source": [
    "clean_train_values.amount_tsh.value_counts()"
   ]
  },
  {
   "cell_type": "markdown",
   "metadata": {},
   "source": [
    "### Population"
   ]
  },
  {
   "cell_type": "markdown",
   "metadata": {},
   "source": [
    "There is no clear way to tell whether the zero and 1 values represent that no one or one person is using the pump or if it is missing data, but we will assume that the 1 values aren't errors, and impute the other values by the mean in the location."
   ]
  },
  {
   "cell_type": "code",
   "execution_count": 95,
   "metadata": {},
   "outputs": [
    {
     "data": {
      "text/plain": [
       "0       21381\n",
       "1        7025\n",
       "200      1940\n",
       "150      1892\n",
       "250      1681\n",
       "        ...  \n",
       "3241        1\n",
       "1960        1\n",
       "1685        1\n",
       "2248        1\n",
       "1439        1\n",
       "Name: population, Length: 1049, dtype: int64"
      ]
     },
     "execution_count": 95,
     "metadata": {},
     "output_type": "execute_result"
    }
   ],
   "source": [
    "clean_train_values.population.value_counts()"
   ]
  },
  {
   "cell_type": "markdown",
   "metadata": {},
   "source": [
    "To impute the values we will find the mean of the population in the smallest region and impute the value and continue doing that for larger regions until all the nan values in regions with data have been replaced."
   ]
  },
  {
   "cell_type": "code",
   "execution_count": 96,
   "metadata": {},
   "outputs": [],
   "source": [
    "areas_lg_to_sm = ['region_code', 'district_code', 'ward', 'subvillage']"
   ]
  },
  {
   "cell_type": "code",
   "execution_count": 102,
   "metadata": {},
   "outputs": [],
   "source": [
    "def impute_by_area(df, areas_lg_to_sm, col_name):\n",
    "    areas = areas_lg_to_sm.copy()\n",
    "    i = 0\n",
    "    for area in areas_lg_to_sm:\n",
    "        means_pop = df.groupby(areas)[col_name].mean().reset_index()\n",
    "        means_pop = means_pop.rename(columns={col_name: col_name+'_'+areas[-1]})\n",
    "        df = df.merge(means_pop, how = 'left', on = areas)\n",
    "        if i == 0:\n",
    "            df['imputed_'+col_name] = np.where(df[col_name].isna(),\n",
    "                                                df[col_name+'_'+areas[-1]],\n",
    "                                                df[col_name])\n",
    "        else:\n",
    "            df['imputed_'+col_name] = np.where(df['imputed_'+col_name].isna(),\n",
    "                                                df[col_name+'_'+areas[-1]],\n",
    "                                                df['imputed_'+col_name])\n",
    "        areas = areas[:-1]\n",
    "    #Imputes the total mean for any remaining uncaptured values\n",
    "    df['imputed_'+col_name].fillna(df['imputed_'+col_name].mean())\n",
    "    return df"
   ]
  },
  {
   "cell_type": "code",
   "execution_count": 98,
   "metadata": {},
   "outputs": [
    {
     "data": {
      "text/plain": [
       "Index(['amount_tsh', 'funder', 'gps_height', 'installer', 'longitude',\n",
       "       'latitude', 'basin', 'subvillage', 'region_code', 'district_code',\n",
       "       'lga', 'ward', 'population', 'public_meeting', 'scheme_management',\n",
       "       'permit', 'extraction_type', 'extraction_type_class', 'management',\n",
       "       'management_group', 'payment', 'water_quality', 'quantity', 'source',\n",
       "       'source_class', 'waterpoint_type', 'missing_meeting', 'missing_permit',\n",
       "       'pump_age', 'season', 'population_subvillage', 'imputed_population',\n",
       "       'population_ward', 'population_district_code',\n",
       "       'population_region_code'],\n",
       "      dtype='object')"
      ]
     },
     "execution_count": 98,
     "metadata": {},
     "output_type": "execute_result"
    }
   ],
   "source": [
    "clean_train_values['population'] = clean_train_values['population'].replace(0, np.nan)\n",
    "clean_train_values = impute_by_area(clean_train_values, areas_lg_to_sm, 'population')\n",
    "clean_train_values.columns"
   ]
  },
  {
   "cell_type": "code",
   "execution_count": 106,
   "metadata": {},
   "outputs": [
    {
     "data": {
      "text/plain": [
       "300.459812     8819\n",
       "1.000000       7025\n",
       "428.359756     4847\n",
       "200.875000     3316\n",
       "552.070845     2680\n",
       "               ... \n",
       "2210.000000       1\n",
       "104.000000        1\n",
       "561.000000        1\n",
       "711.000000        1\n",
       "2248.000000       1\n",
       "Name: imputed_population, Length: 1059, dtype: int64"
      ]
     },
     "execution_count": 106,
     "metadata": {},
     "output_type": "execute_result"
    }
   ],
   "source": [
    "clean_train_values.imputed_population.value_counts()1"
   ]
  },
  {
   "cell_type": "markdown",
   "metadata": {},
   "source": [
    "This is a slightly more reasonable distribution."
   ]
  },
  {
   "cell_type": "code",
   "execution_count": 124,
   "metadata": {},
   "outputs": [
    {
     "data": {
      "image/png": "[encoded data removed]",
      "text/plain": [
       "<Figure size 720x432 with 1 Axes>"
      ]
     },
     "metadata": {},
     "output_type": "display_data"
    }
   ],
   "source": [
    "clean_train_values[clean_train_values['imputed_population'] < 1000]['imputed_population'].hist(figsize = (10,6));"
   ]
  },
  {
   "cell_type": "code",
   "execution_count": 107,
   "metadata": {},
   "outputs": [],
   "source": [
    "clean_train_values = clean_train_values.drop(columns = ['population_subvillage',\n",
    "                                                        'population',\n",
    "                                                        'population_ward',\n",
    "                                                        'population_district_code',\n",
    "                                                        'population_region_code'])"
   ]
  },
  {
   "cell_type": "markdown",
   "metadata": {},
   "source": [
    "### GPS Data"
   ]
  },
  {
   "cell_type": "markdown",
   "metadata": {},
   "source": [
    "Both lat and long are missing values 1812 values. We can tell because a longitude of 0 would be outside the country."
   ]
  },
  {
   "cell_type": "code",
   "execution_count": 108,
   "metadata": {},
   "outputs": [
    {
     "data": {
      "text/plain": [
       "0.000000     1812\n",
       "37.540901       2\n",
       "33.010510       2\n",
       "39.093484       2\n",
       "32.972719       2\n",
       "             ... \n",
       "37.579803       1\n",
       "33.196490       1\n",
       "34.017119       1\n",
       "33.788326       1\n",
       "30.163579       1\n",
       "Name: longitude, Length: 57516, dtype: int64"
      ]
     },
     "execution_count": 108,
     "metadata": {},
     "output_type": "execute_result"
    }
   ],
   "source": [
    "clean_train_values.longitude.value_counts()"
   ]
  },
  {
   "cell_type": "code",
   "execution_count": 109,
   "metadata": {},
   "outputs": [
    {
     "data": {
      "text/plain": [
       "-2.000000e-08    1812\n",
       "-6.985842e+00       2\n",
       "-3.797579e+00       2\n",
       "-6.981884e+00       2\n",
       "-7.104625e+00       2\n",
       "                 ... \n",
       "-5.726001e+00       1\n",
       "-9.646831e+00       1\n",
       "-8.124530e+00       1\n",
       "-2.535985e+00       1\n",
       "-2.598965e+00       1\n",
       "Name: latitude, Length: 57517, dtype: int64"
      ]
     },
     "execution_count": 109,
     "metadata": {},
     "output_type": "execute_result"
    }
   ],
   "source": [
    "clean_train_values.latitude.value_counts()"
   ]
  },
  {
   "cell_type": "markdown",
   "metadata": {},
   "source": [
    "There are many zeros in the height data, but it is impossible to entirely tell which are just sea level and which might be missing. But, it seems that the rows with missing lat-long are also have zeroes in their heights and thus are likely missing height info."
   ]
  },
  {
   "cell_type": "code",
   "execution_count": 110,
   "metadata": {},
   "outputs": [
    {
     "data": {
      "text/plain": [
       " 0       20438\n",
       "-15         60\n",
       "-16         55\n",
       "-13         55\n",
       "-20         52\n",
       "         ...  \n",
       " 2285        1\n",
       " 2424        1\n",
       " 2552        1\n",
       " 2413        1\n",
       " 2385        1\n",
       "Name: gps_height, Length: 2428, dtype: int64"
      ]
     },
     "execution_count": 110,
     "metadata": {},
     "output_type": "execute_result"
    }
   ],
   "source": [
    "clean_train_values.gps_height.value_counts()"
   ]
  },
  {
   "cell_type": "code",
   "execution_count": 111,
   "metadata": {},
   "outputs": [
    {
     "data": {
      "text/plain": [
       "0    1812\n",
       "Name: gps_height, dtype: int64"
      ]
     },
     "execution_count": 111,
     "metadata": {},
     "output_type": "execute_result"
    }
   ],
   "source": [
    "clean_train_values['gps_height'][clean_train_values.longitude==0].value_counts()"
   ]
  },
  {
   "cell_type": "markdown",
   "metadata": {},
   "source": [
    "Let's look more closely at some of the rows with 0 lat long data."
   ]
  },
  {
   "cell_type": "code",
   "execution_count": 112,
   "metadata": {},
   "outputs": [
    {
     "data": {
      "text/html": [
       "<div>\n",
       "<style scoped>\n",
       "    .dataframe tbody tr th:only-of-type {\n",
       "        vertical-align: middle;\n",
       "    }\n",
       "\n",
       "    .dataframe tbody tr th {\n",
       "        vertical-align: top;\n",
       "    }\n",
       "\n",
       "    .dataframe thead th {\n",
       "        text-align: right;\n",
       "    }\n",
       "</style>\n",
       "<table border=\"1\" class=\"dataframe\">\n",
       "  <thead>\n",
       "    <tr style=\"text-align: right;\">\n",
       "      <th></th>\n",
       "      <th>amount_tsh</th>\n",
       "      <th>funder</th>\n",
       "      <th>gps_height</th>\n",
       "      <th>installer</th>\n",
       "      <th>longitude</th>\n",
       "      <th>latitude</th>\n",
       "      <th>basin</th>\n",
       "      <th>subvillage</th>\n",
       "      <th>region_code</th>\n",
       "      <th>district_code</th>\n",
       "      <th>...</th>\n",
       "      <th>water_quality</th>\n",
       "      <th>quantity</th>\n",
       "      <th>source</th>\n",
       "      <th>source_class</th>\n",
       "      <th>waterpoint_type</th>\n",
       "      <th>missing_meeting</th>\n",
       "      <th>missing_permit</th>\n",
       "      <th>pump_age</th>\n",
       "      <th>season</th>\n",
       "      <th>imputed_population</th>\n",
       "    </tr>\n",
       "  </thead>\n",
       "  <tbody>\n",
       "    <tr>\n",
       "      <th>21</th>\n",
       "      <td>0.0</td>\n",
       "      <td>dwsp</td>\n",
       "      <td>0</td>\n",
       "      <td>dwe</td>\n",
       "      <td>0.0</td>\n",
       "      <td>-2.000000e-08</td>\n",
       "      <td>Lake Victoria</td>\n",
       "      <td>ibabachegu</td>\n",
       "      <td>17</td>\n",
       "      <td>1</td>\n",
       "      <td>...</td>\n",
       "      <td>unknown</td>\n",
       "      <td>unknown</td>\n",
       "      <td>shallow well</td>\n",
       "      <td>groundwater</td>\n",
       "      <td>hand pump</td>\n",
       "      <td>True</td>\n",
       "      <td>False</td>\n",
       "      <td>23.484399</td>\n",
       "      <td>short dry</td>\n",
       "      <td>428.359756</td>\n",
       "    </tr>\n",
       "    <tr>\n",
       "      <th>53</th>\n",
       "      <td>0.0</td>\n",
       "      <td>government</td>\n",
       "      <td>0</td>\n",
       "      <td>government</td>\n",
       "      <td>0.0</td>\n",
       "      <td>-2.000000e-08</td>\n",
       "      <td>Lake Victoria</td>\n",
       "      <td>center</td>\n",
       "      <td>19</td>\n",
       "      <td>6</td>\n",
       "      <td>...</td>\n",
       "      <td>unknown</td>\n",
       "      <td>dry</td>\n",
       "      <td>machine dbh</td>\n",
       "      <td>groundwater</td>\n",
       "      <td>communal standpipe multiple</td>\n",
       "      <td>False</td>\n",
       "      <td>False</td>\n",
       "      <td>28.463563</td>\n",
       "      <td>long dry</td>\n",
       "      <td>552.070845</td>\n",
       "    </tr>\n",
       "    <tr>\n",
       "      <th>168</th>\n",
       "      <td>0.0</td>\n",
       "      <td>wvt</td>\n",
       "      <td>0</td>\n",
       "      <td>wvt</td>\n",
       "      <td>0.0</td>\n",
       "      <td>-2.000000e-08</td>\n",
       "      <td>Lake Victoria</td>\n",
       "      <td>ilula</td>\n",
       "      <td>17</td>\n",
       "      <td>1</td>\n",
       "      <td>...</td>\n",
       "      <td>soft</td>\n",
       "      <td>seasonal</td>\n",
       "      <td>rainwater harvesting</td>\n",
       "      <td>surface</td>\n",
       "      <td>communal standpipe</td>\n",
       "      <td>False</td>\n",
       "      <td>False</td>\n",
       "      <td>25.780906</td>\n",
       "      <td>short dry</td>\n",
       "      <td>428.359756</td>\n",
       "    </tr>\n",
       "    <tr>\n",
       "      <th>177</th>\n",
       "      <td>0.0</td>\n",
       "      <td>netherlands</td>\n",
       "      <td>0</td>\n",
       "      <td>dwe</td>\n",
       "      <td>0.0</td>\n",
       "      <td>-2.000000e-08</td>\n",
       "      <td>Lake Victoria</td>\n",
       "      <td>mahaha</td>\n",
       "      <td>17</td>\n",
       "      <td>1</td>\n",
       "      <td>...</td>\n",
       "      <td>soft</td>\n",
       "      <td>enough</td>\n",
       "      <td>shallow well</td>\n",
       "      <td>groundwater</td>\n",
       "      <td>other</td>\n",
       "      <td>True</td>\n",
       "      <td>False</td>\n",
       "      <td>24.234901</td>\n",
       "      <td>short dry</td>\n",
       "      <td>428.359756</td>\n",
       "    </tr>\n",
       "    <tr>\n",
       "      <th>253</th>\n",
       "      <td>0.0</td>\n",
       "      <td>hesawa</td>\n",
       "      <td>0</td>\n",
       "      <td>dwe</td>\n",
       "      <td>0.0</td>\n",
       "      <td>-2.000000e-08</td>\n",
       "      <td>Lake Victoria</td>\n",
       "      <td>nyamatala</td>\n",
       "      <td>19</td>\n",
       "      <td>2</td>\n",
       "      <td>...</td>\n",
       "      <td>soft</td>\n",
       "      <td>insufficient</td>\n",
       "      <td>shallow well</td>\n",
       "      <td>groundwater</td>\n",
       "      <td>hand pump</td>\n",
       "      <td>False</td>\n",
       "      <td>False</td>\n",
       "      <td>32.270641</td>\n",
       "      <td>long dry</td>\n",
       "      <td>552.070845</td>\n",
       "    </tr>\n",
       "  </tbody>\n",
       "</table>\n",
       "<p>5 rows × 30 columns</p>\n",
       "</div>"
      ],
      "text/plain": [
       "     amount_tsh       funder  gps_height   installer  longitude      latitude  \\\n",
       "21          0.0         dwsp           0         dwe        0.0 -2.000000e-08   \n",
       "53          0.0   government           0  government        0.0 -2.000000e-08   \n",
       "168         0.0          wvt           0         wvt        0.0 -2.000000e-08   \n",
       "177         0.0  netherlands           0         dwe        0.0 -2.000000e-08   \n",
       "253         0.0       hesawa           0         dwe        0.0 -2.000000e-08   \n",
       "\n",
       "             basin  subvillage  region_code  district_code  ... water_quality  \\\n",
       "21   Lake Victoria  ibabachegu           17              1  ...       unknown   \n",
       "53   Lake Victoria      center           19              6  ...       unknown   \n",
       "168  Lake Victoria       ilula           17              1  ...          soft   \n",
       "177  Lake Victoria      mahaha           17              1  ...          soft   \n",
       "253  Lake Victoria   nyamatala           19              2  ...          soft   \n",
       "\n",
       "         quantity                source source_class  \\\n",
       "21        unknown          shallow well  groundwater   \n",
       "53            dry           machine dbh  groundwater   \n",
       "168      seasonal  rainwater harvesting      surface   \n",
       "177        enough          shallow well  groundwater   \n",
       "253  insufficient          shallow well  groundwater   \n",
       "\n",
       "                 waterpoint_type missing_meeting missing_permit   pump_age  \\\n",
       "21                     hand pump            True          False  23.484399   \n",
       "53   communal standpipe multiple           False          False  28.463563   \n",
       "168           communal standpipe           False          False  25.780906   \n",
       "177                        other            True          False  24.234901   \n",
       "253                    hand pump           False          False  32.270641   \n",
       "\n",
       "        season imputed_population  \n",
       "21   short dry         428.359756  \n",
       "53    long dry         552.070845  \n",
       "168  short dry         428.359756  \n",
       "177  short dry         428.359756  \n",
       "253   long dry         552.070845  \n",
       "\n",
       "[5 rows x 30 columns]"
      ]
     },
     "execution_count": 112,
     "metadata": {},
     "output_type": "execute_result"
    }
   ],
   "source": [
    "clean_train_values[clean_train_values.longitude==0].head()"
   ]
  },
  {
   "cell_type": "markdown",
   "metadata": {},
   "source": [
    "Let's approach this problem the same way we did the population one by imputing the mean based on the smallest region that there is other data available."
   ]
  },
  {
   "cell_type": "code",
   "execution_count": 113,
   "metadata": {},
   "outputs": [
    {
     "data": {
      "text/plain": [
       "Index(['amount_tsh', 'funder', 'gps_height', 'installer', 'longitude',\n",
       "       'latitude', 'basin', 'subvillage', 'region_code', 'district_code',\n",
       "       'lga', 'ward', 'public_meeting', 'scheme_management', 'permit',\n",
       "       'extraction_type', 'extraction_type_class', 'management',\n",
       "       'management_group', 'payment', 'water_quality', 'quantity', 'source',\n",
       "       'source_class', 'waterpoint_type', 'missing_meeting', 'missing_permit',\n",
       "       'pump_age', 'season', 'imputed_population', 'longitude_subvillage',\n",
       "       'imputed_longitude', 'longitude_ward', 'longitude_district_code',\n",
       "       'longitude_region_code'],\n",
       "      dtype='object')"
      ]
     },
     "execution_count": 113,
     "metadata": {},
     "output_type": "execute_result"
    }
   ],
   "source": [
    "#Imputing longitude values\n",
    "clean_train_values['longitude'] = clean_train_values['longitude'].replace(0, np.nan)\n",
    "clean_train_values = impute_by_area(clean_train_values, areas_lg_to_sm, 'longitude')\n",
    "clean_train_values.columns"
   ]
  },
  {
   "cell_type": "code",
   "execution_count": 114,
   "metadata": {},
   "outputs": [
    {
     "data": {
      "text/plain": [
       "33.244879    1057\n",
       "33.091564     752\n",
       "34.895027       3\n",
       "37.542785       2\n",
       "31.619530       2\n",
       "             ... \n",
       "33.788326       1\n",
       "37.371204       1\n",
       "35.455622       1\n",
       "34.628176       1\n",
       "35.005922       1\n",
       "Name: imputed_longitude, Length: 57518, dtype: int64"
      ]
     },
     "execution_count": 114,
     "metadata": {},
     "output_type": "execute_result"
    }
   ],
   "source": [
    "clean_train_values.imputed_longitude.value_counts()"
   ]
  },
  {
   "cell_type": "code",
   "execution_count": 115,
   "metadata": {},
   "outputs": [
    {
     "data": {
      "text/plain": [
       "1812"
      ]
     },
     "execution_count": 115,
     "metadata": {},
     "output_type": "execute_result"
    }
   ],
   "source": [
    "sum(clean_train_values['latitude'] ==-2.000000e-08) "
   ]
  },
  {
   "cell_type": "code",
   "execution_count": 116,
   "metadata": {},
   "outputs": [
    {
     "data": {
      "text/plain": [
       "Index(['amount_tsh', 'funder', 'gps_height', 'installer', 'longitude',\n",
       "       'latitude', 'basin', 'subvillage', 'region_code', 'district_code',\n",
       "       'lga', 'ward', 'public_meeting', 'scheme_management', 'permit',\n",
       "       'extraction_type', 'extraction_type_class', 'management',\n",
       "       'management_group', 'payment', 'water_quality', 'quantity', 'source',\n",
       "       'source_class', 'waterpoint_type', 'missing_meeting', 'missing_permit',\n",
       "       'pump_age', 'season', 'imputed_population', 'longitude_subvillage',\n",
       "       'imputed_longitude', 'longitude_ward', 'longitude_district_code',\n",
       "       'longitude_region_code', 'latitude_subvillage', 'imputed_latitude',\n",
       "       'latitude_ward', 'latitude_district_code', 'latitude_region_code'],\n",
       "      dtype='object')"
      ]
     },
     "execution_count": 116,
     "metadata": {},
     "output_type": "execute_result"
    }
   ],
   "source": [
    "#Imputing latitude values\n",
    "clean_train_values['latitude'] = clean_train_values['latitude'].replace(-2.000000e-08, np.nan)\n",
    "clean_train_values = impute_by_area(clean_train_values, areas_lg_to_sm, 'latitude')\n",
    "clean_train_values.columns"
   ]
  },
  {
   "cell_type": "code",
   "execution_count": 117,
   "metadata": {},
   "outputs": [
    {
     "data": {
      "text/plain": [
       "-3.491473    1057\n",
       "-2.620502     752\n",
       "-8.904674       3\n",
       "-6.965834       2\n",
       "-6.964258       2\n",
       "             ... \n",
       "-9.646831       1\n",
       "-8.124530       1\n",
       "-2.535985       1\n",
       "-4.828176       1\n",
       "-2.598965       1\n",
       "Name: imputed_latitude, Length: 57519, dtype: int64"
      ]
     },
     "execution_count": 117,
     "metadata": {},
     "output_type": "execute_result"
    }
   ],
   "source": [
    "clean_train_values.imputed_latitude.value_counts()"
   ]
  },
  {
   "cell_type": "code",
   "execution_count": 118,
   "metadata": {},
   "outputs": [
    {
     "data": {
      "text/plain": [
       "1812"
      ]
     },
     "execution_count": 118,
     "metadata": {},
     "output_type": "execute_result"
    }
   ],
   "source": [
    "# Setting the rows with missing lat longs to nan values so they can be imputed\n",
    "# we don't want to see all 0s to Nan since some may be coastline and thus already accurate\n",
    "idx_missing_heights = train_values[train_values['longitude']==0].index \n",
    "height_col_num = clean_train_values.columns.get_loc('gps_height')\n",
    "clean_train_values.iloc[idx_missing_heights, height_col_num] = np.nan\n",
    "clean_train_values['gps_height'].isna().sum()"
   ]
  },
  {
   "cell_type": "code",
   "execution_count": 119,
   "metadata": {},
   "outputs": [
    {
     "data": {
      "text/plain": [
       "Index(['amount_tsh', 'funder', 'gps_height', 'installer', 'longitude',\n",
       "       'latitude', 'basin', 'subvillage', 'region_code', 'district_code',\n",
       "       'lga', 'ward', 'public_meeting', 'scheme_management', 'permit',\n",
       "       'extraction_type', 'extraction_type_class', 'management',\n",
       "       'management_group', 'payment', 'water_quality', 'quantity', 'source',\n",
       "       'source_class', 'waterpoint_type', 'missing_meeting', 'missing_permit',\n",
       "       'pump_age', 'season', 'imputed_population', 'longitude_subvillage',\n",
       "       'imputed_longitude', 'longitude_ward', 'longitude_district_code',\n",
       "       'longitude_region_code', 'latitude_subvillage', 'imputed_latitude',\n",
       "       'latitude_ward', 'latitude_district_code', 'latitude_region_code',\n",
       "       'gps_height_subvillage', 'imputed_gps_height', 'gps_height_ward',\n",
       "       'gps_height_district_code', 'gps_height_region_code'],\n",
       "      dtype='object')"
      ]
     },
     "execution_count": 119,
     "metadata": {},
     "output_type": "execute_result"
    }
   ],
   "source": [
    "clean_train_values = impute_by_area(clean_train_values, areas_lg_to_sm, 'gps_height')\n",
    "clean_train_values.columns"
   ]
  },
  {
   "cell_type": "code",
   "execution_count": 120,
   "metadata": {},
   "outputs": [
    {
     "data": {
      "text/plain": [
       " 0.000000       18626\n",
       " 56.034648       1057\n",
       " 191.838344       752\n",
       "-15.000000         60\n",
       "-16.000000         55\n",
       "                ...  \n",
       " 2072.000000        1\n",
       " 2353.000000        1\n",
       " 622.000000         1\n",
       " 2566.000000        1\n",
       "-90.000000          1\n",
       "Name: imputed_gps_height, Length: 2431, dtype: int64"
      ]
     },
     "execution_count": 120,
     "metadata": {},
     "output_type": "execute_result"
    }
   ],
   "source": [
    "clean_train_values.imputed_gps_height.value_counts()"
   ]
  },
  {
   "cell_type": "code",
   "execution_count": 121,
   "metadata": {},
   "outputs": [],
   "source": [
    "clean_train_values = clean_train_values.drop(columns = ['longitude_subvillage',\n",
    "                                                        'longitude',\n",
    "                                                        'longitude_ward',\n",
    "                                                        'longitude_district_code',\n",
    "                                                        'longitude_region_code',\n",
    "                                                        'latitude_subvillage',\n",
    "                                                        'latitude',\n",
    "                                                        'latitude_ward', \n",
    "                                                        'latitude_district_code', \n",
    "                                                        'latitude_region_code',\n",
    "                                                        'gps_height_subvillage', \n",
    "                                                        'gps_height', \n",
    "                                                        'gps_height_ward',\n",
    "                                                        'gps_height_district_code', \n",
    "                                                        'gps_height_region_code'])"
   ]
  },
  {
   "cell_type": "markdown",
   "metadata": {},
   "source": [
    "Let's visualize the numeric data again before we proceed."
   ]
  },
  {
   "cell_type": "code",
   "execution_count": 122,
   "metadata": {},
   "outputs": [
    {
     "data": {
      "image/png": "[encoded data removed]",
      "text/plain": [
       "<Figure size 1080x576 with 9 Axes>"
      ]
     },
     "metadata": {},
     "output_type": "display_data"
    }
   ],
   "source": [
    "clean_train_values.select_dtypes(exclude=['object', 'bool']).hist(figsize = (15,8));"
   ]
  },
  {
   "cell_type": "markdown",
   "metadata": {},
   "source": [
    "There is obviously still a lot of missing data, but let's proceed after pickling the cleaned data."
   ]
  },
  {
   "cell_type": "code",
   "execution_count": 125,
   "metadata": {},
   "outputs": [],
   "source": [
    "with open('data/clean_training_values.pickle', 'wb') as f:\n",
    "    pickle.dump(clean_train_values, f)"
   ]
  },
  {
   "cell_type": "markdown",
   "metadata": {},
   "source": [
    "## Label Data"
   ]
  },
  {
   "cell_type": "markdown",
   "metadata": {},
   "source": [
    "There are no missing labels in the label data."
   ]
  },
  {
   "cell_type": "code",
   "execution_count": 126,
   "metadata": {},
   "outputs": [
    {
     "data": {
      "text/html": [
       "<div>\n",
       "<style scoped>\n",
       "    .dataframe tbody tr th:only-of-type {\n",
       "        vertical-align: middle;\n",
       "    }\n",
       "\n",
       "    .dataframe tbody tr th {\n",
       "        vertical-align: top;\n",
       "    }\n",
       "\n",
       "    .dataframe thead th {\n",
       "        text-align: right;\n",
       "    }\n",
       "</style>\n",
       "<table border=\"1\" class=\"dataframe\">\n",
       "  <thead>\n",
       "    <tr style=\"text-align: right;\">\n",
       "      <th></th>\n",
       "      <th>id</th>\n",
       "      <th>status_group</th>\n",
       "    </tr>\n",
       "  </thead>\n",
       "  <tbody>\n",
       "    <tr>\n",
       "      <th>0</th>\n",
       "      <td>69572</td>\n",
       "      <td>functional</td>\n",
       "    </tr>\n",
       "    <tr>\n",
       "      <th>1</th>\n",
       "      <td>8776</td>\n",
       "      <td>functional</td>\n",
       "    </tr>\n",
       "    <tr>\n",
       "      <th>2</th>\n",
       "      <td>34310</td>\n",
       "      <td>functional</td>\n",
       "    </tr>\n",
       "    <tr>\n",
       "      <th>3</th>\n",
       "      <td>67743</td>\n",
       "      <td>non functional</td>\n",
       "    </tr>\n",
       "    <tr>\n",
       "      <th>4</th>\n",
       "      <td>19728</td>\n",
       "      <td>functional</td>\n",
       "    </tr>\n",
       "  </tbody>\n",
       "</table>\n",
       "</div>"
      ],
      "text/plain": [
       "      id    status_group\n",
       "0  69572      functional\n",
       "1   8776      functional\n",
       "2  34310      functional\n",
       "3  67743  non functional\n",
       "4  19728      functional"
      ]
     },
     "execution_count": 126,
     "metadata": {},
     "output_type": "execute_result"
    }
   ],
   "source": [
    "train_labels = pd.read_csv('data/training_set_labels.csv')\n",
    "train_labels.head()"
   ]
  },
  {
   "cell_type": "code",
   "execution_count": 127,
   "metadata": {},
   "outputs": [
    {
     "name": "stdout",
     "output_type": "stream",
     "text": [
      "<class 'pandas.core.frame.DataFrame'>\n",
      "RangeIndex: 59400 entries, 0 to 59399\n",
      "Data columns (total 2 columns):\n",
      " #   Column        Non-Null Count  Dtype \n",
      "---  ------        --------------  ----- \n",
      " 0   id            59400 non-null  int64 \n",
      " 1   status_group  59400 non-null  object\n",
      "dtypes: int64(1), object(1)\n",
      "memory usage: 928.2+ KB\n"
     ]
    }
   ],
   "source": [
    "train_labels.info()"
   ]
  },
  {
   "cell_type": "markdown",
   "metadata": {},
   "source": [
    "There are three possible labels for the data. There is some unbalance in the label data with significantly fewer \"functional needs repair\" values."
   ]
  },
  {
   "cell_type": "code",
   "execution_count": 128,
   "metadata": {},
   "outputs": [
    {
     "data": {
      "text/plain": [
       "functional                 32259\n",
       "non functional             22824\n",
       "functional needs repair     4317\n",
       "Name: status_group, dtype: int64"
      ]
     },
     "execution_count": 128,
     "metadata": {},
     "output_type": "execute_result"
    }
   ],
   "source": [
    "train_labels.status_group.value_counts()"
   ]
  },
  {
   "cell_type": "markdown",
   "metadata": {},
   "source": [
    "## Building a Base Model"
   ]
  },
  {
   "cell_type": "markdown",
   "metadata": {},
   "source": [
    "To begin, let's see how well a logistic model run with the categorical data label encoded performs and use that as our baseline."
   ]
  },
  {
   "cell_type": "code",
   "execution_count": 130,
   "metadata": {},
   "outputs": [],
   "source": [
    "with open('data/clean_training_values.pickle', 'rb') as file:\n",
    "    X = pickle.load(file)"
   ]
  },
  {
   "cell_type": "code",
   "execution_count": 131,
   "metadata": {},
   "outputs": [
    {
     "name": "stdout",
     "output_type": "stream",
     "text": [
      "<class 'pandas.core.frame.DataFrame'>\n",
      "Int64Index: 59400 entries, 0 to 59399\n",
      "Data columns (total 30 columns):\n",
      " #   Column                 Non-Null Count  Dtype  \n",
      "---  ------                 --------------  -----  \n",
      " 0   amount_tsh             59400 non-null  float64\n",
      " 1   funder                 59400 non-null  object \n",
      " 2   installer              59400 non-null  object \n",
      " 3   basin                  59400 non-null  object \n",
      " 4   subvillage             59400 non-null  object \n",
      " 5   region_code            59400 non-null  int64  \n",
      " 6   district_code          59400 non-null  int64  \n",
      " 7   lga                    59400 non-null  object \n",
      " 8   ward                   59400 non-null  object \n",
      " 9   public_meeting         59400 non-null  bool   \n",
      " 10  scheme_management      59400 non-null  object \n",
      " 11  permit                 59400 non-null  bool   \n",
      " 12  extraction_type        59400 non-null  object \n",
      " 13  extraction_type_class  59400 non-null  object \n",
      " 14  management             59400 non-null  object \n",
      " 15  management_group       59400 non-null  object \n",
      " 16  payment                59400 non-null  object \n",
      " 17  water_quality          59400 non-null  object \n",
      " 18  quantity               59400 non-null  object \n",
      " 19  source                 59400 non-null  object \n",
      " 20  source_class           59400 non-null  object \n",
      " 21  waterpoint_type        59400 non-null  object \n",
      " 22  missing_meeting        59400 non-null  bool   \n",
      " 23  missing_permit         59400 non-null  bool   \n",
      " 24  pump_age               59400 non-null  float64\n",
      " 25  season                 59400 non-null  object \n",
      " 26  imputed_population     59400 non-null  float64\n",
      " 27  imputed_longitude      59400 non-null  float64\n",
      " 28  imputed_latitude       59400 non-null  float64\n",
      " 29  imputed_gps_height     59400 non-null  float64\n",
      "dtypes: bool(4), float64(6), int64(2), object(18)\n",
      "memory usage: 12.5+ MB\n"
     ]
    }
   ],
   "source": [
    "X.info()"
   ]
  },
  {
   "cell_type": "markdown",
   "metadata": {},
   "source": [
    "We will stratify the data when performing the split so we get an equal proportion of each class in the trains and testing data, so there is enough of the rarer needs repair data in both sets of data."
   ]
  },
  {
   "cell_type": "code",
   "execution_count": 132,
   "metadata": {},
   "outputs": [],
   "source": [
    "y_label = LabelEncoder()\n",
    "y = y_label.fit_transform(train_labels['status_group'])\n",
    "X_train, X_test, y_train, y_test = train_test_split(X, y, random_state=42, stratify=y)"
   ]
  },
  {
   "cell_type": "code",
   "execution_count": 133,
   "metadata": {},
   "outputs": [
    {
     "data": {
      "text/plain": [
       "array(['functional', 'functional needs repair', 'non functional'],\n",
       "      dtype=object)"
      ]
     },
     "execution_count": 133,
     "metadata": {},
     "output_type": "execute_result"
    }
   ],
   "source": [
    "y_label.classes_"
   ]
  },
  {
   "cell_type": "code",
   "execution_count": 134,
   "metadata": {},
   "outputs": [],
   "source": [
    "num_fun = sum(train_labels['status_group'] == 'functional')\n",
    "num_repair = sum(train_labels['status_group'] == 'functional needs repair')\n",
    "num_nonfun = sum(train_labels['status_group'] == 'non functional')"
   ]
  },
  {
   "cell_type": "markdown",
   "metadata": {},
   "source": [
    "To deal with the class imbalence in the baseline model we will weight the data proportional to how frequent it is in the original training data."
   ]
  },
  {
   "cell_type": "code",
   "execution_count": 135,
   "metadata": {},
   "outputs": [],
   "source": [
    "weights = {0: 1, 1: num_fun/num_repair, 2: num_fun/num_nonfun}"
   ]
  },
  {
   "cell_type": "code",
   "execution_count": 136,
   "metadata": {},
   "outputs": [],
   "source": [
    "categorical_cols = X.select_dtypes('object').columns"
   ]
  },
  {
   "cell_type": "code",
   "execution_count": 137,
   "metadata": {},
   "outputs": [],
   "source": [
    "ct_ordinal = ColumnTransformer(transformers=[(\"ord\", \n",
    "                                              OrdinalEncoder(handle_unknown='use_encoded_value', unknown_value=-1), \n",
    "                                              categorical_cols)],\n",
    "                               remainder=\"passthrough\")"
   ]
  },
  {
   "cell_type": "code",
   "execution_count": 138,
   "metadata": {},
   "outputs": [
    {
     "data": {
      "text/plain": [
       "Pipeline(steps=[('encode',\n",
       "                 ColumnTransformer(remainder='passthrough',\n",
       "                                   transformers=[('ord',\n",
       "                                                  OrdinalEncoder(handle_unknown='use_encoded_value',\n",
       "                                                                 unknown_value=-1),\n",
       "                                                  Index(['funder', 'installer', 'basin', 'subvillage', 'lga', 'ward',\n",
       "       'scheme_management', 'extraction_type', 'extraction_type_class',\n",
       "       'management', 'management_group', 'payment', 'water_quality',\n",
       "       'quantity', 'source', 'source_class', 'waterpoint_type', 'season'],\n",
       "      dtype='object'))])),\n",
       "                ('scale', StandardScaler()),\n",
       "                ('model',\n",
       "                 LogisticRegression(class_weight={0: 1, 1: 7.472550382209868,\n",
       "                                                  2: 1.4133806519453207},\n",
       "                                    multi_class='multinomial'))])"
      ]
     },
     "execution_count": 138,
     "metadata": {},
     "output_type": "execute_result"
    }
   ],
   "source": [
    "pipe_log = Pipeline(steps=[\n",
    "    (\"encode\", ct_ordinal),\n",
    "    (\"scale\", StandardScaler()),\n",
    "    (\"model\", LogisticRegression(class_weight = weights, multi_class='multinomial'))])\n",
    "pipe_log.fit(X_train, y_train)"
   ]
  },
  {
   "cell_type": "markdown",
   "metadata": {},
   "source": [
    "The logistic regression model is not great with only an accuracy of around 53%."
   ]
  },
  {
   "cell_type": "code",
   "execution_count": 139,
   "metadata": {},
   "outputs": [],
   "source": [
    "def get_scores(model, X_test, y_test):\n",
    "    acc = accuracy_score(y_test, model.predict(X_test))\n",
    "    prec = precision_score(y_test, model.predict(X_test), average='weighted')\n",
    "    f1 = f1_score(y_test, model.predict(X_test), average='weighted')\n",
    "    rec = recall_score(y_test, model.predict(X_test), average='weighted')\n",
    "    return {'Accuracy': acc, \"Precision\": prec, \"Recall\": rec, \"F1 Score\": f1}"
   ]
  },
  {
   "cell_type": "code",
   "execution_count": 140,
   "metadata": {},
   "outputs": [
    {
     "data": {
      "text/plain": [
       "{'Accuracy': 0.5341414141414141,\n",
       " 'Precision': 0.6352916783320126,\n",
       " 'Recall': 0.5341414141414141,\n",
       " 'F1 Score': 0.5652026938599664}"
      ]
     },
     "execution_count": 140,
     "metadata": {},
     "output_type": "execute_result"
    }
   ],
   "source": [
    "get_scores(pipe_log, X_test, y_test)"
   ]
  },
  {
   "cell_type": "code",
   "execution_count": 141,
   "metadata": {},
   "outputs": [
    {
     "data": {
      "image/png": "[encoded data removed]",
      "text/plain": [
       "<Figure size 576x396 with 2 Axes>"
      ]
     },
     "metadata": {},
     "output_type": "display_data"
    }
   ],
   "source": [
    "ConfusionMatrixDisplay.from_estimator(pipe_log, X_test, y_test, display_labels=y_label.classes_, cmap=\"Greens\")\n",
    "plt.grid(False)\n",
    "plt.show()"
   ]
  },
  {
   "cell_type": "markdown",
   "metadata": {},
   "source": [
    "## Improving the Model"
   ]
  },
  {
   "cell_type": "markdown",
   "metadata": {},
   "source": [
    "#### *One-Hot Encoding*"
   ]
  },
  {
   "cell_type": "markdown",
   "metadata": {},
   "source": [
    "To begin let's see how the model's performance changes with a different method of encoding before seeing whether another method of modelind the data would be more effective. We will try one hot encoding all the columns with few than 30 categories."
   ]
  },
  {
   "cell_type": "code",
   "execution_count": 142,
   "metadata": {},
   "outputs": [
    {
     "data": {
      "text/plain": [
       "['basin',\n",
       " 'scheme_management',\n",
       " 'extraction_type',\n",
       " 'extraction_type_class',\n",
       " 'management',\n",
       " 'management_group',\n",
       " 'payment',\n",
       " 'water_quality',\n",
       " 'quantity',\n",
       " 'source',\n",
       " 'source_class',\n",
       " 'waterpoint_type',\n",
       " 'season']"
      ]
     },
     "execution_count": 142,
     "metadata": {},
     "output_type": "execute_result"
    }
   ],
   "source": [
    "one_hot_cat = [col for col in X.columns if (X[col].dtype == 'O' and len(X[col].unique()) < 30)]\n",
    "one_hot_cat"
   ]
  },
  {
   "cell_type": "code",
   "execution_count": 143,
   "metadata": {},
   "outputs": [
    {
     "data": {
      "text/plain": [
       "['funder', 'installer', 'subvillage', 'lga', 'ward']"
      ]
     },
     "execution_count": 143,
     "metadata": {},
     "output_type": "execute_result"
    }
   ],
   "source": [
    "label_cat = [col for col in X.columns if (X[col].dtype == 'O' and len(X[col].unique()) >= 30)]\n",
    "label_cat"
   ]
  },
  {
   "cell_type": "code",
   "execution_count": 144,
   "metadata": {},
   "outputs": [],
   "source": [
    "ct_mixed = ColumnTransformer(transformers=[(\"ord\", \n",
    "                                              OrdinalEncoder(handle_unknown='use_encoded_value', unknown_value=-1), \n",
    "                                              label_cat), ('ohe', OneHotEncoder(handle_unknown='ignore'), one_hot_cat)],\n",
    "                               remainder=\"passthrough\")"
   ]
  },
  {
   "cell_type": "code",
   "execution_count": 148,
   "metadata": {},
   "outputs": [
    {
     "data": {
      "text/plain": [
       "Pipeline(steps=[('encode',\n",
       "                 ColumnTransformer(remainder='passthrough',\n",
       "                                   transformers=[('ord',\n",
       "                                                  OrdinalEncoder(handle_unknown='use_encoded_value',\n",
       "                                                                 unknown_value=-1),\n",
       "                                                  ['funder', 'installer',\n",
       "                                                   'subvillage', 'lga',\n",
       "                                                   'ward']),\n",
       "                                                 ('ohe',\n",
       "                                                  OneHotEncoder(handle_unknown='ignore'),\n",
       "                                                  ['basin', 'scheme_management',\n",
       "                                                   'extraction_type',\n",
       "                                                   'extraction_type_class',\n",
       "                                                   'management',\n",
       "                                                   'management_group',\n",
       "                                                   'payment', 'water_quality',\n",
       "                                                   'quantity', 'source',\n",
       "                                                   'source_class',\n",
       "                                                   'waterpoint_type',\n",
       "                                                   'season'])])),\n",
       "                ('scale', StandardScaler(with_mean=False)),\n",
       "                ('model',\n",
       "                 LogisticRegression(class_weight={0: 1, 1: 7.472550382209868,\n",
       "                                                  2: 1.4133806519453207},\n",
       "                                    max_iter=5000,\n",
       "                                    multi_class='multinomial'))])"
      ]
     },
     "execution_count": 148,
     "metadata": {},
     "output_type": "execute_result"
    }
   ],
   "source": [
    "pipe_log_ohe = Pipeline(steps=[\n",
    "    (\"encode\", ct_mixed),\n",
    "    (\"scale\", StandardScaler(with_mean=False)),\n",
    "    (\"model\", LogisticRegression(class_weight = weights, multi_class='multinomial', max_iter=5000))])\n",
    "pipe_log_ohe.fit(X_train, y_train)"
   ]
  },
  {
   "cell_type": "markdown",
   "metadata": {},
   "source": [
    "This took more iterations to converge, but is doing around 10% better."
   ]
  },
  {
   "cell_type": "code",
   "execution_count": 150,
   "metadata": {},
   "outputs": [
    {
     "data": {
      "text/plain": [
       "{'Accuracy': 0.6336700336700337,\n",
       " 'Precision': 0.7420870057283717,\n",
       " 'Recall': 0.6336700336700337,\n",
       " 'F1 Score': 0.6713341481711341}"
      ]
     },
     "execution_count": 150,
     "metadata": {},
     "output_type": "execute_result"
    }
   ],
   "source": [
    "get_scores(pipe_log_ohe, X_test, y_test)"
   ]
  },
  {
   "cell_type": "code",
   "execution_count": 151,
   "metadata": {},
   "outputs": [
    {
     "data": {
      "image/png": "[encoded data removed]",
      "text/plain": [
       "<Figure size 576x396 with 2 Axes>"
      ]
     },
     "metadata": {},
     "output_type": "display_data"
    }
   ],
   "source": [
    "ConfusionMatrixDisplay.from_estimator(pipe_log_ohe, X_test, y_test, display_labels=y_label.classes_, cmap=\"Greens\")\n",
    "plt.grid(False)\n",
    "plt.show()"
   ]
  },
  {
   "cell_type": "markdown",
   "metadata": {},
   "source": [
    "#### *Decision Tree*"
   ]
  },
  {
   "cell_type": "code",
   "execution_count": 152,
   "metadata": {},
   "outputs": [],
   "source": [
    "from sklearn.tree import DecisionTreeClassifier\n",
    "from sklearn.ensemble import BaggingClassifier, RandomForestClassifier"
   ]
  },
  {
   "cell_type": "code",
   "execution_count": 167,
   "metadata": {},
   "outputs": [
    {
     "data": {
      "text/plain": [
       "Pipeline(steps=[('encode',\n",
       "                 ColumnTransformer(remainder='passthrough',\n",
       "                                   transformers=[('ord',\n",
       "                                                  OrdinalEncoder(handle_unknown='use_encoded_value',\n",
       "                                                                 unknown_value=-1),\n",
       "                                                  ['funder', 'installer',\n",
       "                                                   'subvillage', 'lga',\n",
       "                                                   'ward']),\n",
       "                                                 ('ohe',\n",
       "                                                  OneHotEncoder(handle_unknown='ignore'),\n",
       "                                                  ['basin', 'scheme_management',\n",
       "                                                   'extraction_type',\n",
       "                                                   'extraction_type_class',\n",
       "                                                   'management',\n",
       "                                                   'management_group',\n",
       "                                                   'payment', 'water_quality',\n",
       "                                                   'quantity', 'source',\n",
       "                                                   'source_class',\n",
       "                                                   'waterpoint_type',\n",
       "                                                   'season'])])),\n",
       "                ('scale', StandardScaler(with_mean=False)),\n",
       "                ('model', DecisionTreeClassifier())])"
      ]
     },
     "execution_count": 167,
     "metadata": {},
     "output_type": "execute_result"
    }
   ],
   "source": [
    "pipe_tree = Pipeline(steps=[\n",
    "    (\"encode\", ct_mixed),\n",
    "    (\"scale\", StandardScaler(with_mean=False)),\n",
    "    (\"model\", DecisionTreeClassifier())])\n",
    "pipe_tree.fit(X_train, y_train)"
   ]
  },
  {
   "cell_type": "markdown",
   "metadata": {},
   "source": [
    "The decision tree performs about 11% better than the logistic model, but since it wasn't weighted like the logistic model it is doing worse on the rare 'needs repair\" class."
   ]
  },
  {
   "cell_type": "code",
   "execution_count": 168,
   "metadata": {},
   "outputs": [
    {
     "data": {
      "text/plain": [
       "{'Accuracy': 0.7409427609427609,\n",
       " 'Precision': 0.7438204242923625,\n",
       " 'Recall': 0.7409427609427609,\n",
       " 'F1 Score': 0.7420186433732177}"
      ]
     },
     "execution_count": 168,
     "metadata": {},
     "output_type": "execute_result"
    }
   ],
   "source": [
    "get_scores(pipe_tree, X_test, y_test)"
   ]
  },
  {
   "cell_type": "code",
   "execution_count": 169,
   "metadata": {},
   "outputs": [
    {
     "data": {
      "image/png": "[encoded data removed]",
      "text/plain": [
       "<Figure size 576x396 with 2 Axes>"
      ]
     },
     "metadata": {},
     "output_type": "display_data"
    }
   ],
   "source": [
    "ConfusionMatrixDisplay.from_estimator(pipe_tree, X_test, y_test, display_labels=y_label.classes_, cmap=\"Greens\")\n",
    "plt.grid(False)\n",
    "plt.show()"
   ]
  },
  {
   "cell_type": "markdown",
   "metadata": {},
   "source": [
    "Let's deal with the class imbalance issue by using oversampling with SMOTE."
   ]
  },
  {
   "cell_type": "code",
   "execution_count": 170,
   "metadata": {},
   "outputs": [],
   "source": [
    "pipe_presamp = Pipeline(steps=[(\"encode\", ct_mixed),\n",
    "                               (\"scale\", StandardScaler(with_mean=False))])\n",
    "X_train_encoded = pipe_presamp.fit_transform(X_train)"
   ]
  },
  {
   "cell_type": "code",
   "execution_count": 171,
   "metadata": {},
   "outputs": [],
   "source": [
    "sm = SMOTE()\n",
    "X_train_resampled, y_train_resampled = sm.fit_sample(X_train_encoded, y_train) "
   ]
  },
  {
   "cell_type": "code",
   "execution_count": 172,
   "metadata": {},
   "outputs": [
    {
     "name": "stdout",
     "output_type": "stream",
     "text": [
      "2    24194\n",
      "1    24194\n",
      "0    24194\n",
      "dtype: int64\n"
     ]
    }
   ],
   "source": [
    "print(pd.Series(y_train_resampled).value_counts()) "
   ]
  },
  {
   "cell_type": "code",
   "execution_count": 173,
   "metadata": {},
   "outputs": [
    {
     "data": {
      "text/plain": [
       "DecisionTreeClassifier()"
      ]
     },
     "execution_count": 173,
     "metadata": {},
     "output_type": "execute_result"
    }
   ],
   "source": [
    "over_tree = DecisionTreeClassifier()\n",
    "over_tree.fit(X_train_resampled, y_train_resampled)"
   ]
  },
  {
   "cell_type": "markdown",
   "metadata": {},
   "source": [
    "The oversampled model does a bit better on the needs repair class, but with a small drop in overall accuracy."
   ]
  },
  {
   "cell_type": "code",
   "execution_count": 174,
   "metadata": {},
   "outputs": [
    {
     "data": {
      "text/plain": [
       "{'Accuracy': 0.7325925925925926,\n",
       " 'Precision': 0.7432647155794098,\n",
       " 'Recall': 0.7325925925925926,\n",
       " 'F1 Score': 0.7371698988212358}"
      ]
     },
     "execution_count": 174,
     "metadata": {},
     "output_type": "execute_result"
    }
   ],
   "source": [
    "X_test_encoded = pipe_presamp.transform(X_test)\n",
    "get_scores(over_tree, X_test_encoded, y_test)"
   ]
  },
  {
   "cell_type": "code",
   "execution_count": 175,
   "metadata": {},
   "outputs": [
    {
     "data": {
      "image/png": "[encoded data removed]",
      "text/plain": [
       "<Figure size 576x396 with 2 Axes>"
      ]
     },
     "metadata": {},
     "output_type": "display_data"
    }
   ],
   "source": [
    "ConfusionMatrixDisplay.from_estimator(over_tree, X_test_encoded, y_test, display_labels=y_label.classes_, cmap=\"Greens\")\n",
    "plt.grid(False)\n",
    "plt.show()"
   ]
  },
  {
   "cell_type": "markdown",
   "metadata": {},
   "source": [
    "#### *Bagged Tree*"
   ]
  },
  {
   "cell_type": "code",
   "execution_count": 176,
   "metadata": {},
   "outputs": [
    {
     "data": {
      "text/plain": [
       "Pipeline(steps=[('encode',\n",
       "                 ColumnTransformer(remainder='passthrough',\n",
       "                                   transformers=[('ord',\n",
       "                                                  OrdinalEncoder(handle_unknown='use_encoded_value',\n",
       "                                                                 unknown_value=-1),\n",
       "                                                  ['funder', 'installer',\n",
       "                                                   'subvillage', 'lga',\n",
       "                                                   'ward']),\n",
       "                                                 ('ohe',\n",
       "                                                  OneHotEncoder(handle_unknown='ignore'),\n",
       "                                                  ['basin', 'scheme_management',\n",
       "                                                   'extraction_type',\n",
       "                                                   'extraction_type_class',\n",
       "                                                   'management',\n",
       "                                                   'management_group',\n",
       "                                                   'payment', 'water_quality',\n",
       "                                                   'quantity', 'source',\n",
       "                                                   'source_class',\n",
       "                                                   'waterpoint_type',\n",
       "                                                   'season'])])),\n",
       "                ('scale', StandardScaler(with_mean=False)),\n",
       "                ('model',\n",
       "                 BaggingClassifier(base_estimator=DecisionTreeClassifier(),\n",
       "                                   n_estimators=20))])"
      ]
     },
     "execution_count": 176,
     "metadata": {},
     "output_type": "execute_result"
    }
   ],
   "source": [
    "pipe_bag_tree = Pipeline(steps=[\n",
    "    (\"encode\", ct_mixed),\n",
    "    (\"scale\", StandardScaler(with_mean=False)),\n",
    "    (\"model\", BaggingClassifier(DecisionTreeClassifier(), n_estimators=20))])\n",
    "pipe_bag_tree.fit(X_train, y_train)"
   ]
  },
  {
   "cell_type": "markdown",
   "metadata": {},
   "source": [
    "The bagged tree is about 6% better, but was obviously much slower."
   ]
  },
  {
   "cell_type": "code",
   "execution_count": 179,
   "metadata": {},
   "outputs": [
    {
     "data": {
      "text/plain": [
       "{'Accuracy': 0.7955555555555556,\n",
       " 'Precision': 0.7892951866108502,\n",
       " 'Recall': 0.7955555555555556,\n",
       " 'F1 Score': 0.7901450740193285}"
      ]
     },
     "execution_count": 179,
     "metadata": {},
     "output_type": "execute_result"
    }
   ],
   "source": [
    "get_scores(pipe_bag_tree, X_test, y_test)"
   ]
  },
  {
   "cell_type": "code",
   "execution_count": 180,
   "metadata": {},
   "outputs": [
    {
     "data": {
      "image/png": "[encoded data removed]",
      "text/plain": [
       "<Figure size 576x396 with 2 Axes>"
      ]
     },
     "metadata": {},
     "output_type": "display_data"
    }
   ],
   "source": [
    "ConfusionMatrixDisplay.from_estimator(pipe_bag_tree, X_test, y_test, display_labels=y_label.classes_, cmap=\"Greens\")\n",
    "plt.grid(False)\n",
    "plt.show()"
   ]
  },
  {
   "cell_type": "markdown",
   "metadata": {},
   "source": [
    "Again there is an issue with the needs repair class, let's try  using the over sampled data with the bagged tree."
   ]
  },
  {
   "cell_type": "code",
   "execution_count": 181,
   "metadata": {},
   "outputs": [
    {
     "data": {
      "text/plain": [
       "BaggingClassifier(base_estimator=DecisionTreeClassifier(), n_estimators=20)"
      ]
     },
     "execution_count": 181,
     "metadata": {},
     "output_type": "execute_result"
    }
   ],
   "source": [
    "over_bag = BaggingClassifier(DecisionTreeClassifier(), n_estimators=20)\n",
    "over_bag.fit(X_train_resampled, y_train_resampled)"
   ]
  },
  {
   "cell_type": "markdown",
   "metadata": {},
   "source": [
    "The bagged tree does stilly more poorly with the oversampled data."
   ]
  },
  {
   "cell_type": "code",
   "execution_count": 182,
   "metadata": {},
   "outputs": [
    {
     "data": {
      "text/plain": [
       "{'Accuracy': 0.785050505050505,\n",
       " 'Precision': 0.7857850104491468,\n",
       " 'Recall': 0.785050505050505,\n",
       " 'F1 Score': 0.7850671239327709}"
      ]
     },
     "execution_count": 182,
     "metadata": {},
     "output_type": "execute_result"
    }
   ],
   "source": [
    "get_scores(over_bag, X_test_encoded, y_test)"
   ]
  },
  {
   "cell_type": "code",
   "execution_count": 183,
   "metadata": {},
   "outputs": [
    {
     "data": {
      "image/png": "[encoded data removed]",
      "text/plain": [
       "<Figure size 576x396 with 2 Axes>"
      ]
     },
     "metadata": {},
     "output_type": "display_data"
    }
   ],
   "source": [
    "ConfusionMatrixDisplay.from_estimator(over_bag, X_test_encoded, y_test, display_labels=y_label.classes_, cmap=\"Greens\")\n",
    "plt.grid(False)\n",
    "plt.show()"
   ]
  },
  {
   "cell_type": "markdown",
   "metadata": {},
   "source": [
    "#### *Random Forest*"
   ]
  },
  {
   "cell_type": "code",
   "execution_count": 184,
   "metadata": {},
   "outputs": [
    {
     "data": {
      "text/plain": [
       "Pipeline(steps=[('encode',\n",
       "                 ColumnTransformer(remainder='passthrough',\n",
       "                                   transformers=[('ord',\n",
       "                                                  OrdinalEncoder(handle_unknown='use_encoded_value',\n",
       "                                                                 unknown_value=-1),\n",
       "                                                  ['funder', 'installer',\n",
       "                                                   'subvillage', 'lga',\n",
       "                                                   'ward']),\n",
       "                                                 ('ohe',\n",
       "                                                  OneHotEncoder(handle_unknown='ignore'),\n",
       "                                                  ['basin', 'scheme_management',\n",
       "                                                   'extraction_type',\n",
       "                                                   'extraction_type_class',\n",
       "                                                   'management',\n",
       "                                                   'management_group',\n",
       "                                                   'payment', 'water_quality',\n",
       "                                                   'quantity', 'source',\n",
       "                                                   'source_class',\n",
       "                                                   'waterpoint_type',\n",
       "                                                   'season'])])),\n",
       "                ('scale', StandardScaler(with_mean=False)),\n",
       "                ('model', RandomForestClassifier())])"
      ]
     },
     "execution_count": 184,
     "metadata": {},
     "output_type": "execute_result"
    }
   ],
   "source": [
    "pipe_forest = Pipeline(steps=[\n",
    "    (\"encode\", ct_mixed),\n",
    "    (\"scale\", StandardScaler(with_mean=False)),\n",
    "    (\"model\", RandomForestClassifier())])\n",
    "pipe_forest.fit(X_train, y_train)"
   ]
  },
  {
   "cell_type": "markdown",
   "metadata": {},
   "source": [
    "This is about the best score so far, but still does very poorly on needs_repair."
   ]
  },
  {
   "cell_type": "code",
   "execution_count": 185,
   "metadata": {},
   "outputs": [
    {
     "data": {
      "text/plain": [
       "{'Accuracy': 0.8103030303030303,\n",
       " 'Precision': 0.8042123516905415,\n",
       " 'Recall': 0.8103030303030303,\n",
       " 'F1 Score': 0.8043811006952861}"
      ]
     },
     "execution_count": 185,
     "metadata": {},
     "output_type": "execute_result"
    }
   ],
   "source": [
    "get_scores(pipe_forest, X_test, y_test)"
   ]
  },
  {
   "cell_type": "code",
   "execution_count": 186,
   "metadata": {},
   "outputs": [
    {
     "data": {
      "image/png": "[encoded data removed]",
      "text/plain": [
       "<Figure size 576x396 with 2 Axes>"
      ]
     },
     "metadata": {},
     "output_type": "display_data"
    }
   ],
   "source": [
    "ConfusionMatrixDisplay.from_estimator(pipe_forest, X_test, y_test, display_labels=y_label.classes_, cmap=\"Greens\")\n",
    "plt.grid(False)\n",
    "plt.show()"
   ]
  },
  {
   "cell_type": "code",
   "execution_count": 187,
   "metadata": {},
   "outputs": [
    {
     "data": {
      "text/plain": [
       "RandomForestClassifier()"
      ]
     },
     "execution_count": 187,
     "metadata": {},
     "output_type": "execute_result"
    }
   ],
   "source": [
    "over_forest = RandomForestClassifier()\n",
    "over_forest.fit(X_train_resampled, y_train_resampled)"
   ]
  },
  {
   "cell_type": "markdown",
   "metadata": {},
   "source": [
    "This performs slightly worse, but a bit better on the needs repair data."
   ]
  },
  {
   "cell_type": "code",
   "execution_count": 188,
   "metadata": {},
   "outputs": [
    {
     "data": {
      "text/plain": [
       "{'Accuracy': 0.7998653198653198,\n",
       " 'Precision': 0.7995058623338085,\n",
       " 'Recall': 0.7998653198653198,\n",
       " 'F1 Score': 0.7992548691476987}"
      ]
     },
     "execution_count": 188,
     "metadata": {},
     "output_type": "execute_result"
    }
   ],
   "source": [
    "get_scores(over_forest, X_test_encoded, y_test)"
   ]
  },
  {
   "cell_type": "code",
   "execution_count": 189,
   "metadata": {},
   "outputs": [
    {
     "data": {
      "image/png": "[encoded data removed]",
      "text/plain": [
       "<Figure size 576x396 with 2 Axes>"
      ]
     },
     "metadata": {},
     "output_type": "display_data"
    }
   ],
   "source": [
    "ConfusionMatrixDisplay.from_estimator(over_forest, X_test_encoded, y_test, display_labels=y_label.classes_, cmap=\"Greens\")\n",
    "plt.grid(False)\n",
    "plt.show()"
   ]
  },
  {
   "cell_type": "markdown",
   "metadata": {},
   "source": [
    "#### *XGBoost*"
   ]
  },
  {
   "cell_type": "markdown",
   "metadata": {},
   "source": [
    "Let's try running XGBoost on the raw data and then the oversampled data to see how it performs."
   ]
  },
  {
   "cell_type": "code",
   "execution_count": 190,
   "metadata": {},
   "outputs": [],
   "source": [
    "from xgboost import XGBClassifier"
   ]
  },
  {
   "cell_type": "code",
   "execution_count": 191,
   "metadata": {},
   "outputs": [
    {
     "data": {
      "text/plain": [
       "XGBClassifier(base_score=0.5, booster='gbtree', colsample_bylevel=1,\n",
       "              colsample_bynode=1, colsample_bytree=1, enable_categorical=False,\n",
       "              eval_metric='mlogloss', gamma=0, gpu_id=-1, importance_type=None,\n",
       "              interaction_constraints='', learning_rate=0.300000012,\n",
       "              max_delta_step=0, max_depth=6, min_child_weight=1, missing=nan,\n",
       "              monotone_constraints='()', n_estimators=100, n_jobs=8,\n",
       "              num_parallel_tree=1, objective='multi:softprob', predictor='auto',\n",
       "              random_state=0, reg_alpha=0, reg_lambda=1, scale_pos_weight=None,\n",
       "              subsample=1, tree_method='exact', use_label_encoder=False,\n",
       "              validate_parameters=1, ...)"
      ]
     },
     "execution_count": 191,
     "metadata": {},
     "output_type": "execute_result"
    }
   ],
   "source": [
    "xgb = XGBClassifier(eval_metric='mlogloss', use_label_encoder = False)\n",
    "xgb.fit(X_train_encoded, y_train)"
   ]
  },
  {
   "cell_type": "markdown",
   "metadata": {},
   "source": [
    "XGBoost is doing a bit worse than the random forest model with default hyper parameters, and also struggles with the needs repair category."
   ]
  },
  {
   "cell_type": "code",
   "execution_count": 192,
   "metadata": {},
   "outputs": [
    {
     "data": {
      "text/plain": [
       "{'Accuracy': 0.7981144781144781,\n",
       " 'Precision': 0.7919185553160704,\n",
       " 'Recall': 0.7981144781144781,\n",
       " 'F1 Score': 0.787634372195772}"
      ]
     },
     "execution_count": 192,
     "metadata": {},
     "output_type": "execute_result"
    }
   ],
   "source": [
    "get_scores(xgb, X_test_encoded, y_test)"
   ]
  },
  {
   "cell_type": "code",
   "execution_count": 193,
   "metadata": {},
   "outputs": [
    {
     "data": {
      "image/png": "[encoded data removed]",
      "text/plain": [
       "<Figure size 576x396 with 2 Axes>"
      ]
     },
     "metadata": {},
     "output_type": "display_data"
    }
   ],
   "source": [
    "ConfusionMatrixDisplay.from_estimator(xgb, X_test_encoded, y_test, display_labels=y_label.classes_, cmap=\"Greens\")\n",
    "plt.grid(False)\n",
    "plt.show()"
   ]
  },
  {
   "cell_type": "code",
   "execution_count": 194,
   "metadata": {},
   "outputs": [
    {
     "data": {
      "text/plain": [
       "XGBClassifier(base_score=0.5, booster='gbtree', colsample_bylevel=1,\n",
       "              colsample_bynode=1, colsample_bytree=1, enable_categorical=False,\n",
       "              eval_metric='mlogloss', gamma=0, gpu_id=-1, importance_type=None,\n",
       "              interaction_constraints='', learning_rate=0.300000012,\n",
       "              max_delta_step=0, max_depth=6, min_child_weight=1, missing=nan,\n",
       "              monotone_constraints='()', n_estimators=100, n_jobs=8,\n",
       "              num_parallel_tree=1, objective='multi:softprob', predictor='auto',\n",
       "              random_state=0, reg_alpha=0, reg_lambda=1, scale_pos_weight=None,\n",
       "              subsample=1, tree_method='exact', use_label_encoder=False,\n",
       "              validate_parameters=1, ...)"
      ]
     },
     "execution_count": 194,
     "metadata": {},
     "output_type": "execute_result"
    }
   ],
   "source": [
    "over_xgb = XGBClassifier(eval_metric= 'mlogloss', use_label_encoder = False)\n",
    "over_xgb.fit(X_train_resampled, y_train_resampled)"
   ]
  },
  {
   "cell_type": "markdown",
   "metadata": {},
   "source": [
    "As with the other models, XGBoost does worse overall with the over sampled data, but much better on the needs repairs category."
   ]
  },
  {
   "cell_type": "code",
   "execution_count": 195,
   "metadata": {},
   "outputs": [
    {
     "data": {
      "text/plain": [
       "{'Accuracy': 0.7622222222222222,\n",
       " 'Precision': 0.7771571651614501,\n",
       " 'Recall': 0.7622222222222222,\n",
       " 'F1 Score': 0.7681108265614855}"
      ]
     },
     "execution_count": 195,
     "metadata": {},
     "output_type": "execute_result"
    }
   ],
   "source": [
    "get_scores(over_xgb, X_test_encoded, y_test)"
   ]
  },
  {
   "cell_type": "code",
   "execution_count": 196,
   "metadata": {},
   "outputs": [
    {
     "data": {
      "image/png": "[encoded data removed]",
      "text/plain": [
       "<Figure size 576x396 with 2 Axes>"
      ]
     },
     "metadata": {},
     "output_type": "display_data"
    }
   ],
   "source": [
    "ConfusionMatrixDisplay.from_estimator(over_xgb, X_test_encoded, y_test, display_labels=y_label.classes_, cmap=\"Greens\")\n",
    "plt.grid(False)\n",
    "plt.show()"
   ]
  },
  {
   "cell_type": "markdown",
   "metadata": {},
   "source": [
    "#### Catboost"
   ]
  },
  {
   "cell_type": "markdown",
   "metadata": {},
   "source": [
    "Let's try Catboost and see how it does."
   ]
  },
  {
   "cell_type": "code",
   "execution_count": 226,
   "metadata": {},
   "outputs": [],
   "source": [
    "from catboost import CatBoostClassifier, Pool"
   ]
  },
  {
   "cell_type": "code",
   "execution_count": 233,
   "metadata": {},
   "outputs": [
    {
     "data": {
      "text/plain": [
       "<catboost.core.CatBoostClassifier at 0x211616e3940>"
      ]
     },
     "execution_count": 233,
     "metadata": {},
     "output_type": "execute_result"
    }
   ],
   "source": [
    "test_data = catboost_pool = Pool(X_train_encoded, y_train)\n",
    "\n",
    "cat = CatBoostClassifier(iterations=750,\n",
    "                           depth=7,\n",
    "                           loss_function='MultiClass',\n",
    "                           verbose=False)\n",
    "\n",
    "cat.fit(X_train_encoded, y_train)"
   ]
  },
  {
   "cell_type": "markdown",
   "metadata": {},
   "source": [
    "It appears to do slightly better than XGBoost, but worse than the forest"
   ]
  },
  {
   "cell_type": "code",
   "execution_count": 234,
   "metadata": {},
   "outputs": [
    {
     "data": {
      "text/plain": [
       "{'Accuracy': 0.8,\n",
       " 'Precision': 0.7936357834422056,\n",
       " 'Recall': 0.8,\n",
       " 'F1 Score': 0.7901391103309825}"
      ]
     },
     "execution_count": 234,
     "metadata": {},
     "output_type": "execute_result"
    }
   ],
   "source": [
    "get_scores(cat, X_test_encoded, y_test)"
   ]
  },
  {
   "cell_type": "code",
   "execution_count": 235,
   "metadata": {},
   "outputs": [
    {
     "data": {
      "image/png": "[encoded data removed]",
      "text/plain": [
       "<Figure size 576x396 with 2 Axes>"
      ]
     },
     "metadata": {},
     "output_type": "display_data"
    }
   ],
   "source": [
    "ConfusionMatrixDisplay.from_estimator(cat, X_test_encoded, y_test, display_labels=y_label.classes_, cmap=\"Greens\")\n",
    "plt.grid(False)\n",
    "plt.show()"
   ]
  },
  {
   "cell_type": "markdown",
   "metadata": {},
   "source": [
    "## *Tuning the Models*"
   ]
  },
  {
   "cell_type": "markdown",
   "metadata": {},
   "source": [
    "#### Bagging Model"
   ]
  },
  {
   "cell_type": "code",
   "execution_count": 197,
   "metadata": {},
   "outputs": [],
   "source": [
    "from sklearn.model_selection import GridSearchCV"
   ]
  },
  {
   "cell_type": "code",
   "execution_count": 200,
   "metadata": {},
   "outputs": [],
   "source": [
    "param_bag = {\n",
    "    'max_features': [0.2, 0.3, 0.4],\n",
    "    'n_estimators': [100, 500, 1000]}"
   ]
  },
  {
   "cell_type": "code",
   "execution_count": 204,
   "metadata": {},
   "outputs": [
    {
     "name": "stdout",
     "output_type": "stream",
     "text": [
      "Fitting 3 folds for each of 9 candidates, totalling 27 fits\n",
      "[CV] END .................max_features=0.2, n_estimators=100; total time=  42.7s\n",
      "[CV] END .................max_features=0.2, n_estimators=100; total time=  36.3s\n",
      "[CV] END .................max_features=0.2, n_estimators=100; total time=  42.2s\n",
      "[CV] END .................max_features=0.2, n_estimators=500; total time= 3.5min\n",
      "[CV] END .................max_features=0.2, n_estimators=500; total time= 3.5min\n",
      "[CV] END .................max_features=0.2, n_estimators=500; total time= 3.4min\n",
      "[CV] END ................max_features=0.2, n_estimators=1000; total time= 7.1min\n",
      "[CV] END ................max_features=0.2, n_estimators=1000; total time= 6.8min\n",
      "[CV] END ................max_features=0.2, n_estimators=1000; total time= 6.8min\n",
      "[CV] END .................max_features=0.3, n_estimators=100; total time= 1.1min\n",
      "[CV] END .................max_features=0.3, n_estimators=100; total time= 1.1min\n",
      "[CV] END .................max_features=0.3, n_estimators=100; total time= 1.0min\n",
      "[CV] END .................max_features=0.3, n_estimators=500; total time= 5.7min\n",
      "[CV] END .................max_features=0.3, n_estimators=500; total time= 5.4min\n",
      "[CV] END .................max_features=0.3, n_estimators=500; total time= 5.4min\n",
      "[CV] END ................max_features=0.3, n_estimators=1000; total time=10.9min\n",
      "[CV] END ................max_features=0.3, n_estimators=1000; total time=11.2min\n",
      "[CV] END ................max_features=0.3, n_estimators=1000; total time=11.1min\n",
      "[CV] END .................max_features=0.4, n_estimators=100; total time= 1.5min\n",
      "[CV] END .................max_features=0.4, n_estimators=100; total time= 1.5min\n",
      "[CV] END .................max_features=0.4, n_estimators=100; total time= 1.6min\n",
      "[CV] END .................max_features=0.4, n_estimators=500; total time= 7.6min\n",
      "[CV] END .................max_features=0.4, n_estimators=500; total time= 7.6min\n",
      "[CV] END .................max_features=0.4, n_estimators=500; total time= 7.7min\n",
      "[CV] END ................max_features=0.4, n_estimators=1000; total time=15.2min\n",
      "[CV] END ................max_features=0.4, n_estimators=1000; total time=15.6min\n",
      "[CV] END ................max_features=0.4, n_estimators=1000; total time=15.8min\n"
     ]
    },
    {
     "data": {
      "text/plain": [
       "GridSearchCV(cv=3,\n",
       "             estimator=BaggingClassifier(base_estimator=DecisionTreeClassifier()),\n",
       "             n_jobs=1,\n",
       "             param_grid={'max_features': [0.2, 0.3, 0.4],\n",
       "                         'n_estimators': [100, 500, 1000]},\n",
       "             scoring='accuracy', verbose=2)"
      ]
     },
     "execution_count": 204,
     "metadata": {},
     "output_type": "execute_result"
    }
   ],
   "source": [
    "grid_bag = GridSearchCV(BaggingClassifier(DecisionTreeClassifier()),\n",
    "                        param_bag,\n",
    "                        scoring='accuracy',\n",
    "                        cv=3,\n",
    "                        n_jobs=1, \n",
    "                        verbose=2)\n",
    "grid_bag.fit(X_train_encoded, y_train)"
   ]
  },
  {
   "cell_type": "code",
   "execution_count": 205,
   "metadata": {},
   "outputs": [
    {
     "name": "stdout",
     "output_type": "stream",
     "text": [
      "Grid Search found the following optimal parameters: \n",
      "max_features: 0.4\n",
      "n_estimators: 1000\n"
     ]
    }
   ],
   "source": [
    "best_parameters = grid_bag.best_params_\n",
    "\n",
    "print('Grid Search found the following optimal parameters: ')\n",
    "for param_name in sorted(best_parameters.keys()):\n",
    "    print('%s: %r' % (param_name, best_parameters[param_name]))"
   ]
  },
  {
   "cell_type": "markdown",
   "metadata": {},
   "source": [
    "Tuning increases its performance by about 2% but made the model take much longer to produce predictions."
   ]
  },
  {
   "cell_type": "code",
   "execution_count": 207,
   "metadata": {
    "scrolled": true
   },
   "outputs": [
    {
     "data": {
      "text/plain": [
       "{'Accuracy': 0.8154882154882155,\n",
       " 'Precision': 0.8094540562664334,\n",
       " 'Recall': 0.8154882154882155,\n",
       " 'F1 Score': 0.8078731552830866}"
      ]
     },
     "execution_count": 207,
     "metadata": {},
     "output_type": "execute_result"
    }
   ],
   "source": [
    "get_scores(grid_bag, X_test_encoded, y_test)"
   ]
  },
  {
   "cell_type": "markdown",
   "metadata": {},
   "source": [
    "#### Random Forest Model"
   ]
  },
  {
   "cell_type": "code",
   "execution_count": 212,
   "metadata": {},
   "outputs": [],
   "source": [
    "param_forest = {\n",
    "    'max_depth': [30, 60],\n",
    "    'n_estimators': [100, 200, 300]}"
   ]
  },
  {
   "cell_type": "code",
   "execution_count": 214,
   "metadata": {},
   "outputs": [
    {
     "name": "stdout",
     "output_type": "stream",
     "text": [
      "Fitting 3 folds for each of 6 candidates, totalling 18 fits\n",
      "[CV] END .....................max_depth=30, n_estimators=100; total time=  38.7s\n",
      "[CV] END .....................max_depth=30, n_estimators=100; total time=  39.8s\n",
      "[CV] END .....................max_depth=30, n_estimators=100; total time=  41.5s\n",
      "[CV] END .....................max_depth=30, n_estimators=200; total time= 1.3min\n",
      "[CV] END .....................max_depth=30, n_estimators=200; total time= 1.3min\n",
      "[CV] END .....................max_depth=30, n_estimators=200; total time= 1.3min\n",
      "[CV] END .....................max_depth=30, n_estimators=300; total time= 1.9min\n",
      "[CV] END .....................max_depth=30, n_estimators=300; total time= 1.9min\n",
      "[CV] END .....................max_depth=30, n_estimators=300; total time= 1.9min\n",
      "[CV] END .....................max_depth=60, n_estimators=100; total time=  39.2s\n",
      "[CV] END .....................max_depth=60, n_estimators=100; total time=  38.9s\n",
      "[CV] END .....................max_depth=60, n_estimators=100; total time=  38.7s\n",
      "[CV] END .....................max_depth=60, n_estimators=200; total time= 1.3min\n",
      "[CV] END .....................max_depth=60, n_estimators=200; total time= 1.3min\n",
      "[CV] END .....................max_depth=60, n_estimators=200; total time= 1.3min\n",
      "[CV] END .....................max_depth=60, n_estimators=300; total time= 2.0min\n",
      "[CV] END .....................max_depth=60, n_estimators=300; total time= 1.9min\n",
      "[CV] END .....................max_depth=60, n_estimators=300; total time= 2.0min\n"
     ]
    },
    {
     "data": {
      "text/plain": [
       "GridSearchCV(cv=3, estimator=RandomForestClassifier(), n_jobs=1,\n",
       "             param_grid={'max_depth': [30, 60],\n",
       "                         'n_estimators': [100, 200, 300]},\n",
       "             scoring='accuracy', verbose=2)"
      ]
     },
     "execution_count": 214,
     "metadata": {},
     "output_type": "execute_result"
    }
   ],
   "source": [
    "grid_forest = GridSearchCV(RandomForestClassifier(),\n",
    "                           param_forest,\n",
    "                           scoring='accuracy',\n",
    "                           cv=3,\n",
    "                           n_jobs=1,\n",
    "                           verbose=2)\n",
    "grid_forest.fit(X_train_encoded, y_train)"
   ]
  },
  {
   "cell_type": "code",
   "execution_count": 215,
   "metadata": {},
   "outputs": [
    {
     "name": "stdout",
     "output_type": "stream",
     "text": [
      "Grid Search found the following optimal parameters: \n",
      "max_depth: 60\n",
      "n_estimators: 300\n"
     ]
    }
   ],
   "source": [
    "best_parameters = grid_forest.best_params_\n",
    "\n",
    "print('Grid Search found the following optimal parameters: ')\n",
    "for param_name in sorted(best_parameters.keys()):\n",
    "    print('%s: %r' % (param_name, best_parameters[param_name]))"
   ]
  },
  {
   "cell_type": "markdown",
   "metadata": {},
   "source": [
    "The optimal parameters in the grid performed only marginally better than the default"
   ]
  },
  {
   "cell_type": "code",
   "execution_count": 216,
   "metadata": {},
   "outputs": [
    {
     "data": {
      "text/plain": [
       "{'Accuracy': 0.8105723905723906,\n",
       " 'Precision': 0.8045263788416468,\n",
       " 'Recall': 0.8105723905723906,\n",
       " 'F1 Score': 0.8044390510280013}"
      ]
     },
     "execution_count": 216,
     "metadata": {},
     "output_type": "execute_result"
    }
   ],
   "source": [
    "get_scores(grid_forest, X_test_encoded, y_test)"
   ]
  },
  {
   "cell_type": "markdown",
   "metadata": {},
   "source": [
    "#### XGBoost"
   ]
  },
  {
   "cell_type": "code",
   "execution_count": 218,
   "metadata": {},
   "outputs": [],
   "source": [
    "param_xgb = {\n",
    "    'eta': [0.2],\n",
    "    'colsample_bytree': [0.3],\n",
    "    'max_depth': [10, 20, 30],\n",
    "    'n_estimators': [200, 400]}"
   ]
  },
  {
   "cell_type": "code",
   "execution_count": 219,
   "metadata": {},
   "outputs": [
    {
     "name": "stdout",
     "output_type": "stream",
     "text": [
      "Fitting 3 folds for each of 6 candidates, totalling 18 fits\n",
      "[CV] END colsample_bytree=0.3, eta=0.2, max_depth=10, n_estimators=200; total time=  15.9s\n",
      "[CV] END colsample_bytree=0.3, eta=0.2, max_depth=10, n_estimators=200; total time=  16.9s\n",
      "[CV] END colsample_bytree=0.3, eta=0.2, max_depth=10, n_estimators=200; total time=  16.8s\n",
      "[CV] END colsample_bytree=0.3, eta=0.2, max_depth=10, n_estimators=400; total time=  31.4s\n",
      "[CV] END colsample_bytree=0.3, eta=0.2, max_depth=10, n_estimators=400; total time=  33.1s\n",
      "[CV] END colsample_bytree=0.3, eta=0.2, max_depth=10, n_estimators=400; total time=  32.7s\n",
      "[CV] END colsample_bytree=0.3, eta=0.2, max_depth=20, n_estimators=200; total time=  30.9s\n",
      "[CV] END colsample_bytree=0.3, eta=0.2, max_depth=20, n_estimators=200; total time=  33.2s\n",
      "[CV] END colsample_bytree=0.3, eta=0.2, max_depth=20, n_estimators=200; total time=  33.2s\n",
      "[CV] END colsample_bytree=0.3, eta=0.2, max_depth=20, n_estimators=400; total time=  56.9s\n",
      "[CV] END colsample_bytree=0.3, eta=0.2, max_depth=20, n_estimators=400; total time= 1.0min\n",
      "[CV] END colsample_bytree=0.3, eta=0.2, max_depth=20, n_estimators=400; total time= 1.0min\n",
      "[CV] END colsample_bytree=0.3, eta=0.2, max_depth=30, n_estimators=200; total time=  38.6s\n",
      "[CV] END colsample_bytree=0.3, eta=0.2, max_depth=30, n_estimators=200; total time=  41.7s\n",
      "[CV] END colsample_bytree=0.3, eta=0.2, max_depth=30, n_estimators=200; total time=  41.5s\n",
      "[CV] END colsample_bytree=0.3, eta=0.2, max_depth=30, n_estimators=400; total time= 1.2min\n",
      "[CV] END colsample_bytree=0.3, eta=0.2, max_depth=30, n_estimators=400; total time= 1.3min\n",
      "[CV] END colsample_bytree=0.3, eta=0.2, max_depth=30, n_estimators=400; total time= 1.3min\n"
     ]
    },
    {
     "data": {
      "text/plain": [
       "GridSearchCV(cv=3,\n",
       "             estimator=XGBClassifier(base_score=None, booster=None,\n",
       "                                     colsample_bylevel=None,\n",
       "                                     colsample_bynode=None,\n",
       "                                     colsample_bytree=None,\n",
       "                                     enable_categorical=False,\n",
       "                                     eval_metric='mlogloss', gamma=None,\n",
       "                                     gpu_id=None, importance_type=None,\n",
       "                                     interaction_constraints=None,\n",
       "                                     learning_rate=None, max_delta_step=None,\n",
       "                                     max_depth=None, min_child_weight=None,\n",
       "                                     missing=nan, mon...\n",
       "                                     n_estimators=100, n_jobs=None,\n",
       "                                     num_parallel_tree=None, predictor=None,\n",
       "                                     random_state=None, reg_alpha=None,\n",
       "                                     reg_lambda=None, scale_pos_weight=None,\n",
       "                                     subsample=None, tree_method=None,\n",
       "                                     use_label_encoder=False,\n",
       "                                     validate_parameters=None, verbosity=None),\n",
       "             n_jobs=1,\n",
       "             param_grid={'colsample_bytree': [0.3], 'eta': [0.2],\n",
       "                         'max_depth': [10, 20, 30],\n",
       "                         'n_estimators': [200, 400]},\n",
       "             scoring='accuracy', verbose=2)"
      ]
     },
     "execution_count": 219,
     "metadata": {},
     "output_type": "execute_result"
    }
   ],
   "source": [
    "grid_xgb = GridSearchCV(XGBClassifier(eval_metric= 'mlogloss', use_label_encoder = False),\n",
    "                           param_xgb,\n",
    "                           scoring='accuracy',\n",
    "                           cv=3,\n",
    "                           n_jobs=1,\n",
    "                           verbose=2)\n",
    "grid_xgb.fit(X_train_encoded, y_train)"
   ]
  },
  {
   "cell_type": "code",
   "execution_count": 220,
   "metadata": {},
   "outputs": [
    {
     "name": "stdout",
     "output_type": "stream",
     "text": [
      "Grid Search found the following optimal parameters: \n",
      "colsample_bytree: 0.3\n",
      "eta: 0.2\n",
      "max_depth: 10\n",
      "n_estimators: 200\n"
     ]
    }
   ],
   "source": [
    "best_parameters = grid_xgb.best_params_\n",
    "\n",
    "print('Grid Search found the following optimal parameters: ')\n",
    "for param_name in sorted(best_parameters.keys()):\n",
    "    print('%s: %r' % (param_name, best_parameters[param_name]))"
   ]
  },
  {
   "cell_type": "markdown",
   "metadata": {},
   "source": [
    "The tuned model is about 2% better than the untuned one."
   ]
  },
  {
   "cell_type": "code",
   "execution_count": 221,
   "metadata": {},
   "outputs": [
    {
     "data": {
      "text/plain": [
       "{'Accuracy': 0.8097643097643098,\n",
       " 'Precision': 0.8025225706345431,\n",
       " 'Recall': 0.8097643097643098,\n",
       " 'F1 Score': 0.8015831975904446}"
      ]
     },
     "execution_count": 221,
     "metadata": {},
     "output_type": "execute_result"
    }
   ],
   "source": [
    "get_scores(grid_xgb, X_test_encoded, y_test)"
   ]
  },
  {
   "cell_type": "markdown",
   "metadata": {},
   "source": [
    "#### Catboost"
   ]
  },
  {
   "cell_type": "code",
   "execution_count": 236,
   "metadata": {},
   "outputs": [],
   "source": [
    "param_cat = {\n",
    "    'iterations': [1000, 2000],\n",
    "    'max_depth': [7, 9],\n",
    "    'rsm': [0.2, 0.3]}"
   ]
  },
  {
   "cell_type": "code",
   "execution_count": 238,
   "metadata": {},
   "outputs": [
    {
     "name": "stdout",
     "output_type": "stream",
     "text": [
      "Fitting 3 folds for each of 8 candidates, totalling 24 fits\n",
      "[CV] END ..............iterations=1000, max_depth=7, rsm=0.2; total time=  18.5s\n",
      "[CV] END ..............iterations=1000, max_depth=7, rsm=0.2; total time=  17.2s\n",
      "[CV] END ..............iterations=1000, max_depth=7, rsm=0.2; total time=  17.1s\n",
      "[CV] END ..............iterations=1000, max_depth=7, rsm=0.3; total time=  19.4s\n",
      "[CV] END ..............iterations=1000, max_depth=7, rsm=0.3; total time=  17.1s\n",
      "[CV] END ..............iterations=1000, max_depth=7, rsm=0.3; total time=  16.7s\n",
      "[CV] END ..............iterations=1000, max_depth=9, rsm=0.2; total time=  27.1s\n",
      "[CV] END ..............iterations=1000, max_depth=9, rsm=0.2; total time=  26.3s\n",
      "[CV] END ..............iterations=1000, max_depth=9, rsm=0.2; total time=  25.8s\n",
      "[CV] END ..............iterations=1000, max_depth=9, rsm=0.3; total time=  29.4s\n",
      "[CV] END ..............iterations=1000, max_depth=9, rsm=0.3; total time=  29.4s\n",
      "[CV] END ..............iterations=1000, max_depth=9, rsm=0.3; total time=  29.9s\n",
      "[CV] END ..............iterations=2000, max_depth=7, rsm=0.2; total time=  33.5s\n",
      "[CV] END ..............iterations=2000, max_depth=7, rsm=0.2; total time=  33.0s\n",
      "[CV] END ..............iterations=2000, max_depth=7, rsm=0.2; total time=  37.0s\n",
      "[CV] END ..............iterations=2000, max_depth=7, rsm=0.3; total time=  34.5s\n",
      "[CV] END ..............iterations=2000, max_depth=7, rsm=0.3; total time=  37.0s\n",
      "[CV] END ..............iterations=2000, max_depth=7, rsm=0.3; total time=  37.7s\n",
      "[CV] END ..............iterations=2000, max_depth=9, rsm=0.2; total time=  59.4s\n",
      "[CV] END ..............iterations=2000, max_depth=9, rsm=0.2; total time=  58.4s\n",
      "[CV] END ..............iterations=2000, max_depth=9, rsm=0.2; total time=  54.0s\n",
      "[CV] END ..............iterations=2000, max_depth=9, rsm=0.3; total time= 1.0min\n",
      "[CV] END ..............iterations=2000, max_depth=9, rsm=0.3; total time= 1.1min\n",
      "[CV] END ..............iterations=2000, max_depth=9, rsm=0.3; total time= 1.0min\n"
     ]
    },
    {
     "data": {
      "text/plain": [
       "GridSearchCV(cv=3,\n",
       "             estimator=<catboost.core.CatBoostClassifier object at 0x000002115C2BDA30>,\n",
       "             n_jobs=1,\n",
       "             param_grid={'iterations': [1000, 2000], 'max_depth': [7, 9],\n",
       "                         'rsm': [0.2, 0.3]},\n",
       "             scoring='accuracy', verbose=2)"
      ]
     },
     "execution_count": 238,
     "metadata": {},
     "output_type": "execute_result"
    }
   ],
   "source": [
    "grid_cat = GridSearchCV(CatBoostClassifier(loss_function='MultiClass', verbose=False),\n",
    "                        param_cat,\n",
    "                        scoring='accuracy',\n",
    "                        cv=3,\n",
    "                        n_jobs=1,\n",
    "                        verbose=2)\n",
    "grid_cat.fit(X_train_encoded, y_train)"
   ]
  },
  {
   "cell_type": "code",
   "execution_count": 240,
   "metadata": {},
   "outputs": [
    {
     "name": "stdout",
     "output_type": "stream",
     "text": [
      "Grid Search found the following optimal parameters: \n",
      "iterations: 2000\n",
      "max_depth: 9\n",
      "rsm: 0.2\n"
     ]
    }
   ],
   "source": [
    "best_parameters = grid_cat.best_params_\n",
    "\n",
    "print('Grid Search found the following optimal parameters: ')\n",
    "for param_name in sorted(best_parameters.keys()):\n",
    "    print('%s: %r' % (param_name, best_parameters[param_name]))"
   ]
  },
  {
   "cell_type": "code",
   "execution_count": 239,
   "metadata": {},
   "outputs": [
    {
     "data": {
      "text/plain": [
       "{'Accuracy': 0.8035690235690236,\n",
       " 'Precision': 0.7963039095904026,\n",
       " 'Recall': 0.8035690235690236,\n",
       " 'F1 Score': 0.7954789679855238}"
      ]
     },
     "execution_count": 239,
     "metadata": {},
     "output_type": "execute_result"
    }
   ],
   "source": [
    "get_scores(grid_cat, X_test_encoded, y_test)"
   ]
  },
  {
   "cell_type": "markdown",
   "metadata": {},
   "source": [
    "## Voting Model"
   ]
  },
  {
   "cell_type": "code",
   "execution_count": 241,
   "metadata": {},
   "outputs": [],
   "source": [
    "from sklearn.ensemble import VotingClassifier"
   ]
  },
  {
   "cell_type": "code",
   "execution_count": 242,
   "metadata": {},
   "outputs": [],
   "source": [
    "tuned_bag = BaggingClassifier(DecisionTreeClassifier(),max_features=0.4, n_estimators=1000)\n",
    "tuned_forest = RandomForestClassifier(max_depth=60, n_estimators=300)\n",
    "tuned_xgb = XGBClassifier(eval_metric='mlogloss',\n",
    "                          use_label_encoder=False,\n",
    "                          colsample_bytree=0.3,\n",
    "                          eta=0.2,\n",
    "                          max_depth=10,\n",
    "                          n_estimators=200)\n",
    "tuned_cat = CatBoostClassifier(loss_function='MultiClass',\n",
    "                               verbose=False,\n",
    "                               iterations=2000,\n",
    "                               max_depth=9,\n",
    "                               rsm=0.2)"
   ]
  },
  {
   "cell_type": "code",
   "execution_count": 244,
   "metadata": {},
   "outputs": [
    {
     "data": {
      "text/plain": [
       "VotingClassifier(estimators=[('bag',\n",
       "                              BaggingClassifier(base_estimator=DecisionTreeClassifier(),\n",
       "                                                max_features=0.4,\n",
       "                                                n_estimators=1000)),\n",
       "                             ('forest',\n",
       "                              RandomForestClassifier(max_depth=60,\n",
       "                                                     n_estimators=300)),\n",
       "                             ('xbg',\n",
       "                              XGBClassifier(base_score=None, booster=None,\n",
       "                                            colsample_bylevel=None,\n",
       "                                            colsample_bynode=None,\n",
       "                                            colsample_bytree=0.3,\n",
       "                                            enable_categorical=False, eta=0.2,\n",
       "                                            eval_...\n",
       "                                            min_child_weight=None, missing=nan,\n",
       "                                            monotone_constraints=None,\n",
       "                                            n_estimators=200, n_jobs=None,\n",
       "                                            num_parallel_tree=None,\n",
       "                                            predictor=None, random_state=None,\n",
       "                                            reg_alpha=None, reg_lambda=None,\n",
       "                                            scale_pos_weight=None,\n",
       "                                            subsample=None, tree_method=None,\n",
       "                                            use_label_encoder=False,\n",
       "                                            validate_parameters=None, ...)),\n",
       "                             ('cat',\n",
       "                              <catboost.core.CatBoostClassifier object at 0x0000021161732400>)],\n",
       "                 voting='soft')"
      ]
     },
     "execution_count": 244,
     "metadata": {},
     "output_type": "execute_result"
    }
   ],
   "source": [
    "vote = VotingClassifier(estimators=[('bag', tuned_bag),\n",
    "                                    ('forest', tuned_forest),\n",
    "                                    ('xbg', tuned_xgb),\n",
    "                                    ('cat', tuned_cat)],\n",
    "                        voting='soft')\n",
    "vote.fit(X_train_encoded, y_train)"
   ]
  },
  {
   "cell_type": "code",
   "execution_count": 245,
   "metadata": {},
   "outputs": [
    {
     "data": {
      "text/plain": [
       "{'Accuracy': 0.8156902356902357,\n",
       " 'Precision': 0.8097024238032882,\n",
       " 'Recall': 0.8156902356902357,\n",
       " 'F1 Score': 0.8081592793552759}"
      ]
     },
     "execution_count": 245,
     "metadata": {},
     "output_type": "execute_result"
    }
   ],
   "source": [
    "get_scores(vote, X_test_encoded, y_test)"
   ]
  },
  {
   "cell_type": "code",
   "execution_count": null,
   "metadata": {},
   "outputs": [],
   "source": []
  }
 ],
 "metadata": {
  "kernelspec": {
   "display_name": "Python 3",
   "language": "python",
   "name": "python3"
  },
  "language_info": {
   "codemirror_mode": {
    "name": "ipython",
    "version": 3
   },
   "file_extension": ".py",
   "mimetype": "text/x-python",
   "name": "python",
   "nbconvert_exporter": "python",
   "pygments_lexer": "ipython3",
   "version": "3.8.5"
  }
 },
 "nbformat": 4,
 "nbformat_minor": 2
}
