{
 "cells": [
  {
   "cell_type": "markdown",
   "metadata": {},
   "source": [
    "# Modeling the Data"
   ]
  },
  {
   "cell_type": "code",
   "execution_count": 47,
   "metadata": {},
   "outputs": [],
   "source": [
    "import pandas as pd\n",
    "import numpy as np\n",
    "import code.data_preparation as dp\n",
    "from sklearn.model_selection import train_test_split, GridSearchCV\n",
    "from sklearn.preprocessing import StandardScaler, LabelEncoder, OneHotEncoder, OrdinalEncoder\n",
    "from sklearn.linear_model import LogisticRegression\n",
    "from sklearn.compose import ColumnTransformer\n",
    "from sklearn.pipeline import Pipeline\n",
    "from sklearn.metrics import accuracy_score, recall_score, f1_score, precision_score\n",
    "from sklearn.metrics import confusion_matrix, ConfusionMatrixDisplay\n",
    "from imblearn.over_sampling import SMOTE, ADASYN\n",
    "from sklearn.tree import DecisionTreeClassifier\n",
    "from sklearn.ensemble import BaggingClassifier, RandomForestClassifier,  VotingClassifier\n",
    "from xgboost import XGBClassifier\n",
    "from catboost import CatBoostClassifier, Pool\n",
    "import matplotlib.pyplot as plt\n",
    "plt.style.use('seaborn')"
   ]
  },
  {
   "cell_type": "markdown",
   "metadata": {},
   "source": [
    "## Loading Data"
   ]
  },
  {
   "cell_type": "markdown",
   "metadata": {},
   "source": [
    "The training data has already been cleaned, but not encoded."
   ]
  },
  {
   "cell_type": "code",
   "execution_count": 8,
   "metadata": {},
   "outputs": [],
   "source": [
    "with open('data/clean_training_values.pickle', 'rb') as file:\n",
    "    X = pickle.load(file)"
   ]
  },
  {
   "cell_type": "code",
   "execution_count": 5,
   "metadata": {},
   "outputs": [
    {
     "data": {
      "text/html": [
       "<div>\n",
       "<style scoped>\n",
       "    .dataframe tbody tr th:only-of-type {\n",
       "        vertical-align: middle;\n",
       "    }\n",
       "\n",
       "    .dataframe tbody tr th {\n",
       "        vertical-align: top;\n",
       "    }\n",
       "\n",
       "    .dataframe thead th {\n",
       "        text-align: right;\n",
       "    }\n",
       "</style>\n",
       "<table border=\"1\" class=\"dataframe\">\n",
       "  <thead>\n",
       "    <tr style=\"text-align: right;\">\n",
       "      <th></th>\n",
       "      <th>id</th>\n",
       "      <th>status_group</th>\n",
       "    </tr>\n",
       "  </thead>\n",
       "  <tbody>\n",
       "    <tr>\n",
       "      <th>0</th>\n",
       "      <td>69572</td>\n",
       "      <td>functional</td>\n",
       "    </tr>\n",
       "    <tr>\n",
       "      <th>1</th>\n",
       "      <td>8776</td>\n",
       "      <td>functional</td>\n",
       "    </tr>\n",
       "    <tr>\n",
       "      <th>2</th>\n",
       "      <td>34310</td>\n",
       "      <td>functional</td>\n",
       "    </tr>\n",
       "    <tr>\n",
       "      <th>3</th>\n",
       "      <td>67743</td>\n",
       "      <td>non functional</td>\n",
       "    </tr>\n",
       "    <tr>\n",
       "      <th>4</th>\n",
       "      <td>19728</td>\n",
       "      <td>functional</td>\n",
       "    </tr>\n",
       "  </tbody>\n",
       "</table>\n",
       "</div>"
      ],
      "text/plain": [
       "      id    status_group\n",
       "0  69572      functional\n",
       "1   8776      functional\n",
       "2  34310      functional\n",
       "3  67743  non functional\n",
       "4  19728      functional"
      ]
     },
     "execution_count": 5,
     "metadata": {},
     "output_type": "execute_result"
    }
   ],
   "source": [
    "train_labels = pd.read_csv('data/training_set_labels.csv')\n",
    "train_labels.head()"
   ]
  },
  {
   "cell_type": "markdown",
   "metadata": {},
   "source": [
    "There are three possible labels for the data. There is some unbalance in the label data with significantly fewer \"functional needs repair\" values."
   ]
  },
  {
   "cell_type": "code",
   "execution_count": 7,
   "metadata": {},
   "outputs": [
    {
     "data": {
      "text/plain": [
       "functional                 32259\n",
       "non functional             22824\n",
       "functional needs repair     4317\n",
       "Name: status_group, dtype: int64"
      ]
     },
     "execution_count": 7,
     "metadata": {},
     "output_type": "execute_result"
    }
   ],
   "source": [
    "train_labels.status_group.value_counts()"
   ]
  },
  {
   "cell_type": "markdown",
   "metadata": {},
   "source": [
    "## Building a Base Model"
   ]
  },
  {
   "cell_type": "markdown",
   "metadata": {},
   "source": [
    "To begin, let's see how well a logistic model run with the categorical data label encoded performs and use that as our baseline."
   ]
  },
  {
   "cell_type": "markdown",
   "metadata": {},
   "source": [
    "We will stratify the data when performing the split so we get an equal proportion of each class in the trains and testing data, so there is enough of the rarer needs repair data in both sets of data."
   ]
  },
  {
   "cell_type": "code",
   "execution_count": 10,
   "metadata": {},
   "outputs": [],
   "source": [
    "y_label = LabelEncoder()\n",
    "y = y_label.fit_transform(train_labels['status_group'])\n",
    "X_train, X_test, y_train, y_test = train_test_split(X, y, random_state=42, stratify=y)"
   ]
  },
  {
   "cell_type": "code",
   "execution_count": 18,
   "metadata": {},
   "outputs": [
    {
     "data": {
      "text/plain": [
       "array(['functional', 'functional needs repair', 'non functional'],\n",
       "      dtype=object)"
      ]
     },
     "execution_count": 18,
     "metadata": {},
     "output_type": "execute_result"
    }
   ],
   "source": [
    "y_label.classes_"
   ]
  },
  {
   "cell_type": "code",
   "execution_count": 19,
   "metadata": {},
   "outputs": [],
   "source": [
    "num_fun = sum(train_labels['status_group'] == 'functional')\n",
    "num_repair = sum(train_labels['status_group'] == 'functional needs repair')\n",
    "num_nonfun = sum(train_labels['status_group'] == 'non functional')"
   ]
  },
  {
   "cell_type": "markdown",
   "metadata": {},
   "source": [
    "To deal with the class imbalence in the baseline model we will weight the data proportional to how frequent it is in the original training data."
   ]
  },
  {
   "cell_type": "code",
   "execution_count": 20,
   "metadata": {},
   "outputs": [],
   "source": [
    "weights = {0: 1, 1: num_fun/num_repair, 2: num_fun/num_nonfun}"
   ]
  },
  {
   "cell_type": "code",
   "execution_count": 21,
   "metadata": {},
   "outputs": [],
   "source": [
    "categorical_cols = X.select_dtypes('object').columns"
   ]
  },
  {
   "cell_type": "code",
   "execution_count": 22,
   "metadata": {},
   "outputs": [],
   "source": [
    "ct_ordinal = ColumnTransformer(transformers=[(\"ord\", \n",
    "                                              OrdinalEncoder(handle_unknown='use_encoded_value', unknown_value=-1), \n",
    "                                              categorical_cols)],\n",
    "                               remainder=\"passthrough\")"
   ]
  },
  {
   "cell_type": "code",
   "execution_count": 23,
   "metadata": {},
   "outputs": [
    {
     "data": {
      "text/plain": [
       "Pipeline(steps=[('encode',\n",
       "                 ColumnTransformer(remainder='passthrough',\n",
       "                                   transformers=[('ord',\n",
       "                                                  OrdinalEncoder(handle_unknown='use_encoded_value',\n",
       "                                                                 unknown_value=-1),\n",
       "                                                  Index(['funder', 'installer', 'basin', 'region', 'lga', 'ward',\n",
       "       'scheme_management', 'extraction_type', 'extraction_type_class',\n",
       "       'management', 'management_group', 'payment', 'water_quality',\n",
       "       'quantity', 'source', 'source_class', 'waterpoint_type',\n",
       "       'region_district', 'season'],\n",
       "      dtype='object'))])),\n",
       "                ('scale', StandardScaler()),\n",
       "                ('model',\n",
       "                 LogisticRegression(class_weight={0: 1, 1: 7.472550382209868,\n",
       "                                                  2: 1.4133806519453207},\n",
       "                                    multi_class='multinomial'))])"
      ]
     },
     "execution_count": 23,
     "metadata": {},
     "output_type": "execute_result"
    }
   ],
   "source": [
    "pipe_log = Pipeline(steps=[\n",
    "    (\"encode\", ct_ordinal),\n",
    "    (\"scale\", StandardScaler()),\n",
    "    (\"model\", LogisticRegression(class_weight = weights, multi_class='multinomial'))])\n",
    "pipe_log.fit(X_train, y_train)"
   ]
  },
  {
   "cell_type": "markdown",
   "metadata": {},
   "source": [
    "The logistic regression model is not great with only an accuracy of around 54.5%."
   ]
  },
  {
   "cell_type": "code",
   "execution_count": 24,
   "metadata": {},
   "outputs": [
    {
     "data": {
      "text/plain": [
       "{'Accuracy': 0.5459259259259259,\n",
       " 'Precision': 0.6507697296102671,\n",
       " 'Recall': 0.5459259259259259,\n",
       " 'F1 Score': 0.5780690518790639}"
      ]
     },
     "execution_count": 24,
     "metadata": {},
     "output_type": "execute_result"
    }
   ],
   "source": [
    "dp.get_scores(pipe_log, X_test, y_test)"
   ]
  },
  {
   "cell_type": "code",
   "execution_count": 25,
   "metadata": {},
   "outputs": [
    {
     "data": {
      "image/png": "[encoded data removed]",
      "text/plain": [
       "<Figure size 576x396 with 2 Axes>"
      ]
     },
     "metadata": {},
     "output_type": "display_data"
    }
   ],
   "source": [
    "ConfusionMatrixDisplay.from_estimator(pipe_log, X_test, y_test, display_labels=y_label.classes_, cmap=\"Greens\")\n",
    "plt.grid(False)\n",
    "plt.show()"
   ]
  },
  {
   "cell_type": "markdown",
   "metadata": {},
   "source": [
    "## Improving the Model"
   ]
  },
  {
   "cell_type": "markdown",
   "metadata": {},
   "source": [
    "#### *One-Hot Encoding*"
   ]
  },
  {
   "cell_type": "markdown",
   "metadata": {},
   "source": [
    "To begin let's see how the model's performance changes with a different method of encoding before seeing whether another method of modelind the data would be more effective. We will try one hot encoding all the columns with few than 30 categories."
   ]
  },
  {
   "cell_type": "code",
   "execution_count": 35,
   "metadata": {},
   "outputs": [
    {
     "data": {
      "text/plain": [
       "['basin',\n",
       " 'region',\n",
       " 'scheme_management',\n",
       " 'extraction_type',\n",
       " 'extraction_type_class',\n",
       " 'management',\n",
       " 'management_group',\n",
       " 'payment',\n",
       " 'water_quality',\n",
       " 'quantity',\n",
       " 'source',\n",
       " 'source_class',\n",
       " 'waterpoint_type',\n",
       " 'season']"
      ]
     },
     "execution_count": 35,
     "metadata": {},
     "output_type": "execute_result"
    }
   ],
   "source": [
    "one_hot_cat = [col for col in X.columns if (X[col].dtype == 'O' and len(X[col].unique()) < 30)]\n",
    "one_hot_cat"
   ]
  },
  {
   "cell_type": "code",
   "execution_count": 36,
   "metadata": {},
   "outputs": [
    {
     "data": {
      "text/plain": [
       "['funder', 'installer', 'lga', 'ward', 'region_district']"
      ]
     },
     "execution_count": 36,
     "metadata": {},
     "output_type": "execute_result"
    }
   ],
   "source": [
    "label_cat = [col for col in X.columns if (X[col].dtype == 'O' and len(X[col].unique()) >= 30)]\n",
    "label_cat"
   ]
  },
  {
   "cell_type": "code",
   "execution_count": 37,
   "metadata": {},
   "outputs": [],
   "source": [
    "ct_mixed = ColumnTransformer(transformers=[(\"ord\", \n",
    "                                              OrdinalEncoder(handle_unknown='use_encoded_value', unknown_value=-1), \n",
    "                                              label_cat), ('ohe', OneHotEncoder(handle_unknown='ignore'), one_hot_cat)],\n",
    "                               remainder=\"passthrough\")"
   ]
  },
  {
   "cell_type": "code",
   "execution_count": 147,
   "metadata": {},
   "outputs": [
    {
     "data": {
      "text/plain": [
       "Pipeline(steps=[('encode',\n",
       "                 ColumnTransformer(remainder='passthrough',\n",
       "                                   transformers=[('ord',\n",
       "                                                  OrdinalEncoder(handle_unknown='use_encoded_value',\n",
       "                                                                 unknown_value=-1),\n",
       "                                                  ['funder', 'installer', 'lga',\n",
       "                                                   'ward', 'region_district']),\n",
       "                                                 ('ohe',\n",
       "                                                  OneHotEncoder(handle_unknown='ignore'),\n",
       "                                                  ['basin', 'region',\n",
       "                                                   'scheme_management',\n",
       "                                                   'extraction_type',\n",
       "                                                   'extraction_type_class',\n",
       "                                                   'management',\n",
       "                                                   'management_group',\n",
       "                                                   'payment', 'water_quality',\n",
       "                                                   'quantity', 'source',\n",
       "                                                   'source_class',\n",
       "                                                   'waterpoint_type',\n",
       "                                                   'season'])])),\n",
       "                ('scale', StandardScaler(with_mean=False)),\n",
       "                ('model',\n",
       "                 LogisticRegression(class_weight={0: 1, 1: 7.472550382209868,\n",
       "                                                  2: 1.4133806519453207},\n",
       "                                    max_iter=5000,\n",
       "                                    multi_class='multinomial'))])"
      ]
     },
     "execution_count": 147,
     "metadata": {},
     "output_type": "execute_result"
    }
   ],
   "source": [
    "pipe_log_ohe = Pipeline(steps=[\n",
    "    (\"encode\", ct_mixed),\n",
    "    (\"scale\", StandardScaler(with_mean=False)),\n",
    "    (\"model\", LogisticRegression(class_weight = weights, multi_class='multinomial', max_iter=5000))])\n",
    "pipe_log_ohe.fit(X_train, y_train)"
   ]
  },
  {
   "cell_type": "markdown",
   "metadata": {},
   "source": [
    "This took more iterations to converge, but is doing around 9% better."
   ]
  },
  {
   "cell_type": "code",
   "execution_count": 148,
   "metadata": {},
   "outputs": [
    {
     "data": {
      "text/plain": [
       "{'Accuracy': 0.6345454545454545,\n",
       " 'Precision': 0.7444756675328776,\n",
       " 'Recall': 0.6345454545454545,\n",
       " 'F1 Score': 0.6721300450642491}"
      ]
     },
     "execution_count": 148,
     "metadata": {},
     "output_type": "execute_result"
    }
   ],
   "source": [
    "dp.get_scores(pipe_log_ohe, X_test, y_test)"
   ]
  },
  {
   "cell_type": "code",
   "execution_count": 149,
   "metadata": {},
   "outputs": [
    {
     "data": {
      "image/png": "[encoded data removed]",
      "text/plain": [
       "<Figure size 576x396 with 2 Axes>"
      ]
     },
     "metadata": {},
     "output_type": "display_data"
    }
   ],
   "source": [
    "ConfusionMatrixDisplay.from_estimator(pipe_log_ohe, X_test, y_test, display_labels=y_label.classes_, cmap=\"Greens\")\n",
    "plt.grid(False)\n",
    "plt.show()"
   ]
  },
  {
   "cell_type": "markdown",
   "metadata": {},
   "source": [
    "#### *Decision Tree*"
   ]
  },
  {
   "cell_type": "code",
   "execution_count": 151,
   "metadata": {},
   "outputs": [
    {
     "data": {
      "text/plain": [
       "Pipeline(steps=[('encode',\n",
       "                 ColumnTransformer(remainder='passthrough',\n",
       "                                   transformers=[('ord',\n",
       "                                                  OrdinalEncoder(handle_unknown='use_encoded_value',\n",
       "                                                                 unknown_value=-1),\n",
       "                                                  ['funder', 'installer', 'lga',\n",
       "                                                   'ward', 'region_district']),\n",
       "                                                 ('ohe',\n",
       "                                                  OneHotEncoder(handle_unknown='ignore'),\n",
       "                                                  ['basin', 'region',\n",
       "                                                   'scheme_management',\n",
       "                                                   'extraction_type',\n",
       "                                                   'extraction_type_class',\n",
       "                                                   'management',\n",
       "                                                   'management_group',\n",
       "                                                   'payment', 'water_quality',\n",
       "                                                   'quantity', 'source',\n",
       "                                                   'source_class',\n",
       "                                                   'waterpoint_type',\n",
       "                                                   'season'])])),\n",
       "                ('scale', StandardScaler(with_mean=False)),\n",
       "                ('model', DecisionTreeClassifier())])"
      ]
     },
     "execution_count": 151,
     "metadata": {},
     "output_type": "execute_result"
    }
   ],
   "source": [
    "pipe_tree = Pipeline(steps=[\n",
    "    (\"encode\", ct_mixed),\n",
    "    (\"scale\", StandardScaler(with_mean=False)),\n",
    "    (\"model\", DecisionTreeClassifier())])\n",
    "pipe_tree.fit(X_train, y_train)"
   ]
  },
  {
   "cell_type": "markdown",
   "metadata": {},
   "source": [
    "The decision tree performs about 11% better than the logistic model, but since it wasn't weighted like the logistic model it is doing worse on the rare 'needs repair\" class."
   ]
  },
  {
   "cell_type": "code",
   "execution_count": 152,
   "metadata": {},
   "outputs": [
    {
     "data": {
      "text/plain": [
       "{'Accuracy': 0.7554208754208754,\n",
       " 'Precision': 0.7568769941452078,\n",
       " 'Recall': 0.7554208754208754,\n",
       " 'F1 Score': 0.7561327389821247}"
      ]
     },
     "execution_count": 152,
     "metadata": {},
     "output_type": "execute_result"
    }
   ],
   "source": [
    "dp.get_scores(pipe_tree, X_test, y_test)"
   ]
  },
  {
   "cell_type": "code",
   "execution_count": 153,
   "metadata": {},
   "outputs": [
    {
     "data": {
      "image/png": "[encoded data removed]",
      "text/plain": [
       "<Figure size 576x396 with 2 Axes>"
      ]
     },
     "metadata": {},
     "output_type": "display_data"
    }
   ],
   "source": [
    "ConfusionMatrixDisplay.from_estimator(pipe_tree, X_test, y_test, display_labels=y_label.classes_, cmap=\"Greens\")\n",
    "plt.grid(False)\n",
    "plt.show()"
   ]
  },
  {
   "cell_type": "markdown",
   "metadata": {},
   "source": [
    "Let's deal with the class imbalance issue by using oversampling with SMOTE."
   ]
  },
  {
   "cell_type": "code",
   "execution_count": 154,
   "metadata": {},
   "outputs": [],
   "source": [
    "pipe_presamp = Pipeline(steps=[(\"encode\", ct_mixed),\n",
    "                               (\"scale\", StandardScaler(with_mean=False))])\n",
    "X_train_encoded = pipe_presamp.fit_transform(X_train)"
   ]
  },
  {
   "cell_type": "code",
   "execution_count": 155,
   "metadata": {},
   "outputs": [],
   "source": [
    "sm = SMOTE()\n",
    "X_train_resampled, y_train_resampled = sm.fit_sample(X_train_encoded, y_train) "
   ]
  },
  {
   "cell_type": "code",
   "execution_count": 156,
   "metadata": {},
   "outputs": [
    {
     "name": "stdout",
     "output_type": "stream",
     "text": [
      "2    24194\n",
      "1    24194\n",
      "0    24194\n",
      "dtype: int64\n"
     ]
    }
   ],
   "source": [
    "print(pd.Series(y_train_resampled).value_counts()) "
   ]
  },
  {
   "cell_type": "code",
   "execution_count": 157,
   "metadata": {},
   "outputs": [
    {
     "data": {
      "text/plain": [
       "DecisionTreeClassifier()"
      ]
     },
     "execution_count": 157,
     "metadata": {},
     "output_type": "execute_result"
    }
   ],
   "source": [
    "over_tree = DecisionTreeClassifier()\n",
    "over_tree.fit(X_train_resampled, y_train_resampled)"
   ]
  },
  {
   "cell_type": "markdown",
   "metadata": {},
   "source": [
    "The oversampled model does a bit better on the needs repair class, but with a small drop in overall accuracy."
   ]
  },
  {
   "cell_type": "code",
   "execution_count": 158,
   "metadata": {},
   "outputs": [
    {
     "data": {
      "text/plain": [
       "{'Accuracy': 0.748013468013468,\n",
       " 'Precision': 0.756697106662385,\n",
       " 'Recall': 0.748013468013468,\n",
       " 'F1 Score': 0.7519009596617102}"
      ]
     },
     "execution_count": 158,
     "metadata": {},
     "output_type": "execute_result"
    }
   ],
   "source": [
    "X_test_encoded = pipe_presamp.transform(X_test)\n",
    "dp.get_scores(over_tree, X_test_encoded, y_test)"
   ]
  },
  {
   "cell_type": "code",
   "execution_count": 159,
   "metadata": {},
   "outputs": [
    {
     "data": {
      "image/png": "[encoded data removed]",
      "text/plain": [
       "<Figure size 576x396 with 2 Axes>"
      ]
     },
     "metadata": {},
     "output_type": "display_data"
    }
   ],
   "source": [
    "ConfusionMatrixDisplay.from_estimator(over_tree, X_test_encoded, y_test, display_labels=y_label.classes_, cmap=\"Greens\")\n",
    "plt.grid(False)\n",
    "plt.show()"
   ]
  },
  {
   "cell_type": "markdown",
   "metadata": {},
   "source": [
    "#### *Bagged Tree*"
   ]
  },
  {
   "cell_type": "code",
   "execution_count": 160,
   "metadata": {},
   "outputs": [
    {
     "data": {
      "text/plain": [
       "Pipeline(steps=[('encode',\n",
       "                 ColumnTransformer(remainder='passthrough',\n",
       "                                   transformers=[('ord',\n",
       "                                                  OrdinalEncoder(handle_unknown='use_encoded_value',\n",
       "                                                                 unknown_value=-1),\n",
       "                                                  ['funder', 'installer', 'lga',\n",
       "                                                   'ward', 'region_district']),\n",
       "                                                 ('ohe',\n",
       "                                                  OneHotEncoder(handle_unknown='ignore'),\n",
       "                                                  ['basin', 'region',\n",
       "                                                   'scheme_management',\n",
       "                                                   'extraction_type',\n",
       "                                                   'extraction_type_class',\n",
       "                                                   'management',\n",
       "                                                   'management_group',\n",
       "                                                   'payment', 'water_quality',\n",
       "                                                   'quantity', 'source',\n",
       "                                                   'source_class',\n",
       "                                                   'waterpoint_type',\n",
       "                                                   'season'])])),\n",
       "                ('scale', StandardScaler(with_mean=False)),\n",
       "                ('model',\n",
       "                 BaggingClassifier(base_estimator=DecisionTreeClassifier(),\n",
       "                                   n_estimators=20))])"
      ]
     },
     "execution_count": 160,
     "metadata": {},
     "output_type": "execute_result"
    }
   ],
   "source": [
    "pipe_bag_tree = Pipeline(steps=[\n",
    "    (\"encode\", ct_mixed),\n",
    "    (\"scale\", StandardScaler(with_mean=False)),\n",
    "    (\"model\", BaggingClassifier(DecisionTreeClassifier(), n_estimators=20))])\n",
    "pipe_bag_tree.fit(X_train, y_train)"
   ]
  },
  {
   "cell_type": "markdown",
   "metadata": {},
   "source": [
    "The bagged tree is about 5% better, but was obviously much slower."
   ]
  },
  {
   "cell_type": "code",
   "execution_count": 161,
   "metadata": {},
   "outputs": [
    {
     "data": {
      "text/plain": [
       "{'Accuracy': 0.7978451178451178,\n",
       " 'Precision': 0.7921686134671037,\n",
       " 'Recall': 0.7978451178451178,\n",
       " 'F1 Score': 0.7932021497405095}"
      ]
     },
     "execution_count": 161,
     "metadata": {},
     "output_type": "execute_result"
    }
   ],
   "source": [
    "dp.get_scores(pipe_bag_tree, X_test, y_test)"
   ]
  },
  {
   "cell_type": "code",
   "execution_count": 162,
   "metadata": {},
   "outputs": [
    {
     "data": {
      "image/png": "[encoded data removed]",
      "text/plain": [
       "<Figure size 576x396 with 2 Axes>"
      ]
     },
     "metadata": {},
     "output_type": "display_data"
    }
   ],
   "source": [
    "ConfusionMatrixDisplay.from_estimator(pipe_bag_tree, X_test, y_test, display_labels=y_label.classes_, cmap=\"Greens\")\n",
    "plt.grid(False)\n",
    "plt.show()"
   ]
  },
  {
   "cell_type": "markdown",
   "metadata": {},
   "source": [
    "Again there is an issue with the needs repair class, let's try  using the over sampled data with the bagged tree."
   ]
  },
  {
   "cell_type": "code",
   "execution_count": 163,
   "metadata": {},
   "outputs": [
    {
     "data": {
      "text/plain": [
       "BaggingClassifier(base_estimator=DecisionTreeClassifier(), n_estimators=20)"
      ]
     },
     "execution_count": 163,
     "metadata": {},
     "output_type": "execute_result"
    }
   ],
   "source": [
    "over_bag = BaggingClassifier(DecisionTreeClassifier(), n_estimators=20)\n",
    "over_bag.fit(X_train_resampled, y_train_resampled)"
   ]
  },
  {
   "cell_type": "markdown",
   "metadata": {},
   "source": [
    "The bagged tree does stilly more poorly with the oversampled data."
   ]
  },
  {
   "cell_type": "code",
   "execution_count": 164,
   "metadata": {},
   "outputs": [
    {
     "data": {
      "text/plain": [
       "{'Accuracy': 0.7847811447811448,\n",
       " 'Precision': 0.7870558303393006,\n",
       " 'Recall': 0.7847811447811448,\n",
       " 'F1 Score': 0.7855794063074982}"
      ]
     },
     "execution_count": 164,
     "metadata": {},
     "output_type": "execute_result"
    }
   ],
   "source": [
    "dp.get_scores(over_bag, X_test_encoded, y_test)"
   ]
  },
  {
   "cell_type": "code",
   "execution_count": 165,
   "metadata": {},
   "outputs": [
    {
     "data": {
      "image/png": "[encoded data removed]",
      "text/plain": [
       "<Figure size 576x396 with 2 Axes>"
      ]
     },
     "metadata": {},
     "output_type": "display_data"
    }
   ],
   "source": [
    "ConfusionMatrixDisplay.from_estimator(over_bag, X_test_encoded, y_test, display_labels=y_label.classes_, cmap=\"Greens\")\n",
    "plt.grid(False)\n",
    "plt.show()"
   ]
  },
  {
   "cell_type": "markdown",
   "metadata": {},
   "source": [
    "#### *Random Forest*"
   ]
  },
  {
   "cell_type": "code",
   "execution_count": 166,
   "metadata": {},
   "outputs": [
    {
     "data": {
      "text/plain": [
       "Pipeline(steps=[('encode',\n",
       "                 ColumnTransformer(remainder='passthrough',\n",
       "                                   transformers=[('ord',\n",
       "                                                  OrdinalEncoder(handle_unknown='use_encoded_value',\n",
       "                                                                 unknown_value=-1),\n",
       "                                                  ['funder', 'installer', 'lga',\n",
       "                                                   'ward', 'region_district']),\n",
       "                                                 ('ohe',\n",
       "                                                  OneHotEncoder(handle_unknown='ignore'),\n",
       "                                                  ['basin', 'region',\n",
       "                                                   'scheme_management',\n",
       "                                                   'extraction_type',\n",
       "                                                   'extraction_type_class',\n",
       "                                                   'management',\n",
       "                                                   'management_group',\n",
       "                                                   'payment', 'water_quality',\n",
       "                                                   'quantity', 'source',\n",
       "                                                   'source_class',\n",
       "                                                   'waterpoint_type',\n",
       "                                                   'season'])])),\n",
       "                ('scale', StandardScaler(with_mean=False)),\n",
       "                ('model', RandomForestClassifier())])"
      ]
     },
     "execution_count": 166,
     "metadata": {},
     "output_type": "execute_result"
    }
   ],
   "source": [
    "pipe_forest = Pipeline(steps=[\n",
    "    (\"encode\", ct_mixed),\n",
    "    (\"scale\", StandardScaler(with_mean=False)),\n",
    "    (\"model\", RandomForestClassifier())])\n",
    "pipe_forest.fit(X_train, y_train)"
   ]
  },
  {
   "cell_type": "markdown",
   "metadata": {},
   "source": [
    "This is about the best score so far, but still does very poorly on needs_repair."
   ]
  },
  {
   "cell_type": "code",
   "execution_count": 167,
   "metadata": {},
   "outputs": [
    {
     "data": {
      "text/plain": [
       "{'Accuracy': 0.8053198653198653,\n",
       " 'Precision': 0.7986321427824654,\n",
       " 'Recall': 0.8053198653198653,\n",
       " 'F1 Score': 0.7998453576597813}"
      ]
     },
     "execution_count": 167,
     "metadata": {},
     "output_type": "execute_result"
    }
   ],
   "source": [
    "dp.get_scores(pipe_forest, X_test, y_test)"
   ]
  },
  {
   "cell_type": "code",
   "execution_count": 168,
   "metadata": {},
   "outputs": [
    {
     "data": {
      "image/png": "[encoded data removed]",
      "text/plain": [
       "<Figure size 576x396 with 2 Axes>"
      ]
     },
     "metadata": {},
     "output_type": "display_data"
    }
   ],
   "source": [
    "ConfusionMatrixDisplay.from_estimator(pipe_forest, X_test, y_test, display_labels=y_label.classes_, cmap=\"Greens\")\n",
    "plt.grid(False)\n",
    "plt.show()"
   ]
  },
  {
   "cell_type": "code",
   "execution_count": 169,
   "metadata": {},
   "outputs": [
    {
     "data": {
      "text/plain": [
       "RandomForestClassifier()"
      ]
     },
     "execution_count": 169,
     "metadata": {},
     "output_type": "execute_result"
    }
   ],
   "source": [
    "over_forest = RandomForestClassifier()\n",
    "over_forest.fit(X_train_resampled, y_train_resampled)"
   ]
  },
  {
   "cell_type": "markdown",
   "metadata": {},
   "source": [
    "This performs slightly worse, but a bit better on the needs repair data."
   ]
  },
  {
   "cell_type": "code",
   "execution_count": 170,
   "metadata": {},
   "outputs": [
    {
     "data": {
      "text/plain": [
       "{'Accuracy': 0.7944781144781144,\n",
       " 'Precision': 0.794461894129841,\n",
       " 'Recall': 0.7944781144781144,\n",
       " 'F1 Score': 0.7942410229954565}"
      ]
     },
     "execution_count": 170,
     "metadata": {},
     "output_type": "execute_result"
    }
   ],
   "source": [
    "dp.get_scores(over_forest, X_test_encoded, y_test)"
   ]
  },
  {
   "cell_type": "code",
   "execution_count": 171,
   "metadata": {},
   "outputs": [
    {
     "data": {
      "image/png": "[encoded data removed]",
      "text/plain": [
       "<Figure size 576x396 with 2 Axes>"
      ]
     },
     "metadata": {},
     "output_type": "display_data"
    }
   ],
   "source": [
    "ConfusionMatrixDisplay.from_estimator(over_forest, X_test_encoded, y_test, display_labels=y_label.classes_, cmap=\"Greens\")\n",
    "plt.grid(False)\n",
    "plt.show()"
   ]
  },
  {
   "cell_type": "markdown",
   "metadata": {},
   "source": [
    "#### *XGBoost*"
   ]
  },
  {
   "cell_type": "markdown",
   "metadata": {},
   "source": [
    "Let's try running XGBoost on the raw data and then the oversampled data to see how it performs."
   ]
  },
  {
   "cell_type": "code",
   "execution_count": 173,
   "metadata": {},
   "outputs": [
    {
     "data": {
      "text/plain": [
       "XGBClassifier(base_score=0.5, booster='gbtree', colsample_bylevel=1,\n",
       "              colsample_bynode=1, colsample_bytree=1, enable_categorical=False,\n",
       "              eval_metric='mlogloss', gamma=0, gpu_id=-1, importance_type=None,\n",
       "              interaction_constraints='', learning_rate=0.300000012,\n",
       "              max_delta_step=0, max_depth=6, min_child_weight=1, missing=nan,\n",
       "              monotone_constraints='()', n_estimators=100, n_jobs=8,\n",
       "              num_parallel_tree=1, objective='multi:softprob', predictor='auto',\n",
       "              random_state=0, reg_alpha=0, reg_lambda=1, scale_pos_weight=None,\n",
       "              subsample=1, tree_method='exact', use_label_encoder=False,\n",
       "              validate_parameters=1, ...)"
      ]
     },
     "execution_count": 173,
     "metadata": {},
     "output_type": "execute_result"
    }
   ],
   "source": [
    "xgb = XGBClassifier(eval_metric='mlogloss', use_label_encoder = False)\n",
    "xgb.fit(X_train_encoded, y_train)"
   ]
  },
  {
   "cell_type": "markdown",
   "metadata": {},
   "source": [
    "XGBoost is doing a bit worse than the random forest model with default hyper parameters, and also struggles with the needs repair category."
   ]
  },
  {
   "cell_type": "code",
   "execution_count": 174,
   "metadata": {},
   "outputs": [
    {
     "data": {
      "text/plain": [
       "{'Accuracy': 0.8037710437710438,\n",
       " 'Precision': 0.8024808270330271,\n",
       " 'Recall': 0.8037710437710438,\n",
       " 'F1 Score': 0.7915030910429599}"
      ]
     },
     "execution_count": 174,
     "metadata": {},
     "output_type": "execute_result"
    }
   ],
   "source": [
    "dp.get_scores(xgb, X_test_encoded, y_test)"
   ]
  },
  {
   "cell_type": "code",
   "execution_count": 175,
   "metadata": {},
   "outputs": [
    {
     "data": {
      "image/png": "[encoded data removed]",
      "text/plain": [
       "<Figure size 576x396 with 2 Axes>"
      ]
     },
     "metadata": {},
     "output_type": "display_data"
    }
   ],
   "source": [
    "ConfusionMatrixDisplay.from_estimator(xgb, X_test_encoded, y_test, display_labels=y_label.classes_, cmap=\"Greens\")\n",
    "plt.grid(False)\n",
    "plt.show()"
   ]
  },
  {
   "cell_type": "code",
   "execution_count": 176,
   "metadata": {},
   "outputs": [
    {
     "data": {
      "text/plain": [
       "XGBClassifier(base_score=0.5, booster='gbtree', colsample_bylevel=1,\n",
       "              colsample_bynode=1, colsample_bytree=1, enable_categorical=False,\n",
       "              eval_metric='mlogloss', gamma=0, gpu_id=-1, importance_type=None,\n",
       "              interaction_constraints='', learning_rate=0.300000012,\n",
       "              max_delta_step=0, max_depth=6, min_child_weight=1, missing=nan,\n",
       "              monotone_constraints='()', n_estimators=100, n_jobs=8,\n",
       "              num_parallel_tree=1, objective='multi:softprob', predictor='auto',\n",
       "              random_state=0, reg_alpha=0, reg_lambda=1, scale_pos_weight=None,\n",
       "              subsample=1, tree_method='exact', use_label_encoder=False,\n",
       "              validate_parameters=1, ...)"
      ]
     },
     "execution_count": 176,
     "metadata": {},
     "output_type": "execute_result"
    }
   ],
   "source": [
    "over_xgb = XGBClassifier(eval_metric= 'mlogloss', use_label_encoder = False)\n",
    "over_xgb.fit(X_train_resampled, y_train_resampled)"
   ]
  },
  {
   "cell_type": "markdown",
   "metadata": {},
   "source": [
    "As with the other models, XGBoost does worse overall with the over sampled data, but much better on the needs repairs category."
   ]
  },
  {
   "cell_type": "code",
   "execution_count": 177,
   "metadata": {},
   "outputs": [
    {
     "data": {
      "text/plain": [
       "{'Accuracy': 0.7652525252525253,\n",
       " 'Precision': 0.785309159324191,\n",
       " 'Recall': 0.7652525252525253,\n",
       " 'F1 Score': 0.7726129390685426}"
      ]
     },
     "execution_count": 177,
     "metadata": {},
     "output_type": "execute_result"
    }
   ],
   "source": [
    "dp.get_scores(over_xgb, X_test_encoded, y_test)"
   ]
  },
  {
   "cell_type": "code",
   "execution_count": 178,
   "metadata": {},
   "outputs": [
    {
     "data": {
      "image/png": "[encoded data removed]",
      "text/plain": [
       "<Figure size 576x396 with 2 Axes>"
      ]
     },
     "metadata": {},
     "output_type": "display_data"
    }
   ],
   "source": [
    "ConfusionMatrixDisplay.from_estimator(over_xgb, X_test_encoded, y_test, display_labels=y_label.classes_, cmap=\"Greens\")\n",
    "plt.grid(False)\n",
    "plt.show()"
   ]
  },
  {
   "cell_type": "markdown",
   "metadata": {},
   "source": [
    "#### Catboost"
   ]
  },
  {
   "cell_type": "markdown",
   "metadata": {},
   "source": [
    "Let's try Catboost and see how it does."
   ]
  },
  {
   "cell_type": "code",
   "execution_count": 180,
   "metadata": {},
   "outputs": [
    {
     "data": {
      "text/plain": [
       "<catboost.core.CatBoostClassifier at 0x1e55db74b80>"
      ]
     },
     "execution_count": 180,
     "metadata": {},
     "output_type": "execute_result"
    }
   ],
   "source": [
    "test_data = catboost_pool = Pool(X_train_encoded, y_train)\n",
    "\n",
    "cat = CatBoostClassifier(iterations=750,\n",
    "                           depth=7,\n",
    "                           loss_function='MultiClass',\n",
    "                           verbose=False)\n",
    "\n",
    "cat.fit(X_train_encoded, y_train)"
   ]
  },
  {
   "cell_type": "markdown",
   "metadata": {},
   "source": [
    "It appears to do slightly better than XGBoost or Random Forest"
   ]
  },
  {
   "cell_type": "code",
   "execution_count": 181,
   "metadata": {},
   "outputs": [
    {
     "data": {
      "text/plain": [
       "{'Accuracy': 0.8054545454545454,\n",
       " 'Precision': 0.8013441076651487,\n",
       " 'Recall': 0.8054545454545454,\n",
       " 'F1 Score': 0.7951446013226064}"
      ]
     },
     "execution_count": 181,
     "metadata": {},
     "output_type": "execute_result"
    }
   ],
   "source": [
    "dp.get_scores(cat, X_test_encoded, y_test)"
   ]
  },
  {
   "cell_type": "code",
   "execution_count": 182,
   "metadata": {},
   "outputs": [
    {
     "data": {
      "image/png": "[encoded data removed]",
      "text/plain": [
       "<Figure size 576x396 with 2 Axes>"
      ]
     },
     "metadata": {},
     "output_type": "display_data"
    }
   ],
   "source": [
    "ConfusionMatrixDisplay.from_estimator(cat, X_test_encoded, y_test, display_labels=y_label.classes_, cmap=\"Greens\")\n",
    "plt.grid(False)\n",
    "plt.show()"
   ]
  },
  {
   "cell_type": "markdown",
   "metadata": {},
   "source": [
    "## *Tuning the Models*"
   ]
  },
  {
   "cell_type": "markdown",
   "metadata": {},
   "source": [
    "#### Bagging Model"
   ]
  },
  {
   "cell_type": "code",
   "execution_count": 184,
   "metadata": {},
   "outputs": [],
   "source": [
    "param_bag = {\n",
    "    'max_features': [ 0.3, 0.4],\n",
    "    'n_estimators': [500, 1000]}"
   ]
  },
  {
   "cell_type": "code",
   "execution_count": 185,
   "metadata": {},
   "outputs": [
    {
     "name": "stdout",
     "output_type": "stream",
     "text": [
      "Fitting 3 folds for each of 4 candidates, totalling 12 fits\n",
      "[CV] END .................max_features=0.3, n_estimators=500; total time= 5.3min\n",
      "[CV] END .................max_features=0.3, n_estimators=500; total time= 5.5min\n",
      "[CV] END .................max_features=0.3, n_estimators=500; total time= 5.3min\n",
      "[CV] END ................max_features=0.3, n_estimators=1000; total time=11.1min\n",
      "[CV] END ................max_features=0.3, n_estimators=1000; total time=11.1min\n",
      "[CV] END ................max_features=0.3, n_estimators=1000; total time=11.0min\n",
      "[CV] END .................max_features=0.4, n_estimators=500; total time= 7.7min\n",
      "[CV] END .................max_features=0.4, n_estimators=500; total time= 7.8min\n",
      "[CV] END .................max_features=0.4, n_estimators=500; total time= 7.4min\n",
      "[CV] END ................max_features=0.4, n_estimators=1000; total time=14.5min\n",
      "[CV] END ................max_features=0.4, n_estimators=1000; total time=14.3min\n",
      "[CV] END ................max_features=0.4, n_estimators=1000; total time=14.5min\n"
     ]
    },
    {
     "data": {
      "text/plain": [
       "GridSearchCV(cv=3,\n",
       "             estimator=BaggingClassifier(base_estimator=DecisionTreeClassifier()),\n",
       "             n_jobs=1,\n",
       "             param_grid={'max_features': [0.3, 0.4],\n",
       "                         'n_estimators': [500, 1000]},\n",
       "             scoring='accuracy', verbose=2)"
      ]
     },
     "execution_count": 185,
     "metadata": {},
     "output_type": "execute_result"
    }
   ],
   "source": [
    "grid_bag = GridSearchCV(BaggingClassifier(DecisionTreeClassifier()),\n",
    "                        param_bag,\n",
    "                        scoring='accuracy',\n",
    "                        cv=3,\n",
    "                        n_jobs=1, \n",
    "                        verbose=2)\n",
    "grid_bag.fit(X_train_encoded, y_train)"
   ]
  },
  {
   "cell_type": "code",
   "execution_count": 186,
   "metadata": {},
   "outputs": [
    {
     "name": "stdout",
     "output_type": "stream",
     "text": [
      "Grid Search found the following optimal parameters: \n",
      "max_features: 0.4\n",
      "n_estimators: 1000\n"
     ]
    }
   ],
   "source": [
    "best_parameters = grid_bag.best_params_\n",
    "\n",
    "print('Grid Search found the following optimal parameters: ')\n",
    "for param_name in sorted(best_parameters.keys()):\n",
    "    print('%s: %r' % (param_name, best_parameters[param_name]))"
   ]
  },
  {
   "cell_type": "markdown",
   "metadata": {},
   "source": [
    "Tuning increases its performance by about 2% but made the model take much longer to produce predictions."
   ]
  },
  {
   "cell_type": "code",
   "execution_count": 187,
   "metadata": {
    "scrolled": true
   },
   "outputs": [
    {
     "data": {
      "text/plain": [
       "{'Accuracy': 0.8148821548821549,\n",
       " 'Precision': 0.8083556134854416,\n",
       " 'Recall': 0.8148821548821549,\n",
       " 'F1 Score': 0.8071162649890314}"
      ]
     },
     "execution_count": 187,
     "metadata": {},
     "output_type": "execute_result"
    }
   ],
   "source": [
    "dp.get_scores(grid_bag, X_test_encoded, y_test)"
   ]
  },
  {
   "cell_type": "markdown",
   "metadata": {},
   "source": [
    "#### Random Forest Model"
   ]
  },
  {
   "cell_type": "code",
   "execution_count": 188,
   "metadata": {},
   "outputs": [],
   "source": [
    "param_forest = {\n",
    "    'max_depth': [30, 60],\n",
    "    'n_estimators': [100, 300]}"
   ]
  },
  {
   "cell_type": "code",
   "execution_count": 189,
   "metadata": {},
   "outputs": [
    {
     "name": "stdout",
     "output_type": "stream",
     "text": [
      "Fitting 3 folds for each of 4 candidates, totalling 12 fits\n",
      "[CV] END .....................max_depth=30, n_estimators=100; total time=  43.2s\n",
      "[CV] END .....................max_depth=30, n_estimators=100; total time=  44.9s\n",
      "[CV] END .....................max_depth=30, n_estimators=100; total time=  40.1s\n",
      "[CV] END .....................max_depth=30, n_estimators=300; total time= 2.1min\n",
      "[CV] END .....................max_depth=30, n_estimators=300; total time= 2.1min\n",
      "[CV] END .....................max_depth=30, n_estimators=300; total time= 2.1min\n",
      "[CV] END .....................max_depth=60, n_estimators=100; total time=  41.8s\n",
      "[CV] END .....................max_depth=60, n_estimators=100; total time=  42.4s\n",
      "[CV] END .....................max_depth=60, n_estimators=100; total time=  41.9s\n",
      "[CV] END .....................max_depth=60, n_estimators=300; total time= 2.1min\n",
      "[CV] END .....................max_depth=60, n_estimators=300; total time= 2.1min\n",
      "[CV] END .....................max_depth=60, n_estimators=300; total time= 2.1min\n"
     ]
    },
    {
     "data": {
      "text/plain": [
       "GridSearchCV(cv=3, estimator=RandomForestClassifier(), n_jobs=1,\n",
       "             param_grid={'max_depth': [30, 60], 'n_estimators': [100, 300]},\n",
       "             scoring='accuracy', verbose=2)"
      ]
     },
     "execution_count": 189,
     "metadata": {},
     "output_type": "execute_result"
    }
   ],
   "source": [
    "grid_forest = GridSearchCV(RandomForestClassifier(),\n",
    "                           param_forest,\n",
    "                           scoring='accuracy',\n",
    "                           cv=3,\n",
    "                           n_jobs=1,\n",
    "                           verbose=2)\n",
    "grid_forest.fit(X_train_encoded, y_train)"
   ]
  },
  {
   "cell_type": "code",
   "execution_count": 190,
   "metadata": {},
   "outputs": [
    {
     "name": "stdout",
     "output_type": "stream",
     "text": [
      "Grid Search found the following optimal parameters: \n",
      "max_depth: 30\n",
      "n_estimators: 300\n"
     ]
    }
   ],
   "source": [
    "best_parameters = grid_forest.best_params_\n",
    "\n",
    "print('Grid Search found the following optimal parameters: ')\n",
    "for param_name in sorted(best_parameters.keys()):\n",
    "    print('%s: %r' % (param_name, best_parameters[param_name]))"
   ]
  },
  {
   "cell_type": "markdown",
   "metadata": {},
   "source": [
    "The optimal parameters in the grid performed only marginally better than the default"
   ]
  },
  {
   "cell_type": "code",
   "execution_count": 191,
   "metadata": {},
   "outputs": [
    {
     "data": {
      "text/plain": [
       "{'Accuracy': 0.8047138047138047,\n",
       " 'Precision': 0.797875255913596,\n",
       " 'Recall': 0.8047138047138047,\n",
       " 'F1 Score': 0.798667889192869}"
      ]
     },
     "execution_count": 191,
     "metadata": {},
     "output_type": "execute_result"
    }
   ],
   "source": [
    "dp.get_scores(grid_forest, X_test_encoded, y_test)"
   ]
  },
  {
   "cell_type": "markdown",
   "metadata": {},
   "source": [
    "#### XGBoost"
   ]
  },
  {
   "cell_type": "code",
   "execution_count": 192,
   "metadata": {},
   "outputs": [],
   "source": [
    "param_xgb = {\n",
    "    'eta': [0.2],\n",
    "    'colsample_bytree': [0.3],\n",
    "    'max_depth': [10, 30],\n",
    "    'n_estimators': [200, 400]}"
   ]
  },
  {
   "cell_type": "code",
   "execution_count": 193,
   "metadata": {},
   "outputs": [
    {
     "name": "stdout",
     "output_type": "stream",
     "text": [
      "Fitting 3 folds for each of 4 candidates, totalling 12 fits\n",
      "[CV] END colsample_bytree=0.3, eta=0.2, max_depth=10, n_estimators=200; total time=  13.0s\n",
      "[CV] END colsample_bytree=0.3, eta=0.2, max_depth=10, n_estimators=200; total time=  12.7s\n",
      "[CV] END colsample_bytree=0.3, eta=0.2, max_depth=10, n_estimators=200; total time=  11.4s\n",
      "[CV] END colsample_bytree=0.3, eta=0.2, max_depth=10, n_estimators=400; total time=  23.9s\n",
      "[CV] END colsample_bytree=0.3, eta=0.2, max_depth=10, n_estimators=400; total time=  24.5s\n",
      "[CV] END colsample_bytree=0.3, eta=0.2, max_depth=10, n_estimators=400; total time=  23.5s\n",
      "[CV] END colsample_bytree=0.3, eta=0.2, max_depth=30, n_estimators=200; total time=  35.9s\n",
      "[CV] END colsample_bytree=0.3, eta=0.2, max_depth=30, n_estimators=200; total time=  33.8s\n",
      "[CV] END colsample_bytree=0.3, eta=0.2, max_depth=30, n_estimators=200; total time=  33.3s\n",
      "[CV] END colsample_bytree=0.3, eta=0.2, max_depth=30, n_estimators=400; total time= 1.1min\n",
      "[CV] END colsample_bytree=0.3, eta=0.2, max_depth=30, n_estimators=400; total time= 1.1min\n",
      "[CV] END colsample_bytree=0.3, eta=0.2, max_depth=30, n_estimators=400; total time= 1.0min\n"
     ]
    },
    {
     "data": {
      "text/plain": [
       "GridSearchCV(cv=3,\n",
       "             estimator=XGBClassifier(base_score=None, booster=None,\n",
       "                                     colsample_bylevel=None,\n",
       "                                     colsample_bynode=None,\n",
       "                                     colsample_bytree=None,\n",
       "                                     enable_categorical=False,\n",
       "                                     eval_metric='mlogloss', gamma=None,\n",
       "                                     gpu_id=None, importance_type=None,\n",
       "                                     interaction_constraints=None,\n",
       "                                     learning_rate=None, max_delta_step=None,\n",
       "                                     max_depth=None, min_child_weight=None,\n",
       "                                     missing=nan, mon...\n",
       "                                     n_estimators=100, n_jobs=None,\n",
       "                                     num_parallel_tree=None, predictor=None,\n",
       "                                     random_state=None, reg_alpha=None,\n",
       "                                     reg_lambda=None, scale_pos_weight=None,\n",
       "                                     subsample=None, tree_method=None,\n",
       "                                     use_label_encoder=False,\n",
       "                                     validate_parameters=None, verbosity=None),\n",
       "             n_jobs=1,\n",
       "             param_grid={'colsample_bytree': [0.3], 'eta': [0.2],\n",
       "                         'max_depth': [10, 30], 'n_estimators': [200, 400]},\n",
       "             scoring='accuracy', verbose=2)"
      ]
     },
     "execution_count": 193,
     "metadata": {},
     "output_type": "execute_result"
    }
   ],
   "source": [
    "grid_xgb = GridSearchCV(XGBClassifier(eval_metric= 'mlogloss', use_label_encoder = False),\n",
    "                           param_xgb,\n",
    "                           scoring='accuracy',\n",
    "                           cv=3,\n",
    "                           n_jobs=1,\n",
    "                           verbose=2)\n",
    "grid_xgb.fit(X_train_encoded, y_train)"
   ]
  },
  {
   "cell_type": "code",
   "execution_count": 194,
   "metadata": {},
   "outputs": [
    {
     "name": "stdout",
     "output_type": "stream",
     "text": [
      "Grid Search found the following optimal parameters: \n",
      "colsample_bytree: 0.3\n",
      "eta: 0.2\n",
      "max_depth: 10\n",
      "n_estimators: 200\n"
     ]
    }
   ],
   "source": [
    "best_parameters = grid_xgb.best_params_\n",
    "\n",
    "print('Grid Search found the following optimal parameters: ')\n",
    "for param_name in sorted(best_parameters.keys()):\n",
    "    print('%s: %r' % (param_name, best_parameters[param_name]))"
   ]
  },
  {
   "cell_type": "markdown",
   "metadata": {},
   "source": [
    "The tuned model is about 2% better than the untuned one."
   ]
  },
  {
   "cell_type": "code",
   "execution_count": 195,
   "metadata": {},
   "outputs": [
    {
     "data": {
      "text/plain": [
       "{'Accuracy': 0.8155555555555556,\n",
       " 'Precision': 0.8096230343435478,\n",
       " 'Recall': 0.8155555555555556,\n",
       " 'F1 Score': 0.8068585622114999}"
      ]
     },
     "execution_count": 195,
     "metadata": {},
     "output_type": "execute_result"
    }
   ],
   "source": [
    "dp.get_scores(grid_xgb, X_test_encoded, y_test)"
   ]
  },
  {
   "cell_type": "markdown",
   "metadata": {},
   "source": [
    "#### Catboost"
   ]
  },
  {
   "cell_type": "code",
   "execution_count": 196,
   "metadata": {},
   "outputs": [],
   "source": [
    "param_cat = {\n",
    "    'iterations': [1000, 2000],\n",
    "    'max_depth': [7, 9],\n",
    "    'rsm': [0.2, 0.3]}"
   ]
  },
  {
   "cell_type": "code",
   "execution_count": 197,
   "metadata": {},
   "outputs": [
    {
     "name": "stdout",
     "output_type": "stream",
     "text": [
      "Fitting 3 folds for each of 8 candidates, totalling 24 fits\n",
      "[CV] END ..............iterations=1000, max_depth=7, rsm=0.2; total time=  17.1s\n",
      "[CV] END ..............iterations=1000, max_depth=7, rsm=0.2; total time=  16.4s\n",
      "[CV] END ..............iterations=1000, max_depth=7, rsm=0.2; total time=  16.3s\n",
      "[CV] END ..............iterations=1000, max_depth=7, rsm=0.3; total time=  16.3s\n",
      "[CV] END ..............iterations=1000, max_depth=7, rsm=0.3; total time=  16.2s\n",
      "[CV] END ..............iterations=1000, max_depth=7, rsm=0.3; total time=  16.6s\n",
      "[CV] END ..............iterations=1000, max_depth=9, rsm=0.2; total time=  25.1s\n",
      "[CV] END ..............iterations=1000, max_depth=9, rsm=0.2; total time=  25.9s\n",
      "[CV] END ..............iterations=1000, max_depth=9, rsm=0.2; total time=  26.5s\n",
      "[CV] END ..............iterations=1000, max_depth=9, rsm=0.3; total time=  29.6s\n",
      "[CV] END ..............iterations=1000, max_depth=9, rsm=0.3; total time=  29.3s\n",
      "[CV] END ..............iterations=1000, max_depth=9, rsm=0.3; total time=  29.7s\n",
      "[CV] END ..............iterations=2000, max_depth=7, rsm=0.2; total time=  30.9s\n",
      "[CV] END ..............iterations=2000, max_depth=7, rsm=0.2; total time=  30.0s\n",
      "[CV] END ..............iterations=2000, max_depth=7, rsm=0.2; total time=  30.9s\n",
      "[CV] END ..............iterations=2000, max_depth=7, rsm=0.3; total time=  32.0s\n",
      "[CV] END ..............iterations=2000, max_depth=7, rsm=0.3; total time=  32.1s\n",
      "[CV] END ..............iterations=2000, max_depth=7, rsm=0.3; total time=  32.3s\n",
      "[CV] END ..............iterations=2000, max_depth=9, rsm=0.2; total time=  54.7s\n",
      "[CV] END ..............iterations=2000, max_depth=9, rsm=0.2; total time=  52.3s\n",
      "[CV] END ..............iterations=2000, max_depth=9, rsm=0.2; total time=  51.2s\n",
      "[CV] END ..............iterations=2000, max_depth=9, rsm=0.3; total time=  58.3s\n",
      "[CV] END ..............iterations=2000, max_depth=9, rsm=0.3; total time=  59.3s\n",
      "[CV] END ..............iterations=2000, max_depth=9, rsm=0.3; total time=  59.4s\n"
     ]
    },
    {
     "data": {
      "text/plain": [
       "GridSearchCV(cv=3,\n",
       "             estimator=<catboost.core.CatBoostClassifier object at 0x000001E55E32C430>,\n",
       "             n_jobs=1,\n",
       "             param_grid={'iterations': [1000, 2000], 'max_depth': [7, 9],\n",
       "                         'rsm': [0.2, 0.3]},\n",
       "             scoring='accuracy', verbose=2)"
      ]
     },
     "execution_count": 197,
     "metadata": {},
     "output_type": "execute_result"
    }
   ],
   "source": [
    "grid_cat = GridSearchCV(CatBoostClassifier(loss_function='MultiClass', verbose=False),\n",
    "                        param_cat,\n",
    "                        scoring='accuracy',\n",
    "                        cv=3,\n",
    "                        n_jobs=1,\n",
    "                        verbose=2)\n",
    "grid_cat.fit(X_train_encoded, y_train)"
   ]
  },
  {
   "cell_type": "code",
   "execution_count": 198,
   "metadata": {},
   "outputs": [
    {
     "name": "stdout",
     "output_type": "stream",
     "text": [
      "Grid Search found the following optimal parameters: \n",
      "iterations: 1000\n",
      "max_depth: 9\n",
      "rsm: 0.2\n"
     ]
    }
   ],
   "source": [
    "best_parameters = grid_cat.best_params_\n",
    "\n",
    "print('Grid Search found the following optimal parameters: ')\n",
    "for param_name in sorted(best_parameters.keys()):\n",
    "    print('%s: %r' % (param_name, best_parameters[param_name]))"
   ]
  },
  {
   "cell_type": "code",
   "execution_count": 199,
   "metadata": {},
   "outputs": [
    {
     "data": {
      "text/plain": [
       "{'Accuracy': 0.8093602693602694,\n",
       " 'Precision': 0.8043510518856735,\n",
       " 'Recall': 0.8093602693602694,\n",
       " 'F1 Score': 0.8009591803967693}"
      ]
     },
     "execution_count": 199,
     "metadata": {},
     "output_type": "execute_result"
    }
   ],
   "source": [
    "dp.get_scores(grid_cat, X_test_encoded, y_test)"
   ]
  },
  {
   "cell_type": "markdown",
   "metadata": {},
   "source": [
    "## Voting Model"
   ]
  },
  {
   "cell_type": "code",
   "execution_count": 14,
   "metadata": {},
   "outputs": [],
   "source": [
    "tuned_bag = BaggingClassifier(DecisionTreeClassifier(),max_features=0.4, n_estimators=1000)\n",
    "tuned_forest = RandomForestClassifier(max_depth=30, n_estimators=300)\n",
    "tuned_xgb = XGBClassifier(eval_metric='mlogloss',\n",
    "                          use_label_encoder=False,\n",
    "                          colsample_bytree=0.3,\n",
    "                          eta=0.2,\n",
    "                          max_depth=10,\n",
    "                          n_estimators=200)\n",
    "tuned_cat = CatBoostClassifier(loss_function='MultiClass',\n",
    "                               verbose=False,\n",
    "                               iterations=1000,\n",
    "                               max_depth=9,\n",
    "                               rsm=0.2)"
   ]
  },
  {
   "cell_type": "code",
   "execution_count": 202,
   "metadata": {},
   "outputs": [
    {
     "data": {
      "text/plain": [
       "VotingClassifier(estimators=[('bag',\n",
       "                              BaggingClassifier(base_estimator=DecisionTreeClassifier(),\n",
       "                                                max_features=0.4,\n",
       "                                                n_estimators=1000)),\n",
       "                             ('forest',\n",
       "                              RandomForestClassifier(max_depth=30,\n",
       "                                                     n_estimators=300)),\n",
       "                             ('xbg',\n",
       "                              XGBClassifier(base_score=None, booster=None,\n",
       "                                            colsample_bylevel=None,\n",
       "                                            colsample_bynode=None,\n",
       "                                            colsample_bytree=0.3,\n",
       "                                            enable_categorical=False, eta=0.2,\n",
       "                                            eval_...\n",
       "                                            min_child_weight=None, missing=nan,\n",
       "                                            monotone_constraints=None,\n",
       "                                            n_estimators=200, n_jobs=None,\n",
       "                                            num_parallel_tree=None,\n",
       "                                            predictor=None, random_state=None,\n",
       "                                            reg_alpha=None, reg_lambda=None,\n",
       "                                            scale_pos_weight=None,\n",
       "                                            subsample=None, tree_method=None,\n",
       "                                            use_label_encoder=False,\n",
       "                                            validate_parameters=None, ...)),\n",
       "                             ('cat',\n",
       "                              <catboost.core.CatBoostClassifier object at 0x000001E55E32CB80>)],\n",
       "                 voting='soft')"
      ]
     },
     "execution_count": 202,
     "metadata": {},
     "output_type": "execute_result"
    }
   ],
   "source": [
    "vote = VotingClassifier(estimators=[('bag', tuned_bag),\n",
    "                                    ('forest', tuned_forest),\n",
    "                                    ('xbg', tuned_xgb),\n",
    "                                    ('cat', tuned_cat)],\n",
    "                        voting='soft')\n",
    "vote.fit(X_train_encoded, y_train)"
   ]
  },
  {
   "cell_type": "code",
   "execution_count": 203,
   "metadata": {},
   "outputs": [
    {
     "data": {
      "text/plain": [
       "{'Accuracy': 0.8189898989898989,\n",
       " 'Precision': 0.8137521140754636,\n",
       " 'Recall': 0.8189898989898989,\n",
       " 'F1 Score': 0.8109084416102664}"
      ]
     },
     "execution_count": 203,
     "metadata": {},
     "output_type": "execute_result"
    }
   ],
   "source": [
    "dp.get_scores(vote, X_test_encoded, y_test)"
   ]
  },
  {
   "cell_type": "code",
   "execution_count": null,
   "metadata": {},
   "outputs": [],
   "source": [
    "ConfusionMatrixDisplay.from_estimator(vote, X_test_encoded, y_test, display_labels=y_label.classes_, cmap=\"Greens\")\n",
    "plt.grid(False)\n",
    "plt.show()"
   ]
  },
  {
   "cell_type": "code",
   "execution_count": 38,
   "metadata": {},
   "outputs": [],
   "source": [
    "pipe_mix_encode = Pipeline(steps=[(\"encode\", ct_mixed),\n",
    "                                  (\"scale\", StandardScaler(with_mean=False))])\n",
    "X_mix_encoded = pipe_mix_encode.fit_transform(X)"
   ]
  },
  {
   "cell_type": "code",
   "execution_count": 39,
   "metadata": {},
   "outputs": [
    {
     "data": {
      "text/plain": [
       "VotingClassifier(estimators=[('bag',\n",
       "                              BaggingClassifier(base_estimator=DecisionTreeClassifier(),\n",
       "                                                max_features=0.4,\n",
       "                                                n_estimators=1000)),\n",
       "                             ('forest',\n",
       "                              RandomForestClassifier(max_depth=30,\n",
       "                                                     n_estimators=300)),\n",
       "                             ('xbg',\n",
       "                              XGBClassifier(base_score=None, booster=None,\n",
       "                                            colsample_bylevel=None,\n",
       "                                            colsample_bynode=None,\n",
       "                                            colsample_bytree=0.3,\n",
       "                                            enable_categorical=False, eta=0.2,\n",
       "                                            eval_...\n",
       "                                            min_child_weight=None, missing=nan,\n",
       "                                            monotone_constraints=None,\n",
       "                                            n_estimators=200, n_jobs=None,\n",
       "                                            num_parallel_tree=None,\n",
       "                                            predictor=None, random_state=None,\n",
       "                                            reg_alpha=None, reg_lambda=None,\n",
       "                                            scale_pos_weight=None,\n",
       "                                            subsample=None, tree_method=None,\n",
       "                                            use_label_encoder=False,\n",
       "                                            validate_parameters=None, ...)),\n",
       "                             ('cat',\n",
       "                              <catboost.core.CatBoostClassifier object at 0x00000108CBF0DD90>)],\n",
       "                 voting='soft')"
      ]
     },
     "execution_count": 39,
     "metadata": {},
     "output_type": "execute_result"
    }
   ],
   "source": [
    "final_model = VotingClassifier(estimators=[('bag', tuned_bag),\n",
    "                                           ('forest', tuned_forest),\n",
    "                                           ('xbg', tuned_xgb),\n",
    "                                           ('cat', tuned_cat)],\n",
    "                               voting='soft')\n",
    "final_model.fit(X_mix_encoded, y)"
   ]
  },
  {
   "cell_type": "markdown",
   "metadata": {},
   "source": [
    "## Cleaning the Test Data and Producing Predictions"
   ]
  },
  {
   "cell_type": "markdown",
   "metadata": {},
   "source": [
    "The competition test data with unknown labels needs to be cleaned the same as the original training data for use in the model.\n",
    "the data preparation python file contains a custom function to do that."
   ]
  },
  {
   "cell_type": "code",
   "execution_count": 56,
   "metadata": {},
   "outputs": [
    {
     "name": "stdout",
     "output_type": "stream",
     "text": [
      "<class 'pandas.core.frame.DataFrame'>\n",
      "RangeIndex: 14850 entries, 0 to 14849\n",
      "Data columns (total 40 columns):\n",
      " #   Column                 Non-Null Count  Dtype         \n",
      "---  ------                 --------------  -----         \n",
      " 0   id                     14850 non-null  int64         \n",
      " 1   amount_tsh             14850 non-null  float64       \n",
      " 2   date_recorded          14850 non-null  datetime64[ns]\n",
      " 3   funder                 13981 non-null  object        \n",
      " 4   gps_height             14850 non-null  int64         \n",
      " 5   installer              13973 non-null  object        \n",
      " 6   longitude              14850 non-null  float64       \n",
      " 7   latitude               14850 non-null  float64       \n",
      " 8   wpt_name               14850 non-null  object        \n",
      " 9   num_private            14850 non-null  int64         \n",
      " 10  basin                  14850 non-null  object        \n",
      " 11  subvillage             14751 non-null  object        \n",
      " 12  region                 14850 non-null  object        \n",
      " 13  region_code            14850 non-null  int64         \n",
      " 14  district_code          14850 non-null  int64         \n",
      " 15  lga                    14850 non-null  object        \n",
      " 16  ward                   14850 non-null  object        \n",
      " 17  population             14850 non-null  int64         \n",
      " 18  public_meeting         14029 non-null  object        \n",
      " 19  recorded_by            14850 non-null  object        \n",
      " 20  scheme_management      13881 non-null  object        \n",
      " 21  scheme_name            7758 non-null   object        \n",
      " 22  permit                 14113 non-null  object        \n",
      " 23  construction_year      14850 non-null  int64         \n",
      " 24  extraction_type        14850 non-null  object        \n",
      " 25  extraction_type_group  14850 non-null  object        \n",
      " 26  extraction_type_class  14850 non-null  object        \n",
      " 27  management             14850 non-null  object        \n",
      " 28  management_group       14850 non-null  object        \n",
      " 29  payment                14850 non-null  object        \n",
      " 30  payment_type           14850 non-null  object        \n",
      " 31  water_quality          14850 non-null  object        \n",
      " 32  quality_group          14850 non-null  object        \n",
      " 33  quantity               14850 non-null  object        \n",
      " 34  quantity_group         14850 non-null  object        \n",
      " 35  source                 14850 non-null  object        \n",
      " 36  source_type            14850 non-null  object        \n",
      " 37  source_class           14850 non-null  object        \n",
      " 38  waterpoint_type        14850 non-null  object        \n",
      " 39  waterpoint_type_group  14850 non-null  object        \n",
      "dtypes: datetime64[ns](1), float64(3), int64(7), object(29)\n",
      "memory usage: 4.5+ MB\n"
     ]
    }
   ],
   "source": [
    "test_data = pd.read_csv('data/test_set_values.csv', parse_dates=['date_recorded'])\n",
    "test_data.info()"
   ]
  },
  {
   "cell_type": "code",
   "execution_count": 57,
   "metadata": {},
   "outputs": [
    {
     "name": "stdout",
     "output_type": "stream",
     "text": [
      "<class 'pandas.core.frame.DataFrame'>\n",
      "Int64Index: 14850 entries, 0 to 14849\n",
      "Data columns (total 30 columns):\n",
      " #   Column                 Non-Null Count  Dtype  \n",
      "---  ------                 --------------  -----  \n",
      " 0   amount_tsh             14850 non-null  float64\n",
      " 1   funder                 14850 non-null  object \n",
      " 2   installer              14850 non-null  object \n",
      " 3   basin                  14850 non-null  object \n",
      " 4   region                 14850 non-null  object \n",
      " 5   lga                    14850 non-null  object \n",
      " 6   ward                   14850 non-null  object \n",
      " 7   public_meeting         14850 non-null  bool   \n",
      " 8   scheme_management      14850 non-null  object \n",
      " 9   permit                 14850 non-null  bool   \n",
      " 10  extraction_type        14850 non-null  object \n",
      " 11  extraction_type_class  14850 non-null  object \n",
      " 12  management             14850 non-null  object \n",
      " 13  management_group       14850 non-null  object \n",
      " 14  payment                14850 non-null  object \n",
      " 15  water_quality          14850 non-null  object \n",
      " 16  quantity               14850 non-null  object \n",
      " 17  source                 14850 non-null  object \n",
      " 18  source_class           14850 non-null  object \n",
      " 19  waterpoint_type        14850 non-null  object \n",
      " 20  missing_meeting        14850 non-null  bool   \n",
      " 21  missing_permit         14850 non-null  bool   \n",
      " 22  pump_age               14850 non-null  float64\n",
      " 23  season                 14850 non-null  object \n",
      " 24  missing_amount_tsh     14850 non-null  bool   \n",
      " 25  region_district        14850 non-null  object \n",
      " 26  imputed_population     14850 non-null  float64\n",
      " 27  imputed_longitude      14850 non-null  float64\n",
      " 28  imputed_latitude       14850 non-null  float64\n",
      " 29  imputed_gps_height     14850 non-null  float64\n",
      "dtypes: bool(5), float64(6), object(19)\n",
      "memory usage: 3.0+ MB\n"
     ]
    }
   ],
   "source": [
    "clean_X_test = dp.clean_test_data(test_data)\n",
    "clean_X_test.info()"
   ]
  },
  {
   "cell_type": "code",
   "execution_count": 67,
   "metadata": {},
   "outputs": [],
   "source": [
    "clean_X_test_encoded = pipe_mix_encode.transform(clean_X_test)"
   ]
  },
  {
   "cell_type": "code",
   "execution_count": 68,
   "metadata": {},
   "outputs": [
    {
     "data": {
      "text/plain": [
       "(14850, 145)"
      ]
     },
     "execution_count": 68,
     "metadata": {},
     "output_type": "execute_result"
    }
   ],
   "source": [
    "clean_X_test_encoded.shape"
   ]
  },
  {
   "cell_type": "code",
   "execution_count": 69,
   "metadata": {},
   "outputs": [],
   "source": [
    "test_data['status_group'] = final_model.predict(clean_X_test_encoded)"
   ]
  },
  {
   "cell_type": "code",
   "execution_count": 78,
   "metadata": {},
   "outputs": [],
   "source": [
    "test_set_labels = test_data[['id','status_group']]"
   ]
  },
  {
   "cell_type": "code",
   "execution_count": 80,
   "metadata": {},
   "outputs": [
    {
     "name": "stderr",
     "output_type": "stream",
     "text": [
      "<ipython-input-80-d02b33540523>:1: SettingWithCopyWarning: \n",
      "A value is trying to be set on a copy of a slice from a DataFrame.\n",
      "Try using .loc[row_indexer,col_indexer] = value instead\n",
      "\n",
      "See the caveats in the documentation: https://pandas.pydata.org/pandas-docs/stable/user_guide/indexing.html#returning-a-view-versus-a-copy\n",
      "  test_set_labels['status_group'] = y_label.inverse_transform(test_set_labels['status_group'])\n"
     ]
    },
    {
     "data": {
      "text/html": [
       "<div>\n",
       "<style scoped>\n",
       "    .dataframe tbody tr th:only-of-type {\n",
       "        vertical-align: middle;\n",
       "    }\n",
       "\n",
       "    .dataframe tbody tr th {\n",
       "        vertical-align: top;\n",
       "    }\n",
       "\n",
       "    .dataframe thead th {\n",
       "        text-align: right;\n",
       "    }\n",
       "</style>\n",
       "<table border=\"1\" class=\"dataframe\">\n",
       "  <thead>\n",
       "    <tr style=\"text-align: right;\">\n",
       "      <th></th>\n",
       "      <th>id</th>\n",
       "      <th>status_group</th>\n",
       "    </tr>\n",
       "  </thead>\n",
       "  <tbody>\n",
       "    <tr>\n",
       "      <th>0</th>\n",
       "      <td>50785</td>\n",
       "      <td>non functional</td>\n",
       "    </tr>\n",
       "    <tr>\n",
       "      <th>1</th>\n",
       "      <td>51630</td>\n",
       "      <td>functional</td>\n",
       "    </tr>\n",
       "    <tr>\n",
       "      <th>2</th>\n",
       "      <td>17168</td>\n",
       "      <td>functional</td>\n",
       "    </tr>\n",
       "    <tr>\n",
       "      <th>3</th>\n",
       "      <td>45559</td>\n",
       "      <td>non functional</td>\n",
       "    </tr>\n",
       "    <tr>\n",
       "      <th>4</th>\n",
       "      <td>49871</td>\n",
       "      <td>functional</td>\n",
       "    </tr>\n",
       "  </tbody>\n",
       "</table>\n",
       "</div>"
      ],
      "text/plain": [
       "      id    status_group\n",
       "0  50785  non functional\n",
       "1  51630      functional\n",
       "2  17168      functional\n",
       "3  45559  non functional\n",
       "4  49871      functional"
      ]
     },
     "execution_count": 80,
     "metadata": {},
     "output_type": "execute_result"
    }
   ],
   "source": [
    "test_set_labels['status_group'] = y_label.inverse_transform(test_set_labels['status_group'])\n",
    "test_set_labels.head()"
   ]
  },
  {
   "cell_type": "code",
   "execution_count": 81,
   "metadata": {},
   "outputs": [],
   "source": [
    "test_set_labels.to_csv('data/test_set_labels.csv', index=False)"
   ]
  }
 ],
 "metadata": {
  "kernelspec": {
   "display_name": "Python 3",
   "language": "python",
   "name": "python3"
  },
  "language_info": {
   "codemirror_mode": {
    "name": "ipython",
    "version": 3
   },
   "file_extension": ".py",
   "mimetype": "text/x-python",
   "name": "python",
   "nbconvert_exporter": "python",
   "pygments_lexer": "ipython3",
   "version": "3.8.5"
  }
 },
 "nbformat": 4,
 "nbformat_minor": 2
}
